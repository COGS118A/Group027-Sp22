{
 "cells": [
  {
   "cell_type": "code",
   "execution_count": null,
   "metadata": {},
   "outputs": [],
   "source": [
    "import import_ipynb\n",
    "import os\n",
    "import sys\n",
    "\n",
    "module_path = os.path.abspath(os.path.join('..'))\n",
    "if module_path not in sys.path:\n",
    "    sys.path.append(module_path)\n",
    "\n",
    "import matplotlib.pyplot as plt\n",
    "import numpy as np\n",
    "import pandas as pd\n",
    "\n",
    "from sklearn.feature_extraction.text import CountVectorizer\n",
    "from sklearn.feature_extraction.text import TfidfTransformer\n",
    "from sklearn.pipeline import Pipeline\n",
    "from sklearn.model_selection import train_test_split\n",
    "from pandas.api.types import CategoricalDtype\n",
    "from statsmodels.miscmodels.ordinal_model import OrderedModel\n",
    "\n",
    "from utilities.UtilityFunctions import retrieve_reviews_df, preprocessing, vectorize"
   ]
  },
  {
   "cell_type": "code",
   "execution_count": null,
   "metadata": {},
   "outputs": [],
   "source": [
    "#pip install git+https://github.com/statsmodels/statsmodels"
   ]
  },
  {
   "cell_type": "markdown",
   "metadata": {},
   "source": [
    "Based on https://analyticsindiamag.com/a-complete-tutorial-on-ordinal-regression-in-python/"
   ]
  },
  {
   "cell_type": "code",
   "execution_count": 19,
   "metadata": {},
   "outputs": [
    {
     "name": "stdout",
     "output_type": "stream",
     "text": [
      "Concatenating ../data/Reviews-2.csv\n",
      "Concatenating ../data/Reviews-3.csv\n"
     ]
    },
    {
     "data": {
      "text/html": [
       "<div>\n",
       "<style scoped>\n",
       "    .dataframe tbody tr th:only-of-type {\n",
       "        vertical-align: middle;\n",
       "    }\n",
       "\n",
       "    .dataframe tbody tr th {\n",
       "        vertical-align: top;\n",
       "    }\n",
       "\n",
       "    .dataframe thead th {\n",
       "        text-align: right;\n",
       "    }\n",
       "</style>\n",
       "<table border=\"1\" class=\"dataframe\">\n",
       "  <thead>\n",
       "    <tr style=\"text-align: right;\">\n",
       "      <th></th>\n",
       "      <th>Id</th>\n",
       "      <th>Score</th>\n",
       "      <th>Summary</th>\n",
       "      <th>Text</th>\n",
       "      <th>Sentiment</th>\n",
       "    </tr>\n",
       "  </thead>\n",
       "  <tbody>\n",
       "    <tr>\n",
       "      <th>0</th>\n",
       "      <td>566663</td>\n",
       "      <td>5</td>\n",
       "      <td>THE BEST TREAT YOU CAN BUY PERIOD!</td>\n",
       "      <td>There is NOTHING on the market like these trea...</td>\n",
       "      <td>1</td>\n",
       "    </tr>\n",
       "    <tr>\n",
       "      <th>1</th>\n",
       "      <td>566664</td>\n",
       "      <td>5</td>\n",
       "      <td>Awesome treats!</td>\n",
       "      <td>My pup can't have anything with grains in it a...</td>\n",
       "      <td>1</td>\n",
       "    </tr>\n",
       "    <tr>\n",
       "      <th>2</th>\n",
       "      <td>566665</td>\n",
       "      <td>4</td>\n",
       "      <td>My dog loves this, but beware there are differ...</td>\n",
       "      <td>My elderly dog who has pretty much given up on...</td>\n",
       "      <td>0</td>\n",
       "    </tr>\n",
       "    <tr>\n",
       "      <th>3</th>\n",
       "      <td>566666</td>\n",
       "      <td>5</td>\n",
       "      <td>Awesome treats!</td>\n",
       "      <td>So glad we found Amazon. Used to travel to the...</td>\n",
       "      <td>1</td>\n",
       "    </tr>\n",
       "    <tr>\n",
       "      <th>4</th>\n",
       "      <td>566667</td>\n",
       "      <td>3</td>\n",
       "      <td>Good stuff</td>\n",
       "      <td>Naturally, pooch scarfed this up.  What's not ...</td>\n",
       "      <td>0</td>\n",
       "    </tr>\n",
       "  </tbody>\n",
       "</table>\n",
       "</div>"
      ],
      "text/plain": [
       "       Id  Score                                            Summary  \\\n",
       "0  566663      5                 THE BEST TREAT YOU CAN BUY PERIOD!   \n",
       "1  566664      5                                    Awesome treats!   \n",
       "2  566665      4  My dog loves this, but beware there are differ...   \n",
       "3  566666      5                                    Awesome treats!   \n",
       "4  566667      3                                         Good stuff   \n",
       "\n",
       "                                                Text  Sentiment  \n",
       "0  There is NOTHING on the market like these trea...          1  \n",
       "1  My pup can't have anything with grains in it a...          1  \n",
       "2  My elderly dog who has pretty much given up on...          0  \n",
       "3  So glad we found Amazon. Used to travel to the...          1  \n",
       "4  Naturally, pooch scarfed this up.  What's not ...          0  "
      ]
     },
     "execution_count": 19,
     "metadata": {},
     "output_type": "execute_result"
    }
   ],
   "source": [
    "df = preprocessing(retrieve_reviews_df())\n",
    "\n",
    "df.head()"
   ]
  },
  {
   "cell_type": "code",
   "execution_count": 20,
   "metadata": {},
   "outputs": [
    {
     "data": {
      "text/plain": [
       "Id            int64\n",
       "Score         int64\n",
       "Summary      object\n",
       "Text         object\n",
       "Sentiment     int64\n",
       "dtype: object"
      ]
     },
     "execution_count": 20,
     "metadata": {},
     "output_type": "execute_result"
    }
   ],
   "source": [
    "df.dtypes"
   ]
  },
  {
   "cell_type": "code",
   "execution_count": 21,
   "metadata": {},
   "outputs": [],
   "source": [
    "cat_type = CategoricalDtype(categories = [1, 2, 3, 4, 5], ordered=True)\n",
    "df[\"Score\"] = df[\"Score\"].astype(cat_type)\n",
    "\n",
    "X = df['Text']\n",
    "y = df['Score']\n",
    "\n",
    "X_train, X_test, y_train, y_test = train_test_split( X, y, test_size=0.2, random_state=42)"
   ]
  },
  {
   "cell_type": "markdown",
   "metadata": {},
   "source": [
    "\"The logit model is used to model the odds of success of an event as a function of independent variables, while the probit model is used to determine the likelihood that an item or event will fall into one of a range of categories by estimating the probability that observation with specific features will belong to a particular category.\"\n",
    "\n",
    "https://vitalflux.com/logit-vs-probit-models-differences-examples/#:~:text=and%20Probit%20models%3A-,The%20logit%20model%20is%20used%20to%20model%20the%20odds%20of,features%20will%20belong%20to%20a"
   ]
  },
  {
   "cell_type": "code",
   "execution_count": 22,
   "metadata": {},
   "outputs": [
    {
     "data": {
      "text/plain": [
       "(454741, 109104)"
      ]
     },
     "execution_count": 22,
     "metadata": {},
     "output_type": "execute_result"
    }
   ],
   "source": [
    "X_train_counts, X_train_tfidf = vectorize(X_train)\n",
    "\n",
    "X_train_tfidf.shape"
   ]
  },
  {
   "cell_type": "code",
   "execution_count": 38,
   "metadata": {},
   "outputs": [
    {
     "data": {
      "text/plain": [
       "<1x109104 sparse matrix of type '<class 'numpy.float64'>'\n",
       "\twith 87 stored elements in Compressed Sparse Row format>"
      ]
     },
     "execution_count": 38,
     "metadata": {},
     "output_type": "execute_result"
    }
   ],
   "source": [
    "'''\n",
    "plt.figure(figsize=[24,24])\n",
    "\n",
    "#plt.subplot(221)\n",
    "plt.hist(y,bins=10,color='b')\n",
    "plt.xlabel('Score')\n",
    "plt.title('Distribution of Ratings')\n",
    "'''\n",
    "\n",
    "#mod_prob = OrderedModel(y, X_train_tfidf, distr = \"probit\")\n",
    "#res_prob = mod_prob.fit()\n",
    "#res_prob.summary()\n"
   ]
  },
  {
   "cell_type": "code",
   "execution_count": null,
   "metadata": {},
   "outputs": [],
   "source": []
  }
 ],
 "metadata": {
  "interpreter": {
   "hash": "dd7c5bf3a281dae8682785c2bdcd4fbbf774a1528ca612c95be99b150fda13f8"
  },
  "kernelspec": {
   "display_name": "Python 3.8.3 ('base')",
   "language": "python",
   "name": "python3"
  },
  "language_info": {
   "codemirror_mode": {
    "name": "ipython",
    "version": 3
   },
   "file_extension": ".py",
   "mimetype": "text/x-python",
   "name": "python",
   "nbconvert_exporter": "python",
   "pygments_lexer": "ipython3",
   "version": "3.8.3"
  },
  "orig_nbformat": 4
 },
 "nbformat": 4,
 "nbformat_minor": 2
}
