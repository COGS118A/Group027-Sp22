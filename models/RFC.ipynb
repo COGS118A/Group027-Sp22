{
 "cells": [
  {
   "cell_type": "code",
<<<<<<< Updated upstream
   "execution_count": null,
=======
   "execution_count": 33,
>>>>>>> Stashed changes
   "metadata": {},
   "outputs": [],
   "source": [
    "import import_ipynb\n",
    "import os\n",
    "import sys\n",
    "import matplotlib.pyplot as plt\n",
    "module_path = os.path.abspath(os.path.join('..'))\n",
    "\n",
    "if module_path not in sys.path:\n",
    "    sys.path.append(module_path)\n",
    "\n",
    "import matplotlib.pyplot as plt\n",
    "import numpy as np\n",
    "import pandas as pd\n",
<<<<<<< Updated upstream
=======
    "import seaborn as sns\n",
    "from sklearn.metrics import RocCurveDisplay\n",
    "\n",
    "from sklearn.model_selection import GridSearchCV\n",
    "from sklearn.model_selection import train_test_split\n",
>>>>>>> Stashed changes
    "\n",
    "from sklearn.feature_extraction.text import CountVectorizer\n",
    "from sklearn.feature_extraction.text import TfidfTransformer\n",
    "from sklearn.pipeline import Pipeline\n",
    "from sklearn.model_selection import train_test_split\n",
    "from sklearn.ensemble import RandomForestClassifier\n",
    "from sklearn import metrics\n",
<<<<<<< Updated upstream
    "from sklearn.metrics import accuracy_score\n",
    "\n",
    "\n",
=======
    "from sklearn.metrics import accuracy_score, confusion_matrix, precision_score, recall_score, roc_auc_score, roc_curve, f1_score, classification_report, ConfusionMatrixDisplay\n",
>>>>>>> Stashed changes
    "from utilities.UtilityFunctions import retrieve_reviews_df, preprocessing, vectorize, text_preprocess, retrieve_and_preprocess"
   ]
  },
  {
   "cell_type": "code",
<<<<<<< Updated upstream
   "execution_count": null,
=======
   "execution_count": 3,
>>>>>>> Stashed changes
   "metadata": {},
   "outputs": [],
   "source": [
    "df = retrieve_and_preprocess()"
   ]
  },
  {
   "cell_type": "code",
<<<<<<< Updated upstream
   "execution_count": 3,
=======
   "execution_count": 4,
>>>>>>> Stashed changes
   "metadata": {},
   "outputs": [],
   "source": [
    "tags = ['html', 'stop','punc','lower']\n",
    "text_preprocess(df, tags)"
   ]
  },
  {
   "cell_type": "code",
   "execution_count": 5,
   "metadata": {},
   "outputs": [],
   "source": [
    "X = df['Text']\n",
    "y = df['Sentiment']\n",
    "X_train, X_test, y_train, y_test = train_test_split(\n",
    "     X, y, \n",
    "     test_size=0.2, \n",
    "     random_state=42\n",
    "     )\n",
    "X_counts, X_tfidf = vectorize(X_train)\n"
   ]
  },
  {
   "cell_type": "code",
   "execution_count": null,
   "metadata": {},
   "outputs": [],
   "source": [
    "#scores = []\n",
    "#for k in range(1, 151):\n",
    "#    rfc_pipe = Pipeline([(\"vect\", CountVectorizer()), (\"tfidf\", TfidfTransformer()), (\"clf_randomForest\", RandomForestClassifier(n_estimators=k, verbose=2))])\n",
    "#    rfc_pipe.fit(X_train, y_train)\n",
    "#    y_pred = rfc_pipe.predict(X_test)\n",
    "#    scores.append(accuracy_score(y_test, y_pred))"
   ]
  },
  {
   "cell_type": "code",
   "execution_count": null,
   "metadata": {},
   "outputs": [],
   "source": [
    "#plt.plot(range(1, 151), scores)\n",
    "#plt.xlabel('Value of n_estimators for Random Forest Classifier')\n",
    "#plt.ylabel('Testing Accuracy')"
   ]
  },
  {
   "cell_type": "code",
   "execution_count": 6,
   "metadata": {},
   "outputs": [
    {
     "name": "stderr",
     "output_type": "stream",
     "text": [
      "[Parallel(n_jobs=1)]: Using backend SequentialBackend with 1 concurrent workers.\n"
     ]
    },
    {
     "name": "stdout",
     "output_type": "stream",
     "text": [
      "building tree 1 of 100\n"
     ]
    },
    {
     "name": "stderr",
     "output_type": "stream",
     "text": [
      "[Parallel(n_jobs=1)]: Done   1 out of   1 | elapsed:   39.9s remaining:    0.0s\n"
     ]
    },
    {
     "name": "stdout",
     "output_type": "stream",
     "text": [
      "building tree 2 of 100\n",
      "building tree 3 of 100\n",
      "building tree 4 of 100\n",
      "building tree 5 of 100\n",
      "building tree 6 of 100\n",
      "building tree 7 of 100\n",
      "building tree 8 of 100\n",
      "building tree 9 of 100\n",
      "building tree 10 of 100\n",
      "building tree 11 of 100\n",
      "building tree 12 of 100\n",
      "building tree 13 of 100\n",
      "building tree 14 of 100\n",
      "building tree 15 of 100\n",
      "building tree 16 of 100\n",
      "building tree 17 of 100\n",
      "building tree 18 of 100\n",
      "building tree 19 of 100\n",
      "building tree 20 of 100\n",
      "building tree 21 of 100\n",
      "building tree 22 of 100\n",
      "building tree 23 of 100\n",
      "building tree 24 of 100\n",
      "building tree 25 of 100\n",
      "building tree 26 of 100\n",
      "building tree 27 of 100\n",
      "building tree 28 of 100\n",
      "building tree 29 of 100\n",
      "building tree 30 of 100\n",
      "building tree 31 of 100\n",
      "building tree 32 of 100\n",
      "building tree 33 of 100\n",
      "building tree 34 of 100\n",
      "building tree 35 of 100\n",
      "building tree 36 of 100\n",
      "building tree 37 of 100\n",
      "building tree 38 of 100\n",
      "building tree 39 of 100\n",
      "building tree 40 of 100\n",
      "building tree 41 of 100\n",
      "building tree 42 of 100\n",
      "building tree 43 of 100\n",
      "building tree 44 of 100\n",
      "building tree 45 of 100\n",
      "building tree 46 of 100\n",
      "building tree 47 of 100\n",
      "building tree 48 of 100\n",
      "building tree 49 of 100\n",
      "building tree 50 of 100\n",
      "building tree 51 of 100\n",
      "building tree 52 of 100\n",
      "building tree 53 of 100\n",
      "building tree 54 of 100\n",
      "building tree 55 of 100\n",
      "building tree 56 of 100\n",
      "building tree 57 of 100\n",
      "building tree 58 of 100\n",
      "building tree 59 of 100\n",
      "building tree 60 of 100\n",
      "building tree 61 of 100\n",
      "building tree 62 of 100\n",
      "building tree 63 of 100\n",
      "building tree 64 of 100\n",
      "building tree 65 of 100\n",
      "building tree 66 of 100\n",
      "building tree 67 of 100\n",
      "building tree 68 of 100\n",
      "building tree 69 of 100\n",
      "building tree 70 of 100\n",
      "building tree 71 of 100\n",
      "building tree 72 of 100\n",
      "building tree 73 of 100\n",
      "building tree 74 of 100\n",
      "building tree 75 of 100\n",
      "building tree 76 of 100\n",
      "building tree 77 of 100\n",
      "building tree 78 of 100\n",
      "building tree 79 of 100\n",
      "building tree 80 of 100\n",
      "building tree 81 of 100\n",
      "building tree 82 of 100\n",
      "building tree 83 of 100\n",
      "building tree 84 of 100\n",
      "building tree 85 of 100\n",
      "building tree 86 of 100\n",
      "building tree 87 of 100\n",
      "building tree 88 of 100\n",
      "building tree 89 of 100\n",
      "building tree 90 of 100\n",
      "building tree 91 of 100\n",
      "building tree 92 of 100\n",
      "building tree 93 of 100\n",
      "building tree 94 of 100\n",
      "building tree 95 of 100\n",
      "building tree 96 of 100\n",
      "building tree 97 of 100\n",
      "building tree 98 of 100\n",
      "building tree 99 of 100\n",
      "building tree 100 of 100\n"
     ]
    },
    {
     "name": "stderr",
     "output_type": "stream",
     "text": [
      "[Parallel(n_jobs=1)]: Done 100 out of 100 | elapsed: 71.4min finished\n"
     ]
    },
    {
     "data": {
      "text/plain": [
       "Pipeline(steps=[('vect', CountVectorizer()), ('tfidf', TfidfTransformer()),\n",
       "                ('clf_randomForest', RandomForestClassifier(verbose=2))])"
      ]
     },
     "execution_count": 6,
     "metadata": {},
     "output_type": "execute_result"
    }
   ],
   "source": [
    "clf_randomForest_pipe = Pipeline([(\"vect\", CountVectorizer()), (\"tfidf\", TfidfTransformer()), (\"clf_randomForest\", RandomForestClassifier(verbose=2))])\n",
    "clf_randomForest_pipe.fit(X_train, y_train)"
   ]
  },
  {
   "cell_type": "code",
   "execution_count": 7,
   "metadata": {},
   "outputs": [
    {
     "name": "stderr",
     "output_type": "stream",
     "text": [
<<<<<<< Updated upstream
=======
      "[Parallel(n_jobs=1)]: Using backend SequentialBackend with 1 concurrent workers.\n",
      "[Parallel(n_jobs=1)]: Done   1 out of   1 | elapsed:   44.9s finished\n",
      "[Parallel(n_jobs=1)]: Using backend SequentialBackend with 1 concurrent workers.\n",
      "[Parallel(n_jobs=1)]: Done   1 out of   1 | elapsed:    0.0s finished\n",
      "[Parallel(n_jobs=1)]: Using backend SequentialBackend with 1 concurrent workers.\n",
      "[Parallel(n_jobs=1)]: Done   2 out of   2 | elapsed:  1.5min finished\n",
      "[Parallel(n_jobs=1)]: Using backend SequentialBackend with 1 concurrent workers.\n",
      "[Parallel(n_jobs=1)]: Done   2 out of   2 | elapsed:    0.1s finished\n",
      "[Parallel(n_jobs=1)]: Using backend SequentialBackend with 1 concurrent workers.\n",
      "[Parallel(n_jobs=1)]: Done   3 out of   3 | elapsed:  2.1min finished\n",
      "[Parallel(n_jobs=1)]: Using backend SequentialBackend with 1 concurrent workers.\n",
      "[Parallel(n_jobs=1)]: Done   3 out of   3 | elapsed:    0.2s finished\n",
      "[Parallel(n_jobs=1)]: Using backend SequentialBackend with 1 concurrent workers.\n",
      "[Parallel(n_jobs=1)]: Done   4 out of   4 | elapsed:  2.9min finished\n",
      "[Parallel(n_jobs=1)]: Using backend SequentialBackend with 1 concurrent workers.\n",
      "[Parallel(n_jobs=1)]: Done   4 out of   4 | elapsed:    0.3s finished\n",
      "[Parallel(n_jobs=1)]: Using backend SequentialBackend with 1 concurrent workers.\n",
      "[Parallel(n_jobs=1)]: Done   5 out of   5 | elapsed:  3.6min finished\n",
      "[Parallel(n_jobs=1)]: Using backend SequentialBackend with 1 concurrent workers.\n",
      "[Parallel(n_jobs=1)]: Done   5 out of   5 | elapsed:    0.4s finished\n",
      "[Parallel(n_jobs=1)]: Using backend SequentialBackend with 1 concurrent workers.\n",
      "[Parallel(n_jobs=1)]: Done   6 out of   6 | elapsed:  4.2min finished\n",
      "[Parallel(n_jobs=1)]: Using backend SequentialBackend with 1 concurrent workers.\n",
      "[Parallel(n_jobs=1)]: Done   6 out of   6 | elapsed:    0.4s finished\n",
      "[Parallel(n_jobs=1)]: Using backend SequentialBackend with 1 concurrent workers.\n",
      "[Parallel(n_jobs=1)]: Done   7 out of   7 | elapsed:  4.7min finished\n",
      "[Parallel(n_jobs=1)]: Using backend SequentialBackend with 1 concurrent workers.\n",
      "[Parallel(n_jobs=1)]: Done   7 out of   7 | elapsed:    0.5s finished\n",
      "[Parallel(n_jobs=1)]: Using backend SequentialBackend with 1 concurrent workers.\n",
      "[Parallel(n_jobs=1)]: Done   8 out of   8 | elapsed:  5.6min finished\n",
      "[Parallel(n_jobs=1)]: Using backend SequentialBackend with 1 concurrent workers.\n",
      "[Parallel(n_jobs=1)]: Done   8 out of   8 | elapsed:    0.6s finished\n",
      "[Parallel(n_jobs=1)]: Using backend SequentialBackend with 1 concurrent workers.\n",
      "[Parallel(n_jobs=1)]: Done   9 out of   9 | elapsed:  6.5min finished\n",
      "[Parallel(n_jobs=1)]: Using backend SequentialBackend with 1 concurrent workers.\n",
      "[Parallel(n_jobs=1)]: Done   9 out of   9 | elapsed:    0.7s finished\n",
      "[Parallel(n_jobs=1)]: Using backend SequentialBackend with 1 concurrent workers.\n",
      "[Parallel(n_jobs=1)]: Done  10 out of  10 | elapsed:  7.0min finished\n",
      "[Parallel(n_jobs=1)]: Using backend SequentialBackend with 1 concurrent workers.\n",
      "[Parallel(n_jobs=1)]: Done  10 out of  10 | elapsed:    0.9s finished\n",
      "[Parallel(n_jobs=1)]: Using backend SequentialBackend with 1 concurrent workers.\n",
      "[Parallel(n_jobs=1)]: Done  11 out of  11 | elapsed:  7.7min finished\n",
      "[Parallel(n_jobs=1)]: Using backend SequentialBackend with 1 concurrent workers.\n",
      "[Parallel(n_jobs=1)]: Done  11 out of  11 | elapsed:    0.9s finished\n",
      "[Parallel(n_jobs=1)]: Using backend SequentialBackend with 1 concurrent workers.\n",
      "[Parallel(n_jobs=1)]: Done  12 out of  12 | elapsed:  8.6min finished\n",
      "[Parallel(n_jobs=1)]: Using backend SequentialBackend with 1 concurrent workers.\n",
      "[Parallel(n_jobs=1)]: Done  12 out of  12 | elapsed:    1.0s finished\n",
      "[Parallel(n_jobs=1)]: Using backend SequentialBackend with 1 concurrent workers.\n",
      "[Parallel(n_jobs=1)]: Done  13 out of  13 | elapsed:  9.4min finished\n",
      "[Parallel(n_jobs=1)]: Using backend SequentialBackend with 1 concurrent workers.\n",
      "[Parallel(n_jobs=1)]: Done  13 out of  13 | elapsed:    1.0s finished\n",
      "[Parallel(n_jobs=1)]: Using backend SequentialBackend with 1 concurrent workers.\n",
      "[Parallel(n_jobs=1)]: Done  14 out of  14 | elapsed:  9.3min finished\n",
      "[Parallel(n_jobs=1)]: Using backend SequentialBackend with 1 concurrent workers.\n",
      "[Parallel(n_jobs=1)]: Done  14 out of  14 | elapsed:    1.1s finished\n",
      "[Parallel(n_jobs=1)]: Using backend SequentialBackend with 1 concurrent workers.\n",
      "[Parallel(n_jobs=1)]: Done  15 out of  15 | elapsed: 10.2min finished\n",
      "[Parallel(n_jobs=1)]: Using backend SequentialBackend with 1 concurrent workers.\n",
      "[Parallel(n_jobs=1)]: Done  15 out of  15 | elapsed:    1.2s finished\n",
      "[Parallel(n_jobs=1)]: Using backend SequentialBackend with 1 concurrent workers.\n",
      "[Parallel(n_jobs=1)]: Done  16 out of  16 | elapsed: 10.7min finished\n",
      "[Parallel(n_jobs=1)]: Using backend SequentialBackend with 1 concurrent workers.\n",
      "[Parallel(n_jobs=1)]: Done  16 out of  16 | elapsed:    1.3s finished\n",
      "[Parallel(n_jobs=1)]: Using backend SequentialBackend with 1 concurrent workers.\n",
      "[Parallel(n_jobs=1)]: Done  17 out of  17 | elapsed: 11.4min finished\n",
      "[Parallel(n_jobs=1)]: Using backend SequentialBackend with 1 concurrent workers.\n",
      "[Parallel(n_jobs=1)]: Done  17 out of  17 | elapsed:    1.3s finished\n",
      "[Parallel(n_jobs=1)]: Using backend SequentialBackend with 1 concurrent workers.\n",
      "[Parallel(n_jobs=1)]: Done  18 out of  18 | elapsed: 11.9min finished\n",
      "[Parallel(n_jobs=1)]: Using backend SequentialBackend with 1 concurrent workers.\n",
      "[Parallel(n_jobs=1)]: Done  18 out of  18 | elapsed:    1.5s finished\n",
      "[Parallel(n_jobs=1)]: Using backend SequentialBackend with 1 concurrent workers.\n",
      "[Parallel(n_jobs=1)]: Done  19 out of  19 | elapsed: 12.6min finished\n",
      "[Parallel(n_jobs=1)]: Using backend SequentialBackend with 1 concurrent workers.\n",
      "[Parallel(n_jobs=1)]: Done  19 out of  19 | elapsed:    1.5s finished\n",
      "[Parallel(n_jobs=1)]: Using backend SequentialBackend with 1 concurrent workers.\n",
      "[Parallel(n_jobs=1)]: Done  20 out of  20 | elapsed: 13.2min finished\n",
      "[Parallel(n_jobs=1)]: Using backend SequentialBackend with 1 concurrent workers.\n",
      "[Parallel(n_jobs=1)]: Done  20 out of  20 | elapsed:    1.6s finished\n",
      "[Parallel(n_jobs=1)]: Using backend SequentialBackend with 1 concurrent workers.\n",
      "[Parallel(n_jobs=1)]: Done  21 out of  21 | elapsed: 13.9min finished\n",
      "[Parallel(n_jobs=1)]: Using backend SequentialBackend with 1 concurrent workers.\n",
      "[Parallel(n_jobs=1)]: Done  21 out of  21 | elapsed:    1.7s finished\n",
      "[Parallel(n_jobs=1)]: Using backend SequentialBackend with 1 concurrent workers.\n",
      "[Parallel(n_jobs=1)]: Done  22 out of  22 | elapsed: 14.6min finished\n",
      "[Parallel(n_jobs=1)]: Using backend SequentialBackend with 1 concurrent workers.\n",
      "[Parallel(n_jobs=1)]: Done  22 out of  22 | elapsed:    1.8s finished\n",
      "[Parallel(n_jobs=1)]: Using backend SequentialBackend with 1 concurrent workers.\n",
      "[Parallel(n_jobs=1)]: Done  23 out of  23 | elapsed: 15.3min finished\n",
      "[Parallel(n_jobs=1)]: Using backend SequentialBackend with 1 concurrent workers.\n",
      "[Parallel(n_jobs=1)]: Done  23 out of  23 | elapsed:    1.9s finished\n",
      "[Parallel(n_jobs=1)]: Using backend SequentialBackend with 1 concurrent workers.\n",
      "[Parallel(n_jobs=1)]: Done  24 out of  24 | elapsed: 15.9min finished\n",
      "[Parallel(n_jobs=1)]: Using backend SequentialBackend with 1 concurrent workers.\n",
      "[Parallel(n_jobs=1)]: Done  24 out of  24 | elapsed:    2.0s finished\n",
      "[Parallel(n_jobs=1)]: Using backend SequentialBackend with 1 concurrent workers.\n",
      "[Parallel(n_jobs=1)]: Done  25 out of  25 | elapsed: 16.4min finished\n",
      "[Parallel(n_jobs=1)]: Using backend SequentialBackend with 1 concurrent workers.\n",
      "[Parallel(n_jobs=1)]: Done  25 out of  25 | elapsed:    2.0s finished\n",
      "[Parallel(n_jobs=1)]: Using backend SequentialBackend with 1 concurrent workers.\n",
      "[Parallel(n_jobs=1)]: Done  26 out of  26 | elapsed: 17.1min finished\n",
      "[Parallel(n_jobs=1)]: Using backend SequentialBackend with 1 concurrent workers.\n",
      "[Parallel(n_jobs=1)]: Done  26 out of  26 | elapsed:    2.2s finished\n",
      "[Parallel(n_jobs=1)]: Using backend SequentialBackend with 1 concurrent workers.\n",
      "[Parallel(n_jobs=1)]: Done  27 out of  27 | elapsed: 17.8min finished\n",
      "[Parallel(n_jobs=1)]: Using backend SequentialBackend with 1 concurrent workers.\n",
      "[Parallel(n_jobs=1)]: Done  27 out of  27 | elapsed:    2.2s finished\n",
      "[Parallel(n_jobs=1)]: Using backend SequentialBackend with 1 concurrent workers.\n",
      "[Parallel(n_jobs=1)]: Done  28 out of  28 | elapsed: 18.4min finished\n",
      "[Parallel(n_jobs=1)]: Using backend SequentialBackend with 1 concurrent workers.\n",
      "[Parallel(n_jobs=1)]: Done  28 out of  28 | elapsed:    2.3s finished\n",
      "[Parallel(n_jobs=1)]: Using backend SequentialBackend with 1 concurrent workers.\n",
      "[Parallel(n_jobs=1)]: Done  29 out of  29 | elapsed: 19.1min finished\n",
      "[Parallel(n_jobs=1)]: Using backend SequentialBackend with 1 concurrent workers.\n",
      "[Parallel(n_jobs=1)]: Done  29 out of  29 | elapsed:    2.4s finished\n",
      "[Parallel(n_jobs=1)]: Using backend SequentialBackend with 1 concurrent workers.\n",
      "[Parallel(n_jobs=1)]: Done  30 out of  30 | elapsed: 20.0min finished\n",
      "[Parallel(n_jobs=1)]: Using backend SequentialBackend with 1 concurrent workers.\n",
      "[Parallel(n_jobs=1)]: Done  30 out of  30 | elapsed:    2.5s finished\n",
      "[Parallel(n_jobs=1)]: Using backend SequentialBackend with 1 concurrent workers.\n",
      "[Parallel(n_jobs=1)]: Done  31 out of  31 | elapsed: 20.7min finished\n",
      "[Parallel(n_jobs=1)]: Using backend SequentialBackend with 1 concurrent workers.\n",
      "[Parallel(n_jobs=1)]: Done  31 out of  31 | elapsed:    2.6s finished\n",
      "[Parallel(n_jobs=1)]: Using backend SequentialBackend with 1 concurrent workers.\n",
      "[Parallel(n_jobs=1)]: Done  32 out of  32 | elapsed: 21.7min finished\n",
      "[Parallel(n_jobs=1)]: Using backend SequentialBackend with 1 concurrent workers.\n",
      "[Parallel(n_jobs=1)]: Done  32 out of  32 | elapsed:    2.7s finished\n",
      "[Parallel(n_jobs=1)]: Using backend SequentialBackend with 1 concurrent workers.\n",
      "[Parallel(n_jobs=1)]: Done  33 out of  33 | elapsed: 23.6min finished\n",
      "[Parallel(n_jobs=1)]: Using backend SequentialBackend with 1 concurrent workers.\n",
      "[Parallel(n_jobs=1)]: Done  33 out of  33 | elapsed:    2.7s finished\n",
      "[Parallel(n_jobs=1)]: Using backend SequentialBackend with 1 concurrent workers.\n",
      "[Parallel(n_jobs=1)]: Done  34 out of  34 | elapsed: 21.9min finished\n",
      "[Parallel(n_jobs=1)]: Using backend SequentialBackend with 1 concurrent workers.\n",
      "[Parallel(n_jobs=1)]: Done  34 out of  34 | elapsed:    2.9s finished\n",
      "[Parallel(n_jobs=1)]: Using backend SequentialBackend with 1 concurrent workers.\n",
      "[Parallel(n_jobs=1)]: Done  35 out of  35 | elapsed: 22.8min finished\n",
      "[Parallel(n_jobs=1)]: Using backend SequentialBackend with 1 concurrent workers.\n",
      "[Parallel(n_jobs=1)]: Done  35 out of  35 | elapsed:    2.9s finished\n",
      "[Parallel(n_jobs=1)]: Using backend SequentialBackend with 1 concurrent workers.\n",
      "[Parallel(n_jobs=1)]: Done  36 out of  36 | elapsed: 24.8min finished\n",
      "[Parallel(n_jobs=1)]: Using backend SequentialBackend with 1 concurrent workers.\n",
      "[Parallel(n_jobs=1)]: Done  36 out of  36 | elapsed:    3.0s finished\n",
      "[Parallel(n_jobs=1)]: Using backend SequentialBackend with 1 concurrent workers.\n",
      "[Parallel(n_jobs=1)]: Done  37 out of  37 | elapsed: 25.1min finished\n",
      "[Parallel(n_jobs=1)]: Using backend SequentialBackend with 1 concurrent workers.\n",
      "[Parallel(n_jobs=1)]: Done  37 out of  37 | elapsed:    3.2s finished\n",
      "[Parallel(n_jobs=1)]: Using backend SequentialBackend with 1 concurrent workers.\n",
      "[Parallel(n_jobs=1)]: Done  38 out of  38 | elapsed: 25.2min finished\n",
      "[Parallel(n_jobs=1)]: Using backend SequentialBackend with 1 concurrent workers.\n",
      "[Parallel(n_jobs=1)]: Done  38 out of  38 | elapsed:    3.2s finished\n",
      "[Parallel(n_jobs=1)]: Using backend SequentialBackend with 1 concurrent workers.\n",
      "[Parallel(n_jobs=1)]: Done  39 out of  39 | elapsed: 25.4min finished\n",
      "[Parallel(n_jobs=1)]: Using backend SequentialBackend with 1 concurrent workers.\n",
      "[Parallel(n_jobs=1)]: Done  39 out of  39 | elapsed:    3.2s finished\n",
      "[Parallel(n_jobs=1)]: Using backend SequentialBackend with 1 concurrent workers.\n",
      "[Parallel(n_jobs=1)]: Done  40 out of  40 | elapsed: 26.1min finished\n",
      "[Parallel(n_jobs=1)]: Using backend SequentialBackend with 1 concurrent workers.\n",
      "[Parallel(n_jobs=1)]: Done  40 out of  40 | elapsed:    3.4s finished\n",
      "[Parallel(n_jobs=1)]: Using backend SequentialBackend with 1 concurrent workers.\n",
      "[Parallel(n_jobs=1)]: Done  41 out of  41 | elapsed: 26.8min finished\n",
      "[Parallel(n_jobs=1)]: Using backend SequentialBackend with 1 concurrent workers.\n",
      "[Parallel(n_jobs=1)]: Done  41 out of  41 | elapsed:    3.4s finished\n",
      "[Parallel(n_jobs=1)]: Using backend SequentialBackend with 1 concurrent workers.\n",
      "[Parallel(n_jobs=1)]: Done  42 out of  42 | elapsed: 27.4min finished\n",
      "[Parallel(n_jobs=1)]: Using backend SequentialBackend with 1 concurrent workers.\n",
      "[Parallel(n_jobs=1)]: Done  42 out of  42 | elapsed:    3.6s finished\n",
      "[Parallel(n_jobs=1)]: Using backend SequentialBackend with 1 concurrent workers.\n",
      "[Parallel(n_jobs=1)]: Done  43 out of  43 | elapsed: 28.0min finished\n",
      "[Parallel(n_jobs=1)]: Using backend SequentialBackend with 1 concurrent workers.\n",
      "[Parallel(n_jobs=1)]: Done  43 out of  43 | elapsed:    3.5s finished\n",
      "[Parallel(n_jobs=1)]: Using backend SequentialBackend with 1 concurrent workers.\n",
      "[Parallel(n_jobs=1)]: Done  44 out of  44 | elapsed: 29.2min finished\n",
      "[Parallel(n_jobs=1)]: Using backend SequentialBackend with 1 concurrent workers.\n",
      "[Parallel(n_jobs=1)]: Done  44 out of  44 | elapsed:    4.5s finished\n",
      "[Parallel(n_jobs=1)]: Using backend SequentialBackend with 1 concurrent workers.\n",
      "[Parallel(n_jobs=1)]: Done  45 out of  45 | elapsed: 31.9min finished\n",
      "[Parallel(n_jobs=1)]: Using backend SequentialBackend with 1 concurrent workers.\n",
      "[Parallel(n_jobs=1)]: Done  45 out of  45 | elapsed:    3.9s finished\n",
      "[Parallel(n_jobs=1)]: Using backend SequentialBackend with 1 concurrent workers.\n",
      "[Parallel(n_jobs=1)]: Done  46 out of  46 | elapsed: 31.4min finished\n",
      "[Parallel(n_jobs=1)]: Using backend SequentialBackend with 1 concurrent workers.\n",
      "[Parallel(n_jobs=1)]: Done  46 out of  46 | elapsed:    4.0s finished\n",
      "[Parallel(n_jobs=1)]: Using backend SequentialBackend with 1 concurrent workers.\n",
      "[Parallel(n_jobs=1)]: Done  47 out of  47 | elapsed: 32.2min finished\n",
      "[Parallel(n_jobs=1)]: Using backend SequentialBackend with 1 concurrent workers.\n",
      "[Parallel(n_jobs=1)]: Done  47 out of  47 | elapsed:    4.1s finished\n",
      "[Parallel(n_jobs=1)]: Using backend SequentialBackend with 1 concurrent workers.\n",
      "[Parallel(n_jobs=1)]: Done  48 out of  48 | elapsed: 32.7min finished\n",
      "[Parallel(n_jobs=1)]: Using backend SequentialBackend with 1 concurrent workers.\n",
      "[Parallel(n_jobs=1)]: Done  48 out of  48 | elapsed:    4.2s finished\n",
      "[Parallel(n_jobs=1)]: Using backend SequentialBackend with 1 concurrent workers.\n",
      "[Parallel(n_jobs=1)]: Done  49 out of  49 | elapsed: 33.1min finished\n",
      "[Parallel(n_jobs=1)]: Using backend SequentialBackend with 1 concurrent workers.\n",
      "[Parallel(n_jobs=1)]: Done  49 out of  49 | elapsed:    4.5s finished\n",
      "[Parallel(n_jobs=1)]: Using backend SequentialBackend with 1 concurrent workers.\n",
      "[Parallel(n_jobs=1)]: Done  50 out of  50 | elapsed: 36.3min finished\n",
      "[Parallel(n_jobs=1)]: Using backend SequentialBackend with 1 concurrent workers.\n",
      "[Parallel(n_jobs=1)]: Done  50 out of  50 | elapsed:    4.5s finished\n",
      "[Parallel(n_jobs=1)]: Using backend SequentialBackend with 1 concurrent workers.\n",
      "[Parallel(n_jobs=1)]: Done  51 out of  51 | elapsed: 36.7min finished\n",
      "[Parallel(n_jobs=1)]: Using backend SequentialBackend with 1 concurrent workers.\n",
      "[Parallel(n_jobs=1)]: Done  51 out of  51 | elapsed:    4.5s finished\n",
      "[Parallel(n_jobs=1)]: Using backend SequentialBackend with 1 concurrent workers.\n",
      "[Parallel(n_jobs=1)]: Done  52 out of  52 | elapsed: 37.7min finished\n",
      "[Parallel(n_jobs=1)]: Using backend SequentialBackend with 1 concurrent workers.\n",
      "[Parallel(n_jobs=1)]: Done  52 out of  52 | elapsed:    4.6s finished\n",
      "[Parallel(n_jobs=1)]: Using backend SequentialBackend with 1 concurrent workers.\n",
      "[Parallel(n_jobs=1)]: Done  53 out of  53 | elapsed: 38.9min finished\n",
      "[Parallel(n_jobs=1)]: Using backend SequentialBackend with 1 concurrent workers.\n",
      "[Parallel(n_jobs=1)]: Done  53 out of  53 | elapsed:    4.7s finished\n",
      "[Parallel(n_jobs=1)]: Using backend SequentialBackend with 1 concurrent workers.\n",
      "[Parallel(n_jobs=1)]: Done  54 out of  54 | elapsed: 39.3min finished\n",
      "[Parallel(n_jobs=1)]: Using backend SequentialBackend with 1 concurrent workers.\n",
      "[Parallel(n_jobs=1)]: Done  54 out of  54 | elapsed:    4.9s finished\n",
      "[Parallel(n_jobs=1)]: Using backend SequentialBackend with 1 concurrent workers.\n",
      "[Parallel(n_jobs=1)]: Done  55 out of  55 | elapsed: 40.4min finished\n",
      "[Parallel(n_jobs=1)]: Using backend SequentialBackend with 1 concurrent workers.\n",
      "[Parallel(n_jobs=1)]: Done  55 out of  55 | elapsed:    5.1s finished\n",
      "[Parallel(n_jobs=1)]: Using backend SequentialBackend with 1 concurrent workers.\n",
      "[Parallel(n_jobs=1)]: Done  56 out of  56 | elapsed: 40.9min finished\n",
      "[Parallel(n_jobs=1)]: Using backend SequentialBackend with 1 concurrent workers.\n",
      "[Parallel(n_jobs=1)]: Done  56 out of  56 | elapsed:    5.1s finished\n",
      "[Parallel(n_jobs=1)]: Using backend SequentialBackend with 1 concurrent workers.\n",
      "[Parallel(n_jobs=1)]: Done  57 out of  57 | elapsed: 41.6min finished\n",
      "[Parallel(n_jobs=1)]: Using backend SequentialBackend with 1 concurrent workers.\n",
      "[Parallel(n_jobs=1)]: Done  57 out of  57 | elapsed:    5.1s finished\n",
      "[Parallel(n_jobs=1)]: Using backend SequentialBackend with 1 concurrent workers.\n",
      "[Parallel(n_jobs=1)]: Done  58 out of  58 | elapsed: 42.5min finished\n",
      "[Parallel(n_jobs=1)]: Using backend SequentialBackend with 1 concurrent workers.\n",
      "[Parallel(n_jobs=1)]: Done  58 out of  58 | elapsed:    5.3s finished\n",
      "[Parallel(n_jobs=1)]: Using backend SequentialBackend with 1 concurrent workers.\n",
      "[Parallel(n_jobs=1)]: Done  59 out of  59 | elapsed: 42.9min finished\n",
      "[Parallel(n_jobs=1)]: Using backend SequentialBackend with 1 concurrent workers.\n",
      "[Parallel(n_jobs=1)]: Done  59 out of  59 | elapsed:    5.3s finished\n",
      "[Parallel(n_jobs=1)]: Using backend SequentialBackend with 1 concurrent workers.\n",
      "[Parallel(n_jobs=1)]: Done  60 out of  60 | elapsed: 43.7min finished\n",
      "[Parallel(n_jobs=1)]: Using backend SequentialBackend with 1 concurrent workers.\n",
      "[Parallel(n_jobs=1)]: Done  60 out of  60 | elapsed:    7.0s finished\n",
      "[Parallel(n_jobs=1)]: Using backend SequentialBackend with 1 concurrent workers.\n",
      "[Parallel(n_jobs=1)]: Done  61 out of  61 | elapsed: 58.2min finished\n",
      "[Parallel(n_jobs=1)]: Using backend SequentialBackend with 1 concurrent workers.\n",
      "[Parallel(n_jobs=1)]: Done  61 out of  61 | elapsed:    9.8s finished\n",
      "[Parallel(n_jobs=1)]: Using backend SequentialBackend with 1 concurrent workers.\n",
      "[Parallel(n_jobs=1)]: Done  62 out of  62 | elapsed: 42.5min finished\n",
      "[Parallel(n_jobs=1)]: Using backend SequentialBackend with 1 concurrent workers.\n",
      "[Parallel(n_jobs=1)]: Done  62 out of  62 | elapsed:    5.3s finished\n",
      "[Parallel(n_jobs=1)]: Using backend SequentialBackend with 1 concurrent workers.\n",
      "[Parallel(n_jobs=1)]: Done  63 out of  63 | elapsed: 41.8min finished\n",
      "[Parallel(n_jobs=1)]: Using backend SequentialBackend with 1 concurrent workers.\n",
      "[Parallel(n_jobs=1)]: Done  63 out of  63 | elapsed:    5.3s finished\n",
      "[Parallel(n_jobs=1)]: Using backend SequentialBackend with 1 concurrent workers.\n",
      "[Parallel(n_jobs=1)]: Done  64 out of  64 | elapsed: 42.5min finished\n",
      "[Parallel(n_jobs=1)]: Using backend SequentialBackend with 1 concurrent workers.\n",
      "[Parallel(n_jobs=1)]: Done  64 out of  64 | elapsed:    5.6s finished\n",
      "[Parallel(n_jobs=1)]: Using backend SequentialBackend with 1 concurrent workers.\n",
      "[Parallel(n_jobs=1)]: Done  65 out of  65 | elapsed: 43.2min finished\n",
      "[Parallel(n_jobs=1)]: Using backend SequentialBackend with 1 concurrent workers.\n",
      "[Parallel(n_jobs=1)]: Done  65 out of  65 | elapsed:    5.6s finished\n",
      "[Parallel(n_jobs=1)]: Using backend SequentialBackend with 1 concurrent workers.\n",
      "[Parallel(n_jobs=1)]: Done  66 out of  66 | elapsed: 43.9min finished\n",
      "[Parallel(n_jobs=1)]: Using backend SequentialBackend with 1 concurrent workers.\n",
      "[Parallel(n_jobs=1)]: Done  66 out of  66 | elapsed:    5.7s finished\n",
      "[Parallel(n_jobs=1)]: Using backend SequentialBackend with 1 concurrent workers.\n",
      "[Parallel(n_jobs=1)]: Done  67 out of  67 | elapsed: 44.8min finished\n",
      "[Parallel(n_jobs=1)]: Using backend SequentialBackend with 1 concurrent workers.\n",
      "[Parallel(n_jobs=1)]: Done  67 out of  67 | elapsed:    5.7s finished\n",
      "[Parallel(n_jobs=1)]: Using backend SequentialBackend with 1 concurrent workers.\n",
      "[Parallel(n_jobs=1)]: Done  68 out of  68 | elapsed: 47.8min finished\n",
      "[Parallel(n_jobs=1)]: Using backend SequentialBackend with 1 concurrent workers.\n",
      "[Parallel(n_jobs=1)]: Done  68 out of  68 | elapsed:    6.4s finished\n",
      "[Parallel(n_jobs=1)]: Using backend SequentialBackend with 1 concurrent workers.\n",
      "[Parallel(n_jobs=1)]: Done  69 out of  69 | elapsed: 46.9min finished\n",
      "[Parallel(n_jobs=1)]: Using backend SequentialBackend with 1 concurrent workers.\n",
      "[Parallel(n_jobs=1)]: Done  69 out of  69 | elapsed:    6.0s finished\n",
      "[Parallel(n_jobs=1)]: Using backend SequentialBackend with 1 concurrent workers.\n",
      "[Parallel(n_jobs=1)]: Done  70 out of  70 | elapsed: 47.2min finished\n",
      "[Parallel(n_jobs=1)]: Using backend SequentialBackend with 1 concurrent workers.\n",
      "[Parallel(n_jobs=1)]: Done  70 out of  70 | elapsed:    6.0s finished\n",
      "[Parallel(n_jobs=1)]: Using backend SequentialBackend with 1 concurrent workers.\n",
      "[Parallel(n_jobs=1)]: Done  71 out of  71 | elapsed: 47.8min finished\n",
      "[Parallel(n_jobs=1)]: Using backend SequentialBackend with 1 concurrent workers.\n",
      "[Parallel(n_jobs=1)]: Done  71 out of  71 | elapsed:    6.1s finished\n",
      "[Parallel(n_jobs=1)]: Using backend SequentialBackend with 1 concurrent workers.\n",
      "[Parallel(n_jobs=1)]: Done  72 out of  72 | elapsed: 48.7min finished\n",
      "[Parallel(n_jobs=1)]: Using backend SequentialBackend with 1 concurrent workers.\n",
      "[Parallel(n_jobs=1)]: Done  72 out of  72 | elapsed:    6.3s finished\n",
      "[Parallel(n_jobs=1)]: Using backend SequentialBackend with 1 concurrent workers.\n",
      "[Parallel(n_jobs=1)]: Done  73 out of  73 | elapsed: 64.5min finished\n",
      "[Parallel(n_jobs=1)]: Using backend SequentialBackend with 1 concurrent workers.\n",
      "[Parallel(n_jobs=1)]: Done  73 out of  73 | elapsed:    8.3s finished\n",
      "[Parallel(n_jobs=1)]: Using backend SequentialBackend with 1 concurrent workers.\n",
      "[Parallel(n_jobs=1)]: Done  74 out of  74 | elapsed: 52.0min finished\n",
      "[Parallel(n_jobs=1)]: Using backend SequentialBackend with 1 concurrent workers.\n",
      "[Parallel(n_jobs=1)]: Done  74 out of  74 | elapsed:    7.1s finished\n",
      "[Parallel(n_jobs=1)]: Using backend SequentialBackend with 1 concurrent workers.\n",
      "[Parallel(n_jobs=1)]: Done  75 out of  75 | elapsed: 50.2min finished\n",
      "[Parallel(n_jobs=1)]: Using backend SequentialBackend with 1 concurrent workers.\n",
      "[Parallel(n_jobs=1)]: Done  75 out of  75 | elapsed:    6.4s finished\n",
      "[Parallel(n_jobs=1)]: Using backend SequentialBackend with 1 concurrent workers.\n",
      "[Parallel(n_jobs=1)]: Done  76 out of  76 | elapsed: 50.8min finished\n",
      "[Parallel(n_jobs=1)]: Using backend SequentialBackend with 1 concurrent workers.\n",
      "[Parallel(n_jobs=1)]: Done  76 out of  76 | elapsed:    6.6s finished\n",
      "[Parallel(n_jobs=1)]: Using backend SequentialBackend with 1 concurrent workers.\n",
      "[Parallel(n_jobs=1)]: Done  77 out of  77 | elapsed: 51.8min finished\n",
      "[Parallel(n_jobs=1)]: Using backend SequentialBackend with 1 concurrent workers.\n",
      "[Parallel(n_jobs=1)]: Done  77 out of  77 | elapsed:    6.6s finished\n",
      "[Parallel(n_jobs=1)]: Using backend SequentialBackend with 1 concurrent workers.\n",
      "[Parallel(n_jobs=1)]: Done  78 out of  78 | elapsed: 70.9min finished\n",
      "[Parallel(n_jobs=1)]: Using backend SequentialBackend with 1 concurrent workers.\n",
      "[Parallel(n_jobs=1)]: Done  78 out of  78 | elapsed:   10.9s finished\n",
      "[Parallel(n_jobs=1)]: Using backend SequentialBackend with 1 concurrent workers.\n",
      "[Parallel(n_jobs=1)]: Done  79 out of  79 | elapsed: 52.0min finished\n",
      "[Parallel(n_jobs=1)]: Using backend SequentialBackend with 1 concurrent workers.\n",
      "[Parallel(n_jobs=1)]: Done  79 out of  79 | elapsed:    7.2s finished\n",
      "[Parallel(n_jobs=1)]: Using backend SequentialBackend with 1 concurrent workers.\n",
      "[Parallel(n_jobs=1)]: Done  80 out of  80 | elapsed: 51.6min finished\n",
      "[Parallel(n_jobs=1)]: Using backend SequentialBackend with 1 concurrent workers.\n",
      "[Parallel(n_jobs=1)]: Done  80 out of  80 | elapsed:    6.8s finished\n",
      "[Parallel(n_jobs=1)]: Using backend SequentialBackend with 1 concurrent workers.\n",
      "[Parallel(n_jobs=1)]: Done  81 out of  81 | elapsed: 52.1min finished\n",
      "[Parallel(n_jobs=1)]: Using backend SequentialBackend with 1 concurrent workers.\n",
      "[Parallel(n_jobs=1)]: Done  81 out of  81 | elapsed:    6.8s finished\n",
      "[Parallel(n_jobs=1)]: Using backend SequentialBackend with 1 concurrent workers.\n",
      "[Parallel(n_jobs=1)]: Done  82 out of  82 | elapsed: 52.5min finished\n",
      "[Parallel(n_jobs=1)]: Using backend SequentialBackend with 1 concurrent workers.\n",
      "[Parallel(n_jobs=1)]: Done  82 out of  82 | elapsed:    6.9s finished\n",
      "[Parallel(n_jobs=1)]: Using backend SequentialBackend with 1 concurrent workers.\n",
      "[Parallel(n_jobs=1)]: Done  83 out of  83 | elapsed: 53.1min finished\n",
      "[Parallel(n_jobs=1)]: Using backend SequentialBackend with 1 concurrent workers.\n",
      "[Parallel(n_jobs=1)]: Done  83 out of  83 | elapsed:    6.9s finished\n",
      "[Parallel(n_jobs=1)]: Using backend SequentialBackend with 1 concurrent workers.\n",
      "[Parallel(n_jobs=1)]: Done  84 out of  84 | elapsed: 53.8min finished\n",
      "[Parallel(n_jobs=1)]: Using backend SequentialBackend with 1 concurrent workers.\n",
      "[Parallel(n_jobs=1)]: Done  84 out of  84 | elapsed:    7.1s finished\n",
      "[Parallel(n_jobs=1)]: Using backend SequentialBackend with 1 concurrent workers.\n",
      "[Parallel(n_jobs=1)]: Done  85 out of  85 | elapsed: 54.6min finished\n",
      "[Parallel(n_jobs=1)]: Using backend SequentialBackend with 1 concurrent workers.\n",
      "[Parallel(n_jobs=1)]: Done  85 out of  85 | elapsed:    7.0s finished\n",
      "[Parallel(n_jobs=1)]: Using backend SequentialBackend with 1 concurrent workers.\n",
      "[Parallel(n_jobs=1)]: Done  86 out of  86 | elapsed: 55.2min finished\n",
      "[Parallel(n_jobs=1)]: Using backend SequentialBackend with 1 concurrent workers.\n",
      "[Parallel(n_jobs=1)]: Done  86 out of  86 | elapsed:    7.3s finished\n",
      "[Parallel(n_jobs=1)]: Using backend SequentialBackend with 1 concurrent workers.\n",
      "[Parallel(n_jobs=1)]: Done  87 out of  87 | elapsed: 56.0min finished\n",
      "[Parallel(n_jobs=1)]: Using backend SequentialBackend with 1 concurrent workers.\n",
      "[Parallel(n_jobs=1)]: Done  87 out of  87 | elapsed:    7.2s finished\n",
      "[Parallel(n_jobs=1)]: Using backend SequentialBackend with 1 concurrent workers.\n",
      "[Parallel(n_jobs=1)]: Done  88 out of  88 | elapsed: 81.8min finished\n",
      "[Parallel(n_jobs=1)]: Using backend SequentialBackend with 1 concurrent workers.\n",
      "[Parallel(n_jobs=1)]: Done  88 out of  88 | elapsed:   13.3s finished\n",
      "[Parallel(n_jobs=1)]: Using backend SequentialBackend with 1 concurrent workers.\n",
      "[Parallel(n_jobs=1)]: Done  89 out of  89 | elapsed: 64.3min finished\n",
      "[Parallel(n_jobs=1)]: Using backend SequentialBackend with 1 concurrent workers.\n",
      "[Parallel(n_jobs=1)]: Done  89 out of  89 | elapsed:    8.4s finished\n",
      "[Parallel(n_jobs=1)]: Using backend SequentialBackend with 1 concurrent workers.\n",
      "[Parallel(n_jobs=1)]: Done  90 out of  90 | elapsed: 69.6min finished\n",
      "[Parallel(n_jobs=1)]: Using backend SequentialBackend with 1 concurrent workers.\n",
      "[Parallel(n_jobs=1)]: Done  90 out of  90 | elapsed:   18.5s finished\n",
      "[Parallel(n_jobs=1)]: Using backend SequentialBackend with 1 concurrent workers.\n",
      "[Parallel(n_jobs=1)]: Done  91 out of  91 | elapsed: 65.5min finished\n",
      "[Parallel(n_jobs=1)]: Using backend SequentialBackend with 1 concurrent workers.\n",
      "[Parallel(n_jobs=1)]: Done  91 out of  91 | elapsed:    9.5s finished\n",
      "[Parallel(n_jobs=1)]: Using backend SequentialBackend with 1 concurrent workers.\n",
      "[Parallel(n_jobs=1)]: Done  92 out of  92 | elapsed: 61.7min finished\n",
      "[Parallel(n_jobs=1)]: Using backend SequentialBackend with 1 concurrent workers.\n",
      "[Parallel(n_jobs=1)]: Done  92 out of  92 | elapsed:    8.0s finished\n",
      "[Parallel(n_jobs=1)]: Using backend SequentialBackend with 1 concurrent workers.\n",
      "[Parallel(n_jobs=1)]: Done  93 out of  93 | elapsed: 62.1min finished\n",
      "[Parallel(n_jobs=1)]: Using backend SequentialBackend with 1 concurrent workers.\n",
      "[Parallel(n_jobs=1)]: Done  93 out of  93 | elapsed:    7.9s finished\n",
      "[Parallel(n_jobs=1)]: Using backend SequentialBackend with 1 concurrent workers.\n",
      "[Parallel(n_jobs=1)]: Done  94 out of  94 | elapsed: 62.7min finished\n",
      "[Parallel(n_jobs=1)]: Using backend SequentialBackend with 1 concurrent workers.\n",
      "[Parallel(n_jobs=1)]: Done  94 out of  94 | elapsed:    8.1s finished\n",
      "[Parallel(n_jobs=1)]: Using backend SequentialBackend with 1 concurrent workers.\n",
      "[Parallel(n_jobs=1)]: Done  95 out of  95 | elapsed: 63.5min finished\n",
      "[Parallel(n_jobs=1)]: Using backend SequentialBackend with 1 concurrent workers.\n",
      "[Parallel(n_jobs=1)]: Done  95 out of  95 | elapsed:    8.1s finished\n",
      "[Parallel(n_jobs=1)]: Using backend SequentialBackend with 1 concurrent workers.\n",
      "[Parallel(n_jobs=1)]: Done  96 out of  96 | elapsed: 64.9min finished\n",
      "[Parallel(n_jobs=1)]: Using backend SequentialBackend with 1 concurrent workers.\n",
      "[Parallel(n_jobs=1)]: Done  96 out of  96 | elapsed:    8.4s finished\n",
      "[Parallel(n_jobs=1)]: Using backend SequentialBackend with 1 concurrent workers.\n",
      "[Parallel(n_jobs=1)]: Done  97 out of  97 | elapsed: 86.6min finished\n",
      "[Parallel(n_jobs=1)]: Using backend SequentialBackend with 1 concurrent workers.\n",
      "[Parallel(n_jobs=1)]: Done  97 out of  97 | elapsed:   12.0s finished\n",
      "[Parallel(n_jobs=1)]: Using backend SequentialBackend with 1 concurrent workers.\n",
      "[Parallel(n_jobs=1)]: Done  98 out of  98 | elapsed: 68.6min finished\n",
      "[Parallel(n_jobs=1)]: Using backend SequentialBackend with 1 concurrent workers.\n",
      "[Parallel(n_jobs=1)]: Done  98 out of  98 | elapsed:    8.7s finished\n",
      "[Parallel(n_jobs=1)]: Using backend SequentialBackend with 1 concurrent workers.\n",
      "[Parallel(n_jobs=1)]: Done  99 out of  99 | elapsed: 69.6min finished\n",
      "[Parallel(n_jobs=1)]: Using backend SequentialBackend with 1 concurrent workers.\n",
      "[Parallel(n_jobs=1)]: Done  99 out of  99 | elapsed:   10.0s finished\n",
      "[Parallel(n_jobs=1)]: Using backend SequentialBackend with 1 concurrent workers.\n",
      "[Parallel(n_jobs=1)]: Done 100 out of 100 | elapsed: 73.3min finished\n",
      "[Parallel(n_jobs=1)]: Using backend SequentialBackend with 1 concurrent workers.\n",
      "[Parallel(n_jobs=1)]: Done 100 out of 100 | elapsed:    9.8s finished\n",
      "[Parallel(n_jobs=1)]: Using backend SequentialBackend with 1 concurrent workers.\n",
      "[Parallel(n_jobs=1)]: Done 101 out of 101 | elapsed: 73.5min finished\n",
      "[Parallel(n_jobs=1)]: Using backend SequentialBackend with 1 concurrent workers.\n",
      "[Parallel(n_jobs=1)]: Done 101 out of 101 | elapsed:    9.0s finished\n",
      "[Parallel(n_jobs=1)]: Using backend SequentialBackend with 1 concurrent workers.\n",
      "[Parallel(n_jobs=1)]: Done 102 out of 102 | elapsed: 73.6min finished\n",
      "[Parallel(n_jobs=1)]: Using backend SequentialBackend with 1 concurrent workers.\n",
      "[Parallel(n_jobs=1)]: Done 102 out of 102 | elapsed:    9.5s finished\n",
      "[Parallel(n_jobs=1)]: Using backend SequentialBackend with 1 concurrent workers.\n",
      "[Parallel(n_jobs=1)]: Done 103 out of 103 | elapsed: 76.5min finished\n",
      "[Parallel(n_jobs=1)]: Using backend SequentialBackend with 1 concurrent workers.\n",
      "[Parallel(n_jobs=1)]: Done 103 out of 103 | elapsed:    9.4s finished\n",
      "[Parallel(n_jobs=1)]: Using backend SequentialBackend with 1 concurrent workers.\n",
      "[Parallel(n_jobs=1)]: Done 104 out of 104 | elapsed: 77.0min finished\n",
      "[Parallel(n_jobs=1)]: Using backend SequentialBackend with 1 concurrent workers.\n",
      "[Parallel(n_jobs=1)]: Done 104 out of 104 | elapsed:    9.9s finished\n",
      "[Parallel(n_jobs=1)]: Using backend SequentialBackend with 1 concurrent workers.\n",
      "[Parallel(n_jobs=1)]: Done 105 out of 105 | elapsed: 77.0min finished\n",
      "[Parallel(n_jobs=1)]: Using backend SequentialBackend with 1 concurrent workers.\n",
      "[Parallel(n_jobs=1)]: Done 105 out of 105 | elapsed:    9.5s finished\n",
      "[Parallel(n_jobs=1)]: Using backend SequentialBackend with 1 concurrent workers.\n",
      "[Parallel(n_jobs=1)]: Done 106 out of 106 | elapsed: 76.7min finished\n",
      "[Parallel(n_jobs=1)]: Using backend SequentialBackend with 1 concurrent workers.\n",
      "[Parallel(n_jobs=1)]: Done 106 out of 106 | elapsed:    9.6s finished\n",
      "[Parallel(n_jobs=1)]: Using backend SequentialBackend with 1 concurrent workers.\n",
      "[Parallel(n_jobs=1)]: Done 107 out of 107 | elapsed: 77.0min finished\n",
      "[Parallel(n_jobs=1)]: Using backend SequentialBackend with 1 concurrent workers.\n",
      "[Parallel(n_jobs=1)]: Done 107 out of 107 | elapsed:    9.6s finished\n",
      "[Parallel(n_jobs=1)]: Using backend SequentialBackend with 1 concurrent workers.\n",
      "[Parallel(n_jobs=1)]: Done 108 out of 108 | elapsed: 77.7min finished\n",
      "[Parallel(n_jobs=1)]: Using backend SequentialBackend with 1 concurrent workers.\n",
      "[Parallel(n_jobs=1)]: Done 108 out of 108 | elapsed:    9.8s finished\n",
      "[Parallel(n_jobs=1)]: Using backend SequentialBackend with 1 concurrent workers.\n",
      "[Parallel(n_jobs=1)]: Done 109 out of 109 | elapsed: 80.9min finished\n",
      "[Parallel(n_jobs=1)]: Using backend SequentialBackend with 1 concurrent workers.\n",
      "[Parallel(n_jobs=1)]: Done 109 out of 109 | elapsed:   22.8s finished\n",
      "[Parallel(n_jobs=1)]: Using backend SequentialBackend with 1 concurrent workers.\n",
      "[Parallel(n_jobs=1)]: Done 110 out of 110 | elapsed: 81.1min finished\n",
      "[Parallel(n_jobs=1)]: Using backend SequentialBackend with 1 concurrent workers.\n",
      "[Parallel(n_jobs=1)]: Done 110 out of 110 | elapsed:   13.4s finished\n",
      "[Parallel(n_jobs=1)]: Using backend SequentialBackend with 1 concurrent workers.\n",
      "[Parallel(n_jobs=1)]: Done 111 out of 111 | elapsed: 83.2min finished\n",
      "[Parallel(n_jobs=1)]: Using backend SequentialBackend with 1 concurrent workers.\n",
      "[Parallel(n_jobs=1)]: Done 111 out of 111 | elapsed:   10.8s finished\n",
      "[Parallel(n_jobs=1)]: Using backend SequentialBackend with 1 concurrent workers.\n",
      "[Parallel(n_jobs=1)]: Done 112 out of 112 | elapsed: 73.6min finished\n",
      "[Parallel(n_jobs=1)]: Using backend SequentialBackend with 1 concurrent workers.\n",
      "[Parallel(n_jobs=1)]: Done 112 out of 112 | elapsed:   11.2s finished\n",
      "[Parallel(n_jobs=1)]: Using backend SequentialBackend with 1 concurrent workers.\n",
      "[Parallel(n_jobs=1)]: Done 113 out of 113 | elapsed: 73.3min finished\n",
      "[Parallel(n_jobs=1)]: Using backend SequentialBackend with 1 concurrent workers.\n",
      "[Parallel(n_jobs=1)]: Done 113 out of 113 | elapsed:    9.6s finished\n",
      "[Parallel(n_jobs=1)]: Using backend SequentialBackend with 1 concurrent workers.\n",
      "[Parallel(n_jobs=1)]: Done 114 out of 114 | elapsed: 73.9min finished\n",
      "[Parallel(n_jobs=1)]: Using backend SequentialBackend with 1 concurrent workers.\n",
      "[Parallel(n_jobs=1)]: Done 114 out of 114 | elapsed:    9.6s finished\n",
      "[Parallel(n_jobs=1)]: Using backend SequentialBackend with 1 concurrent workers.\n",
      "[Parallel(n_jobs=1)]: Done 115 out of 115 | elapsed: 74.6min finished\n",
      "[Parallel(n_jobs=1)]: Using backend SequentialBackend with 1 concurrent workers.\n",
      "[Parallel(n_jobs=1)]: Done 115 out of 115 | elapsed:    9.5s finished\n",
      "[Parallel(n_jobs=1)]: Using backend SequentialBackend with 1 concurrent workers.\n",
      "[Parallel(n_jobs=1)]: Done 116 out of 116 | elapsed: 75.7min finished\n",
      "[Parallel(n_jobs=1)]: Using backend SequentialBackend with 1 concurrent workers.\n",
      "[Parallel(n_jobs=1)]: Done 116 out of 116 | elapsed:   11.6s finished\n",
      "[Parallel(n_jobs=1)]: Using backend SequentialBackend with 1 concurrent workers.\n",
      "[Parallel(n_jobs=1)]: Done 117 out of 117 | elapsed: 100.3min finished\n",
      "[Parallel(n_jobs=1)]: Using backend SequentialBackend with 1 concurrent workers.\n",
      "[Parallel(n_jobs=1)]: Done 117 out of 117 | elapsed:   19.0s finished\n",
      "[Parallel(n_jobs=1)]: Using backend SequentialBackend with 1 concurrent workers.\n",
      "[Parallel(n_jobs=1)]: Done 118 out of 118 | elapsed: 107.3min finished\n",
      "[Parallel(n_jobs=1)]: Using backend SequentialBackend with 1 concurrent workers.\n",
      "[Parallel(n_jobs=1)]: Done 118 out of 118 | elapsed:   14.9s finished\n",
      "[Parallel(n_jobs=1)]: Using backend SequentialBackend with 1 concurrent workers.\n",
      "[Parallel(n_jobs=1)]: Done 119 out of 119 | elapsed: 77.2min finished\n",
      "[Parallel(n_jobs=1)]: Using backend SequentialBackend with 1 concurrent workers.\n",
      "[Parallel(n_jobs=1)]: Done 119 out of 119 | elapsed:   11.4s finished\n",
      "[Parallel(n_jobs=1)]: Using backend SequentialBackend with 1 concurrent workers.\n",
      "[Parallel(n_jobs=1)]: Done 120 out of 120 | elapsed: 78.5min finished\n",
      "[Parallel(n_jobs=1)]: Using backend SequentialBackend with 1 concurrent workers.\n",
      "[Parallel(n_jobs=1)]: Done 120 out of 120 | elapsed:   10.5s finished\n",
      "[Parallel(n_jobs=1)]: Using backend SequentialBackend with 1 concurrent workers.\n",
      "[Parallel(n_jobs=1)]: Done 121 out of 121 | elapsed: 77.5min finished\n",
      "[Parallel(n_jobs=1)]: Using backend SequentialBackend with 1 concurrent workers.\n",
      "[Parallel(n_jobs=1)]: Done 121 out of 121 | elapsed:   10.0s finished\n",
      "[Parallel(n_jobs=1)]: Using backend SequentialBackend with 1 concurrent workers.\n",
      "[Parallel(n_jobs=1)]: Done 122 out of 122 | elapsed: 78.4min finished\n",
      "[Parallel(n_jobs=1)]: Using backend SequentialBackend with 1 concurrent workers.\n",
      "[Parallel(n_jobs=1)]: Done 122 out of 122 | elapsed:   10.1s finished\n",
      "[Parallel(n_jobs=1)]: Using backend SequentialBackend with 1 concurrent workers.\n",
      "[Parallel(n_jobs=1)]: Done 123 out of 123 | elapsed: 79.2min finished\n",
      "[Parallel(n_jobs=1)]: Using backend SequentialBackend with 1 concurrent workers.\n",
      "[Parallel(n_jobs=1)]: Done 123 out of 123 | elapsed:   10.1s finished\n",
      "[Parallel(n_jobs=1)]: Using backend SequentialBackend with 1 concurrent workers.\n",
      "[Parallel(n_jobs=1)]: Done 124 out of 124 | elapsed: 79.6min finished\n",
      "[Parallel(n_jobs=1)]: Using backend SequentialBackend with 1 concurrent workers.\n",
      "[Parallel(n_jobs=1)]: Done 124 out of 124 | elapsed:   11.3s finished\n",
      "[Parallel(n_jobs=1)]: Using backend SequentialBackend with 1 concurrent workers.\n",
      "[Parallel(n_jobs=1)]: Done 125 out of 125 | elapsed: 80.5min finished\n",
      "[Parallel(n_jobs=1)]: Using backend SequentialBackend with 1 concurrent workers.\n",
      "[Parallel(n_jobs=1)]: Done 125 out of 125 | elapsed:   10.3s finished\n",
      "[Parallel(n_jobs=1)]: Using backend SequentialBackend with 1 concurrent workers.\n",
      "[Parallel(n_jobs=1)]: Done 126 out of 126 | elapsed: 93.5min finished\n",
      "[Parallel(n_jobs=1)]: Using backend SequentialBackend with 1 concurrent workers.\n",
      "[Parallel(n_jobs=1)]: Done 126 out of 126 | elapsed:   17.6s finished\n",
      "[Parallel(n_jobs=1)]: Using backend SequentialBackend with 1 concurrent workers.\n",
      "[Parallel(n_jobs=1)]: Done 127 out of 127 | elapsed: 86.8min finished\n",
      "[Parallel(n_jobs=1)]: Using backend SequentialBackend with 1 concurrent workers.\n",
      "[Parallel(n_jobs=1)]: Done 127 out of 127 | elapsed:   13.7s finished\n",
      "[Parallel(n_jobs=1)]: Using backend SequentialBackend with 1 concurrent workers.\n",
      "[Parallel(n_jobs=1)]: Done 128 out of 128 | elapsed: 100.4min finished\n",
      "[Parallel(n_jobs=1)]: Using backend SequentialBackend with 1 concurrent workers.\n",
      "[Parallel(n_jobs=1)]: Done 128 out of 128 | elapsed:   16.6s finished\n",
      "[Parallel(n_jobs=1)]: Using backend SequentialBackend with 1 concurrent workers.\n",
      "[Parallel(n_jobs=1)]: Done 129 out of 129 | elapsed: 89.5min finished\n",
      "[Parallel(n_jobs=1)]: Using backend SequentialBackend with 1 concurrent workers.\n",
      "[Parallel(n_jobs=1)]: Done 129 out of 129 | elapsed:   15.3s finished\n",
      "[Parallel(n_jobs=1)]: Using backend SequentialBackend with 1 concurrent workers.\n",
      "[Parallel(n_jobs=1)]: Done 130 out of 130 | elapsed: 89.9min finished\n",
      "[Parallel(n_jobs=1)]: Using backend SequentialBackend with 1 concurrent workers.\n",
      "[Parallel(n_jobs=1)]: Done 130 out of 130 | elapsed:   11.6s finished\n",
      "[Parallel(n_jobs=1)]: Using backend SequentialBackend with 1 concurrent workers.\n",
      "[Parallel(n_jobs=1)]: Done 131 out of 131 | elapsed: 100.6min finished\n",
      "[Parallel(n_jobs=1)]: Using backend SequentialBackend with 1 concurrent workers.\n",
      "[Parallel(n_jobs=1)]: Done 131 out of 131 | elapsed:   13.4s finished\n",
      "[Parallel(n_jobs=1)]: Using backend SequentialBackend with 1 concurrent workers.\n",
      "[Parallel(n_jobs=1)]: Done 132 out of 132 | elapsed: 90.9min finished\n",
      "[Parallel(n_jobs=1)]: Using backend SequentialBackend with 1 concurrent workers.\n",
      "[Parallel(n_jobs=1)]: Done 132 out of 132 | elapsed:   11.4s finished\n",
      "[Parallel(n_jobs=1)]: Using backend SequentialBackend with 1 concurrent workers.\n",
      "[Parallel(n_jobs=1)]: Done 133 out of 133 | elapsed: 87.9min finished\n",
      "[Parallel(n_jobs=1)]: Using backend SequentialBackend with 1 concurrent workers.\n",
      "[Parallel(n_jobs=1)]: Done 133 out of 133 | elapsed:   11.3s finished\n",
      "[Parallel(n_jobs=1)]: Using backend SequentialBackend with 1 concurrent workers.\n",
      "[Parallel(n_jobs=1)]: Done 134 out of 134 | elapsed: 88.4min finished\n",
      "[Parallel(n_jobs=1)]: Using backend SequentialBackend with 1 concurrent workers.\n",
      "[Parallel(n_jobs=1)]: Done 134 out of 134 | elapsed:   11.4s finished\n",
      "[Parallel(n_jobs=1)]: Using backend SequentialBackend with 1 concurrent workers.\n",
      "[Parallel(n_jobs=1)]: Done 135 out of 135 | elapsed: 106.0min finished\n",
      "[Parallel(n_jobs=1)]: Using backend SequentialBackend with 1 concurrent workers.\n",
      "[Parallel(n_jobs=1)]: Done 135 out of 135 | elapsed:   18.8s finished\n",
      "[Parallel(n_jobs=1)]: Using backend SequentialBackend with 1 concurrent workers.\n",
      "[Parallel(n_jobs=1)]: Done 136 out of 136 | elapsed: 92.3min finished\n",
      "[Parallel(n_jobs=1)]: Using backend SequentialBackend with 1 concurrent workers.\n",
      "[Parallel(n_jobs=1)]: Done 136 out of 136 | elapsed:   13.2s finished\n",
      "[Parallel(n_jobs=1)]: Using backend SequentialBackend with 1 concurrent workers.\n",
      "[Parallel(n_jobs=1)]: Done 137 out of 137 | elapsed: 89.9min finished\n",
      "[Parallel(n_jobs=1)]: Using backend SequentialBackend with 1 concurrent workers.\n",
      "[Parallel(n_jobs=1)]: Done 137 out of 137 | elapsed:   11.8s finished\n",
      "[Parallel(n_jobs=1)]: Using backend SequentialBackend with 1 concurrent workers.\n",
      "[Parallel(n_jobs=1)]: Done 138 out of 138 | elapsed: 90.8min finished\n",
      "[Parallel(n_jobs=1)]: Using backend SequentialBackend with 1 concurrent workers.\n",
      "[Parallel(n_jobs=1)]: Done 138 out of 138 | elapsed:   11.9s finished\n",
      "[Parallel(n_jobs=1)]: Using backend SequentialBackend with 1 concurrent workers.\n",
      "[Parallel(n_jobs=1)]: Done 139 out of 139 | elapsed: 90.7min finished\n",
      "[Parallel(n_jobs=1)]: Using backend SequentialBackend with 1 concurrent workers.\n",
      "[Parallel(n_jobs=1)]: Done 139 out of 139 | elapsed:   12.0s finished\n",
      "[Parallel(n_jobs=1)]: Using backend SequentialBackend with 1 concurrent workers.\n",
      "[Parallel(n_jobs=1)]: Done 140 out of 140 | elapsed: 92.0min finished\n",
      "[Parallel(n_jobs=1)]: Using backend SequentialBackend with 1 concurrent workers.\n",
      "[Parallel(n_jobs=1)]: Done 140 out of 140 | elapsed:   12.1s finished\n",
      "[Parallel(n_jobs=1)]: Using backend SequentialBackend with 1 concurrent workers.\n",
      "[Parallel(n_jobs=1)]: Done 141 out of 141 | elapsed: 113.2min finished\n",
      "[Parallel(n_jobs=1)]: Using backend SequentialBackend with 1 concurrent workers.\n",
      "[Parallel(n_jobs=1)]: Done 141 out of 141 | elapsed:   17.6s finished\n",
      "[Parallel(n_jobs=1)]: Using backend SequentialBackend with 1 concurrent workers.\n",
      "[Parallel(n_jobs=1)]: Done 142 out of 142 | elapsed: 94.9min finished\n",
      "[Parallel(n_jobs=1)]: Using backend SequentialBackend with 1 concurrent workers.\n",
      "[Parallel(n_jobs=1)]: Done 142 out of 142 | elapsed:   12.1s finished\n",
      "[Parallel(n_jobs=1)]: Using backend SequentialBackend with 1 concurrent workers.\n",
      "[Parallel(n_jobs=1)]: Done 143 out of 143 | elapsed: 95.6min finished\n",
      "[Parallel(n_jobs=1)]: Using backend SequentialBackend with 1 concurrent workers.\n",
      "[Parallel(n_jobs=1)]: Done 143 out of 143 | elapsed:   17.7s finished\n",
      "[Parallel(n_jobs=1)]: Using backend SequentialBackend with 1 concurrent workers.\n",
      "[Parallel(n_jobs=1)]: Done 144 out of 144 | elapsed: 108.8min finished\n",
      "[Parallel(n_jobs=1)]: Using backend SequentialBackend with 1 concurrent workers.\n",
      "[Parallel(n_jobs=1)]: Done 144 out of 144 | elapsed:   30.9s finished\n",
      "[Parallel(n_jobs=1)]: Using backend SequentialBackend with 1 concurrent workers.\n",
      "[Parallel(n_jobs=1)]: Done 145 out of 145 | elapsed: 114.7min finished\n",
      "[Parallel(n_jobs=1)]: Using backend SequentialBackend with 1 concurrent workers.\n",
      "[Parallel(n_jobs=1)]: Done 145 out of 145 | elapsed:   16.1s finished\n",
      "[Parallel(n_jobs=1)]: Using backend SequentialBackend with 1 concurrent workers.\n",
      "[Parallel(n_jobs=1)]: Done 146 out of 146 | elapsed: 103.4min finished\n",
      "[Parallel(n_jobs=1)]: Using backend SequentialBackend with 1 concurrent workers.\n",
      "[Parallel(n_jobs=1)]: Done 146 out of 146 | elapsed:   16.7s finished\n",
      "[Parallel(n_jobs=1)]: Using backend SequentialBackend with 1 concurrent workers.\n",
      "[Parallel(n_jobs=1)]: Done 147 out of 147 | elapsed: 101.8min finished\n",
      "[Parallel(n_jobs=1)]: Using backend SequentialBackend with 1 concurrent workers.\n",
      "[Parallel(n_jobs=1)]: Done 147 out of 147 | elapsed:   15.0s finished\n",
      "[Parallel(n_jobs=1)]: Using backend SequentialBackend with 1 concurrent workers.\n",
      "[Parallel(n_jobs=1)]: Done 148 out of 148 | elapsed: 101.2min finished\n",
      "[Parallel(n_jobs=1)]: Using backend SequentialBackend with 1 concurrent workers.\n",
      "[Parallel(n_jobs=1)]: Done 148 out of 148 | elapsed:   13.2s finished\n",
      "[Parallel(n_jobs=1)]: Using backend SequentialBackend with 1 concurrent workers.\n",
      "[Parallel(n_jobs=1)]: Done 149 out of 149 | elapsed: 101.6min finished\n",
      "[Parallel(n_jobs=1)]: Using backend SequentialBackend with 1 concurrent workers.\n",
      "[Parallel(n_jobs=1)]: Done 149 out of 149 | elapsed:   13.3s finished\n",
      "[Parallel(n_jobs=1)]: Using backend SequentialBackend with 1 concurrent workers.\n",
      "[Parallel(n_jobs=1)]: Done 150 out of 150 | elapsed: 103.1min finished\n",
      "[Parallel(n_jobs=1)]: Using backend SequentialBackend with 1 concurrent workers.\n",
      "[Parallel(n_jobs=1)]: Done 150 out of 150 | elapsed:   14.2s finished\n"
     ]
    }
   ],
   "source": [
    "#Finding optomized number of estimators\n",
    "\n",
    "scores = []\n",
    "for k in range(1, 151):\n",
    "    rfc_pipe = Pipeline([(\"vect\", CountVectorizer()), (\"tfidf\", TfidfTransformer()), (\"clf_randomForest\", RandomForestClassifier(n_estimators=k, verbose=1))])\n",
    "    rfc_pipe.fit(X_train, y_train)\n",
    "    y_pred = rfc_pipe.predict(X_test)\n",
    "    scores.append(accuracy_score(y_test, y_pred))"
   ]
  },
  {
   "cell_type": "code",
   "execution_count": 6,
   "metadata": {},
   "outputs": [
    {
     "name": "stderr",
     "output_type": "stream",
     "text": [
      "[Parallel(n_jobs=-1)]: Using backend ThreadingBackend with 12 concurrent workers.\n",
      "[Parallel(n_jobs=-1)]: Done  26 tasks      | elapsed: 11.1min\n",
      "[Parallel(n_jobs=-1)]: Done 100 out of 100 | elapsed: 30.4min finished\n"
     ]
    },
    {
     "data": {
      "text/plain": [
       "Pipeline(steps=[('vect', CountVectorizer()), ('tfidf', TfidfTransformer()),\n",
       "                ('clf_randomForest',\n",
       "                 RandomForestClassifier(n_jobs=-1, verbose=1))])"
      ]
     },
     "execution_count": 6,
     "metadata": {},
     "output_type": "execute_result"
    }
   ],
   "source": [
    "#Doing a pipelin at 100 estimators, default prediction.\n",
    "rfc_pipe = Pipeline([(\"vect\", CountVectorizer()), (\"tfidf\", TfidfTransformer()), (\"clf_randomForest\", RandomForestClassifier(verbose=1, n_jobs = -1))])\n",
    "rfc_pipe.fit(X_train, y_train)"
   ]
  },
  {
   "cell_type": "code",
   "execution_count": 7,
   "metadata": {},
   "outputs": [
    {
     "data": {
      "text/plain": [
       "Text(0, 0.5, 'Testing Accuracy')"
      ]
     },
     "execution_count": 7,
     "metadata": {},
     "output_type": "execute_result"
    },
    {
     "data": {
      "image/png": "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",
      "text/plain": [
       "<Figure size 432x288 with 1 Axes>"
      ]
     },
     "metadata": {
      "needs_background": "light"
     },
     "output_type": "display_data"
    }
   ],
   "source": [
    "#Plotting accuracy curve\n",
    "plt.plot(range(1, 151), scores)\n",
    "plt.xlabel('Value of n_estimators for Random Forest Classifier')\n",
    "plt.ylabel('Testing Accuracy')"
   ]
  },
  {
   "cell_type": "code",
   "execution_count": 23,
   "metadata": {},
   "outputs": [
    {
     "name": "stdout",
     "output_type": "stream",
     "text": [
      "The max score is 0.8099062329574442.\n",
      "The index of the max score is 23\n"
     ]
    }
   ],
   "source": [
    "#FInding the optimal number of estimators and the max accuracy at that point.\n",
    "print(f\"The max score is {max(scores)}.\")\n",
    "print(f\"The index of the max score is {scores.index(max(scores))}\")"
   ]
  },
  {
   "cell_type": "code",
   "execution_count": 7,
   "metadata": {},
   "outputs": [
    {
     "name": "stderr",
     "output_type": "stream",
     "text": [
      "[Parallel(n_jobs=12)]: Using backend ThreadingBackend with 12 concurrent workers.\n",
      "[Parallel(n_jobs=12)]: Done  26 tasks      | elapsed:    0.9s\n",
      "[Parallel(n_jobs=12)]: Done 100 out of 100 | elapsed:    2.2s finished\n"
     ]
    },
    {
     "data": {
      "text/plain": [
       "0.8030804144749574"
      ]
     },
     "execution_count": 7,
     "metadata": {},
     "output_type": "execute_result"
    }
   ],
   "source": [
    "#Getting initial accuracy.\n",
    "predictedRandomForest = rfc_pipe.predict(X_test)\n",
    "np.mean(predictedRandomForest == y_test)"
   ]
  },
  {
   "cell_type": "code",
   "execution_count": 6,
   "metadata": {},
   "outputs": [],
   "source": [
    "#Hyperparameter tuning\n",
    "param_grid = {\n",
    "    'clf_randomForest__max_depth' : [None, 2, 4, 6, 8],\n",
    "    'clf_randomForest__max_features' : [\"auto\" , \"sqrt\" , \"log2\" , None],\n",
    "    'clf_randomForest__n_estimators' : [23]\n",
    "}"
   ]
  },
  {
   "cell_type": "code",
   "execution_count": 7,
   "metadata": {},
   "outputs": [
    {
     "data": {
      "text/plain": [
       "Pipeline(steps=[('vect', CountVectorizer()), ('tfidf', TfidfTransformer()),\n",
       "                ('clf_randomForest',\n",
       "                 RandomForestClassifier(max_features=None, n_estimators=23,\n",
       "                                        n_jobs=-1))])"
      ]
     },
     "execution_count": 7,
     "metadata": {},
     "output_type": "execute_result"
    }
   ],
   "source": [
    "optimized_pipe = Pipeline([(\"vect\", CountVectorizer()), (\"tfidf\", TfidfTransformer()), (\"clf_randomForest\", RandomForestClassifier(n_estimators=23, max_depth = None, max_features = None, n_jobs = -1 ))])\n",
    "optimized_pipe.fit(X_train, y_train)"
   ]
  },
  {
   "cell_type": "code",
   "execution_count": 21,
   "metadata": {},
   "outputs": [
    {
     "name": "stdout",
     "output_type": "stream",
     "text": [
      "The accuracy is 0.8230916735569903 using accuracy_score.\n"
     ]
    }
   ],
   "source": [
    "y_predRFC = optimized_pipe.predict(X_test)\n",
    "#print(f\"The accuracy is {np.mean(y_predRFC == y_test)} when using np.mean.\")\n",
    "print(f\"The accuracy is {accuracy_score(y_test, y_predRFC)} using accuracy_score.\")"
   ]
  },
  {
   "cell_type": "code",
   "execution_count": 36,
   "metadata": {},
   "outputs": [
    {
     "name": "stderr",
     "output_type": "stream",
     "text": [
      "[Parallel(n_jobs=1)]: Using backend SequentialBackend with 1 concurrent workers.\n"
     ]
    },
    {
     "name": "stdout",
     "output_type": "stream",
     "text": [
      "building tree 1 of 23\n"
     ]
    },
    {
     "name": "stderr",
     "output_type": "stream",
     "text": [
      "[Parallel(n_jobs=1)]: Done   1 out of   1 | elapsed:   29.9s remaining:    0.0s\n"
     ]
    },
    {
     "name": "stdout",
     "output_type": "stream",
     "text": [
      "building tree 2 of 23\n",
      "building tree 3 of 23\n",
      "building tree 4 of 23\n",
      "building tree 5 of 23\n",
      "building tree 6 of 23\n",
      "building tree 7 of 23\n",
      "building tree 8 of 23\n",
      "building tree 9 of 23\n",
      "building tree 10 of 23\n",
      "building tree 11 of 23\n",
      "building tree 12 of 23\n",
      "building tree 13 of 23\n",
      "building tree 14 of 23\n",
      "building tree 15 of 23\n",
      "building tree 16 of 23\n",
      "building tree 17 of 23\n",
      "building tree 18 of 23\n",
      "building tree 19 of 23\n",
      "building tree 20 of 23\n",
      "building tree 21 of 23\n",
      "building tree 22 of 23\n",
      "building tree 23 of 23\n"
     ]
    },
    {
     "name": "stderr",
     "output_type": "stream",
     "text": [
      "[Parallel(n_jobs=1)]: Done  23 out of  23 | elapsed: 11.2min finished\n",
      "[Parallel(n_jobs=1)]: Using backend SequentialBackend with 1 concurrent workers.\n",
      "[Parallel(n_jobs=1)]: Done   1 out of   1 | elapsed:    0.0s remaining:    0.0s\n",
      "[Parallel(n_jobs=1)]: Done  23 out of  23 | elapsed:    1.5s finished\n",
      "[Parallel(n_jobs=1)]: Using backend SequentialBackend with 1 concurrent workers.\n"
     ]
    },
    {
     "name": "stdout",
     "output_type": "stream",
     "text": [
      "building tree 1 of 23\n"
     ]
    },
    {
     "name": "stderr",
     "output_type": "stream",
     "text": [
      "[Parallel(n_jobs=1)]: Done   1 out of   1 | elapsed:   29.4s remaining:    0.0s\n"
     ]
    },
    {
     "name": "stdout",
     "output_type": "stream",
     "text": [
      "building tree 2 of 23\n",
      "building tree 3 of 23\n",
      "building tree 4 of 23\n",
      "building tree 5 of 23\n",
      "building tree 6 of 23\n",
      "building tree 7 of 23\n",
      "building tree 8 of 23\n",
      "building tree 9 of 23\n",
      "building tree 10 of 23\n",
      "building tree 11 of 23\n",
      "building tree 12 of 23\n",
      "building tree 13 of 23\n",
      "building tree 14 of 23\n",
      "building tree 15 of 23\n",
      "building tree 16 of 23\n",
      "building tree 17 of 23\n",
      "building tree 18 of 23\n",
      "building tree 19 of 23\n",
      "building tree 20 of 23\n",
      "building tree 21 of 23\n",
      "building tree 22 of 23\n",
      "building tree 23 of 23\n"
     ]
    },
    {
     "name": "stderr",
     "output_type": "stream",
     "text": [
      "[Parallel(n_jobs=1)]: Done  23 out of  23 | elapsed: 11.5min finished\n",
      "[Parallel(n_jobs=1)]: Using backend SequentialBackend with 1 concurrent workers.\n",
      "[Parallel(n_jobs=1)]: Done   1 out of   1 | elapsed:    0.0s remaining:    0.0s\n",
      "[Parallel(n_jobs=1)]: Done  23 out of  23 | elapsed:    1.5s finished\n",
      "[Parallel(n_jobs=1)]: Using backend SequentialBackend with 1 concurrent workers.\n"
     ]
    },
    {
     "name": "stdout",
     "output_type": "stream",
     "text": [
      "building tree 1 of 23\n"
     ]
    },
    {
     "name": "stderr",
     "output_type": "stream",
     "text": [
      "[Parallel(n_jobs=1)]: Done   1 out of   1 | elapsed:   31.1s remaining:    0.0s\n"
     ]
    },
    {
     "name": "stdout",
     "output_type": "stream",
     "text": [
      "building tree 2 of 23\n",
      "building tree 3 of 23\n",
      "building tree 4 of 23\n",
      "building tree 5 of 23\n",
      "building tree 6 of 23\n",
      "building tree 7 of 23\n",
      "building tree 8 of 23\n",
      "building tree 9 of 23\n",
      "building tree 10 of 23\n",
      "building tree 11 of 23\n",
      "building tree 12 of 23\n",
      "building tree 13 of 23\n",
      "building tree 14 of 23\n",
      "building tree 15 of 23\n",
      "building tree 16 of 23\n",
      "building tree 17 of 23\n",
      "building tree 18 of 23\n",
      "building tree 19 of 23\n",
      "building tree 20 of 23\n",
      "building tree 21 of 23\n",
      "building tree 22 of 23\n",
      "building tree 23 of 23\n"
     ]
    },
    {
     "name": "stderr",
     "output_type": "stream",
     "text": [
      "[Parallel(n_jobs=1)]: Done  23 out of  23 | elapsed: 11.1min finished\n",
      "[Parallel(n_jobs=1)]: Using backend SequentialBackend with 1 concurrent workers.\n",
      "[Parallel(n_jobs=1)]: Done   1 out of   1 | elapsed:    0.0s remaining:    0.0s\n",
      "[Parallel(n_jobs=1)]: Done  23 out of  23 | elapsed:    1.4s finished\n",
      "[Parallel(n_jobs=1)]: Using backend SequentialBackend with 1 concurrent workers.\n"
     ]
    },
    {
     "name": "stdout",
     "output_type": "stream",
     "text": [
      "building tree 1 of 23\n"
     ]
    },
    {
     "name": "stderr",
     "output_type": "stream",
     "text": [
      "[Parallel(n_jobs=1)]: Done   1 out of   1 | elapsed:   28.4s remaining:    0.0s\n"
     ]
    },
    {
     "name": "stdout",
     "output_type": "stream",
     "text": [
      "building tree 2 of 23\n",
      "building tree 3 of 23\n",
      "building tree 4 of 23\n",
      "building tree 5 of 23\n",
      "building tree 6 of 23\n",
      "building tree 7 of 23\n",
      "building tree 8 of 23\n",
      "building tree 9 of 23\n",
      "building tree 10 of 23\n",
      "building tree 11 of 23\n",
      "building tree 12 of 23\n",
      "building tree 13 of 23\n",
      "building tree 14 of 23\n",
      "building tree 15 of 23\n",
      "building tree 16 of 23\n",
      "building tree 17 of 23\n",
      "building tree 18 of 23\n",
      "building tree 19 of 23\n",
      "building tree 20 of 23\n",
      "building tree 21 of 23\n",
      "building tree 22 of 23\n",
      "building tree 23 of 23\n"
     ]
    },
    {
     "name": "stderr",
     "output_type": "stream",
     "text": [
      "[Parallel(n_jobs=1)]: Done  23 out of  23 | elapsed: 10.9min finished\n",
      "[Parallel(n_jobs=1)]: Using backend SequentialBackend with 1 concurrent workers.\n",
      "[Parallel(n_jobs=1)]: Done   1 out of   1 | elapsed:    0.0s remaining:    0.0s\n",
      "[Parallel(n_jobs=1)]: Done  23 out of  23 | elapsed:    1.4s finished\n",
      "[Parallel(n_jobs=1)]: Using backend SequentialBackend with 1 concurrent workers.\n"
     ]
    },
    {
     "name": "stdout",
     "output_type": "stream",
     "text": [
      "building tree 1 of 23\n"
     ]
    },
    {
     "name": "stderr",
     "output_type": "stream",
     "text": [
      "[Parallel(n_jobs=1)]: Done   1 out of   1 | elapsed:   28.9s remaining:    0.0s\n"
     ]
    },
    {
     "name": "stdout",
     "output_type": "stream",
     "text": [
      "building tree 2 of 23\n",
      "building tree 3 of 23\n",
      "building tree 4 of 23\n",
      "building tree 5 of 23\n",
      "building tree 6 of 23\n",
      "building tree 7 of 23\n",
      "building tree 8 of 23\n",
      "building tree 9 of 23\n",
      "building tree 10 of 23\n",
      "building tree 11 of 23\n",
      "building tree 12 of 23\n",
      "building tree 13 of 23\n",
      "building tree 14 of 23\n",
      "building tree 15 of 23\n",
      "building tree 16 of 23\n",
      "building tree 17 of 23\n",
      "building tree 18 of 23\n",
      "building tree 19 of 23\n",
      "building tree 20 of 23\n",
      "building tree 21 of 23\n",
      "building tree 22 of 23\n",
      "building tree 23 of 23\n"
     ]
    },
    {
     "name": "stderr",
     "output_type": "stream",
     "text": [
      "[Parallel(n_jobs=1)]: Done  23 out of  23 | elapsed: 10.9min finished\n",
      "[Parallel(n_jobs=1)]: Using backend SequentialBackend with 1 concurrent workers.\n",
      "[Parallel(n_jobs=1)]: Done   1 out of   1 | elapsed:    0.0s remaining:    0.0s\n",
      "[Parallel(n_jobs=1)]: Done  23 out of  23 | elapsed:    1.4s finished\n",
      "[Parallel(n_jobs=1)]: Using backend SequentialBackend with 1 concurrent workers.\n"
     ]
    },
    {
     "name": "stdout",
     "output_type": "stream",
     "text": [
      "building tree 1 of 23\n"
     ]
    },
    {
     "name": "stderr",
     "output_type": "stream",
     "text": [
      "[Parallel(n_jobs=1)]: Done   1 out of   1 | elapsed:   28.7s remaining:    0.0s\n"
     ]
    },
    {
     "name": "stdout",
     "output_type": "stream",
     "text": [
      "building tree 2 of 23\n",
      "building tree 3 of 23\n",
      "building tree 4 of 23\n",
      "building tree 5 of 23\n",
      "building tree 6 of 23\n",
      "building tree 7 of 23\n",
      "building tree 8 of 23\n",
      "building tree 9 of 23\n",
      "building tree 10 of 23\n",
      "building tree 11 of 23\n",
      "building tree 12 of 23\n",
      "building tree 13 of 23\n",
      "building tree 14 of 23\n",
      "building tree 15 of 23\n",
      "building tree 16 of 23\n",
      "building tree 17 of 23\n",
      "building tree 18 of 23\n",
      "building tree 19 of 23\n",
      "building tree 20 of 23\n",
      "building tree 21 of 23\n",
      "building tree 22 of 23\n",
      "building tree 23 of 23\n"
     ]
    },
    {
     "name": "stderr",
     "output_type": "stream",
     "text": [
      "[Parallel(n_jobs=1)]: Done  23 out of  23 | elapsed: 10.9min finished\n",
      "[Parallel(n_jobs=1)]: Using backend SequentialBackend with 1 concurrent workers.\n",
      "[Parallel(n_jobs=1)]: Done   1 out of   1 | elapsed:    0.0s remaining:    0.0s\n",
      "[Parallel(n_jobs=1)]: Done  23 out of  23 | elapsed:    1.4s finished\n",
      "[Parallel(n_jobs=1)]: Using backend SequentialBackend with 1 concurrent workers.\n"
     ]
    },
    {
     "name": "stdout",
     "output_type": "stream",
     "text": [
      "building tree 1 of 23\n"
     ]
    },
    {
     "name": "stderr",
     "output_type": "stream",
     "text": [
      "[Parallel(n_jobs=1)]: Done   1 out of   1 | elapsed:   28.5s remaining:    0.0s\n"
     ]
    },
    {
     "name": "stdout",
     "output_type": "stream",
     "text": [
      "building tree 2 of 23\n",
      "building tree 3 of 23\n",
      "building tree 4 of 23\n",
      "building tree 5 of 23\n",
      "building tree 6 of 23\n",
      "building tree 7 of 23\n",
      "building tree 8 of 23\n",
      "building tree 9 of 23\n",
      "building tree 10 of 23\n",
      "building tree 11 of 23\n",
      "building tree 12 of 23\n",
      "building tree 13 of 23\n",
      "building tree 14 of 23\n",
      "building tree 15 of 23\n",
      "building tree 16 of 23\n",
      "building tree 17 of 23\n",
      "building tree 18 of 23\n",
      "building tree 19 of 23\n",
      "building tree 20 of 23\n",
      "building tree 21 of 23\n",
      "building tree 22 of 23\n",
      "building tree 23 of 23\n"
     ]
    },
    {
     "name": "stderr",
     "output_type": "stream",
     "text": [
      "[Parallel(n_jobs=1)]: Done  23 out of  23 | elapsed: 10.9min finished\n",
      "[Parallel(n_jobs=1)]: Using backend SequentialBackend with 1 concurrent workers.\n",
      "[Parallel(n_jobs=1)]: Done   1 out of   1 | elapsed:    0.0s remaining:    0.0s\n",
      "[Parallel(n_jobs=1)]: Done  23 out of  23 | elapsed:    1.5s finished\n",
      "[Parallel(n_jobs=1)]: Using backend SequentialBackend with 1 concurrent workers.\n"
     ]
    },
    {
     "name": "stdout",
     "output_type": "stream",
     "text": [
      "building tree 1 of 23\n"
     ]
    },
    {
     "name": "stderr",
     "output_type": "stream",
     "text": [
      "[Parallel(n_jobs=1)]: Done   1 out of   1 | elapsed:   28.4s remaining:    0.0s\n"
     ]
    },
    {
     "name": "stdout",
     "output_type": "stream",
     "text": [
      "building tree 2 of 23\n",
      "building tree 3 of 23\n",
      "building tree 4 of 23\n",
      "building tree 5 of 23\n",
      "building tree 6 of 23\n",
      "building tree 7 of 23\n",
      "building tree 8 of 23\n",
      "building tree 9 of 23\n",
      "building tree 10 of 23\n",
      "building tree 11 of 23\n",
      "building tree 12 of 23\n",
      "building tree 13 of 23\n",
      "building tree 14 of 23\n",
      "building tree 15 of 23\n",
      "building tree 16 of 23\n",
      "building tree 17 of 23\n",
      "building tree 18 of 23\n",
      "building tree 19 of 23\n",
      "building tree 20 of 23\n",
      "building tree 21 of 23\n",
      "building tree 22 of 23\n",
      "building tree 23 of 23\n"
     ]
    },
    {
     "name": "stderr",
     "output_type": "stream",
     "text": [
      "[Parallel(n_jobs=1)]: Done  23 out of  23 | elapsed: 10.9min finished\n",
      "[Parallel(n_jobs=1)]: Using backend SequentialBackend with 1 concurrent workers.\n",
      "[Parallel(n_jobs=1)]: Done   1 out of   1 | elapsed:    0.0s remaining:    0.0s\n",
      "[Parallel(n_jobs=1)]: Done  23 out of  23 | elapsed:    1.4s finished\n",
      "[Parallel(n_jobs=1)]: Using backend SequentialBackend with 1 concurrent workers.\n"
     ]
    },
    {
     "name": "stdout",
     "output_type": "stream",
     "text": [
      "building tree 1 of 23\n"
     ]
    },
    {
     "name": "stderr",
     "output_type": "stream",
     "text": [
      "[Parallel(n_jobs=1)]: Done   1 out of   1 | elapsed:   28.1s remaining:    0.0s\n"
     ]
    },
    {
     "name": "stdout",
     "output_type": "stream",
     "text": [
      "building tree 2 of 23\n",
      "building tree 3 of 23\n",
      "building tree 4 of 23\n",
      "building tree 5 of 23\n",
      "building tree 6 of 23\n",
      "building tree 7 of 23\n",
      "building tree 8 of 23\n",
      "building tree 9 of 23\n",
      "building tree 10 of 23\n",
      "building tree 11 of 23\n",
      "building tree 12 of 23\n",
      "building tree 13 of 23\n",
      "building tree 14 of 23\n",
      "building tree 15 of 23\n",
      "building tree 16 of 23\n",
      "building tree 17 of 23\n",
      "building tree 18 of 23\n",
      "building tree 19 of 23\n",
      "building tree 20 of 23\n",
      "building tree 21 of 23\n",
      "building tree 22 of 23\n",
      "building tree 23 of 23\n"
     ]
    },
    {
     "name": "stderr",
     "output_type": "stream",
     "text": [
      "[Parallel(n_jobs=1)]: Done  23 out of  23 | elapsed: 10.9min finished\n",
      "[Parallel(n_jobs=1)]: Using backend SequentialBackend with 1 concurrent workers.\n",
      "[Parallel(n_jobs=1)]: Done   1 out of   1 | elapsed:    0.0s remaining:    0.0s\n",
      "[Parallel(n_jobs=1)]: Done  23 out of  23 | elapsed:    1.4s finished\n",
      "[Parallel(n_jobs=1)]: Using backend SequentialBackend with 1 concurrent workers.\n"
     ]
    },
    {
     "name": "stdout",
     "output_type": "stream",
     "text": [
      "building tree 1 of 23\n"
     ]
    },
    {
     "name": "stderr",
     "output_type": "stream",
     "text": [
      "[Parallel(n_jobs=1)]: Done   1 out of   1 | elapsed:   28.8s remaining:    0.0s\n"
     ]
    },
    {
     "name": "stdout",
     "output_type": "stream",
     "text": [
      "building tree 2 of 23\n",
      "building tree 3 of 23\n",
      "building tree 4 of 23\n",
      "building tree 5 of 23\n",
      "building tree 6 of 23\n",
      "building tree 7 of 23\n",
      "building tree 8 of 23\n",
      "building tree 9 of 23\n",
      "building tree 10 of 23\n",
      "building tree 11 of 23\n",
      "building tree 12 of 23\n",
      "building tree 13 of 23\n",
      "building tree 14 of 23\n",
      "building tree 15 of 23\n",
      "building tree 16 of 23\n",
      "building tree 17 of 23\n",
      "building tree 18 of 23\n",
      "building tree 19 of 23\n",
      "building tree 20 of 23\n",
      "building tree 21 of 23\n",
      "building tree 22 of 23\n",
      "building tree 23 of 23\n"
     ]
    },
    {
     "name": "stderr",
     "output_type": "stream",
     "text": [
      "[Parallel(n_jobs=1)]: Done  23 out of  23 | elapsed: 11.0min finished\n",
      "[Parallel(n_jobs=1)]: Using backend SequentialBackend with 1 concurrent workers.\n",
      "[Parallel(n_jobs=1)]: Done   1 out of   1 | elapsed:    0.0s remaining:    0.0s\n",
      "[Parallel(n_jobs=1)]: Done  23 out of  23 | elapsed:    1.4s finished\n",
      "[Parallel(n_jobs=1)]: Using backend SequentialBackend with 1 concurrent workers.\n"
     ]
    },
    {
     "name": "stdout",
     "output_type": "stream",
     "text": [
      "building tree 1 of 23\n"
     ]
    },
    {
     "name": "stderr",
     "output_type": "stream",
     "text": [
      "[Parallel(n_jobs=1)]: Done   1 out of   1 | elapsed:   22.1s remaining:    0.0s\n"
     ]
    },
    {
     "name": "stdout",
     "output_type": "stream",
     "text": [
      "building tree 2 of 23\n",
      "building tree 3 of 23\n",
      "building tree 4 of 23\n",
      "building tree 5 of 23\n",
      "building tree 6 of 23\n",
      "building tree 7 of 23\n",
      "building tree 8 of 23\n",
      "building tree 9 of 23\n",
      "building tree 10 of 23\n",
      "building tree 11 of 23\n",
      "building tree 12 of 23\n",
      "building tree 13 of 23\n",
      "building tree 14 of 23\n",
      "building tree 15 of 23\n",
      "building tree 16 of 23\n",
      "building tree 17 of 23\n",
      "building tree 18 of 23\n",
      "building tree 19 of 23\n",
      "building tree 20 of 23\n",
      "building tree 21 of 23\n",
      "building tree 22 of 23\n",
      "building tree 23 of 23\n"
     ]
    },
    {
     "name": "stderr",
     "output_type": "stream",
     "text": [
      "[Parallel(n_jobs=1)]: Done  23 out of  23 | elapsed:  8.5min finished\n",
      "[Parallel(n_jobs=1)]: Using backend SequentialBackend with 1 concurrent workers.\n",
      "[Parallel(n_jobs=1)]: Done   1 out of   1 | elapsed:    0.1s remaining:    0.0s\n",
      "[Parallel(n_jobs=1)]: Done  23 out of  23 | elapsed:    3.5s finished\n",
      "[Parallel(n_jobs=1)]: Using backend SequentialBackend with 1 concurrent workers.\n"
     ]
    },
    {
     "name": "stdout",
     "output_type": "stream",
     "text": [
      "building tree 1 of 23\n"
     ]
    },
    {
     "name": "stderr",
     "output_type": "stream",
     "text": [
      "[Parallel(n_jobs=1)]: Done   1 out of   1 | elapsed:   21.8s remaining:    0.0s\n"
     ]
    },
    {
     "name": "stdout",
     "output_type": "stream",
     "text": [
      "building tree 2 of 23\n",
      "building tree 3 of 23\n",
      "building tree 4 of 23\n",
      "building tree 5 of 23\n",
      "building tree 6 of 23\n",
      "building tree 7 of 23\n",
      "building tree 8 of 23\n",
      "building tree 9 of 23\n",
      "building tree 10 of 23\n",
      "building tree 11 of 23\n",
      "building tree 12 of 23\n",
      "building tree 13 of 23\n",
      "building tree 14 of 23\n",
      "building tree 15 of 23\n",
      "building tree 16 of 23\n",
      "building tree 17 of 23\n",
      "building tree 18 of 23\n",
      "building tree 19 of 23\n",
      "building tree 20 of 23\n",
      "building tree 21 of 23\n",
      "building tree 22 of 23\n",
      "building tree 23 of 23\n"
     ]
    },
    {
     "name": "stderr",
     "output_type": "stream",
     "text": [
      "[Parallel(n_jobs=1)]: Done  23 out of  23 | elapsed:  8.5min finished\n",
      "[Parallel(n_jobs=1)]: Using backend SequentialBackend with 1 concurrent workers.\n",
      "[Parallel(n_jobs=1)]: Done   1 out of   1 | elapsed:    0.1s remaining:    0.0s\n",
      "[Parallel(n_jobs=1)]: Done  23 out of  23 | elapsed:    3.5s finished\n",
      "[Parallel(n_jobs=1)]: Using backend SequentialBackend with 1 concurrent workers.\n"
     ]
    },
    {
     "name": "stdout",
     "output_type": "stream",
     "text": [
      "building tree 1 of 23\n"
     ]
    },
    {
     "name": "stderr",
     "output_type": "stream",
     "text": [
      "[Parallel(n_jobs=1)]: Done   1 out of   1 | elapsed:   22.5s remaining:    0.0s\n"
     ]
    },
    {
     "name": "stdout",
     "output_type": "stream",
     "text": [
      "building tree 2 of 23\n",
      "building tree 3 of 23\n",
      "building tree 4 of 23\n",
      "building tree 5 of 23\n",
      "building tree 6 of 23\n",
      "building tree 7 of 23\n",
      "building tree 8 of 23\n",
      "building tree 9 of 23\n",
      "building tree 10 of 23\n",
      "building tree 11 of 23\n",
      "building tree 12 of 23\n",
      "building tree 13 of 23\n",
      "building tree 14 of 23\n",
      "building tree 15 of 23\n",
      "building tree 16 of 23\n",
      "building tree 17 of 23\n",
      "building tree 18 of 23\n",
      "building tree 19 of 23\n",
      "building tree 20 of 23\n",
      "building tree 21 of 23\n",
      "building tree 22 of 23\n",
      "building tree 23 of 23\n"
     ]
    },
    {
     "name": "stderr",
     "output_type": "stream",
     "text": [
      "[Parallel(n_jobs=1)]: Done  23 out of  23 | elapsed:  8.5min finished\n",
      "[Parallel(n_jobs=1)]: Using backend SequentialBackend with 1 concurrent workers.\n",
      "[Parallel(n_jobs=1)]: Done   1 out of   1 | elapsed:    0.1s remaining:    0.0s\n",
      "[Parallel(n_jobs=1)]: Done  23 out of  23 | elapsed:    3.5s finished\n",
      "[Parallel(n_jobs=1)]: Using backend SequentialBackend with 1 concurrent workers.\n"
     ]
    },
    {
     "name": "stdout",
     "output_type": "stream",
     "text": [
      "building tree 1 of 23\n"
     ]
    },
    {
     "name": "stderr",
     "output_type": "stream",
     "text": [
      "[Parallel(n_jobs=1)]: Done   1 out of   1 | elapsed:   22.1s remaining:    0.0s\n"
     ]
    },
    {
     "name": "stdout",
     "output_type": "stream",
     "text": [
      "building tree 2 of 23\n",
      "building tree 3 of 23\n",
      "building tree 4 of 23\n",
      "building tree 5 of 23\n",
      "building tree 6 of 23\n",
      "building tree 7 of 23\n",
      "building tree 8 of 23\n",
      "building tree 9 of 23\n",
      "building tree 10 of 23\n",
      "building tree 11 of 23\n",
      "building tree 12 of 23\n",
      "building tree 13 of 23\n",
      "building tree 14 of 23\n",
      "building tree 15 of 23\n",
      "building tree 16 of 23\n",
      "building tree 17 of 23\n",
      "building tree 18 of 23\n",
      "building tree 19 of 23\n",
      "building tree 20 of 23\n",
      "building tree 21 of 23\n",
      "building tree 22 of 23\n",
      "building tree 23 of 23\n"
     ]
    },
    {
     "name": "stderr",
     "output_type": "stream",
     "text": [
      "[Parallel(n_jobs=1)]: Done  23 out of  23 | elapsed:  8.5min finished\n",
      "[Parallel(n_jobs=1)]: Using backend SequentialBackend with 1 concurrent workers.\n",
      "[Parallel(n_jobs=1)]: Done   1 out of   1 | elapsed:    0.1s remaining:    0.0s\n",
      "[Parallel(n_jobs=1)]: Done  23 out of  23 | elapsed:    3.5s finished\n",
      "[Parallel(n_jobs=1)]: Using backend SequentialBackend with 1 concurrent workers.\n"
     ]
    },
    {
     "name": "stdout",
     "output_type": "stream",
     "text": [
      "building tree 1 of 23\n"
     ]
    },
    {
     "name": "stderr",
     "output_type": "stream",
     "text": [
      "[Parallel(n_jobs=1)]: Done   1 out of   1 | elapsed:   23.0s remaining:    0.0s\n"
     ]
    },
    {
     "name": "stdout",
     "output_type": "stream",
     "text": [
      "building tree 2 of 23\n",
      "building tree 3 of 23\n",
      "building tree 4 of 23\n",
      "building tree 5 of 23\n",
      "building tree 6 of 23\n",
      "building tree 7 of 23\n",
      "building tree 8 of 23\n",
      "building tree 9 of 23\n",
      "building tree 10 of 23\n",
      "building tree 11 of 23\n",
      "building tree 12 of 23\n",
      "building tree 13 of 23\n",
      "building tree 14 of 23\n",
      "building tree 15 of 23\n",
      "building tree 16 of 23\n",
      "building tree 17 of 23\n",
      "building tree 18 of 23\n",
      "building tree 19 of 23\n",
      "building tree 20 of 23\n",
      "building tree 21 of 23\n",
      "building tree 22 of 23\n",
      "building tree 23 of 23\n"
     ]
    },
    {
     "name": "stderr",
     "output_type": "stream",
     "text": [
      "[Parallel(n_jobs=1)]: Done  23 out of  23 | elapsed:  8.5min finished\n",
      "[Parallel(n_jobs=1)]: Using backend SequentialBackend with 1 concurrent workers.\n",
      "[Parallel(n_jobs=1)]: Done   1 out of   1 | elapsed:    0.1s remaining:    0.0s\n",
      "[Parallel(n_jobs=1)]: Done  23 out of  23 | elapsed:    3.5s finished\n",
      "[Parallel(n_jobs=1)]: Using backend SequentialBackend with 1 concurrent workers.\n"
     ]
    },
    {
     "name": "stdout",
     "output_type": "stream",
     "text": [
      "building tree 1 of 23\n"
     ]
    },
    {
     "name": "stderr",
     "output_type": "stream",
     "text": [
      "[Parallel(n_jobs=1)]: Done   1 out of   1 | elapsed: 24.7min remaining:    0.0s\n"
     ]
    },
    {
     "name": "stdout",
     "output_type": "stream",
     "text": [
      "building tree 2 of 23\n",
      "building tree 3 of 23\n",
      "building tree 4 of 23\n",
      "building tree 5 of 23\n",
      "building tree 6 of 23\n",
      "building tree 7 of 23\n",
      "building tree 8 of 23\n",
      "building tree 9 of 23\n",
      "building tree 10 of 23\n",
      "building tree 11 of 23\n",
      "building tree 12 of 23\n",
      "building tree 13 of 23\n",
      "building tree 14 of 23\n",
      "building tree 15 of 23\n",
      "building tree 16 of 23\n",
      "building tree 17 of 23\n",
      "building tree 18 of 23\n",
      "building tree 19 of 23\n",
      "building tree 20 of 23\n",
      "building tree 21 of 23\n",
      "building tree 22 of 23\n",
      "building tree 23 of 23\n"
     ]
    },
    {
     "name": "stderr",
     "output_type": "stream",
     "text": [
      "[Parallel(n_jobs=1)]: Done  23 out of  23 | elapsed: 580.0min finished\n",
      "[Parallel(n_jobs=1)]: Using backend SequentialBackend with 1 concurrent workers.\n",
      "[Parallel(n_jobs=1)]: Done   1 out of   1 | elapsed:    0.0s remaining:    0.0s\n",
      "[Parallel(n_jobs=1)]: Done  23 out of  23 | elapsed:    1.7s finished\n",
      "[Parallel(n_jobs=1)]: Using backend SequentialBackend with 1 concurrent workers.\n"
     ]
    },
    {
     "name": "stdout",
     "output_type": "stream",
     "text": [
      "building tree 1 of 23\n"
     ]
    },
    {
     "name": "stderr",
     "output_type": "stream",
     "text": [
      "[Parallel(n_jobs=1)]: Done   1 out of   1 | elapsed: 24.2min remaining:    0.0s\n"
     ]
    },
    {
     "name": "stdout",
     "output_type": "stream",
     "text": [
      "building tree 2 of 23\n",
      "building tree 3 of 23\n",
      "building tree 4 of 23\n",
      "building tree 5 of 23\n",
      "building tree 6 of 23\n",
      "building tree 7 of 23\n",
      "building tree 8 of 23\n",
      "building tree 9 of 23\n",
      "building tree 10 of 23\n",
      "building tree 11 of 23\n",
      "building tree 12 of 23\n",
      "building tree 13 of 23\n",
      "building tree 14 of 23\n",
      "building tree 15 of 23\n",
      "building tree 16 of 23\n",
      "building tree 17 of 23\n",
      "building tree 18 of 23\n",
      "building tree 19 of 23\n",
      "building tree 20 of 23\n",
      "building tree 21 of 23\n",
      "building tree 22 of 23\n",
      "building tree 23 of 23\n"
     ]
    },
    {
     "name": "stderr",
     "output_type": "stream",
     "text": [
      "[Parallel(n_jobs=1)]: Done  23 out of  23 | elapsed: 598.4min finished\n",
      "[Parallel(n_jobs=1)]: Using backend SequentialBackend with 1 concurrent workers.\n",
      "[Parallel(n_jobs=1)]: Done   1 out of   1 | elapsed:    0.0s remaining:    0.0s\n",
      "[Parallel(n_jobs=1)]: Done  23 out of  23 | elapsed:    2.3s finished\n",
      "[Parallel(n_jobs=1)]: Using backend SequentialBackend with 1 concurrent workers.\n"
     ]
    },
    {
     "name": "stdout",
     "output_type": "stream",
     "text": [
      "building tree 1 of 23\n"
     ]
    },
    {
     "name": "stderr",
     "output_type": "stream",
     "text": [
      "[Parallel(n_jobs=1)]: Done   1 out of   1 | elapsed: 27.3min remaining:    0.0s\n"
     ]
    },
    {
     "name": "stdout",
     "output_type": "stream",
     "text": [
      "building tree 2 of 23\n",
      "building tree 3 of 23\n",
      "building tree 4 of 23\n",
      "building tree 5 of 23\n",
      "building tree 6 of 23\n",
      "building tree 7 of 23\n",
      "building tree 8 of 23\n",
      "building tree 9 of 23\n",
      "building tree 10 of 23\n",
      "building tree 11 of 23\n",
      "building tree 12 of 23\n",
      "building tree 13 of 23\n",
      "building tree 14 of 23\n",
      "building tree 15 of 23\n",
      "building tree 16 of 23\n",
      "building tree 17 of 23\n",
      "building tree 18 of 23\n",
      "building tree 19 of 23\n",
      "building tree 20 of 23\n",
      "building tree 21 of 23\n",
      "building tree 22 of 23\n",
      "building tree 23 of 23\n"
     ]
    },
    {
     "name": "stderr",
     "output_type": "stream",
     "text": [
      "[Parallel(n_jobs=1)]: Done  23 out of  23 | elapsed: 558.6min finished\n",
      "[Parallel(n_jobs=1)]: Using backend SequentialBackend with 1 concurrent workers.\n",
      "[Parallel(n_jobs=1)]: Done   1 out of   1 | elapsed:    0.0s remaining:    0.0s\n",
      "[Parallel(n_jobs=1)]: Done  23 out of  23 | elapsed:    1.7s finished\n",
      "[Parallel(n_jobs=1)]: Using backend SequentialBackend with 1 concurrent workers.\n"
     ]
    },
    {
     "name": "stdout",
     "output_type": "stream",
     "text": [
      "building tree 1 of 23\n"
     ]
    },
    {
     "name": "stderr",
     "output_type": "stream",
     "text": [
      "[Parallel(n_jobs=1)]: Done   1 out of   1 | elapsed: 26.4min remaining:    0.0s\n"
     ]
    },
    {
     "name": "stdout",
     "output_type": "stream",
     "text": [
      "building tree 2 of 23\n",
      "building tree 3 of 23\n",
      "building tree 4 of 23\n",
      "building tree 5 of 23\n",
      "building tree 6 of 23\n",
      "building tree 7 of 23\n",
      "building tree 8 of 23\n",
      "building tree 9 of 23\n",
      "building tree 10 of 23\n",
      "building tree 11 of 23\n",
      "building tree 12 of 23\n",
      "building tree 13 of 23\n",
      "building tree 14 of 23\n",
      "building tree 15 of 23\n",
      "building tree 16 of 23\n",
      "building tree 17 of 23\n",
      "building tree 18 of 23\n",
      "building tree 19 of 23\n",
      "building tree 20 of 23\n",
      "building tree 21 of 23\n",
      "building tree 22 of 23\n",
      "building tree 23 of 23\n"
     ]
    },
    {
     "name": "stderr",
     "output_type": "stream",
     "text": [
      "[Parallel(n_jobs=1)]: Done  23 out of  23 | elapsed: 606.5min finished\n",
      "[Parallel(n_jobs=1)]: Using backend SequentialBackend with 1 concurrent workers.\n",
      "[Parallel(n_jobs=1)]: Done   1 out of   1 | elapsed:    0.0s remaining:    0.0s\n",
      "[Parallel(n_jobs=1)]: Done  23 out of  23 | elapsed:    2.0s finished\n",
      "[Parallel(n_jobs=1)]: Using backend SequentialBackend with 1 concurrent workers.\n"
     ]
    },
    {
     "name": "stdout",
     "output_type": "stream",
     "text": [
      "building tree 1 of 23\n"
     ]
    },
    {
     "name": "stderr",
     "output_type": "stream",
     "text": [
      "[Parallel(n_jobs=1)]: Done   1 out of   1 | elapsed: 28.3min remaining:    0.0s\n"
     ]
    },
    {
     "name": "stdout",
     "output_type": "stream",
     "text": [
      "building tree 2 of 23\n",
      "building tree 3 of 23\n",
      "building tree 4 of 23\n",
      "building tree 5 of 23\n",
      "building tree 6 of 23\n",
      "building tree 7 of 23\n",
      "building tree 8 of 23\n",
      "building tree 9 of 23\n",
      "building tree 10 of 23\n",
      "building tree 11 of 23\n",
      "building tree 12 of 23\n",
      "building tree 13 of 23\n",
      "building tree 14 of 23\n",
      "building tree 15 of 23\n",
      "building tree 16 of 23\n",
      "building tree 17 of 23\n",
      "building tree 18 of 23\n",
      "building tree 19 of 23\n",
      "building tree 20 of 23\n",
      "building tree 21 of 23\n",
      "building tree 22 of 23\n",
      "building tree 23 of 23\n"
     ]
    },
    {
     "name": "stderr",
     "output_type": "stream",
     "text": [
      "[Parallel(n_jobs=1)]: Done  23 out of  23 | elapsed: 584.5min finished\n",
      "[Parallel(n_jobs=1)]: Using backend SequentialBackend with 1 concurrent workers.\n",
      "[Parallel(n_jobs=1)]: Done   1 out of   1 | elapsed:    0.0s remaining:    0.0s\n",
      "[Parallel(n_jobs=1)]: Done  23 out of  23 | elapsed:    1.8s finished\n",
      "[Parallel(n_jobs=1)]: Using backend SequentialBackend with 1 concurrent workers.\n",
      "[Parallel(n_jobs=1)]: Done   1 out of   1 | elapsed:    0.0s remaining:    0.0s\n"
     ]
    },
    {
     "name": "stdout",
     "output_type": "stream",
     "text": [
      "building tree 1 of 23\n",
      "building tree 2 of 23\n",
      "building tree 3 of 23\n",
      "building tree 4 of 23\n",
      "building tree 5 of 23\n",
      "building tree 6 of 23\n",
      "building tree 7 of 23\n",
      "building tree 8 of 23\n",
      "building tree 9 of 23\n",
      "building tree 10 of 23\n",
      "building tree 11 of 23\n",
      "building tree 12 of 23\n",
      "building tree 13 of 23\n",
      "building tree 14 of 23\n",
      "building tree 15 of 23\n",
      "building tree 16 of 23\n",
      "building tree 17 of 23\n",
      "building tree 18 of 23\n",
      "building tree 19 of 23\n",
      "building tree 20 of 23\n",
      "building tree 21 of 23\n",
      "building tree 22 of 23\n",
      "building tree 23 of 23\n"
     ]
    },
    {
     "name": "stderr",
     "output_type": "stream",
     "text": [
      "[Parallel(n_jobs=1)]: Done  23 out of  23 | elapsed:    1.3s finished\n",
      "[Parallel(n_jobs=1)]: Using backend SequentialBackend with 1 concurrent workers.\n",
      "[Parallel(n_jobs=1)]: Done   1 out of   1 | elapsed:    0.0s remaining:    0.0s\n",
      "[Parallel(n_jobs=1)]: Done  23 out of  23 | elapsed:    0.3s finished\n",
      "[Parallel(n_jobs=1)]: Using backend SequentialBackend with 1 concurrent workers.\n",
      "[Parallel(n_jobs=1)]: Done   1 out of   1 | elapsed:    0.0s remaining:    0.0s\n"
     ]
    },
    {
     "name": "stdout",
     "output_type": "stream",
     "text": [
      "building tree 1 of 23\n",
      "building tree 2 of 23\n",
      "building tree 3 of 23\n",
      "building tree 4 of 23\n",
      "building tree 5 of 23\n",
      "building tree 6 of 23\n",
      "building tree 7 of 23\n",
      "building tree 8 of 23\n",
      "building tree 9 of 23\n",
      "building tree 10 of 23\n",
      "building tree 11 of 23\n",
      "building tree 12 of 23\n",
      "building tree 13 of 23\n",
      "building tree 14 of 23\n",
      "building tree 15 of 23\n",
      "building tree 16 of 23\n",
      "building tree 17 of 23\n",
      "building tree 18 of 23\n",
      "building tree 19 of 23\n",
      "building tree 20 of 23\n",
      "building tree 21 of 23\n",
      "building tree 22 of 23\n",
      "building tree 23 of 23\n"
     ]
    },
    {
     "name": "stderr",
     "output_type": "stream",
     "text": [
      "[Parallel(n_jobs=1)]: Done  23 out of  23 | elapsed:    1.4s finished\n",
      "[Parallel(n_jobs=1)]: Using backend SequentialBackend with 1 concurrent workers.\n",
      "[Parallel(n_jobs=1)]: Done   1 out of   1 | elapsed:    0.0s remaining:    0.0s\n",
      "[Parallel(n_jobs=1)]: Done  23 out of  23 | elapsed:    0.3s finished\n",
      "[Parallel(n_jobs=1)]: Using backend SequentialBackend with 1 concurrent workers.\n",
      "[Parallel(n_jobs=1)]: Done   1 out of   1 | elapsed:    0.0s remaining:    0.0s\n"
     ]
    },
    {
     "name": "stdout",
     "output_type": "stream",
     "text": [
      "building tree 1 of 23\n",
      "building tree 2 of 23\n",
      "building tree 3 of 23\n",
      "building tree 4 of 23\n",
      "building tree 5 of 23\n",
      "building tree 6 of 23\n",
      "building tree 7 of 23\n",
      "building tree 8 of 23\n",
      "building tree 9 of 23\n",
      "building tree 10 of 23\n",
      "building tree 11 of 23\n",
      "building tree 12 of 23\n",
      "building tree 13 of 23\n",
      "building tree 14 of 23\n",
      "building tree 15 of 23\n",
      "building tree 16 of 23\n",
      "building tree 17 of 23\n",
      "building tree 18 of 23\n",
      "building tree 19 of 23\n",
      "building tree 20 of 23\n",
      "building tree 21 of 23\n",
      "building tree 22 of 23\n",
      "building tree 23 of 23\n"
     ]
    },
    {
     "name": "stderr",
     "output_type": "stream",
     "text": [
      "[Parallel(n_jobs=1)]: Done  23 out of  23 | elapsed:    1.2s finished\n",
      "[Parallel(n_jobs=1)]: Using backend SequentialBackend with 1 concurrent workers.\n",
      "[Parallel(n_jobs=1)]: Done   1 out of   1 | elapsed:    0.0s remaining:    0.0s\n",
      "[Parallel(n_jobs=1)]: Done  23 out of  23 | elapsed:    0.3s finished\n",
      "[Parallel(n_jobs=1)]: Using backend SequentialBackend with 1 concurrent workers.\n",
      "[Parallel(n_jobs=1)]: Done   1 out of   1 | elapsed:    0.0s remaining:    0.0s\n"
     ]
    },
    {
     "name": "stdout",
     "output_type": "stream",
     "text": [
      "building tree 1 of 23\n",
      "building tree 2 of 23\n",
      "building tree 3 of 23\n",
      "building tree 4 of 23\n",
      "building tree 5 of 23\n",
      "building tree 6 of 23\n",
      "building tree 7 of 23\n",
      "building tree 8 of 23\n",
      "building tree 9 of 23\n",
      "building tree 10 of 23\n",
      "building tree 11 of 23\n",
      "building tree 12 of 23\n",
      "building tree 13 of 23\n",
      "building tree 14 of 23\n",
      "building tree 15 of 23\n",
      "building tree 16 of 23\n",
      "building tree 17 of 23\n",
      "building tree 18 of 23\n",
      "building tree 19 of 23\n",
      "building tree 20 of 23\n",
      "building tree 21 of 23\n",
      "building tree 22 of 23\n",
      "building tree 23 of 23\n"
     ]
    },
    {
     "name": "stderr",
     "output_type": "stream",
     "text": [
      "[Parallel(n_jobs=1)]: Done  23 out of  23 | elapsed:    1.4s finished\n",
      "[Parallel(n_jobs=1)]: Using backend SequentialBackend with 1 concurrent workers.\n",
      "[Parallel(n_jobs=1)]: Done   1 out of   1 | elapsed:    0.0s remaining:    0.0s\n",
      "[Parallel(n_jobs=1)]: Done  23 out of  23 | elapsed:    0.3s finished\n",
      "[Parallel(n_jobs=1)]: Using backend SequentialBackend with 1 concurrent workers.\n",
      "[Parallel(n_jobs=1)]: Done   1 out of   1 | elapsed:    0.0s remaining:    0.0s\n"
     ]
    },
    {
     "name": "stdout",
     "output_type": "stream",
     "text": [
      "building tree 1 of 23\n",
      "building tree 2 of 23\n",
      "building tree 3 of 23\n",
      "building tree 4 of 23\n",
      "building tree 5 of 23\n",
      "building tree 6 of 23\n",
      "building tree 7 of 23\n",
      "building tree 8 of 23\n",
      "building tree 9 of 23\n",
      "building tree 10 of 23\n",
      "building tree 11 of 23\n",
      "building tree 12 of 23\n",
      "building tree 13 of 23\n",
      "building tree 14 of 23\n",
      "building tree 15 of 23\n",
      "building tree 16 of 23\n",
      "building tree 17 of 23\n",
      "building tree 18 of 23\n",
      "building tree 19 of 23\n",
      "building tree 20 of 23\n",
      "building tree 21 of 23\n",
      "building tree 22 of 23\n",
      "building tree 23 of 23\n"
     ]
    },
    {
     "name": "stderr",
     "output_type": "stream",
     "text": [
      "[Parallel(n_jobs=1)]: Done  23 out of  23 | elapsed:    1.2s finished\n",
      "[Parallel(n_jobs=1)]: Using backend SequentialBackend with 1 concurrent workers.\n",
      "[Parallel(n_jobs=1)]: Done   1 out of   1 | elapsed:    0.0s remaining:    0.0s\n",
      "[Parallel(n_jobs=1)]: Done  23 out of  23 | elapsed:    0.3s finished\n",
      "[Parallel(n_jobs=1)]: Using backend SequentialBackend with 1 concurrent workers.\n",
      "[Parallel(n_jobs=1)]: Done   1 out of   1 | elapsed:    0.0s remaining:    0.0s\n"
     ]
    },
    {
     "name": "stdout",
     "output_type": "stream",
     "text": [
      "building tree 1 of 23\n",
      "building tree 2 of 23\n",
      "building tree 3 of 23\n",
      "building tree 4 of 23\n",
      "building tree 5 of 23\n",
      "building tree 6 of 23\n",
      "building tree 7 of 23\n",
      "building tree 8 of 23\n",
      "building tree 9 of 23\n",
      "building tree 10 of 23\n",
      "building tree 11 of 23\n",
      "building tree 12 of 23\n",
      "building tree 13 of 23\n",
      "building tree 14 of 23\n",
      "building tree 15 of 23\n",
      "building tree 16 of 23\n",
      "building tree 17 of 23\n",
      "building tree 18 of 23\n",
      "building tree 19 of 23\n",
      "building tree 20 of 23\n",
      "building tree 21 of 23\n",
      "building tree 22 of 23\n",
      "building tree 23 of 23\n"
     ]
    },
    {
     "name": "stderr",
     "output_type": "stream",
     "text": [
      "[Parallel(n_jobs=1)]: Done  23 out of  23 | elapsed:    1.2s finished\n",
      "[Parallel(n_jobs=1)]: Using backend SequentialBackend with 1 concurrent workers.\n",
      "[Parallel(n_jobs=1)]: Done   1 out of   1 | elapsed:    0.0s remaining:    0.0s\n",
      "[Parallel(n_jobs=1)]: Done  23 out of  23 | elapsed:    0.3s finished\n",
      "[Parallel(n_jobs=1)]: Using backend SequentialBackend with 1 concurrent workers.\n",
      "[Parallel(n_jobs=1)]: Done   1 out of   1 | elapsed:    0.0s remaining:    0.0s\n"
     ]
    },
    {
     "name": "stdout",
     "output_type": "stream",
     "text": [
      "building tree 1 of 23\n",
      "building tree 2 of 23\n",
      "building tree 3 of 23\n",
      "building tree 4 of 23\n",
      "building tree 5 of 23\n",
      "building tree 6 of 23\n",
      "building tree 7 of 23\n",
      "building tree 8 of 23\n",
      "building tree 9 of 23\n",
      "building tree 10 of 23\n",
      "building tree 11 of 23\n",
      "building tree 12 of 23\n",
      "building tree 13 of 23\n",
      "building tree 14 of 23\n",
      "building tree 15 of 23\n",
      "building tree 16 of 23\n",
      "building tree 17 of 23\n",
      "building tree 18 of 23\n",
      "building tree 19 of 23\n",
      "building tree 20 of 23\n",
      "building tree 21 of 23\n",
      "building tree 22 of 23\n",
      "building tree 23 of 23\n"
     ]
    },
    {
     "name": "stderr",
     "output_type": "stream",
     "text": [
      "[Parallel(n_jobs=1)]: Done  23 out of  23 | elapsed:    1.2s finished\n",
      "[Parallel(n_jobs=1)]: Using backend SequentialBackend with 1 concurrent workers.\n",
      "[Parallel(n_jobs=1)]: Done   1 out of   1 | elapsed:    0.0s remaining:    0.0s\n",
      "[Parallel(n_jobs=1)]: Done  23 out of  23 | elapsed:    0.3s finished\n",
      "[Parallel(n_jobs=1)]: Using backend SequentialBackend with 1 concurrent workers.\n",
      "[Parallel(n_jobs=1)]: Done   1 out of   1 | elapsed:    0.0s remaining:    0.0s\n"
     ]
    },
    {
     "name": "stdout",
     "output_type": "stream",
     "text": [
      "building tree 1 of 23\n",
      "building tree 2 of 23\n",
      "building tree 3 of 23\n",
      "building tree 4 of 23\n",
      "building tree 5 of 23\n",
      "building tree 6 of 23\n",
      "building tree 7 of 23\n",
      "building tree 8 of 23\n",
      "building tree 9 of 23\n",
      "building tree 10 of 23\n",
      "building tree 11 of 23\n",
      "building tree 12 of 23\n",
      "building tree 13 of 23\n",
      "building tree 14 of 23\n",
      "building tree 15 of 23\n",
      "building tree 16 of 23\n",
      "building tree 17 of 23\n",
      "building tree 18 of 23\n",
      "building tree 19 of 23\n",
      "building tree 20 of 23\n",
      "building tree 21 of 23\n",
      "building tree 22 of 23\n",
      "building tree 23 of 23\n"
     ]
    },
    {
     "name": "stderr",
     "output_type": "stream",
     "text": [
      "[Parallel(n_jobs=1)]: Done  23 out of  23 | elapsed:    1.3s finished\n",
      "[Parallel(n_jobs=1)]: Using backend SequentialBackend with 1 concurrent workers.\n",
      "[Parallel(n_jobs=1)]: Done   1 out of   1 | elapsed:    0.0s remaining:    0.0s\n",
      "[Parallel(n_jobs=1)]: Done  23 out of  23 | elapsed:    0.3s finished\n",
      "[Parallel(n_jobs=1)]: Using backend SequentialBackend with 1 concurrent workers.\n",
      "[Parallel(n_jobs=1)]: Done   1 out of   1 | elapsed:    0.0s remaining:    0.0s\n"
     ]
    },
    {
     "name": "stdout",
     "output_type": "stream",
     "text": [
      "building tree 1 of 23\n",
      "building tree 2 of 23\n",
      "building tree 3 of 23\n",
      "building tree 4 of 23\n",
      "building tree 5 of 23\n",
      "building tree 6 of 23\n",
      "building tree 7 of 23\n",
      "building tree 8 of 23\n",
      "building tree 9 of 23\n",
      "building tree 10 of 23\n",
      "building tree 11 of 23\n",
      "building tree 12 of 23\n",
      "building tree 13 of 23\n",
      "building tree 14 of 23\n",
      "building tree 15 of 23\n",
      "building tree 16 of 23\n",
      "building tree 17 of 23\n",
      "building tree 18 of 23\n",
      "building tree 19 of 23\n",
      "building tree 20 of 23\n",
      "building tree 21 of 23\n",
      "building tree 22 of 23\n",
      "building tree 23 of 23\n"
     ]
    },
    {
     "name": "stderr",
     "output_type": "stream",
     "text": [
      "[Parallel(n_jobs=1)]: Done  23 out of  23 | elapsed:    1.3s finished\n",
      "[Parallel(n_jobs=1)]: Using backend SequentialBackend with 1 concurrent workers.\n",
      "[Parallel(n_jobs=1)]: Done   1 out of   1 | elapsed:    0.0s remaining:    0.0s\n",
      "[Parallel(n_jobs=1)]: Done  23 out of  23 | elapsed:    0.3s finished\n",
      "[Parallel(n_jobs=1)]: Using backend SequentialBackend with 1 concurrent workers.\n",
      "[Parallel(n_jobs=1)]: Done   1 out of   1 | elapsed:    0.0s remaining:    0.0s\n"
     ]
    },
    {
     "name": "stdout",
     "output_type": "stream",
     "text": [
      "building tree 1 of 23\n",
      "building tree 2 of 23\n",
      "building tree 3 of 23\n",
      "building tree 4 of 23\n",
      "building tree 5 of 23\n",
      "building tree 6 of 23\n",
      "building tree 7 of 23\n",
      "building tree 8 of 23\n",
      "building tree 9 of 23\n",
      "building tree 10 of 23\n",
      "building tree 11 of 23\n",
      "building tree 12 of 23\n",
      "building tree 13 of 23\n",
      "building tree 14 of 23\n",
      "building tree 15 of 23\n",
      "building tree 16 of 23\n",
      "building tree 17 of 23\n",
      "building tree 18 of 23\n",
      "building tree 19 of 23\n",
      "building tree 20 of 23\n",
      "building tree 21 of 23\n",
      "building tree 22 of 23\n",
      "building tree 23 of 23\n"
     ]
    },
    {
     "name": "stderr",
     "output_type": "stream",
     "text": [
      "[Parallel(n_jobs=1)]: Done  23 out of  23 | elapsed:    1.2s finished\n",
      "[Parallel(n_jobs=1)]: Using backend SequentialBackend with 1 concurrent workers.\n",
      "[Parallel(n_jobs=1)]: Done   1 out of   1 | elapsed:    0.0s remaining:    0.0s\n",
      "[Parallel(n_jobs=1)]: Done  23 out of  23 | elapsed:    0.3s finished\n",
      "[Parallel(n_jobs=1)]: Using backend SequentialBackend with 1 concurrent workers.\n",
      "[Parallel(n_jobs=1)]: Done   1 out of   1 | elapsed:    0.0s remaining:    0.0s\n"
     ]
    },
    {
     "name": "stdout",
     "output_type": "stream",
     "text": [
      "building tree 1 of 23\n",
      "building tree 2 of 23\n",
      "building tree 3 of 23\n",
      "building tree 4 of 23\n",
      "building tree 5 of 23\n",
      "building tree 6 of 23\n",
      "building tree 7 of 23\n",
      "building tree 8 of 23\n",
      "building tree 9 of 23\n",
      "building tree 10 of 23\n",
      "building tree 11 of 23\n",
      "building tree 12 of 23\n",
      "building tree 13 of 23\n",
      "building tree 14 of 23\n",
      "building tree 15 of 23\n",
      "building tree 16 of 23\n",
      "building tree 17 of 23\n",
      "building tree 18 of 23\n",
      "building tree 19 of 23\n",
      "building tree 20 of 23\n",
      "building tree 21 of 23\n",
      "building tree 22 of 23\n",
      "building tree 23 of 23\n"
     ]
    },
    {
     "name": "stderr",
     "output_type": "stream",
     "text": [
      "[Parallel(n_jobs=1)]: Done  23 out of  23 | elapsed:    1.0s finished\n",
      "[Parallel(n_jobs=1)]: Using backend SequentialBackend with 1 concurrent workers.\n",
      "[Parallel(n_jobs=1)]: Done   1 out of   1 | elapsed:    0.0s remaining:    0.0s\n",
      "[Parallel(n_jobs=1)]: Done  23 out of  23 | elapsed:    0.3s finished\n",
      "[Parallel(n_jobs=1)]: Using backend SequentialBackend with 1 concurrent workers.\n",
      "[Parallel(n_jobs=1)]: Done   1 out of   1 | elapsed:    0.0s remaining:    0.0s\n"
     ]
    },
    {
     "name": "stdout",
     "output_type": "stream",
     "text": [
      "building tree 1 of 23\n",
      "building tree 2 of 23\n",
      "building tree 3 of 23\n",
      "building tree 4 of 23\n",
      "building tree 5 of 23\n",
      "building tree 6 of 23\n",
      "building tree 7 of 23\n",
      "building tree 8 of 23\n",
      "building tree 9 of 23\n",
      "building tree 10 of 23\n",
      "building tree 11 of 23\n",
      "building tree 12 of 23\n",
      "building tree 13 of 23\n",
      "building tree 14 of 23\n",
      "building tree 15 of 23\n",
      "building tree 16 of 23\n",
      "building tree 17 of 23\n",
      "building tree 18 of 23\n",
      "building tree 19 of 23\n",
      "building tree 20 of 23\n",
      "building tree 21 of 23\n",
      "building tree 22 of 23\n",
      "building tree 23 of 23\n"
     ]
    },
    {
     "name": "stderr",
     "output_type": "stream",
     "text": [
      "[Parallel(n_jobs=1)]: Done  23 out of  23 | elapsed:    1.0s finished\n",
      "[Parallel(n_jobs=1)]: Using backend SequentialBackend with 1 concurrent workers.\n",
      "[Parallel(n_jobs=1)]: Done   1 out of   1 | elapsed:    0.0s remaining:    0.0s\n",
      "[Parallel(n_jobs=1)]: Done  23 out of  23 | elapsed:    0.3s finished\n",
      "[Parallel(n_jobs=1)]: Using backend SequentialBackend with 1 concurrent workers.\n",
      "[Parallel(n_jobs=1)]: Done   1 out of   1 | elapsed:    0.0s remaining:    0.0s\n"
     ]
    },
    {
     "name": "stdout",
     "output_type": "stream",
     "text": [
      "building tree 1 of 23\n",
      "building tree 2 of 23\n",
      "building tree 3 of 23\n",
      "building tree 4 of 23\n",
      "building tree 5 of 23\n",
      "building tree 6 of 23\n",
      "building tree 7 of 23\n",
      "building tree 8 of 23\n",
      "building tree 9 of 23\n",
      "building tree 10 of 23\n",
      "building tree 11 of 23\n",
      "building tree 12 of 23\n",
      "building tree 13 of 23\n",
      "building tree 14 of 23\n",
      "building tree 15 of 23\n",
      "building tree 16 of 23\n",
      "building tree 17 of 23\n",
      "building tree 18 of 23\n",
      "building tree 19 of 23\n",
      "building tree 20 of 23\n",
      "building tree 21 of 23\n",
      "building tree 22 of 23\n",
      "building tree 23 of 23\n"
     ]
    },
    {
     "name": "stderr",
     "output_type": "stream",
     "text": [
      "[Parallel(n_jobs=1)]: Done  23 out of  23 | elapsed:    0.9s finished\n",
      "[Parallel(n_jobs=1)]: Using backend SequentialBackend with 1 concurrent workers.\n",
      "[Parallel(n_jobs=1)]: Done   1 out of   1 | elapsed:    0.0s remaining:    0.0s\n",
      "[Parallel(n_jobs=1)]: Done  23 out of  23 | elapsed:    0.3s finished\n",
      "[Parallel(n_jobs=1)]: Using backend SequentialBackend with 1 concurrent workers.\n",
      "[Parallel(n_jobs=1)]: Done   1 out of   1 | elapsed:    0.0s remaining:    0.0s\n"
     ]
    },
    {
     "name": "stdout",
     "output_type": "stream",
     "text": [
      "building tree 1 of 23\n",
      "building tree 2 of 23\n",
      "building tree 3 of 23\n",
      "building tree 4 of 23\n",
      "building tree 5 of 23\n",
      "building tree 6 of 23\n",
      "building tree 7 of 23\n",
      "building tree 8 of 23\n",
      "building tree 9 of 23\n",
      "building tree 10 of 23\n",
      "building tree 11 of 23\n",
      "building tree 12 of 23\n",
      "building tree 13 of 23\n",
      "building tree 14 of 23\n",
      "building tree 15 of 23\n",
      "building tree 16 of 23\n",
      "building tree 17 of 23\n",
      "building tree 18 of 23\n",
      "building tree 19 of 23\n",
      "building tree 20 of 23\n",
      "building tree 21 of 23\n",
      "building tree 22 of 23\n",
      "building tree 23 of 23\n"
     ]
    },
    {
     "name": "stderr",
     "output_type": "stream",
     "text": [
      "[Parallel(n_jobs=1)]: Done  23 out of  23 | elapsed:    0.9s finished\n",
      "[Parallel(n_jobs=1)]: Using backend SequentialBackend with 1 concurrent workers.\n",
      "[Parallel(n_jobs=1)]: Done   1 out of   1 | elapsed:    0.0s remaining:    0.0s\n",
      "[Parallel(n_jobs=1)]: Done  23 out of  23 | elapsed:    0.3s finished\n",
      "[Parallel(n_jobs=1)]: Using backend SequentialBackend with 1 concurrent workers.\n",
      "[Parallel(n_jobs=1)]: Done   1 out of   1 | elapsed:    0.0s remaining:    0.0s\n"
     ]
    },
    {
     "name": "stdout",
     "output_type": "stream",
     "text": [
      "building tree 1 of 23\n",
      "building tree 2 of 23\n",
      "building tree 3 of 23\n",
      "building tree 4 of 23\n",
      "building tree 5 of 23\n",
      "building tree 6 of 23\n",
      "building tree 7 of 23\n",
      "building tree 8 of 23\n",
      "building tree 9 of 23\n",
      "building tree 10 of 23\n",
      "building tree 11 of 23\n",
      "building tree 12 of 23\n",
      "building tree 13 of 23\n",
      "building tree 14 of 23\n",
      "building tree 15 of 23\n",
      "building tree 16 of 23\n",
      "building tree 17 of 23\n",
      "building tree 18 of 23\n",
      "building tree 19 of 23\n",
      "building tree 20 of 23\n",
      "building tree 21 of 23\n",
      "building tree 22 of 23\n",
      "building tree 23 of 23\n"
     ]
    },
    {
     "name": "stderr",
     "output_type": "stream",
     "text": [
      "[Parallel(n_jobs=1)]: Done  23 out of  23 | elapsed:    0.9s finished\n",
      "[Parallel(n_jobs=1)]: Using backend SequentialBackend with 1 concurrent workers.\n",
      "[Parallel(n_jobs=1)]: Done   1 out of   1 | elapsed:    0.0s remaining:    0.0s\n",
      "[Parallel(n_jobs=1)]: Done  23 out of  23 | elapsed:    0.3s finished\n",
      "[Parallel(n_jobs=1)]: Using backend SequentialBackend with 1 concurrent workers.\n"
     ]
    },
    {
     "name": "stdout",
     "output_type": "stream",
     "text": [
      "building tree 1 of 23\n"
     ]
    },
    {
     "name": "stderr",
     "output_type": "stream",
     "text": [
      "[Parallel(n_jobs=1)]: Done   1 out of   1 | elapsed:    3.7s remaining:    0.0s\n"
     ]
    },
    {
     "name": "stdout",
     "output_type": "stream",
     "text": [
      "building tree 2 of 23\n",
      "building tree 3 of 23\n",
      "building tree 4 of 23\n",
      "building tree 5 of 23\n",
      "building tree 6 of 23\n",
      "building tree 7 of 23\n",
      "building tree 8 of 23\n",
      "building tree 9 of 23\n",
      "building tree 10 of 23\n",
      "building tree 11 of 23\n",
      "building tree 12 of 23\n",
      "building tree 13 of 23\n",
      "building tree 14 of 23\n",
      "building tree 15 of 23\n",
      "building tree 16 of 23\n",
      "building tree 17 of 23\n",
      "building tree 18 of 23\n",
      "building tree 19 of 23\n",
      "building tree 20 of 23\n",
      "building tree 21 of 23\n",
      "building tree 22 of 23\n",
      "building tree 23 of 23\n"
     ]
    },
    {
     "name": "stderr",
     "output_type": "stream",
     "text": [
      "[Parallel(n_jobs=1)]: Done  23 out of  23 | elapsed:  1.6min finished\n",
      "[Parallel(n_jobs=1)]: Using backend SequentialBackend with 1 concurrent workers.\n",
      "[Parallel(n_jobs=1)]: Done   1 out of   1 | elapsed:    0.0s remaining:    0.0s\n",
      "[Parallel(n_jobs=1)]: Done  23 out of  23 | elapsed:    0.3s finished\n",
      "[Parallel(n_jobs=1)]: Using backend SequentialBackend with 1 concurrent workers.\n"
     ]
    },
    {
     "name": "stdout",
     "output_type": "stream",
     "text": [
      "building tree 1 of 23\n"
     ]
    },
    {
     "name": "stderr",
     "output_type": "stream",
     "text": [
      "[Parallel(n_jobs=1)]: Done   1 out of   1 | elapsed:    4.1s remaining:    0.0s\n"
     ]
    },
    {
     "name": "stdout",
     "output_type": "stream",
     "text": [
      "building tree 2 of 23\n",
      "building tree 3 of 23\n",
      "building tree 4 of 23\n",
      "building tree 5 of 23\n",
      "building tree 6 of 23\n",
      "building tree 7 of 23\n",
      "building tree 8 of 23\n",
      "building tree 9 of 23\n",
      "building tree 10 of 23\n",
      "building tree 11 of 23\n",
      "building tree 12 of 23\n",
      "building tree 13 of 23\n",
      "building tree 14 of 23\n",
      "building tree 15 of 23\n",
      "building tree 16 of 23\n",
      "building tree 17 of 23\n",
      "building tree 18 of 23\n",
      "building tree 19 of 23\n",
      "building tree 20 of 23\n",
      "building tree 21 of 23\n",
      "building tree 22 of 23\n",
      "building tree 23 of 23\n"
     ]
    },
    {
     "name": "stderr",
     "output_type": "stream",
     "text": [
      "[Parallel(n_jobs=1)]: Done  23 out of  23 | elapsed:  1.5min finished\n",
      "[Parallel(n_jobs=1)]: Using backend SequentialBackend with 1 concurrent workers.\n",
      "[Parallel(n_jobs=1)]: Done   1 out of   1 | elapsed:    0.0s remaining:    0.0s\n",
      "[Parallel(n_jobs=1)]: Done  23 out of  23 | elapsed:    0.3s finished\n",
      "[Parallel(n_jobs=1)]: Using backend SequentialBackend with 1 concurrent workers.\n"
     ]
    },
    {
     "name": "stdout",
     "output_type": "stream",
     "text": [
      "building tree 1 of 23\n"
     ]
    },
    {
     "name": "stderr",
     "output_type": "stream",
     "text": [
      "[Parallel(n_jobs=1)]: Done   1 out of   1 | elapsed:    3.7s remaining:    0.0s\n"
     ]
    },
    {
     "name": "stdout",
     "output_type": "stream",
     "text": [
      "building tree 2 of 23\n",
      "building tree 3 of 23\n",
      "building tree 4 of 23\n",
      "building tree 5 of 23\n",
      "building tree 6 of 23\n",
      "building tree 7 of 23\n",
      "building tree 8 of 23\n",
      "building tree 9 of 23\n",
      "building tree 10 of 23\n",
      "building tree 11 of 23\n",
      "building tree 12 of 23\n",
      "building tree 13 of 23\n",
      "building tree 14 of 23\n",
      "building tree 15 of 23\n",
      "building tree 16 of 23\n",
      "building tree 17 of 23\n",
      "building tree 18 of 23\n",
      "building tree 19 of 23\n",
      "building tree 20 of 23\n",
      "building tree 21 of 23\n",
      "building tree 22 of 23\n",
      "building tree 23 of 23\n"
     ]
    },
    {
     "name": "stderr",
     "output_type": "stream",
     "text": [
      "[Parallel(n_jobs=1)]: Done  23 out of  23 | elapsed:  1.5min finished\n",
      "[Parallel(n_jobs=1)]: Using backend SequentialBackend with 1 concurrent workers.\n",
      "[Parallel(n_jobs=1)]: Done   1 out of   1 | elapsed:    0.0s remaining:    0.0s\n",
      "[Parallel(n_jobs=1)]: Done  23 out of  23 | elapsed:    0.3s finished\n",
      "[Parallel(n_jobs=1)]: Using backend SequentialBackend with 1 concurrent workers.\n"
     ]
    },
    {
     "name": "stdout",
     "output_type": "stream",
     "text": [
      "building tree 1 of 23\n"
     ]
    },
    {
     "name": "stderr",
     "output_type": "stream",
     "text": [
      "[Parallel(n_jobs=1)]: Done   1 out of   1 | elapsed:    3.7s remaining:    0.0s\n"
     ]
    },
    {
     "name": "stdout",
     "output_type": "stream",
     "text": [
      "building tree 2 of 23\n",
      "building tree 3 of 23\n",
      "building tree 4 of 23\n",
      "building tree 5 of 23\n",
      "building tree 6 of 23\n",
      "building tree 7 of 23\n",
      "building tree 8 of 23\n",
      "building tree 9 of 23\n",
      "building tree 10 of 23\n",
      "building tree 11 of 23\n",
      "building tree 12 of 23\n",
      "building tree 13 of 23\n",
      "building tree 14 of 23\n",
      "building tree 15 of 23\n",
      "building tree 16 of 23\n",
      "building tree 17 of 23\n",
      "building tree 18 of 23\n",
      "building tree 19 of 23\n",
      "building tree 20 of 23\n",
      "building tree 21 of 23\n",
      "building tree 22 of 23\n",
      "building tree 23 of 23\n"
     ]
    },
    {
     "name": "stderr",
     "output_type": "stream",
     "text": [
      "[Parallel(n_jobs=1)]: Done  23 out of  23 | elapsed:  1.5min finished\n",
      "[Parallel(n_jobs=1)]: Using backend SequentialBackend with 1 concurrent workers.\n",
      "[Parallel(n_jobs=1)]: Done   1 out of   1 | elapsed:    0.0s remaining:    0.0s\n",
      "[Parallel(n_jobs=1)]: Done  23 out of  23 | elapsed:    0.3s finished\n",
      "[Parallel(n_jobs=1)]: Using backend SequentialBackend with 1 concurrent workers.\n"
     ]
    },
    {
     "name": "stdout",
     "output_type": "stream",
     "text": [
      "building tree 1 of 23\n"
     ]
    },
    {
     "name": "stderr",
     "output_type": "stream",
     "text": [
      "[Parallel(n_jobs=1)]: Done   1 out of   1 | elapsed:    4.0s remaining:    0.0s\n"
     ]
    },
    {
     "name": "stdout",
     "output_type": "stream",
     "text": [
      "building tree 2 of 23\n",
      "building tree 3 of 23\n",
      "building tree 4 of 23\n",
      "building tree 5 of 23\n",
      "building tree 6 of 23\n",
      "building tree 7 of 23\n",
      "building tree 8 of 23\n",
      "building tree 9 of 23\n",
      "building tree 10 of 23\n",
      "building tree 11 of 23\n",
      "building tree 12 of 23\n",
      "building tree 13 of 23\n",
      "building tree 14 of 23\n",
      "building tree 15 of 23\n",
      "building tree 16 of 23\n",
      "building tree 17 of 23\n",
      "building tree 18 of 23\n",
      "building tree 19 of 23\n",
      "building tree 20 of 23\n",
      "building tree 21 of 23\n",
      "building tree 22 of 23\n",
      "building tree 23 of 23\n"
     ]
    },
    {
     "name": "stderr",
     "output_type": "stream",
     "text": [
      "[Parallel(n_jobs=1)]: Done  23 out of  23 | elapsed:  1.5min finished\n",
      "[Parallel(n_jobs=1)]: Using backend SequentialBackend with 1 concurrent workers.\n",
      "[Parallel(n_jobs=1)]: Done   1 out of   1 | elapsed:    0.0s remaining:    0.0s\n",
      "[Parallel(n_jobs=1)]: Done  23 out of  23 | elapsed:    0.3s finished\n",
      "[Parallel(n_jobs=1)]: Using backend SequentialBackend with 1 concurrent workers.\n",
      "[Parallel(n_jobs=1)]: Done   1 out of   1 | elapsed:    0.0s remaining:    0.0s\n"
     ]
    },
    {
     "name": "stdout",
     "output_type": "stream",
     "text": [
      "building tree 1 of 23\n",
      "building tree 2 of 23\n",
      "building tree 3 of 23\n",
      "building tree 4 of 23\n",
      "building tree 5 of 23\n",
      "building tree 6 of 23\n",
      "building tree 7 of 23\n",
      "building tree 8 of 23\n",
      "building tree 9 of 23\n",
      "building tree 10 of 23\n",
      "building tree 11 of 23\n",
      "building tree 12 of 23\n",
      "building tree 13 of 23\n",
      "building tree 14 of 23\n",
      "building tree 15 of 23\n",
      "building tree 16 of 23\n",
      "building tree 17 of 23\n",
      "building tree 18 of 23\n",
      "building tree 19 of 23\n",
      "building tree 20 of 23\n",
      "building tree 21 of 23\n",
      "building tree 22 of 23\n",
      "building tree 23 of 23\n"
     ]
    },
    {
     "name": "stderr",
     "output_type": "stream",
     "text": [
      "[Parallel(n_jobs=1)]: Done  23 out of  23 | elapsed:    1.7s finished\n",
      "[Parallel(n_jobs=1)]: Using backend SequentialBackend with 1 concurrent workers.\n",
      "[Parallel(n_jobs=1)]: Done   1 out of   1 | elapsed:    0.0s remaining:    0.0s\n",
      "[Parallel(n_jobs=1)]: Done  23 out of  23 | elapsed:    0.3s finished\n",
      "[Parallel(n_jobs=1)]: Using backend SequentialBackend with 1 concurrent workers.\n",
      "[Parallel(n_jobs=1)]: Done   1 out of   1 | elapsed:    0.0s remaining:    0.0s\n"
     ]
    },
    {
     "name": "stdout",
     "output_type": "stream",
     "text": [
      "building tree 1 of 23\n",
      "building tree 2 of 23\n",
      "building tree 3 of 23\n",
      "building tree 4 of 23\n",
      "building tree 5 of 23\n",
      "building tree 6 of 23\n",
      "building tree 7 of 23\n",
      "building tree 8 of 23\n",
      "building tree 9 of 23\n",
      "building tree 10 of 23\n",
      "building tree 11 of 23\n",
      "building tree 12 of 23\n",
      "building tree 13 of 23\n",
      "building tree 14 of 23\n",
      "building tree 15 of 23\n",
      "building tree 16 of 23\n",
      "building tree 17 of 23\n",
      "building tree 18 of 23\n",
      "building tree 19 of 23\n",
      "building tree 20 of 23\n",
      "building tree 21 of 23\n",
      "building tree 22 of 23\n",
      "building tree 23 of 23\n"
     ]
    },
    {
     "name": "stderr",
     "output_type": "stream",
     "text": [
      "[Parallel(n_jobs=1)]: Done  23 out of  23 | elapsed:    1.6s finished\n",
      "[Parallel(n_jobs=1)]: Using backend SequentialBackend with 1 concurrent workers.\n",
      "[Parallel(n_jobs=1)]: Done   1 out of   1 | elapsed:    0.0s remaining:    0.0s\n",
      "[Parallel(n_jobs=1)]: Done  23 out of  23 | elapsed:    0.3s finished\n",
      "[Parallel(n_jobs=1)]: Using backend SequentialBackend with 1 concurrent workers.\n",
      "[Parallel(n_jobs=1)]: Done   1 out of   1 | elapsed:    0.0s remaining:    0.0s\n"
     ]
    },
    {
     "name": "stdout",
     "output_type": "stream",
     "text": [
      "building tree 1 of 23\n",
      "building tree 2 of 23\n",
      "building tree 3 of 23\n",
      "building tree 4 of 23\n",
      "building tree 5 of 23\n",
      "building tree 6 of 23\n",
      "building tree 7 of 23\n",
      "building tree 8 of 23\n",
      "building tree 9 of 23\n",
      "building tree 10 of 23\n",
      "building tree 11 of 23\n",
      "building tree 12 of 23\n",
      "building tree 13 of 23\n",
      "building tree 14 of 23\n",
      "building tree 15 of 23\n",
      "building tree 16 of 23\n",
      "building tree 17 of 23\n",
      "building tree 18 of 23\n",
      "building tree 19 of 23\n",
      "building tree 20 of 23\n",
      "building tree 21 of 23\n",
      "building tree 22 of 23\n",
      "building tree 23 of 23\n"
     ]
    },
    {
     "name": "stderr",
     "output_type": "stream",
     "text": [
      "[Parallel(n_jobs=1)]: Done  23 out of  23 | elapsed:    1.7s finished\n",
      "[Parallel(n_jobs=1)]: Using backend SequentialBackend with 1 concurrent workers.\n",
      "[Parallel(n_jobs=1)]: Done   1 out of   1 | elapsed:    0.0s remaining:    0.0s\n",
      "[Parallel(n_jobs=1)]: Done  23 out of  23 | elapsed:    0.3s finished\n",
      "[Parallel(n_jobs=1)]: Using backend SequentialBackend with 1 concurrent workers.\n",
      "[Parallel(n_jobs=1)]: Done   1 out of   1 | elapsed:    0.0s remaining:    0.0s\n"
     ]
    },
    {
     "name": "stdout",
     "output_type": "stream",
     "text": [
      "building tree 1 of 23\n",
      "building tree 2 of 23\n",
      "building tree 3 of 23\n",
      "building tree 4 of 23\n",
      "building tree 5 of 23\n",
      "building tree 6 of 23\n",
      "building tree 7 of 23\n",
      "building tree 8 of 23\n",
      "building tree 9 of 23\n",
      "building tree 10 of 23\n",
      "building tree 11 of 23\n",
      "building tree 12 of 23\n",
      "building tree 13 of 23\n",
      "building tree 14 of 23\n",
      "building tree 15 of 23\n",
      "building tree 16 of 23\n",
      "building tree 17 of 23\n",
      "building tree 18 of 23\n",
      "building tree 19 of 23\n",
      "building tree 20 of 23\n",
      "building tree 21 of 23\n",
      "building tree 22 of 23\n",
      "building tree 23 of 23\n"
     ]
    },
    {
     "name": "stderr",
     "output_type": "stream",
     "text": [
      "[Parallel(n_jobs=1)]: Done  23 out of  23 | elapsed:    1.6s finished\n",
      "[Parallel(n_jobs=1)]: Using backend SequentialBackend with 1 concurrent workers.\n",
      "[Parallel(n_jobs=1)]: Done   1 out of   1 | elapsed:    0.0s remaining:    0.0s\n",
      "[Parallel(n_jobs=1)]: Done  23 out of  23 | elapsed:    0.3s finished\n",
      "[Parallel(n_jobs=1)]: Using backend SequentialBackend with 1 concurrent workers.\n",
      "[Parallel(n_jobs=1)]: Done   1 out of   1 | elapsed:    0.0s remaining:    0.0s\n"
     ]
    },
    {
     "name": "stdout",
     "output_type": "stream",
     "text": [
      "building tree 1 of 23\n",
      "building tree 2 of 23\n",
      "building tree 3 of 23\n",
      "building tree 4 of 23\n",
      "building tree 5 of 23\n",
      "building tree 6 of 23\n",
      "building tree 7 of 23\n",
      "building tree 8 of 23\n",
      "building tree 9 of 23\n",
      "building tree 10 of 23\n",
      "building tree 11 of 23\n",
      "building tree 12 of 23\n",
      "building tree 13 of 23\n",
      "building tree 14 of 23\n",
      "building tree 15 of 23\n",
      "building tree 16 of 23\n",
      "building tree 17 of 23\n",
      "building tree 18 of 23\n",
      "building tree 19 of 23\n",
      "building tree 20 of 23\n",
      "building tree 21 of 23\n",
      "building tree 22 of 23\n",
      "building tree 23 of 23\n"
     ]
    },
    {
     "name": "stderr",
     "output_type": "stream",
     "text": [
      "[Parallel(n_jobs=1)]: Done  23 out of  23 | elapsed:    1.6s finished\n",
      "[Parallel(n_jobs=1)]: Using backend SequentialBackend with 1 concurrent workers.\n",
      "[Parallel(n_jobs=1)]: Done   1 out of   1 | elapsed:    0.0s remaining:    0.0s\n",
      "[Parallel(n_jobs=1)]: Done  23 out of  23 | elapsed:    0.3s finished\n",
      "[Parallel(n_jobs=1)]: Using backend SequentialBackend with 1 concurrent workers.\n",
      "[Parallel(n_jobs=1)]: Done   1 out of   1 | elapsed:    0.0s remaining:    0.0s\n"
     ]
    },
    {
     "name": "stdout",
     "output_type": "stream",
     "text": [
      "building tree 1 of 23\n",
      "building tree 2 of 23\n",
      "building tree 3 of 23\n",
      "building tree 4 of 23\n",
      "building tree 5 of 23\n",
      "building tree 6 of 23\n",
      "building tree 7 of 23\n",
      "building tree 8 of 23\n",
      "building tree 9 of 23\n",
      "building tree 10 of 23\n",
      "building tree 11 of 23\n",
      "building tree 12 of 23\n",
      "building tree 13 of 23\n",
      "building tree 14 of 23\n",
      "building tree 15 of 23\n",
      "building tree 16 of 23\n",
      "building tree 17 of 23\n",
      "building tree 18 of 23\n",
      "building tree 19 of 23\n",
      "building tree 20 of 23\n",
      "building tree 21 of 23\n",
      "building tree 22 of 23\n",
      "building tree 23 of 23\n"
     ]
    },
    {
     "name": "stderr",
     "output_type": "stream",
     "text": [
      "[Parallel(n_jobs=1)]: Done  23 out of  23 | elapsed:    1.7s finished\n",
      "[Parallel(n_jobs=1)]: Using backend SequentialBackend with 1 concurrent workers.\n",
      "[Parallel(n_jobs=1)]: Done   1 out of   1 | elapsed:    0.0s remaining:    0.0s\n",
      "[Parallel(n_jobs=1)]: Done  23 out of  23 | elapsed:    0.3s finished\n",
      "[Parallel(n_jobs=1)]: Using backend SequentialBackend with 1 concurrent workers.\n",
      "[Parallel(n_jobs=1)]: Done   1 out of   1 | elapsed:    0.0s remaining:    0.0s\n"
     ]
    },
    {
     "name": "stdout",
     "output_type": "stream",
     "text": [
      "building tree 1 of 23\n",
      "building tree 2 of 23\n",
      "building tree 3 of 23\n",
      "building tree 4 of 23\n",
      "building tree 5 of 23\n",
      "building tree 6 of 23\n",
      "building tree 7 of 23\n",
      "building tree 8 of 23\n",
      "building tree 9 of 23\n",
      "building tree 10 of 23\n",
      "building tree 11 of 23\n",
      "building tree 12 of 23\n",
      "building tree 13 of 23\n",
      "building tree 14 of 23\n",
      "building tree 15 of 23\n",
      "building tree 16 of 23\n",
      "building tree 17 of 23\n",
      "building tree 18 of 23\n",
      "building tree 19 of 23\n",
      "building tree 20 of 23\n",
      "building tree 21 of 23\n",
      "building tree 22 of 23\n",
      "building tree 23 of 23\n"
     ]
    },
    {
     "name": "stderr",
     "output_type": "stream",
     "text": [
      "[Parallel(n_jobs=1)]: Done  23 out of  23 | elapsed:    1.5s finished\n",
      "[Parallel(n_jobs=1)]: Using backend SequentialBackend with 1 concurrent workers.\n",
      "[Parallel(n_jobs=1)]: Done   1 out of   1 | elapsed:    0.0s remaining:    0.0s\n",
      "[Parallel(n_jobs=1)]: Done  23 out of  23 | elapsed:    0.3s finished\n",
      "[Parallel(n_jobs=1)]: Using backend SequentialBackend with 1 concurrent workers.\n",
      "[Parallel(n_jobs=1)]: Done   1 out of   1 | elapsed:    0.0s remaining:    0.0s\n"
     ]
    },
    {
     "name": "stdout",
     "output_type": "stream",
     "text": [
      "building tree 1 of 23\n",
      "building tree 2 of 23\n",
      "building tree 3 of 23\n",
      "building tree 4 of 23\n",
      "building tree 5 of 23\n",
      "building tree 6 of 23\n",
      "building tree 7 of 23\n",
      "building tree 8 of 23\n",
      "building tree 9 of 23\n",
      "building tree 10 of 23\n",
      "building tree 11 of 23\n",
      "building tree 12 of 23\n",
      "building tree 13 of 23\n",
      "building tree 14 of 23\n",
      "building tree 15 of 23\n",
      "building tree 16 of 23\n",
      "building tree 17 of 23\n",
      "building tree 18 of 23\n",
      "building tree 19 of 23\n",
      "building tree 20 of 23\n",
      "building tree 21 of 23\n",
      "building tree 22 of 23\n",
      "building tree 23 of 23\n"
     ]
    },
    {
     "name": "stderr",
     "output_type": "stream",
     "text": [
      "[Parallel(n_jobs=1)]: Done  23 out of  23 | elapsed:    1.6s finished\n",
      "[Parallel(n_jobs=1)]: Using backend SequentialBackend with 1 concurrent workers.\n",
      "[Parallel(n_jobs=1)]: Done   1 out of   1 | elapsed:    0.0s remaining:    0.0s\n",
      "[Parallel(n_jobs=1)]: Done  23 out of  23 | elapsed:    0.3s finished\n",
      "[Parallel(n_jobs=1)]: Using backend SequentialBackend with 1 concurrent workers.\n",
      "[Parallel(n_jobs=1)]: Done   1 out of   1 | elapsed:    0.0s remaining:    0.0s\n"
     ]
    },
    {
     "name": "stdout",
     "output_type": "stream",
     "text": [
      "building tree 1 of 23\n",
      "building tree 2 of 23\n",
      "building tree 3 of 23\n",
      "building tree 4 of 23\n",
      "building tree 5 of 23\n",
      "building tree 6 of 23\n",
      "building tree 7 of 23\n",
      "building tree 8 of 23\n",
      "building tree 9 of 23\n",
      "building tree 10 of 23\n",
      "building tree 11 of 23\n",
      "building tree 12 of 23\n",
      "building tree 13 of 23\n",
      "building tree 14 of 23\n",
      "building tree 15 of 23\n",
      "building tree 16 of 23\n",
      "building tree 17 of 23\n",
      "building tree 18 of 23\n",
      "building tree 19 of 23\n",
      "building tree 20 of 23\n",
      "building tree 21 of 23\n",
      "building tree 22 of 23\n",
      "building tree 23 of 23\n"
     ]
    },
    {
     "name": "stderr",
     "output_type": "stream",
     "text": [
      "[Parallel(n_jobs=1)]: Done  23 out of  23 | elapsed:    1.7s finished\n",
      "[Parallel(n_jobs=1)]: Using backend SequentialBackend with 1 concurrent workers.\n",
      "[Parallel(n_jobs=1)]: Done   1 out of   1 | elapsed:    0.0s remaining:    0.0s\n",
      "[Parallel(n_jobs=1)]: Done  23 out of  23 | elapsed:    0.3s finished\n",
      "[Parallel(n_jobs=1)]: Using backend SequentialBackend with 1 concurrent workers.\n",
      "[Parallel(n_jobs=1)]: Done   1 out of   1 | elapsed:    0.0s remaining:    0.0s\n"
     ]
    },
    {
     "name": "stdout",
     "output_type": "stream",
     "text": [
      "building tree 1 of 23\n",
      "building tree 2 of 23\n",
      "building tree 3 of 23\n",
      "building tree 4 of 23\n",
      "building tree 5 of 23\n",
      "building tree 6 of 23\n",
      "building tree 7 of 23\n",
      "building tree 8 of 23\n",
      "building tree 9 of 23\n",
      "building tree 10 of 23\n",
      "building tree 11 of 23\n",
      "building tree 12 of 23\n",
      "building tree 13 of 23\n",
      "building tree 14 of 23\n",
      "building tree 15 of 23\n",
      "building tree 16 of 23\n",
      "building tree 17 of 23\n",
      "building tree 18 of 23\n",
      "building tree 19 of 23\n",
      "building tree 20 of 23\n",
      "building tree 21 of 23\n",
      "building tree 22 of 23\n",
      "building tree 23 of 23\n"
     ]
    },
    {
     "name": "stderr",
     "output_type": "stream",
     "text": [
      "[Parallel(n_jobs=1)]: Done  23 out of  23 | elapsed:    1.6s finished\n",
      "[Parallel(n_jobs=1)]: Using backend SequentialBackend with 1 concurrent workers.\n",
      "[Parallel(n_jobs=1)]: Done   1 out of   1 | elapsed:    0.0s remaining:    0.0s\n",
      "[Parallel(n_jobs=1)]: Done  23 out of  23 | elapsed:    0.3s finished\n",
      "[Parallel(n_jobs=1)]: Using backend SequentialBackend with 1 concurrent workers.\n",
      "[Parallel(n_jobs=1)]: Done   1 out of   1 | elapsed:    0.0s remaining:    0.0s\n"
     ]
    },
    {
     "name": "stdout",
     "output_type": "stream",
     "text": [
      "building tree 1 of 23\n",
      "building tree 2 of 23\n",
      "building tree 3 of 23\n",
      "building tree 4 of 23\n",
      "building tree 5 of 23\n",
      "building tree 6 of 23\n",
      "building tree 7 of 23\n",
      "building tree 8 of 23\n",
      "building tree 9 of 23\n",
      "building tree 10 of 23\n",
      "building tree 11 of 23\n",
      "building tree 12 of 23\n",
      "building tree 13 of 23\n",
      "building tree 14 of 23\n",
      "building tree 15 of 23\n",
      "building tree 16 of 23\n",
      "building tree 17 of 23\n",
      "building tree 18 of 23\n",
      "building tree 19 of 23\n",
      "building tree 20 of 23\n",
      "building tree 21 of 23\n",
      "building tree 22 of 23\n",
      "building tree 23 of 23\n"
     ]
    },
    {
     "name": "stderr",
     "output_type": "stream",
     "text": [
      "[Parallel(n_jobs=1)]: Done  23 out of  23 | elapsed:    1.0s finished\n",
      "[Parallel(n_jobs=1)]: Using backend SequentialBackend with 1 concurrent workers.\n",
      "[Parallel(n_jobs=1)]: Done   1 out of   1 | elapsed:    0.0s remaining:    0.0s\n",
      "[Parallel(n_jobs=1)]: Done  23 out of  23 | elapsed:    0.3s finished\n",
      "[Parallel(n_jobs=1)]: Using backend SequentialBackend with 1 concurrent workers.\n",
      "[Parallel(n_jobs=1)]: Done   1 out of   1 | elapsed:    0.0s remaining:    0.0s\n"
     ]
    },
    {
     "name": "stdout",
     "output_type": "stream",
     "text": [
      "building tree 1 of 23\n",
      "building tree 2 of 23\n",
      "building tree 3 of 23\n",
      "building tree 4 of 23\n",
      "building tree 5 of 23\n",
      "building tree 6 of 23\n",
      "building tree 7 of 23\n",
      "building tree 8 of 23\n",
      "building tree 9 of 23\n",
      "building tree 10 of 23\n",
      "building tree 11 of 23\n",
      "building tree 12 of 23\n",
      "building tree 13 of 23\n",
      "building tree 14 of 23\n",
      "building tree 15 of 23\n",
      "building tree 16 of 23\n",
      "building tree 17 of 23\n",
      "building tree 18 of 23\n",
      "building tree 19 of 23\n",
      "building tree 20 of 23\n",
      "building tree 21 of 23\n",
      "building tree 22 of 23\n",
      "building tree 23 of 23\n"
     ]
    },
    {
     "name": "stderr",
     "output_type": "stream",
     "text": [
      "[Parallel(n_jobs=1)]: Done  23 out of  23 | elapsed:    1.0s finished\n",
      "[Parallel(n_jobs=1)]: Using backend SequentialBackend with 1 concurrent workers.\n",
      "[Parallel(n_jobs=1)]: Done   1 out of   1 | elapsed:    0.0s remaining:    0.0s\n",
      "[Parallel(n_jobs=1)]: Done  23 out of  23 | elapsed:    0.3s finished\n",
      "[Parallel(n_jobs=1)]: Using backend SequentialBackend with 1 concurrent workers.\n",
      "[Parallel(n_jobs=1)]: Done   1 out of   1 | elapsed:    0.0s remaining:    0.0s\n"
     ]
    },
    {
     "name": "stdout",
     "output_type": "stream",
     "text": [
      "building tree 1 of 23\n",
      "building tree 2 of 23\n",
      "building tree 3 of 23\n",
      "building tree 4 of 23\n",
      "building tree 5 of 23\n",
      "building tree 6 of 23\n",
      "building tree 7 of 23\n",
      "building tree 8 of 23\n",
      "building tree 9 of 23\n",
      "building tree 10 of 23\n",
      "building tree 11 of 23\n",
      "building tree 12 of 23\n",
      "building tree 13 of 23\n",
      "building tree 14 of 23\n",
      "building tree 15 of 23\n",
      "building tree 16 of 23\n",
      "building tree 17 of 23\n",
      "building tree 18 of 23\n",
      "building tree 19 of 23\n",
      "building tree 20 of 23\n",
      "building tree 21 of 23\n",
      "building tree 22 of 23\n",
      "building tree 23 of 23\n"
     ]
    },
    {
     "name": "stderr",
     "output_type": "stream",
     "text": [
      "[Parallel(n_jobs=1)]: Done  23 out of  23 | elapsed:    1.1s finished\n",
      "[Parallel(n_jobs=1)]: Using backend SequentialBackend with 1 concurrent workers.\n",
      "[Parallel(n_jobs=1)]: Done   1 out of   1 | elapsed:    0.0s remaining:    0.0s\n",
      "[Parallel(n_jobs=1)]: Done  23 out of  23 | elapsed:    0.3s finished\n",
      "[Parallel(n_jobs=1)]: Using backend SequentialBackend with 1 concurrent workers.\n",
      "[Parallel(n_jobs=1)]: Done   1 out of   1 | elapsed:    0.0s remaining:    0.0s\n"
     ]
    },
    {
     "name": "stdout",
     "output_type": "stream",
     "text": [
      "building tree 1 of 23\n",
      "building tree 2 of 23\n",
      "building tree 3 of 23\n",
      "building tree 4 of 23\n",
      "building tree 5 of 23\n",
      "building tree 6 of 23\n",
      "building tree 7 of 23\n",
      "building tree 8 of 23\n",
      "building tree 9 of 23\n",
      "building tree 10 of 23\n",
      "building tree 11 of 23\n",
      "building tree 12 of 23\n",
      "building tree 13 of 23\n",
      "building tree 14 of 23\n",
      "building tree 15 of 23\n",
      "building tree 16 of 23\n",
      "building tree 17 of 23\n",
      "building tree 18 of 23\n",
      "building tree 19 of 23\n",
      "building tree 20 of 23\n",
      "building tree 21 of 23\n",
      "building tree 22 of 23\n",
      "building tree 23 of 23\n"
     ]
    },
    {
     "name": "stderr",
     "output_type": "stream",
     "text": [
      "[Parallel(n_jobs=1)]: Done  23 out of  23 | elapsed:    1.0s finished\n",
      "[Parallel(n_jobs=1)]: Using backend SequentialBackend with 1 concurrent workers.\n",
      "[Parallel(n_jobs=1)]: Done   1 out of   1 | elapsed:    0.0s remaining:    0.0s\n",
      "[Parallel(n_jobs=1)]: Done  23 out of  23 | elapsed:    0.3s finished\n",
      "[Parallel(n_jobs=1)]: Using backend SequentialBackend with 1 concurrent workers.\n",
      "[Parallel(n_jobs=1)]: Done   1 out of   1 | elapsed:    0.0s remaining:    0.0s\n"
     ]
    },
    {
     "name": "stdout",
     "output_type": "stream",
     "text": [
      "building tree 1 of 23\n",
      "building tree 2 of 23\n",
      "building tree 3 of 23\n",
      "building tree 4 of 23\n",
      "building tree 5 of 23\n",
      "building tree 6 of 23\n",
      "building tree 7 of 23\n",
      "building tree 8 of 23\n",
      "building tree 9 of 23\n",
      "building tree 10 of 23\n",
      "building tree 11 of 23\n",
      "building tree 12 of 23\n",
      "building tree 13 of 23\n",
      "building tree 14 of 23\n",
      "building tree 15 of 23\n",
      "building tree 16 of 23\n",
      "building tree 17 of 23\n",
      "building tree 18 of 23\n",
      "building tree 19 of 23\n",
      "building tree 20 of 23\n",
      "building tree 21 of 23\n",
      "building tree 22 of 23\n",
      "building tree 23 of 23\n"
     ]
    },
    {
     "name": "stderr",
     "output_type": "stream",
     "text": [
      "[Parallel(n_jobs=1)]: Done  23 out of  23 | elapsed:    1.0s finished\n",
      "[Parallel(n_jobs=1)]: Using backend SequentialBackend with 1 concurrent workers.\n",
      "[Parallel(n_jobs=1)]: Done   1 out of   1 | elapsed:    0.0s remaining:    0.0s\n",
      "[Parallel(n_jobs=1)]: Done  23 out of  23 | elapsed:    0.3s finished\n",
      "[Parallel(n_jobs=1)]: Using backend SequentialBackend with 1 concurrent workers.\n"
     ]
    },
    {
     "name": "stdout",
     "output_type": "stream",
     "text": [
      "building tree 1 of 23\n"
     ]
    },
    {
     "name": "stderr",
     "output_type": "stream",
     "text": [
      "[Parallel(n_jobs=1)]: Done   1 out of   1 | elapsed:    7.9s remaining:    0.0s\n"
     ]
    },
    {
     "name": "stdout",
     "output_type": "stream",
     "text": [
      "building tree 2 of 23\n",
      "building tree 3 of 23\n",
      "building tree 4 of 23\n",
      "building tree 5 of 23\n",
      "building tree 6 of 23\n",
      "building tree 7 of 23\n",
      "building tree 8 of 23\n",
      "building tree 9 of 23\n",
      "building tree 10 of 23\n",
      "building tree 11 of 23\n",
      "building tree 12 of 23\n",
      "building tree 13 of 23\n",
      "building tree 14 of 23\n",
      "building tree 15 of 23\n",
      "building tree 16 of 23\n",
      "building tree 17 of 23\n",
      "building tree 18 of 23\n",
      "building tree 19 of 23\n",
      "building tree 20 of 23\n",
      "building tree 21 of 23\n",
      "building tree 22 of 23\n",
      "building tree 23 of 23\n"
     ]
    },
    {
     "name": "stderr",
     "output_type": "stream",
     "text": [
      "[Parallel(n_jobs=1)]: Done  23 out of  23 | elapsed:  3.2min finished\n",
      "[Parallel(n_jobs=1)]: Using backend SequentialBackend with 1 concurrent workers.\n",
      "[Parallel(n_jobs=1)]: Done   1 out of   1 | elapsed:    0.0s remaining:    0.0s\n",
      "[Parallel(n_jobs=1)]: Done  23 out of  23 | elapsed:    0.3s finished\n",
      "[Parallel(n_jobs=1)]: Using backend SequentialBackend with 1 concurrent workers.\n"
     ]
    },
    {
     "name": "stdout",
     "output_type": "stream",
     "text": [
      "building tree 1 of 23\n"
     ]
    },
    {
     "name": "stderr",
     "output_type": "stream",
     "text": [
      "[Parallel(n_jobs=1)]: Done   1 out of   1 | elapsed:    8.2s remaining:    0.0s\n"
     ]
    },
    {
     "name": "stdout",
     "output_type": "stream",
     "text": [
      "building tree 2 of 23\n",
      "building tree 3 of 23\n",
      "building tree 4 of 23\n",
      "building tree 5 of 23\n",
      "building tree 6 of 23\n",
      "building tree 7 of 23\n",
      "building tree 8 of 23\n",
      "building tree 9 of 23\n",
      "building tree 10 of 23\n",
      "building tree 11 of 23\n",
      "building tree 12 of 23\n",
      "building tree 13 of 23\n",
      "building tree 14 of 23\n",
      "building tree 15 of 23\n",
      "building tree 16 of 23\n",
      "building tree 17 of 23\n",
      "building tree 18 of 23\n",
      "building tree 19 of 23\n",
      "building tree 20 of 23\n",
      "building tree 21 of 23\n",
      "building tree 22 of 23\n",
      "building tree 23 of 23\n"
     ]
    },
    {
     "name": "stderr",
     "output_type": "stream",
     "text": [
      "[Parallel(n_jobs=1)]: Done  23 out of  23 | elapsed:  3.2min finished\n",
      "[Parallel(n_jobs=1)]: Using backend SequentialBackend with 1 concurrent workers.\n",
      "[Parallel(n_jobs=1)]: Done   1 out of   1 | elapsed:    0.0s remaining:    0.0s\n",
      "[Parallel(n_jobs=1)]: Done  23 out of  23 | elapsed:    0.3s finished\n",
      "[Parallel(n_jobs=1)]: Using backend SequentialBackend with 1 concurrent workers.\n"
     ]
    },
    {
     "name": "stdout",
     "output_type": "stream",
     "text": [
      "building tree 1 of 23\n"
     ]
    },
    {
     "name": "stderr",
     "output_type": "stream",
     "text": [
      "[Parallel(n_jobs=1)]: Done   1 out of   1 | elapsed:    8.4s remaining:    0.0s\n"
     ]
    },
    {
     "name": "stdout",
     "output_type": "stream",
     "text": [
      "building tree 2 of 23\n",
      "building tree 3 of 23\n",
      "building tree 4 of 23\n",
      "building tree 5 of 23\n",
      "building tree 6 of 23\n",
      "building tree 7 of 23\n",
      "building tree 8 of 23\n",
      "building tree 9 of 23\n",
      "building tree 10 of 23\n",
      "building tree 11 of 23\n",
      "building tree 12 of 23\n",
      "building tree 13 of 23\n",
      "building tree 14 of 23\n",
      "building tree 15 of 23\n",
      "building tree 16 of 23\n",
      "building tree 17 of 23\n",
      "building tree 18 of 23\n",
      "building tree 19 of 23\n",
      "building tree 20 of 23\n",
      "building tree 21 of 23\n",
      "building tree 22 of 23\n",
      "building tree 23 of 23\n"
     ]
    },
    {
     "name": "stderr",
     "output_type": "stream",
     "text": [
      "[Parallel(n_jobs=1)]: Done  23 out of  23 | elapsed:  3.3min finished\n",
      "[Parallel(n_jobs=1)]: Using backend SequentialBackend with 1 concurrent workers.\n",
      "[Parallel(n_jobs=1)]: Done   1 out of   1 | elapsed:    0.0s remaining:    0.0s\n",
      "[Parallel(n_jobs=1)]: Done  23 out of  23 | elapsed:    0.3s finished\n",
      "[Parallel(n_jobs=1)]: Using backend SequentialBackend with 1 concurrent workers.\n"
     ]
    },
    {
     "name": "stdout",
     "output_type": "stream",
     "text": [
      "building tree 1 of 23\n"
     ]
    },
    {
     "name": "stderr",
     "output_type": "stream",
     "text": [
      "[Parallel(n_jobs=1)]: Done   1 out of   1 | elapsed:    8.5s remaining:    0.0s\n"
     ]
    },
    {
     "name": "stdout",
     "output_type": "stream",
     "text": [
      "building tree 2 of 23\n",
      "building tree 3 of 23\n",
      "building tree 4 of 23\n",
      "building tree 5 of 23\n",
      "building tree 6 of 23\n",
      "building tree 7 of 23\n",
      "building tree 8 of 23\n",
      "building tree 9 of 23\n",
      "building tree 10 of 23\n",
      "building tree 11 of 23\n",
      "building tree 12 of 23\n",
      "building tree 13 of 23\n",
      "building tree 14 of 23\n",
      "building tree 15 of 23\n",
      "building tree 16 of 23\n",
      "building tree 17 of 23\n",
      "building tree 18 of 23\n",
      "building tree 19 of 23\n",
      "building tree 20 of 23\n",
      "building tree 21 of 23\n",
      "building tree 22 of 23\n",
      "building tree 23 of 23\n"
     ]
    },
    {
     "name": "stderr",
     "output_type": "stream",
     "text": [
      "[Parallel(n_jobs=1)]: Done  23 out of  23 | elapsed:  3.2min finished\n",
      "[Parallel(n_jobs=1)]: Using backend SequentialBackend with 1 concurrent workers.\n",
      "[Parallel(n_jobs=1)]: Done   1 out of   1 | elapsed:    0.0s remaining:    0.0s\n",
      "[Parallel(n_jobs=1)]: Done  23 out of  23 | elapsed:    0.3s finished\n",
      "[Parallel(n_jobs=1)]: Using backend SequentialBackend with 1 concurrent workers.\n"
     ]
    },
    {
     "name": "stdout",
     "output_type": "stream",
     "text": [
      "building tree 1 of 23\n"
     ]
    },
    {
     "name": "stderr",
     "output_type": "stream",
     "text": [
      "[Parallel(n_jobs=1)]: Done   1 out of   1 | elapsed:    8.6s remaining:    0.0s\n"
     ]
    },
    {
     "name": "stdout",
     "output_type": "stream",
     "text": [
      "building tree 2 of 23\n",
      "building tree 3 of 23\n",
      "building tree 4 of 23\n",
      "building tree 5 of 23\n",
      "building tree 6 of 23\n",
      "building tree 7 of 23\n",
      "building tree 8 of 23\n",
      "building tree 9 of 23\n",
      "building tree 10 of 23\n",
      "building tree 11 of 23\n",
      "building tree 12 of 23\n",
      "building tree 13 of 23\n",
      "building tree 14 of 23\n",
      "building tree 15 of 23\n",
      "building tree 16 of 23\n",
      "building tree 17 of 23\n",
      "building tree 18 of 23\n",
      "building tree 19 of 23\n",
      "building tree 20 of 23\n",
      "building tree 21 of 23\n",
      "building tree 22 of 23\n",
      "building tree 23 of 23\n"
     ]
    },
    {
     "name": "stderr",
     "output_type": "stream",
     "text": [
      "[Parallel(n_jobs=1)]: Done  23 out of  23 | elapsed:  3.2min finished\n",
      "[Parallel(n_jobs=1)]: Using backend SequentialBackend with 1 concurrent workers.\n",
      "[Parallel(n_jobs=1)]: Done   1 out of   1 | elapsed:    0.0s remaining:    0.0s\n",
      "[Parallel(n_jobs=1)]: Done  23 out of  23 | elapsed:    0.3s finished\n",
      "[Parallel(n_jobs=1)]: Using backend SequentialBackend with 1 concurrent workers.\n",
      "[Parallel(n_jobs=1)]: Done   1 out of   1 | elapsed:    0.0s remaining:    0.0s\n"
     ]
    },
    {
     "name": "stdout",
     "output_type": "stream",
     "text": [
      "building tree 1 of 23\n",
      "building tree 2 of 23\n",
      "building tree 3 of 23\n",
      "building tree 4 of 23\n",
      "building tree 5 of 23\n",
      "building tree 6 of 23\n",
      "building tree 7 of 23\n",
      "building tree 8 of 23\n",
      "building tree 9 of 23\n",
      "building tree 10 of 23\n",
      "building tree 11 of 23\n",
      "building tree 12 of 23\n",
      "building tree 13 of 23\n",
      "building tree 14 of 23\n",
      "building tree 15 of 23\n",
      "building tree 16 of 23\n",
      "building tree 17 of 23\n",
      "building tree 18 of 23\n",
      "building tree 19 of 23\n",
      "building tree 20 of 23\n",
      "building tree 21 of 23\n",
      "building tree 22 of 23\n",
      "building tree 23 of 23\n"
     ]
    },
    {
     "name": "stderr",
     "output_type": "stream",
     "text": [
      "[Parallel(n_jobs=1)]: Done  23 out of  23 | elapsed:    2.2s finished\n",
      "[Parallel(n_jobs=1)]: Using backend SequentialBackend with 1 concurrent workers.\n",
      "[Parallel(n_jobs=1)]: Done   1 out of   1 | elapsed:    0.0s remaining:    0.0s\n",
      "[Parallel(n_jobs=1)]: Done  23 out of  23 | elapsed:    0.3s finished\n",
      "[Parallel(n_jobs=1)]: Using backend SequentialBackend with 1 concurrent workers.\n",
      "[Parallel(n_jobs=1)]: Done   1 out of   1 | elapsed:    0.0s remaining:    0.0s\n"
     ]
    },
    {
     "name": "stdout",
     "output_type": "stream",
     "text": [
      "building tree 1 of 23\n",
      "building tree 2 of 23\n",
      "building tree 3 of 23\n",
      "building tree 4 of 23\n",
      "building tree 5 of 23\n",
      "building tree 6 of 23\n",
      "building tree 7 of 23\n",
      "building tree 8 of 23\n",
      "building tree 9 of 23\n",
      "building tree 10 of 23\n",
      "building tree 11 of 23\n",
      "building tree 12 of 23\n",
      "building tree 13 of 23\n",
      "building tree 14 of 23\n",
      "building tree 15 of 23\n",
      "building tree 16 of 23\n",
      "building tree 17 of 23\n",
      "building tree 18 of 23\n",
      "building tree 19 of 23\n",
      "building tree 20 of 23\n",
      "building tree 21 of 23\n",
      "building tree 22 of 23\n",
      "building tree 23 of 23\n"
     ]
    },
    {
     "name": "stderr",
     "output_type": "stream",
     "text": [
      "[Parallel(n_jobs=1)]: Done  23 out of  23 | elapsed:    2.2s finished\n",
      "[Parallel(n_jobs=1)]: Using backend SequentialBackend with 1 concurrent workers.\n",
      "[Parallel(n_jobs=1)]: Done   1 out of   1 | elapsed:    0.0s remaining:    0.0s\n",
      "[Parallel(n_jobs=1)]: Done  23 out of  23 | elapsed:    0.3s finished\n",
      "[Parallel(n_jobs=1)]: Using backend SequentialBackend with 1 concurrent workers.\n",
      "[Parallel(n_jobs=1)]: Done   1 out of   1 | elapsed:    0.0s remaining:    0.0s\n"
     ]
    },
    {
     "name": "stdout",
     "output_type": "stream",
     "text": [
      "building tree 1 of 23\n",
      "building tree 2 of 23\n",
      "building tree 3 of 23\n",
      "building tree 4 of 23\n",
      "building tree 5 of 23\n",
      "building tree 6 of 23\n",
      "building tree 7 of 23\n",
      "building tree 8 of 23\n",
      "building tree 9 of 23\n",
      "building tree 10 of 23\n",
      "building tree 11 of 23\n",
      "building tree 12 of 23\n",
      "building tree 13 of 23\n",
      "building tree 14 of 23\n",
      "building tree 15 of 23\n",
      "building tree 16 of 23\n",
      "building tree 17 of 23\n",
      "building tree 18 of 23\n",
      "building tree 19 of 23\n",
      "building tree 20 of 23\n",
      "building tree 21 of 23\n",
      "building tree 22 of 23\n",
      "building tree 23 of 23\n"
     ]
    },
    {
     "name": "stderr",
     "output_type": "stream",
     "text": [
      "[Parallel(n_jobs=1)]: Done  23 out of  23 | elapsed:    2.3s finished\n",
      "[Parallel(n_jobs=1)]: Using backend SequentialBackend with 1 concurrent workers.\n",
      "[Parallel(n_jobs=1)]: Done   1 out of   1 | elapsed:    0.0s remaining:    0.0s\n",
      "[Parallel(n_jobs=1)]: Done  23 out of  23 | elapsed:    0.3s finished\n",
      "[Parallel(n_jobs=1)]: Using backend SequentialBackend with 1 concurrent workers.\n",
      "[Parallel(n_jobs=1)]: Done   1 out of   1 | elapsed:    0.0s remaining:    0.0s\n"
     ]
    },
    {
     "name": "stdout",
     "output_type": "stream",
     "text": [
      "building tree 1 of 23\n",
      "building tree 2 of 23\n",
      "building tree 3 of 23\n",
      "building tree 4 of 23\n",
      "building tree 5 of 23\n",
      "building tree 6 of 23\n",
      "building tree 7 of 23\n",
      "building tree 8 of 23\n",
      "building tree 9 of 23\n",
      "building tree 10 of 23\n",
      "building tree 11 of 23\n",
      "building tree 12 of 23\n",
      "building tree 13 of 23\n",
      "building tree 14 of 23\n",
      "building tree 15 of 23\n",
      "building tree 16 of 23\n",
      "building tree 17 of 23\n",
      "building tree 18 of 23\n",
      "building tree 19 of 23\n",
      "building tree 20 of 23\n",
      "building tree 21 of 23\n",
      "building tree 22 of 23\n",
      "building tree 23 of 23\n"
     ]
    },
    {
     "name": "stderr",
     "output_type": "stream",
     "text": [
      "[Parallel(n_jobs=1)]: Done  23 out of  23 | elapsed:    2.6s finished\n",
      "[Parallel(n_jobs=1)]: Using backend SequentialBackend with 1 concurrent workers.\n",
      "[Parallel(n_jobs=1)]: Done   1 out of   1 | elapsed:    0.0s remaining:    0.0s\n",
      "[Parallel(n_jobs=1)]: Done  23 out of  23 | elapsed:    0.3s finished\n",
      "[Parallel(n_jobs=1)]: Using backend SequentialBackend with 1 concurrent workers.\n",
      "[Parallel(n_jobs=1)]: Done   1 out of   1 | elapsed:    0.0s remaining:    0.0s\n"
     ]
    },
    {
     "name": "stdout",
     "output_type": "stream",
     "text": [
      "building tree 1 of 23\n",
      "building tree 2 of 23\n",
      "building tree 3 of 23\n",
      "building tree 4 of 23\n",
      "building tree 5 of 23\n",
      "building tree 6 of 23\n",
      "building tree 7 of 23\n",
      "building tree 8 of 23\n",
      "building tree 9 of 23\n",
      "building tree 10 of 23\n",
      "building tree 11 of 23\n",
      "building tree 12 of 23\n",
      "building tree 13 of 23\n",
      "building tree 14 of 23\n",
      "building tree 15 of 23\n",
      "building tree 16 of 23\n",
      "building tree 17 of 23\n",
      "building tree 18 of 23\n",
      "building tree 19 of 23\n",
      "building tree 20 of 23\n",
      "building tree 21 of 23\n",
      "building tree 22 of 23\n",
      "building tree 23 of 23\n"
     ]
    },
    {
     "name": "stderr",
     "output_type": "stream",
     "text": [
      "[Parallel(n_jobs=1)]: Done  23 out of  23 | elapsed:    2.1s finished\n",
      "[Parallel(n_jobs=1)]: Using backend SequentialBackend with 1 concurrent workers.\n",
      "[Parallel(n_jobs=1)]: Done   1 out of   1 | elapsed:    0.0s remaining:    0.0s\n",
      "[Parallel(n_jobs=1)]: Done  23 out of  23 | elapsed:    0.3s finished\n",
      "[Parallel(n_jobs=1)]: Using backend SequentialBackend with 1 concurrent workers.\n",
      "[Parallel(n_jobs=1)]: Done   1 out of   1 | elapsed:    0.0s remaining:    0.0s\n"
     ]
    },
    {
     "name": "stdout",
     "output_type": "stream",
     "text": [
      "building tree 1 of 23\n",
      "building tree 2 of 23\n",
      "building tree 3 of 23\n",
      "building tree 4 of 23\n",
      "building tree 5 of 23\n",
      "building tree 6 of 23\n",
      "building tree 7 of 23\n",
      "building tree 8 of 23\n",
      "building tree 9 of 23\n",
      "building tree 10 of 23\n",
      "building tree 11 of 23\n",
      "building tree 12 of 23\n",
      "building tree 13 of 23\n",
      "building tree 14 of 23\n",
      "building tree 15 of 23\n",
      "building tree 16 of 23\n",
      "building tree 17 of 23\n",
      "building tree 18 of 23\n",
      "building tree 19 of 23\n",
      "building tree 20 of 23\n",
      "building tree 21 of 23\n",
      "building tree 22 of 23\n",
      "building tree 23 of 23\n"
     ]
    },
    {
     "name": "stderr",
     "output_type": "stream",
     "text": [
      "[Parallel(n_jobs=1)]: Done  23 out of  23 | elapsed:    2.1s finished\n",
      "[Parallel(n_jobs=1)]: Using backend SequentialBackend with 1 concurrent workers.\n",
      "[Parallel(n_jobs=1)]: Done   1 out of   1 | elapsed:    0.0s remaining:    0.0s\n",
      "[Parallel(n_jobs=1)]: Done  23 out of  23 | elapsed:    0.3s finished\n",
      "[Parallel(n_jobs=1)]: Using backend SequentialBackend with 1 concurrent workers.\n",
      "[Parallel(n_jobs=1)]: Done   1 out of   1 | elapsed:    0.0s remaining:    0.0s\n"
     ]
    },
    {
     "name": "stdout",
     "output_type": "stream",
     "text": [
      "building tree 1 of 23\n",
      "building tree 2 of 23\n",
      "building tree 3 of 23\n",
      "building tree 4 of 23\n",
      "building tree 5 of 23\n",
      "building tree 6 of 23\n",
      "building tree 7 of 23\n",
      "building tree 8 of 23\n",
      "building tree 9 of 23\n",
      "building tree 10 of 23\n",
      "building tree 11 of 23\n",
      "building tree 12 of 23\n",
      "building tree 13 of 23\n",
      "building tree 14 of 23\n",
      "building tree 15 of 23\n",
      "building tree 16 of 23\n",
      "building tree 17 of 23\n",
      "building tree 18 of 23\n",
      "building tree 19 of 23\n",
      "building tree 20 of 23\n",
      "building tree 21 of 23\n",
      "building tree 22 of 23\n",
      "building tree 23 of 23\n"
     ]
    },
    {
     "name": "stderr",
     "output_type": "stream",
     "text": [
      "[Parallel(n_jobs=1)]: Done  23 out of  23 | elapsed:    2.2s finished\n",
      "[Parallel(n_jobs=1)]: Using backend SequentialBackend with 1 concurrent workers.\n",
      "[Parallel(n_jobs=1)]: Done   1 out of   1 | elapsed:    0.0s remaining:    0.0s\n",
      "[Parallel(n_jobs=1)]: Done  23 out of  23 | elapsed:    0.3s finished\n",
      "[Parallel(n_jobs=1)]: Using backend SequentialBackend with 1 concurrent workers.\n",
      "[Parallel(n_jobs=1)]: Done   1 out of   1 | elapsed:    0.0s remaining:    0.0s\n"
     ]
    },
    {
     "name": "stdout",
     "output_type": "stream",
     "text": [
      "building tree 1 of 23\n",
      "building tree 2 of 23\n",
      "building tree 3 of 23\n",
      "building tree 4 of 23\n",
      "building tree 5 of 23\n",
      "building tree 6 of 23\n",
      "building tree 7 of 23\n",
      "building tree 8 of 23\n",
      "building tree 9 of 23\n",
      "building tree 10 of 23\n",
      "building tree 11 of 23\n",
      "building tree 12 of 23\n",
      "building tree 13 of 23\n",
      "building tree 14 of 23\n",
      "building tree 15 of 23\n",
      "building tree 16 of 23\n",
      "building tree 17 of 23\n",
      "building tree 18 of 23\n",
      "building tree 19 of 23\n",
      "building tree 20 of 23\n",
      "building tree 21 of 23\n",
      "building tree 22 of 23\n",
      "building tree 23 of 23\n"
     ]
    },
    {
     "name": "stderr",
     "output_type": "stream",
     "text": [
      "[Parallel(n_jobs=1)]: Done  23 out of  23 | elapsed:    2.2s finished\n",
      "[Parallel(n_jobs=1)]: Using backend SequentialBackend with 1 concurrent workers.\n",
      "[Parallel(n_jobs=1)]: Done   1 out of   1 | elapsed:    0.0s remaining:    0.0s\n",
      "[Parallel(n_jobs=1)]: Done  23 out of  23 | elapsed:    0.3s finished\n",
      "[Parallel(n_jobs=1)]: Using backend SequentialBackend with 1 concurrent workers.\n",
      "[Parallel(n_jobs=1)]: Done   1 out of   1 | elapsed:    0.0s remaining:    0.0s\n"
     ]
    },
    {
     "name": "stdout",
     "output_type": "stream",
     "text": [
      "building tree 1 of 23\n",
      "building tree 2 of 23\n",
      "building tree 3 of 23\n",
      "building tree 4 of 23\n",
      "building tree 5 of 23\n",
      "building tree 6 of 23\n",
      "building tree 7 of 23\n",
      "building tree 8 of 23\n",
      "building tree 9 of 23\n",
      "building tree 10 of 23\n",
      "building tree 11 of 23\n",
      "building tree 12 of 23\n",
      "building tree 13 of 23\n",
      "building tree 14 of 23\n",
      "building tree 15 of 23\n",
      "building tree 16 of 23\n",
      "building tree 17 of 23\n",
      "building tree 18 of 23\n",
      "building tree 19 of 23\n",
      "building tree 20 of 23\n",
      "building tree 21 of 23\n",
      "building tree 22 of 23\n",
      "building tree 23 of 23\n"
     ]
    },
    {
     "name": "stderr",
     "output_type": "stream",
     "text": [
      "[Parallel(n_jobs=1)]: Done  23 out of  23 | elapsed:    2.1s finished\n",
      "[Parallel(n_jobs=1)]: Using backend SequentialBackend with 1 concurrent workers.\n",
      "[Parallel(n_jobs=1)]: Done   1 out of   1 | elapsed:    0.0s remaining:    0.0s\n",
      "[Parallel(n_jobs=1)]: Done  23 out of  23 | elapsed:    0.3s finished\n",
      "[Parallel(n_jobs=1)]: Using backend SequentialBackend with 1 concurrent workers.\n",
      "[Parallel(n_jobs=1)]: Done   1 out of   1 | elapsed:    0.0s remaining:    0.0s\n"
     ]
    },
    {
     "name": "stdout",
     "output_type": "stream",
     "text": [
      "building tree 1 of 23\n",
      "building tree 2 of 23\n",
      "building tree 3 of 23\n",
      "building tree 4 of 23\n",
      "building tree 5 of 23\n",
      "building tree 6 of 23\n",
      "building tree 7 of 23\n",
      "building tree 8 of 23\n",
      "building tree 9 of 23\n",
      "building tree 10 of 23\n",
      "building tree 11 of 23\n",
      "building tree 12 of 23\n",
      "building tree 13 of 23\n",
      "building tree 14 of 23\n",
      "building tree 15 of 23\n",
      "building tree 16 of 23\n",
      "building tree 17 of 23\n",
      "building tree 18 of 23\n",
      "building tree 19 of 23\n",
      "building tree 20 of 23\n",
      "building tree 21 of 23\n",
      "building tree 22 of 23\n",
      "building tree 23 of 23\n"
     ]
    },
    {
     "name": "stderr",
     "output_type": "stream",
     "text": [
      "[Parallel(n_jobs=1)]: Done  23 out of  23 | elapsed:    2.3s finished\n",
      "[Parallel(n_jobs=1)]: Using backend SequentialBackend with 1 concurrent workers.\n",
      "[Parallel(n_jobs=1)]: Done   1 out of   1 | elapsed:    0.0s remaining:    0.0s\n",
      "[Parallel(n_jobs=1)]: Done  23 out of  23 | elapsed:    0.3s finished\n",
      "[Parallel(n_jobs=1)]: Using backend SequentialBackend with 1 concurrent workers.\n",
      "[Parallel(n_jobs=1)]: Done   1 out of   1 | elapsed:    0.0s remaining:    0.0s\n"
     ]
    },
    {
     "name": "stdout",
     "output_type": "stream",
     "text": [
      "building tree 1 of 23\n",
      "building tree 2 of 23\n",
      "building tree 3 of 23\n",
      "building tree 4 of 23\n",
      "building tree 5 of 23\n",
      "building tree 6 of 23\n",
      "building tree 7 of 23\n",
      "building tree 8 of 23\n",
      "building tree 9 of 23\n",
      "building tree 10 of 23\n",
      "building tree 11 of 23\n",
      "building tree 12 of 23\n",
      "building tree 13 of 23\n",
      "building tree 14 of 23\n",
      "building tree 15 of 23\n",
      "building tree 16 of 23\n",
      "building tree 17 of 23\n",
      "building tree 18 of 23\n",
      "building tree 19 of 23\n",
      "building tree 20 of 23\n",
      "building tree 21 of 23\n",
      "building tree 22 of 23\n",
      "building tree 23 of 23\n"
     ]
    },
    {
     "name": "stderr",
     "output_type": "stream",
     "text": [
      "[Parallel(n_jobs=1)]: Done  23 out of  23 | elapsed:    1.1s finished\n",
      "[Parallel(n_jobs=1)]: Using backend SequentialBackend with 1 concurrent workers.\n",
      "[Parallel(n_jobs=1)]: Done   1 out of   1 | elapsed:    0.0s remaining:    0.0s\n",
      "[Parallel(n_jobs=1)]: Done  23 out of  23 | elapsed:    0.3s finished\n",
      "[Parallel(n_jobs=1)]: Using backend SequentialBackend with 1 concurrent workers.\n",
      "[Parallel(n_jobs=1)]: Done   1 out of   1 | elapsed:    0.0s remaining:    0.0s\n"
     ]
    },
    {
     "name": "stdout",
     "output_type": "stream",
     "text": [
      "building tree 1 of 23\n",
      "building tree 2 of 23\n",
      "building tree 3 of 23\n",
      "building tree 4 of 23\n",
      "building tree 5 of 23\n",
      "building tree 6 of 23\n",
      "building tree 7 of 23\n",
      "building tree 8 of 23\n",
      "building tree 9 of 23\n",
      "building tree 10 of 23\n",
      "building tree 11 of 23\n",
      "building tree 12 of 23\n",
      "building tree 13 of 23\n",
      "building tree 14 of 23\n",
      "building tree 15 of 23\n",
      "building tree 16 of 23\n",
      "building tree 17 of 23\n",
      "building tree 18 of 23\n",
      "building tree 19 of 23\n",
      "building tree 20 of 23\n",
      "building tree 21 of 23\n",
      "building tree 22 of 23\n",
      "building tree 23 of 23\n"
     ]
    },
    {
     "name": "stderr",
     "output_type": "stream",
     "text": [
      "[Parallel(n_jobs=1)]: Done  23 out of  23 | elapsed:    1.1s finished\n",
      "[Parallel(n_jobs=1)]: Using backend SequentialBackend with 1 concurrent workers.\n",
      "[Parallel(n_jobs=1)]: Done   1 out of   1 | elapsed:    0.0s remaining:    0.0s\n",
      "[Parallel(n_jobs=1)]: Done  23 out of  23 | elapsed:    0.3s finished\n",
      "[Parallel(n_jobs=1)]: Using backend SequentialBackend with 1 concurrent workers.\n",
      "[Parallel(n_jobs=1)]: Done   1 out of   1 | elapsed:    0.0s remaining:    0.0s\n"
     ]
    },
    {
     "name": "stdout",
     "output_type": "stream",
     "text": [
      "building tree 1 of 23\n",
      "building tree 2 of 23\n",
      "building tree 3 of 23\n",
      "building tree 4 of 23\n",
      "building tree 5 of 23\n",
      "building tree 6 of 23\n",
      "building tree 7 of 23\n",
      "building tree 8 of 23\n",
      "building tree 9 of 23\n",
      "building tree 10 of 23\n",
      "building tree 11 of 23\n",
      "building tree 12 of 23\n",
      "building tree 13 of 23\n",
      "building tree 14 of 23\n",
      "building tree 15 of 23\n",
      "building tree 16 of 23\n",
      "building tree 17 of 23\n",
      "building tree 18 of 23\n",
      "building tree 19 of 23\n",
      "building tree 20 of 23\n",
      "building tree 21 of 23\n",
      "building tree 22 of 23\n",
      "building tree 23 of 23\n"
     ]
    },
    {
     "name": "stderr",
     "output_type": "stream",
     "text": [
      "[Parallel(n_jobs=1)]: Done  23 out of  23 | elapsed:    1.1s finished\n",
      "[Parallel(n_jobs=1)]: Using backend SequentialBackend with 1 concurrent workers.\n",
      "[Parallel(n_jobs=1)]: Done   1 out of   1 | elapsed:    0.0s remaining:    0.0s\n",
      "[Parallel(n_jobs=1)]: Done  23 out of  23 | elapsed:    0.3s finished\n",
      "[Parallel(n_jobs=1)]: Using backend SequentialBackend with 1 concurrent workers.\n",
      "[Parallel(n_jobs=1)]: Done   1 out of   1 | elapsed:    0.0s remaining:    0.0s\n"
     ]
    },
    {
     "name": "stdout",
     "output_type": "stream",
     "text": [
      "building tree 1 of 23\n",
      "building tree 2 of 23\n",
      "building tree 3 of 23\n",
      "building tree 4 of 23\n",
      "building tree 5 of 23\n",
      "building tree 6 of 23\n",
      "building tree 7 of 23\n",
      "building tree 8 of 23\n",
      "building tree 9 of 23\n",
      "building tree 10 of 23\n",
      "building tree 11 of 23\n",
      "building tree 12 of 23\n",
      "building tree 13 of 23\n",
      "building tree 14 of 23\n",
      "building tree 15 of 23\n",
      "building tree 16 of 23\n",
      "building tree 17 of 23\n",
      "building tree 18 of 23\n",
      "building tree 19 of 23\n",
      "building tree 20 of 23\n",
      "building tree 21 of 23\n",
      "building tree 22 of 23\n",
      "building tree 23 of 23\n"
     ]
    },
    {
     "name": "stderr",
     "output_type": "stream",
     "text": [
      "[Parallel(n_jobs=1)]: Done  23 out of  23 | elapsed:    1.1s finished\n",
      "[Parallel(n_jobs=1)]: Using backend SequentialBackend with 1 concurrent workers.\n",
      "[Parallel(n_jobs=1)]: Done   1 out of   1 | elapsed:    0.0s remaining:    0.0s\n",
      "[Parallel(n_jobs=1)]: Done  23 out of  23 | elapsed:    0.3s finished\n",
      "[Parallel(n_jobs=1)]: Using backend SequentialBackend with 1 concurrent workers.\n",
      "[Parallel(n_jobs=1)]: Done   1 out of   1 | elapsed:    0.0s remaining:    0.0s\n"
     ]
    },
    {
     "name": "stdout",
     "output_type": "stream",
     "text": [
      "building tree 1 of 23\n",
      "building tree 2 of 23\n",
      "building tree 3 of 23\n",
      "building tree 4 of 23\n",
      "building tree 5 of 23\n",
      "building tree 6 of 23\n",
      "building tree 7 of 23\n",
      "building tree 8 of 23\n",
      "building tree 9 of 23\n",
      "building tree 10 of 23\n",
      "building tree 11 of 23\n",
      "building tree 12 of 23\n",
      "building tree 13 of 23\n",
      "building tree 14 of 23\n",
      "building tree 15 of 23\n",
      "building tree 16 of 23\n",
      "building tree 17 of 23\n",
      "building tree 18 of 23\n",
      "building tree 19 of 23\n",
      "building tree 20 of 23\n",
      "building tree 21 of 23\n",
      "building tree 22 of 23\n",
      "building tree 23 of 23\n"
     ]
    },
    {
     "name": "stderr",
     "output_type": "stream",
     "text": [
      "[Parallel(n_jobs=1)]: Done  23 out of  23 | elapsed:    1.2s finished\n",
      "[Parallel(n_jobs=1)]: Using backend SequentialBackend with 1 concurrent workers.\n",
      "[Parallel(n_jobs=1)]: Done   1 out of   1 | elapsed:    0.0s remaining:    0.0s\n",
      "[Parallel(n_jobs=1)]: Done  23 out of  23 | elapsed:    0.3s finished\n",
      "[Parallel(n_jobs=1)]: Using backend SequentialBackend with 1 concurrent workers.\n"
     ]
    },
    {
     "name": "stdout",
     "output_type": "stream",
     "text": [
      "building tree 1 of 23\n"
     ]
    },
    {
     "name": "stderr",
     "output_type": "stream",
     "text": [
      "[Parallel(n_jobs=1)]: Done   1 out of   1 | elapsed:   14.9s remaining:    0.0s\n"
     ]
    },
    {
     "name": "stdout",
     "output_type": "stream",
     "text": [
      "building tree 2 of 23\n",
      "building tree 3 of 23\n",
      "building tree 4 of 23\n",
      "building tree 5 of 23\n",
      "building tree 6 of 23\n",
      "building tree 7 of 23\n",
      "building tree 8 of 23\n",
      "building tree 9 of 23\n",
      "building tree 10 of 23\n",
      "building tree 11 of 23\n",
      "building tree 12 of 23\n",
      "building tree 13 of 23\n",
      "building tree 14 of 23\n",
      "building tree 15 of 23\n",
      "building tree 16 of 23\n",
      "building tree 17 of 23\n",
      "building tree 18 of 23\n",
      "building tree 19 of 23\n",
      "building tree 20 of 23\n",
      "building tree 21 of 23\n",
      "building tree 22 of 23\n",
      "building tree 23 of 23\n"
     ]
    },
    {
     "name": "stderr",
     "output_type": "stream",
     "text": [
      "[Parallel(n_jobs=1)]: Done  23 out of  23 | elapsed:  5.6min finished\n",
      "[Parallel(n_jobs=1)]: Using backend SequentialBackend with 1 concurrent workers.\n",
      "[Parallel(n_jobs=1)]: Done   1 out of   1 | elapsed:    0.0s remaining:    0.0s\n",
      "[Parallel(n_jobs=1)]: Done  23 out of  23 | elapsed:    0.3s finished\n",
      "[Parallel(n_jobs=1)]: Using backend SequentialBackend with 1 concurrent workers.\n"
     ]
    },
    {
     "name": "stdout",
     "output_type": "stream",
     "text": [
      "building tree 1 of 23\n"
     ]
    },
    {
     "name": "stderr",
     "output_type": "stream",
     "text": [
      "[Parallel(n_jobs=1)]: Done   1 out of   1 | elapsed:   14.4s remaining:    0.0s\n"
     ]
    },
    {
     "name": "stdout",
     "output_type": "stream",
     "text": [
      "building tree 2 of 23\n",
      "building tree 3 of 23\n",
      "building tree 4 of 23\n",
      "building tree 5 of 23\n",
      "building tree 6 of 23\n",
      "building tree 7 of 23\n",
      "building tree 8 of 23\n",
      "building tree 9 of 23\n",
      "building tree 10 of 23\n",
      "building tree 11 of 23\n",
      "building tree 12 of 23\n",
      "building tree 13 of 23\n",
      "building tree 14 of 23\n",
      "building tree 15 of 23\n",
      "building tree 16 of 23\n",
      "building tree 17 of 23\n",
      "building tree 18 of 23\n",
      "building tree 19 of 23\n",
      "building tree 20 of 23\n",
      "building tree 21 of 23\n",
      "building tree 22 of 23\n",
      "building tree 23 of 23\n"
     ]
    },
    {
     "name": "stderr",
     "output_type": "stream",
     "text": [
      "[Parallel(n_jobs=1)]: Done  23 out of  23 | elapsed:  5.6min finished\n",
      "[Parallel(n_jobs=1)]: Using backend SequentialBackend with 1 concurrent workers.\n",
      "[Parallel(n_jobs=1)]: Done   1 out of   1 | elapsed:    0.0s remaining:    0.0s\n",
      "[Parallel(n_jobs=1)]: Done  23 out of  23 | elapsed:    0.3s finished\n",
      "[Parallel(n_jobs=1)]: Using backend SequentialBackend with 1 concurrent workers.\n"
     ]
    },
    {
     "name": "stdout",
     "output_type": "stream",
     "text": [
      "building tree 1 of 23\n"
     ]
    },
    {
     "name": "stderr",
     "output_type": "stream",
     "text": [
      "[Parallel(n_jobs=1)]: Done   1 out of   1 | elapsed:   14.5s remaining:    0.0s\n"
     ]
    },
    {
     "name": "stdout",
     "output_type": "stream",
     "text": [
      "building tree 2 of 23\n",
      "building tree 3 of 23\n",
      "building tree 4 of 23\n",
      "building tree 5 of 23\n",
      "building tree 6 of 23\n",
      "building tree 7 of 23\n",
      "building tree 8 of 23\n",
      "building tree 9 of 23\n",
      "building tree 10 of 23\n",
      "building tree 11 of 23\n",
      "building tree 12 of 23\n",
      "building tree 13 of 23\n",
      "building tree 14 of 23\n",
      "building tree 15 of 23\n",
      "building tree 16 of 23\n",
      "building tree 17 of 23\n",
      "building tree 18 of 23\n",
      "building tree 19 of 23\n",
      "building tree 20 of 23\n",
      "building tree 21 of 23\n",
      "building tree 22 of 23\n",
      "building tree 23 of 23\n"
     ]
    },
    {
     "name": "stderr",
     "output_type": "stream",
     "text": [
      "[Parallel(n_jobs=1)]: Done  23 out of  23 | elapsed:  5.8min finished\n",
      "[Parallel(n_jobs=1)]: Using backend SequentialBackend with 1 concurrent workers.\n",
      "[Parallel(n_jobs=1)]: Done   1 out of   1 | elapsed:    0.0s remaining:    0.0s\n",
      "[Parallel(n_jobs=1)]: Done  23 out of  23 | elapsed:    0.3s finished\n",
      "[Parallel(n_jobs=1)]: Using backend SequentialBackend with 1 concurrent workers.\n"
     ]
    },
    {
     "name": "stdout",
     "output_type": "stream",
     "text": [
      "building tree 1 of 23\n"
     ]
    },
    {
     "name": "stderr",
     "output_type": "stream",
     "text": [
      "[Parallel(n_jobs=1)]: Done   1 out of   1 | elapsed:   15.2s remaining:    0.0s\n"
     ]
    },
    {
     "name": "stdout",
     "output_type": "stream",
     "text": [
      "building tree 2 of 23\n",
      "building tree 3 of 23\n",
      "building tree 4 of 23\n",
      "building tree 5 of 23\n",
      "building tree 6 of 23\n",
      "building tree 7 of 23\n",
      "building tree 8 of 23\n",
      "building tree 9 of 23\n",
      "building tree 10 of 23\n",
      "building tree 11 of 23\n",
      "building tree 12 of 23\n",
      "building tree 13 of 23\n",
      "building tree 14 of 23\n",
      "building tree 15 of 23\n",
      "building tree 16 of 23\n",
      "building tree 17 of 23\n",
      "building tree 18 of 23\n",
      "building tree 19 of 23\n",
      "building tree 20 of 23\n",
      "building tree 21 of 23\n",
      "building tree 22 of 23\n",
      "building tree 23 of 23\n"
     ]
    },
    {
     "name": "stderr",
     "output_type": "stream",
     "text": [
      "[Parallel(n_jobs=1)]: Done  23 out of  23 | elapsed:  5.8min finished\n",
      "[Parallel(n_jobs=1)]: Using backend SequentialBackend with 1 concurrent workers.\n",
      "[Parallel(n_jobs=1)]: Done   1 out of   1 | elapsed:    0.0s remaining:    0.0s\n",
      "[Parallel(n_jobs=1)]: Done  23 out of  23 | elapsed:    0.3s finished\n",
      "[Parallel(n_jobs=1)]: Using backend SequentialBackend with 1 concurrent workers.\n"
     ]
    },
    {
     "name": "stdout",
     "output_type": "stream",
     "text": [
      "building tree 1 of 23\n"
     ]
    },
    {
     "name": "stderr",
     "output_type": "stream",
     "text": [
      "[Parallel(n_jobs=1)]: Done   1 out of   1 | elapsed:   14.5s remaining:    0.0s\n"
     ]
    },
    {
     "name": "stdout",
     "output_type": "stream",
     "text": [
      "building tree 2 of 23\n",
      "building tree 3 of 23\n",
      "building tree 4 of 23\n",
      "building tree 5 of 23\n",
      "building tree 6 of 23\n",
      "building tree 7 of 23\n",
      "building tree 8 of 23\n",
      "building tree 9 of 23\n",
      "building tree 10 of 23\n",
      "building tree 11 of 23\n",
      "building tree 12 of 23\n",
      "building tree 13 of 23\n",
      "building tree 14 of 23\n",
      "building tree 15 of 23\n",
      "building tree 16 of 23\n",
      "building tree 17 of 23\n",
      "building tree 18 of 23\n",
      "building tree 19 of 23\n",
      "building tree 20 of 23\n",
      "building tree 21 of 23\n",
      "building tree 22 of 23\n",
      "building tree 23 of 23\n"
     ]
    },
    {
     "name": "stderr",
     "output_type": "stream",
     "text": [
      "[Parallel(n_jobs=1)]: Done  23 out of  23 | elapsed:  5.6min finished\n",
      "[Parallel(n_jobs=1)]: Using backend SequentialBackend with 1 concurrent workers.\n",
      "[Parallel(n_jobs=1)]: Done   1 out of   1 | elapsed:    0.0s remaining:    0.0s\n",
      "[Parallel(n_jobs=1)]: Done  23 out of  23 | elapsed:    0.3s finished\n",
      "[Parallel(n_jobs=1)]: Using backend SequentialBackend with 1 concurrent workers.\n",
      "[Parallel(n_jobs=1)]: Done   1 out of   1 | elapsed:    0.0s remaining:    0.0s\n"
     ]
    },
    {
     "name": "stdout",
     "output_type": "stream",
     "text": [
      "building tree 1 of 23\n",
      "building tree 2 of 23\n",
      "building tree 3 of 23\n",
      "building tree 4 of 23\n",
      "building tree 5 of 23\n",
      "building tree 6 of 23\n",
      "building tree 7 of 23\n",
      "building tree 8 of 23\n",
      "building tree 9 of 23\n",
      "building tree 10 of 23\n",
      "building tree 11 of 23\n",
      "building tree 12 of 23\n",
      "building tree 13 of 23\n",
      "building tree 14 of 23\n",
      "building tree 15 of 23\n",
      "building tree 16 of 23\n",
      "building tree 17 of 23\n",
      "building tree 18 of 23\n",
      "building tree 19 of 23\n",
      "building tree 20 of 23\n",
      "building tree 21 of 23\n",
      "building tree 22 of 23\n",
      "building tree 23 of 23\n"
     ]
    },
    {
     "name": "stderr",
     "output_type": "stream",
     "text": [
      "[Parallel(n_jobs=1)]: Done  23 out of  23 | elapsed:    2.9s finished\n",
      "[Parallel(n_jobs=1)]: Using backend SequentialBackend with 1 concurrent workers.\n",
      "[Parallel(n_jobs=1)]: Done   1 out of   1 | elapsed:    0.0s remaining:    0.0s\n",
      "[Parallel(n_jobs=1)]: Done  23 out of  23 | elapsed:    0.3s finished\n",
      "[Parallel(n_jobs=1)]: Using backend SequentialBackend with 1 concurrent workers.\n",
      "[Parallel(n_jobs=1)]: Done   1 out of   1 | elapsed:    0.1s remaining:    0.0s\n"
     ]
    },
    {
     "name": "stdout",
     "output_type": "stream",
     "text": [
      "building tree 1 of 23\n",
      "building tree 2 of 23\n",
      "building tree 3 of 23\n",
      "building tree 4 of 23\n",
      "building tree 5 of 23\n",
      "building tree 6 of 23\n",
      "building tree 7 of 23\n",
      "building tree 8 of 23\n",
      "building tree 9 of 23\n",
      "building tree 10 of 23\n",
      "building tree 11 of 23\n",
      "building tree 12 of 23\n",
      "building tree 13 of 23\n",
      "building tree 14 of 23\n",
      "building tree 15 of 23\n",
      "building tree 16 of 23\n",
      "building tree 17 of 23\n",
      "building tree 18 of 23\n",
      "building tree 19 of 23\n",
      "building tree 20 of 23\n",
      "building tree 21 of 23\n",
      "building tree 22 of 23\n",
      "building tree 23 of 23\n"
     ]
    },
    {
     "name": "stderr",
     "output_type": "stream",
     "text": [
      "[Parallel(n_jobs=1)]: Done  23 out of  23 | elapsed:    3.2s finished\n",
      "[Parallel(n_jobs=1)]: Using backend SequentialBackend with 1 concurrent workers.\n",
      "[Parallel(n_jobs=1)]: Done   1 out of   1 | elapsed:    0.0s remaining:    0.0s\n",
      "[Parallel(n_jobs=1)]: Done  23 out of  23 | elapsed:    0.3s finished\n",
      "[Parallel(n_jobs=1)]: Using backend SequentialBackend with 1 concurrent workers.\n",
      "[Parallel(n_jobs=1)]: Done   1 out of   1 | elapsed:    0.0s remaining:    0.0s\n"
     ]
    },
    {
     "name": "stdout",
     "output_type": "stream",
     "text": [
      "building tree 1 of 23\n",
      "building tree 2 of 23\n",
      "building tree 3 of 23\n",
      "building tree 4 of 23\n",
      "building tree 5 of 23\n",
      "building tree 6 of 23\n",
      "building tree 7 of 23\n",
      "building tree 8 of 23\n",
      "building tree 9 of 23\n",
      "building tree 10 of 23\n",
      "building tree 11 of 23\n",
      "building tree 12 of 23\n",
      "building tree 13 of 23\n",
      "building tree 14 of 23\n",
      "building tree 15 of 23\n",
      "building tree 16 of 23\n",
      "building tree 17 of 23\n",
      "building tree 18 of 23\n",
      "building tree 19 of 23\n",
      "building tree 20 of 23\n",
      "building tree 21 of 23\n",
      "building tree 22 of 23\n",
      "building tree 23 of 23\n"
     ]
    },
    {
     "name": "stderr",
     "output_type": "stream",
     "text": [
      "[Parallel(n_jobs=1)]: Done  23 out of  23 | elapsed:    3.3s finished\n",
      "[Parallel(n_jobs=1)]: Using backend SequentialBackend with 1 concurrent workers.\n",
      "[Parallel(n_jobs=1)]: Done   1 out of   1 | elapsed:    0.0s remaining:    0.0s\n",
      "[Parallel(n_jobs=1)]: Done  23 out of  23 | elapsed:    0.3s finished\n",
      "[Parallel(n_jobs=1)]: Using backend SequentialBackend with 1 concurrent workers.\n",
      "[Parallel(n_jobs=1)]: Done   1 out of   1 | elapsed:    0.0s remaining:    0.0s\n"
     ]
    },
    {
     "name": "stdout",
     "output_type": "stream",
     "text": [
      "building tree 1 of 23\n",
      "building tree 2 of 23\n",
      "building tree 3 of 23\n",
      "building tree 4 of 23\n",
      "building tree 5 of 23\n",
      "building tree 6 of 23\n",
      "building tree 7 of 23\n",
      "building tree 8 of 23\n",
      "building tree 9 of 23\n",
      "building tree 10 of 23\n",
      "building tree 11 of 23\n",
      "building tree 12 of 23\n",
      "building tree 13 of 23\n",
      "building tree 14 of 23\n",
      "building tree 15 of 23\n",
      "building tree 16 of 23\n",
      "building tree 17 of 23\n",
      "building tree 18 of 23\n",
      "building tree 19 of 23\n",
      "building tree 20 of 23\n",
      "building tree 21 of 23\n",
      "building tree 22 of 23\n",
      "building tree 23 of 23\n"
     ]
    },
    {
     "name": "stderr",
     "output_type": "stream",
     "text": [
      "[Parallel(n_jobs=1)]: Done  23 out of  23 | elapsed:    2.7s finished\n",
      "[Parallel(n_jobs=1)]: Using backend SequentialBackend with 1 concurrent workers.\n",
      "[Parallel(n_jobs=1)]: Done   1 out of   1 | elapsed:    0.0s remaining:    0.0s\n",
      "[Parallel(n_jobs=1)]: Done  23 out of  23 | elapsed:    0.3s finished\n",
      "[Parallel(n_jobs=1)]: Using backend SequentialBackend with 1 concurrent workers.\n",
      "[Parallel(n_jobs=1)]: Done   1 out of   1 | elapsed:    0.0s remaining:    0.0s\n"
     ]
    },
    {
     "name": "stdout",
     "output_type": "stream",
     "text": [
      "building tree 1 of 23\n",
      "building tree 2 of 23\n",
      "building tree 3 of 23\n",
      "building tree 4 of 23\n",
      "building tree 5 of 23\n",
      "building tree 6 of 23\n",
      "building tree 7 of 23\n",
      "building tree 8 of 23\n",
      "building tree 9 of 23\n",
      "building tree 10 of 23\n",
      "building tree 11 of 23\n",
      "building tree 12 of 23\n",
      "building tree 13 of 23\n",
      "building tree 14 of 23\n",
      "building tree 15 of 23\n",
      "building tree 16 of 23\n",
      "building tree 17 of 23\n",
      "building tree 18 of 23\n",
      "building tree 19 of 23\n",
      "building tree 20 of 23\n",
      "building tree 21 of 23\n",
      "building tree 22 of 23\n",
      "building tree 23 of 23\n"
     ]
    },
    {
     "name": "stderr",
     "output_type": "stream",
     "text": [
      "[Parallel(n_jobs=1)]: Done  23 out of  23 | elapsed:    2.6s finished\n",
      "[Parallel(n_jobs=1)]: Using backend SequentialBackend with 1 concurrent workers.\n",
      "[Parallel(n_jobs=1)]: Done   1 out of   1 | elapsed:    0.0s remaining:    0.0s\n",
      "[Parallel(n_jobs=1)]: Done  23 out of  23 | elapsed:    0.4s finished\n",
      "[Parallel(n_jobs=1)]: Using backend SequentialBackend with 1 concurrent workers.\n",
      "[Parallel(n_jobs=1)]: Done   1 out of   1 | elapsed:    0.0s remaining:    0.0s\n"
     ]
    },
    {
     "name": "stdout",
     "output_type": "stream",
     "text": [
      "building tree 1 of 23\n",
      "building tree 2 of 23\n",
      "building tree 3 of 23\n",
      "building tree 4 of 23\n",
      "building tree 5 of 23\n",
      "building tree 6 of 23\n",
      "building tree 7 of 23\n",
      "building tree 8 of 23\n",
      "building tree 9 of 23\n",
      "building tree 10 of 23\n",
      "building tree 11 of 23\n",
      "building tree 12 of 23\n",
      "building tree 13 of 23\n",
      "building tree 14 of 23\n",
      "building tree 15 of 23\n",
      "building tree 16 of 23\n",
      "building tree 17 of 23\n",
      "building tree 18 of 23\n",
      "building tree 19 of 23\n",
      "building tree 20 of 23\n",
      "building tree 21 of 23\n",
      "building tree 22 of 23\n",
      "building tree 23 of 23\n"
     ]
    },
    {
     "name": "stderr",
     "output_type": "stream",
     "text": [
      "[Parallel(n_jobs=1)]: Done  23 out of  23 | elapsed:    2.9s finished\n",
      "[Parallel(n_jobs=1)]: Using backend SequentialBackend with 1 concurrent workers.\n",
      "[Parallel(n_jobs=1)]: Done   1 out of   1 | elapsed:    0.0s remaining:    0.0s\n",
      "[Parallel(n_jobs=1)]: Done  23 out of  23 | elapsed:    0.3s finished\n",
      "[Parallel(n_jobs=1)]: Using backend SequentialBackend with 1 concurrent workers.\n",
      "[Parallel(n_jobs=1)]: Done   1 out of   1 | elapsed:    0.0s remaining:    0.0s\n"
     ]
    },
    {
     "name": "stdout",
     "output_type": "stream",
     "text": [
      "building tree 1 of 23\n",
      "building tree 2 of 23\n",
      "building tree 3 of 23\n",
      "building tree 4 of 23\n",
      "building tree 5 of 23\n",
      "building tree 6 of 23\n",
      "building tree 7 of 23\n",
      "building tree 8 of 23\n",
      "building tree 9 of 23\n",
      "building tree 10 of 23\n",
      "building tree 11 of 23\n",
      "building tree 12 of 23\n",
      "building tree 13 of 23\n",
      "building tree 14 of 23\n",
      "building tree 15 of 23\n",
      "building tree 16 of 23\n",
      "building tree 17 of 23\n",
      "building tree 18 of 23\n",
      "building tree 19 of 23\n",
      "building tree 20 of 23\n",
      "building tree 21 of 23\n",
      "building tree 22 of 23\n",
      "building tree 23 of 23\n"
     ]
    },
    {
     "name": "stderr",
     "output_type": "stream",
     "text": [
      "[Parallel(n_jobs=1)]: Done  23 out of  23 | elapsed:    2.7s finished\n",
      "[Parallel(n_jobs=1)]: Using backend SequentialBackend with 1 concurrent workers.\n",
      "[Parallel(n_jobs=1)]: Done   1 out of   1 | elapsed:    0.0s remaining:    0.0s\n",
      "[Parallel(n_jobs=1)]: Done  23 out of  23 | elapsed:    0.4s finished\n",
      "[Parallel(n_jobs=1)]: Using backend SequentialBackend with 1 concurrent workers.\n",
      "[Parallel(n_jobs=1)]: Done   1 out of   1 | elapsed:    0.0s remaining:    0.0s\n"
     ]
    },
    {
     "name": "stdout",
     "output_type": "stream",
     "text": [
      "building tree 1 of 23\n",
      "building tree 2 of 23\n",
      "building tree 3 of 23\n",
      "building tree 4 of 23\n",
      "building tree 5 of 23\n",
      "building tree 6 of 23\n",
      "building tree 7 of 23\n",
      "building tree 8 of 23\n",
      "building tree 9 of 23\n",
      "building tree 10 of 23\n",
      "building tree 11 of 23\n",
      "building tree 12 of 23\n",
      "building tree 13 of 23\n",
      "building tree 14 of 23\n",
      "building tree 15 of 23\n",
      "building tree 16 of 23\n",
      "building tree 17 of 23\n",
      "building tree 18 of 23\n",
      "building tree 19 of 23\n",
      "building tree 20 of 23\n",
      "building tree 21 of 23\n",
      "building tree 22 of 23\n",
      "building tree 23 of 23\n"
     ]
    },
    {
     "name": "stderr",
     "output_type": "stream",
     "text": [
      "[Parallel(n_jobs=1)]: Done  23 out of  23 | elapsed:    2.9s finished\n",
      "[Parallel(n_jobs=1)]: Using backend SequentialBackend with 1 concurrent workers.\n",
      "[Parallel(n_jobs=1)]: Done   1 out of   1 | elapsed:    0.0s remaining:    0.0s\n",
      "[Parallel(n_jobs=1)]: Done  23 out of  23 | elapsed:    0.3s finished\n",
      "[Parallel(n_jobs=1)]: Using backend SequentialBackend with 1 concurrent workers.\n",
      "[Parallel(n_jobs=1)]: Done   1 out of   1 | elapsed:    0.0s remaining:    0.0s\n"
     ]
    },
    {
     "name": "stdout",
     "output_type": "stream",
     "text": [
      "building tree 1 of 23\n",
      "building tree 2 of 23\n",
      "building tree 3 of 23\n",
      "building tree 4 of 23\n",
      "building tree 5 of 23\n",
      "building tree 6 of 23\n",
      "building tree 7 of 23\n",
      "building tree 8 of 23\n",
      "building tree 9 of 23\n",
      "building tree 10 of 23\n",
      "building tree 11 of 23\n",
      "building tree 12 of 23\n",
      "building tree 13 of 23\n",
      "building tree 14 of 23\n",
      "building tree 15 of 23\n",
      "building tree 16 of 23\n",
      "building tree 17 of 23\n",
      "building tree 18 of 23\n",
      "building tree 19 of 23\n",
      "building tree 20 of 23\n",
      "building tree 21 of 23\n",
      "building tree 22 of 23\n",
      "building tree 23 of 23\n"
     ]
    },
    {
     "name": "stderr",
     "output_type": "stream",
     "text": [
      "[Parallel(n_jobs=1)]: Done  23 out of  23 | elapsed:    2.9s finished\n",
      "[Parallel(n_jobs=1)]: Using backend SequentialBackend with 1 concurrent workers.\n",
      "[Parallel(n_jobs=1)]: Done   1 out of   1 | elapsed:    0.0s remaining:    0.0s\n",
      "[Parallel(n_jobs=1)]: Done  23 out of  23 | elapsed:    0.3s finished\n",
      "[Parallel(n_jobs=1)]: Using backend SequentialBackend with 1 concurrent workers.\n",
      "[Parallel(n_jobs=1)]: Done   1 out of   1 | elapsed:    0.0s remaining:    0.0s\n"
     ]
    },
    {
     "name": "stdout",
     "output_type": "stream",
     "text": [
      "building tree 1 of 23\n",
      "building tree 2 of 23\n",
      "building tree 3 of 23\n",
      "building tree 4 of 23\n",
      "building tree 5 of 23\n",
      "building tree 6 of 23\n",
      "building tree 7 of 23\n",
      "building tree 8 of 23\n",
      "building tree 9 of 23\n",
      "building tree 10 of 23\n",
      "building tree 11 of 23\n",
      "building tree 12 of 23\n",
      "building tree 13 of 23\n",
      "building tree 14 of 23\n",
      "building tree 15 of 23\n",
      "building tree 16 of 23\n",
      "building tree 17 of 23\n",
      "building tree 18 of 23\n",
      "building tree 19 of 23\n",
      "building tree 20 of 23\n",
      "building tree 21 of 23\n",
      "building tree 22 of 23\n",
      "building tree 23 of 23\n"
     ]
    },
    {
     "name": "stderr",
     "output_type": "stream",
     "text": [
      "[Parallel(n_jobs=1)]: Done  23 out of  23 | elapsed:    2.6s finished\n",
      "[Parallel(n_jobs=1)]: Using backend SequentialBackend with 1 concurrent workers.\n",
      "[Parallel(n_jobs=1)]: Done   1 out of   1 | elapsed:    0.0s remaining:    0.0s\n",
      "[Parallel(n_jobs=1)]: Done  23 out of  23 | elapsed:    0.4s finished\n",
      "[Parallel(n_jobs=1)]: Using backend SequentialBackend with 1 concurrent workers.\n",
      "[Parallel(n_jobs=1)]: Done   1 out of   1 | elapsed:    0.0s remaining:    0.0s\n"
     ]
    },
    {
     "name": "stdout",
     "output_type": "stream",
     "text": [
      "building tree 1 of 23\n",
      "building tree 2 of 23\n",
      "building tree 3 of 23\n",
      "building tree 4 of 23\n",
      "building tree 5 of 23\n",
      "building tree 6 of 23\n",
      "building tree 7 of 23\n",
      "building tree 8 of 23\n",
      "building tree 9 of 23\n",
      "building tree 10 of 23\n",
      "building tree 11 of 23\n",
      "building tree 12 of 23\n",
      "building tree 13 of 23\n",
      "building tree 14 of 23\n",
      "building tree 15 of 23\n",
      "building tree 16 of 23\n",
      "building tree 17 of 23\n",
      "building tree 18 of 23\n",
      "building tree 19 of 23\n",
      "building tree 20 of 23\n",
      "building tree 21 of 23\n",
      "building tree 22 of 23\n",
      "building tree 23 of 23\n"
     ]
    },
    {
     "name": "stderr",
     "output_type": "stream",
     "text": [
      "[Parallel(n_jobs=1)]: Done  23 out of  23 | elapsed:    1.3s finished\n",
      "[Parallel(n_jobs=1)]: Using backend SequentialBackend with 1 concurrent workers.\n",
      "[Parallel(n_jobs=1)]: Done   1 out of   1 | elapsed:    0.0s remaining:    0.0s\n",
      "[Parallel(n_jobs=1)]: Done  23 out of  23 | elapsed:    0.3s finished\n",
      "[Parallel(n_jobs=1)]: Using backend SequentialBackend with 1 concurrent workers.\n",
      "[Parallel(n_jobs=1)]: Done   1 out of   1 | elapsed:    0.0s remaining:    0.0s\n"
     ]
    },
    {
     "name": "stdout",
     "output_type": "stream",
     "text": [
      "building tree 1 of 23\n",
      "building tree 2 of 23\n",
      "building tree 3 of 23\n",
      "building tree 4 of 23\n",
      "building tree 5 of 23\n",
      "building tree 6 of 23\n",
      "building tree 7 of 23\n",
      "building tree 8 of 23\n",
      "building tree 9 of 23\n",
      "building tree 10 of 23\n",
      "building tree 11 of 23\n",
      "building tree 12 of 23\n",
      "building tree 13 of 23\n",
      "building tree 14 of 23\n",
      "building tree 15 of 23\n",
      "building tree 16 of 23\n",
      "building tree 17 of 23\n",
      "building tree 18 of 23\n",
      "building tree 19 of 23\n",
      "building tree 20 of 23\n",
      "building tree 21 of 23\n",
      "building tree 22 of 23\n",
      "building tree 23 of 23\n"
     ]
    },
    {
     "name": "stderr",
     "output_type": "stream",
     "text": [
      "[Parallel(n_jobs=1)]: Done  23 out of  23 | elapsed:    1.2s finished\n",
      "[Parallel(n_jobs=1)]: Using backend SequentialBackend with 1 concurrent workers.\n",
      "[Parallel(n_jobs=1)]: Done   1 out of   1 | elapsed:    0.0s remaining:    0.0s\n",
      "[Parallel(n_jobs=1)]: Done  23 out of  23 | elapsed:    0.3s finished\n",
      "[Parallel(n_jobs=1)]: Using backend SequentialBackend with 1 concurrent workers.\n",
      "[Parallel(n_jobs=1)]: Done   1 out of   1 | elapsed:    0.0s remaining:    0.0s\n"
     ]
    },
    {
     "name": "stdout",
     "output_type": "stream",
     "text": [
      "building tree 1 of 23\n",
      "building tree 2 of 23\n",
      "building tree 3 of 23\n",
      "building tree 4 of 23\n",
      "building tree 5 of 23\n",
      "building tree 6 of 23\n",
      "building tree 7 of 23\n",
      "building tree 8 of 23\n",
      "building tree 9 of 23\n",
      "building tree 10 of 23\n",
      "building tree 11 of 23\n",
      "building tree 12 of 23\n",
      "building tree 13 of 23\n",
      "building tree 14 of 23\n",
      "building tree 15 of 23\n",
      "building tree 16 of 23\n",
      "building tree 17 of 23\n",
      "building tree 18 of 23\n",
      "building tree 19 of 23\n",
      "building tree 20 of 23\n",
      "building tree 21 of 23\n",
      "building tree 22 of 23\n",
      "building tree 23 of 23\n"
     ]
    },
    {
     "name": "stderr",
     "output_type": "stream",
     "text": [
      "[Parallel(n_jobs=1)]: Done  23 out of  23 | elapsed:    1.2s finished\n",
      "[Parallel(n_jobs=1)]: Using backend SequentialBackend with 1 concurrent workers.\n",
      "[Parallel(n_jobs=1)]: Done   1 out of   1 | elapsed:    0.0s remaining:    0.0s\n",
      "[Parallel(n_jobs=1)]: Done  23 out of  23 | elapsed:    0.3s finished\n",
      "[Parallel(n_jobs=1)]: Using backend SequentialBackend with 1 concurrent workers.\n",
      "[Parallel(n_jobs=1)]: Done   1 out of   1 | elapsed:    0.0s remaining:    0.0s\n"
     ]
    },
    {
     "name": "stdout",
     "output_type": "stream",
     "text": [
      "building tree 1 of 23\n",
      "building tree 2 of 23\n",
      "building tree 3 of 23\n",
      "building tree 4 of 23\n",
      "building tree 5 of 23\n",
      "building tree 6 of 23\n",
      "building tree 7 of 23\n",
      "building tree 8 of 23\n",
      "building tree 9 of 23\n",
      "building tree 10 of 23\n",
      "building tree 11 of 23\n",
      "building tree 12 of 23\n",
      "building tree 13 of 23\n",
      "building tree 14 of 23\n",
      "building tree 15 of 23\n",
      "building tree 16 of 23\n",
      "building tree 17 of 23\n",
      "building tree 18 of 23\n",
      "building tree 19 of 23\n",
      "building tree 20 of 23\n",
      "building tree 21 of 23\n",
      "building tree 22 of 23\n",
      "building tree 23 of 23\n"
     ]
    },
    {
     "name": "stderr",
     "output_type": "stream",
     "text": [
      "[Parallel(n_jobs=1)]: Done  23 out of  23 | elapsed:    1.2s finished\n",
      "[Parallel(n_jobs=1)]: Using backend SequentialBackend with 1 concurrent workers.\n",
      "[Parallel(n_jobs=1)]: Done   1 out of   1 | elapsed:    0.0s remaining:    0.0s\n",
      "[Parallel(n_jobs=1)]: Done  23 out of  23 | elapsed:    0.3s finished\n",
      "[Parallel(n_jobs=1)]: Using backend SequentialBackend with 1 concurrent workers.\n",
      "[Parallel(n_jobs=1)]: Done   1 out of   1 | elapsed:    0.0s remaining:    0.0s\n"
     ]
    },
    {
     "name": "stdout",
     "output_type": "stream",
     "text": [
      "building tree 1 of 23\n",
      "building tree 2 of 23\n",
      "building tree 3 of 23\n",
      "building tree 4 of 23\n",
      "building tree 5 of 23\n",
      "building tree 6 of 23\n",
      "building tree 7 of 23\n",
      "building tree 8 of 23\n",
      "building tree 9 of 23\n",
      "building tree 10 of 23\n",
      "building tree 11 of 23\n",
      "building tree 12 of 23\n",
      "building tree 13 of 23\n",
      "building tree 14 of 23\n",
      "building tree 15 of 23\n",
      "building tree 16 of 23\n",
      "building tree 17 of 23\n",
      "building tree 18 of 23\n",
      "building tree 19 of 23\n",
      "building tree 20 of 23\n",
      "building tree 21 of 23\n",
      "building tree 22 of 23\n",
      "building tree 23 of 23\n"
     ]
    },
    {
     "name": "stderr",
     "output_type": "stream",
     "text": [
      "[Parallel(n_jobs=1)]: Done  23 out of  23 | elapsed:    1.3s finished\n",
      "[Parallel(n_jobs=1)]: Using backend SequentialBackend with 1 concurrent workers.\n",
      "[Parallel(n_jobs=1)]: Done   1 out of   1 | elapsed:    0.0s remaining:    0.0s\n",
      "[Parallel(n_jobs=1)]: Done  23 out of  23 | elapsed:    0.3s finished\n",
      "[Parallel(n_jobs=1)]: Using backend SequentialBackend with 1 concurrent workers.\n"
     ]
    },
    {
     "name": "stdout",
     "output_type": "stream",
     "text": [
      "building tree 1 of 23\n"
     ]
    },
    {
     "name": "stderr",
     "output_type": "stream",
     "text": [
      "[Parallel(n_jobs=1)]: Done   1 out of   1 | elapsed:   25.8s remaining:    0.0s\n"
     ]
    },
    {
     "name": "stdout",
     "output_type": "stream",
     "text": [
      "building tree 2 of 23\n",
      "building tree 3 of 23\n",
      "building tree 4 of 23\n",
      "building tree 5 of 23\n",
      "building tree 6 of 23\n",
      "building tree 7 of 23\n",
      "building tree 8 of 23\n",
      "building tree 9 of 23\n",
      "building tree 10 of 23\n",
      "building tree 11 of 23\n",
      "building tree 12 of 23\n",
      "building tree 13 of 23\n",
      "building tree 14 of 23\n",
      "building tree 15 of 23\n",
      "building tree 16 of 23\n",
      "building tree 17 of 23\n",
      "building tree 18 of 23\n",
      "building tree 19 of 23\n",
      "building tree 20 of 23\n",
      "building tree 21 of 23\n",
      "building tree 22 of 23\n",
      "building tree 23 of 23\n"
     ]
    },
    {
     "name": "stderr",
     "output_type": "stream",
     "text": [
      "[Parallel(n_jobs=1)]: Done  23 out of  23 | elapsed:  9.7min finished\n",
      "[Parallel(n_jobs=1)]: Using backend SequentialBackend with 1 concurrent workers.\n",
      "[Parallel(n_jobs=1)]: Done   1 out of   1 | elapsed:    0.0s remaining:    0.0s\n",
      "[Parallel(n_jobs=1)]: Done  23 out of  23 | elapsed:    0.3s finished\n",
      "[Parallel(n_jobs=1)]: Using backend SequentialBackend with 1 concurrent workers.\n"
     ]
    },
    {
     "name": "stdout",
     "output_type": "stream",
     "text": [
      "building tree 1 of 23\n"
     ]
    },
    {
     "name": "stderr",
     "output_type": "stream",
     "text": [
      "[Parallel(n_jobs=1)]: Done   1 out of   1 | elapsed:   26.0s remaining:    0.0s\n"
     ]
    },
    {
     "name": "stdout",
     "output_type": "stream",
     "text": [
      "building tree 2 of 23\n",
      "building tree 3 of 23\n",
      "building tree 4 of 23\n",
      "building tree 5 of 23\n",
      "building tree 6 of 23\n",
      "building tree 7 of 23\n",
      "building tree 8 of 23\n",
      "building tree 9 of 23\n",
      "building tree 10 of 23\n",
      "building tree 11 of 23\n",
      "building tree 12 of 23\n",
      "building tree 13 of 23\n",
      "building tree 14 of 23\n",
      "building tree 15 of 23\n",
      "building tree 16 of 23\n",
      "building tree 17 of 23\n",
      "building tree 18 of 23\n",
      "building tree 19 of 23\n",
      "building tree 20 of 23\n",
      "building tree 21 of 23\n",
      "building tree 22 of 23\n",
      "building tree 23 of 23\n"
     ]
    },
    {
     "name": "stderr",
     "output_type": "stream",
     "text": [
      "[Parallel(n_jobs=1)]: Done  23 out of  23 | elapsed:  9.7min finished\n",
      "[Parallel(n_jobs=1)]: Using backend SequentialBackend with 1 concurrent workers.\n",
      "[Parallel(n_jobs=1)]: Done   1 out of   1 | elapsed:    0.0s remaining:    0.0s\n",
      "[Parallel(n_jobs=1)]: Done  23 out of  23 | elapsed:    0.4s finished\n",
      "[Parallel(n_jobs=1)]: Using backend SequentialBackend with 1 concurrent workers.\n"
     ]
    },
    {
     "name": "stdout",
     "output_type": "stream",
     "text": [
      "building tree 1 of 23\n"
     ]
    },
    {
     "name": "stderr",
     "output_type": "stream",
     "text": [
      "[Parallel(n_jobs=1)]: Done   1 out of   1 | elapsed:   25.5s remaining:    0.0s\n"
     ]
    },
    {
     "name": "stdout",
     "output_type": "stream",
     "text": [
      "building tree 2 of 23\n",
      "building tree 3 of 23\n",
      "building tree 4 of 23\n",
      "building tree 5 of 23\n",
      "building tree 6 of 23\n",
      "building tree 7 of 23\n",
      "building tree 8 of 23\n",
      "building tree 9 of 23\n",
      "building tree 10 of 23\n",
      "building tree 11 of 23\n",
      "building tree 12 of 23\n",
      "building tree 13 of 23\n",
      "building tree 14 of 23\n",
      "building tree 15 of 23\n",
      "building tree 16 of 23\n",
      "building tree 17 of 23\n",
      "building tree 18 of 23\n",
      "building tree 19 of 23\n",
      "building tree 20 of 23\n",
      "building tree 21 of 23\n",
      "building tree 22 of 23\n",
      "building tree 23 of 23\n"
     ]
    },
    {
     "name": "stderr",
     "output_type": "stream",
     "text": [
      "[Parallel(n_jobs=1)]: Done  23 out of  23 | elapsed:  9.9min finished\n",
      "[Parallel(n_jobs=1)]: Using backend SequentialBackend with 1 concurrent workers.\n",
      "[Parallel(n_jobs=1)]: Done   1 out of   1 | elapsed:    0.0s remaining:    0.0s\n",
      "[Parallel(n_jobs=1)]: Done  23 out of  23 | elapsed:    0.3s finished\n",
      "[Parallel(n_jobs=1)]: Using backend SequentialBackend with 1 concurrent workers.\n"
     ]
    },
    {
     "name": "stdout",
     "output_type": "stream",
     "text": [
      "building tree 1 of 23\n"
     ]
    },
    {
     "name": "stderr",
     "output_type": "stream",
     "text": [
      "[Parallel(n_jobs=1)]: Done   1 out of   1 | elapsed:   25.3s remaining:    0.0s\n"
     ]
    },
    {
     "name": "stdout",
     "output_type": "stream",
     "text": [
      "building tree 2 of 23\n",
      "building tree 3 of 23\n",
      "building tree 4 of 23\n",
      "building tree 5 of 23\n",
      "building tree 6 of 23\n",
      "building tree 7 of 23\n",
      "building tree 8 of 23\n",
      "building tree 9 of 23\n",
      "building tree 10 of 23\n",
      "building tree 11 of 23\n",
      "building tree 12 of 23\n",
      "building tree 13 of 23\n",
      "building tree 14 of 23\n",
      "building tree 15 of 23\n",
      "building tree 16 of 23\n",
      "building tree 17 of 23\n",
      "building tree 18 of 23\n",
      "building tree 19 of 23\n",
      "building tree 20 of 23\n",
      "building tree 21 of 23\n",
      "building tree 22 of 23\n",
      "building tree 23 of 23\n"
     ]
    },
    {
     "name": "stderr",
     "output_type": "stream",
     "text": [
      "[Parallel(n_jobs=1)]: Done  23 out of  23 | elapsed:  9.7min finished\n",
      "[Parallel(n_jobs=1)]: Using backend SequentialBackend with 1 concurrent workers.\n",
      "[Parallel(n_jobs=1)]: Done   1 out of   1 | elapsed:    0.0s remaining:    0.0s\n",
      "[Parallel(n_jobs=1)]: Done  23 out of  23 | elapsed:    0.3s finished\n",
      "[Parallel(n_jobs=1)]: Using backend SequentialBackend with 1 concurrent workers.\n"
     ]
    },
    {
     "name": "stdout",
     "output_type": "stream",
     "text": [
      "building tree 1 of 23\n"
     ]
    },
    {
     "name": "stderr",
     "output_type": "stream",
     "text": [
      "[Parallel(n_jobs=1)]: Done   1 out of   1 | elapsed:   25.7s remaining:    0.0s\n"
     ]
    },
    {
     "name": "stdout",
     "output_type": "stream",
     "text": [
      "building tree 2 of 23\n",
      "building tree 3 of 23\n",
      "building tree 4 of 23\n",
      "building tree 5 of 23\n",
      "building tree 6 of 23\n",
      "building tree 7 of 23\n",
      "building tree 8 of 23\n",
      "building tree 9 of 23\n",
      "building tree 10 of 23\n",
      "building tree 11 of 23\n",
      "building tree 12 of 23\n",
      "building tree 13 of 23\n",
      "building tree 14 of 23\n",
      "building tree 15 of 23\n",
      "building tree 16 of 23\n",
      "building tree 17 of 23\n",
      "building tree 18 of 23\n",
      "building tree 19 of 23\n",
      "building tree 20 of 23\n",
      "building tree 21 of 23\n",
      "building tree 22 of 23\n",
      "building tree 23 of 23\n"
     ]
    },
    {
     "name": "stderr",
     "output_type": "stream",
     "text": [
      "[Parallel(n_jobs=1)]: Done  23 out of  23 | elapsed:  9.6min finished\n",
      "[Parallel(n_jobs=1)]: Using backend SequentialBackend with 1 concurrent workers.\n",
      "[Parallel(n_jobs=1)]: Done   1 out of   1 | elapsed:    0.0s remaining:    0.0s\n",
      "[Parallel(n_jobs=1)]: Done  23 out of  23 | elapsed:    0.4s finished\n",
      "[Parallel(n_jobs=1)]: Using backend SequentialBackend with 1 concurrent workers.\n"
     ]
    },
    {
     "name": "stdout",
     "output_type": "stream",
     "text": [
      "building tree 1 of 23\n"
     ]
    },
    {
     "name": "stderr",
     "output_type": "stream",
     "text": [
      "[Parallel(n_jobs=1)]: Done   1 out of   1 | elapsed: 36.5min remaining:    0.0s\n"
     ]
    },
    {
     "name": "stdout",
     "output_type": "stream",
     "text": [
      "building tree 2 of 23\n",
      "building tree 3 of 23\n",
      "building tree 4 of 23\n",
      "building tree 5 of 23\n",
      "building tree 6 of 23\n",
      "building tree 7 of 23\n",
      "building tree 8 of 23\n",
      "building tree 9 of 23\n",
      "building tree 10 of 23\n",
      "building tree 11 of 23\n",
      "building tree 12 of 23\n",
      "building tree 13 of 23\n",
      "building tree 14 of 23\n",
      "building tree 15 of 23\n",
      "building tree 16 of 23\n",
      "building tree 17 of 23\n",
      "building tree 18 of 23\n",
      "building tree 19 of 23\n",
      "building tree 20 of 23\n",
      "building tree 21 of 23\n",
      "building tree 22 of 23\n",
      "building tree 23 of 23\n"
     ]
    },
    {
     "name": "stderr",
     "output_type": "stream",
     "text": [
      "[Parallel(n_jobs=1)]: Done  23 out of  23 | elapsed: 840.6min finished\n"
     ]
    },
    {
     "data": {
      "text/plain": [
       "{'clf_randomForest__max_depth': None,\n",
       " 'clf_randomForest__max_features': None,\n",
       " 'clf_randomForest__n_estimators': 23}"
      ]
     },
     "execution_count": 36,
     "metadata": {},
     "output_type": "execute_result"
    }
   ],
   "source": [
    "#Performing a grdisearch on the estimator utilizing the above param_grid.\n",
    "grid_pipeline = GridSearchCV(rfc_pipe,param_grid)\n",
    "grid_pipeline.fit(X_train,y_train)\n",
    "grid_pipeline.best_params_\n"
   ]
  },
  {
   "cell_type": "code",
   "execution_count": 39,
   "metadata": {},
   "outputs": [
    {
     "name": "stdout",
     "output_type": "stream",
     "text": [
      "Best parameter (CV score=0.816):\n",
      "{'clf_randomForest__max_depth': None, 'clf_randomForest__max_features': None, 'clf_randomForest__n_estimators': 23}\n"
     ]
    }
   ],
   "source": [
    "print(\"Best parameter (CV score=%0.3f):\" % grid_pipeline.best_score_)\n",
    "print(grid_pipeline.best_params_)"
   ]
  },
  {
   "cell_type": "code",
   "execution_count": 38,
   "metadata": {},
   "outputs": [
    {
     "name": "stderr",
     "output_type": "stream",
     "text": [
>>>>>>> Stashed changes
      "[Parallel(n_jobs=1)]: Using backend SequentialBackend with 1 concurrent workers.\n",
      "[Parallel(n_jobs=1)]: Done   1 out of   1 | elapsed:    0.0s remaining:    0.0s\n",
      "[Parallel(n_jobs=1)]: Done 100 out of 100 | elapsed:   15.5s finished\n"
     ]
    },
    {
     "data": {
      "text/plain": [
<<<<<<< Updated upstream
       "0.8031331914219869"
      ]
     },
     "execution_count": 7,
     "metadata": {},
     "output_type": "execute_result"
    }
   ],
   "source": [
    "predictedRandomForest = clf_randomForest_pipe.predict(X_test)\n",
    "np.mean(predictedRandomForest == y_test)"
   ]
=======
       "0.8221680769839734"
      ]
     },
     "execution_count": 38,
     "metadata": {},
     "output_type": "execute_result"
    }
   ],
   "source": [
    "#Finding accuracy with the optimal parameters.\n",
    "predictedRandomForest2 = grid_pipeline.predict(X_test)\n",
    "np.mean(predictedRandomForest2 == y_test)\n",
    "accuracy_score(y_test, predictedRandomForest2)\n"
   ]
  },
  {
   "cell_type": "code",
   "execution_count": 34,
   "metadata": {},
   "outputs": [
    {
     "name": "stdout",
     "output_type": "stream",
     "text": [
      "[[10723  1776  3802]\n",
      " [ 1460 14239  8711]\n",
      " [ 1287  3076 68612]]\n"
     ]
    },
    {
     "data": {
      "image/png": "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",
      "text/plain": [
       "<Figure size 432x288 with 2 Axes>"
      ]
     },
     "metadata": {
      "needs_background": "light"
     },
     "output_type": "display_data"
    }
   ],
   "source": [
    "\n",
    "print(confusion_matrix(y_test, y_predRFC))\n",
    "cm_disp = ConfusionMatrixDisplay(confusion_matrix(y_test, y_predRFC)).plot()\n"
   ]
  },
  {
   "cell_type": "code",
   "execution_count": 37,
   "metadata": {},
   "outputs": [
    {
     "name": "stdout",
     "output_type": "stream",
     "text": [
      "              precision    recall  f1-score   support\n",
      "\n",
      "          -1       0.80      0.66      0.72     16301\n",
      "           0       0.75      0.58      0.65     24410\n",
      "           1       0.85      0.94      0.89     72975\n",
      "\n",
      "    accuracy                           0.82    113686\n",
      "   macro avg       0.80      0.73      0.76    113686\n",
      "weighted avg       0.82      0.82      0.82    113686\n",
      "\n"
     ]
    }
   ],
   "source": [
    "print(classification_report(y_test,y_predRFC))\n",
    "y_pred_proba = optimized_pipe.predict_proba(X_test)\n"
   ]
  },
  {
   "cell_type": "code",
   "execution_count": null,
   "metadata": {},
   "outputs": [],
   "source": [
    "from sklearn.metrics import precision_recall_curve\n",
    "from sklearn.metrics import PrecisionRecallDisplay\n",
    "prec, recall, _ = precision_recall_curve(y_test, y_score, pos_label=clf.classes_[1])\n",
    "pr_display = PrecisionRecallDisplay(precision=prec, recall=recall).plot()"
   ]
>>>>>>> Stashed changes
  }
 ],
 "metadata": {
  "interpreter": {
   "hash": "81794d4967e6c3204c66dcd87b604927b115b27c00565d3d43f05ba2f3a2cb0d"
  },
  "kernelspec": {
   "display_name": "Python 3.9.6 64-bit",
   "language": "python",
   "name": "python3"
  },
  "language_info": {
   "codemirror_mode": {
    "name": "ipython",
    "version": 3
   },
   "file_extension": ".py",
   "mimetype": "text/x-python",
   "name": "python",
   "nbconvert_exporter": "python",
   "pygments_lexer": "ipython3",
   "version": "3.9.6"
  },
  "orig_nbformat": 4
 },
 "nbformat": 4,
 "nbformat_minor": 2
}
