{
 "cells": [
  {
   "cell_type": "code",
   "execution_count": 8,
   "metadata": {},
   "outputs": [],
   "source": [
    "import import_ipynb\n",
    "import os\n",
    "import sys\n",
    "\n",
    "module_path = os.path.abspath(os.path.join('..'))\n",
    "if module_path not in sys.path:\n",
    "    sys.path.append(module_path)\n",
    "\n",
    "import matplotlib.pyplot as plt\n",
    "import numpy as np\n",
    "import pandas as pd\n",
    "import seaborn as sns\n",
    "\n",
    "from sklearn.model_selection import GridSearchCV\n",
    "\n",
    "from sklearn.feature_extraction.text import CountVectorizer\n",
    "from sklearn.feature_extraction.text import TfidfTransformer\n",
    "from sklearn.pipeline import Pipeline\n",
    "from sklearn.model_selection import train_test_split\n",
    "from sklearn.ensemble import RandomForestClassifier\n",
    "from sklearn import metrics\n",
    "from sklearn.metrics import accuracy_score, recall_score, precision_score, classification_report, f1_score\n",
    "from sklearn.metrics import confusion_matrix, ConfusionMatrixDisplay\n",
    "\n",
    "from utilities.UtilityFunctions import retrieve_reviews_df, preprocessing, vectorize, text_preprocess, retrieve_and_preprocess"
   ]
  },
  {
   "cell_type": "code",
   "execution_count": 2,
   "metadata": {},
   "outputs": [
    {
     "name": "stdout",
     "output_type": "stream",
     "text": [
      "Concatenating ../data\\Reviews-1.csv\n",
      "Concatenating ../data\\Reviews-2.csv\n",
      "Concatenating ../data\\Reviews-3.csv\n",
      "Concatenating ../data\\Reviews-4.csv\n"
     ]
    }
   ],
   "source": [
    "df = retrieve_and_preprocess()"
   ]
  },
  {
   "cell_type": "code",
   "execution_count": 3,
   "metadata": {},
   "outputs": [],
   "source": [
    "tags = ['html', 'stop','punc','lower']\n",
    "text_preprocess(df, tags)"
   ]
  },
  {
   "cell_type": "code",
   "execution_count": 4,
   "metadata": {},
   "outputs": [],
   "source": [
    "X = df['Clean_text']\n",
    "y = df['Sentiment']\n",
    "X_train, X_test, y_train, y_test = train_test_split(\n",
    "     X, y, \n",
    "     test_size=0.2, \n",
    "     random_state=42,\n",
    "     stratify = y\n",
    "     )\n",
    "X_counts, X_tfidf = vectorize(X_train)\n"
   ]
  },
  {
   "cell_type": "code",
   "execution_count": null,
   "metadata": {},
   "outputs": [
    {
     "name": "stderr",
     "output_type": "stream",
     "text": [
      "[Parallel(n_jobs=1)]: Using backend SequentialBackend with 1 concurrent workers.\n",
      "[Parallel(n_jobs=1)]: Done   1 out of   1 | elapsed:   44.9s finished\n",
      "[Parallel(n_jobs=1)]: Using backend SequentialBackend with 1 concurrent workers.\n",
      "[Parallel(n_jobs=1)]: Done   1 out of   1 | elapsed:    0.0s finished\n",
      "[Parallel(n_jobs=1)]: Using backend SequentialBackend with 1 concurrent workers.\n",
      "[Parallel(n_jobs=1)]: Done   2 out of   2 | elapsed:  1.5min finished\n",
      "[Parallel(n_jobs=1)]: Using backend SequentialBackend with 1 concurrent workers.\n",
      "[Parallel(n_jobs=1)]: Done   2 out of   2 | elapsed:    0.1s finished\n",
      "[Parallel(n_jobs=1)]: Using backend SequentialBackend with 1 concurrent workers.\n",
      "[Parallel(n_jobs=1)]: Done   3 out of   3 | elapsed:  2.1min finished\n",
      "[Parallel(n_jobs=1)]: Using backend SequentialBackend with 1 concurrent workers.\n",
      "[Parallel(n_jobs=1)]: Done   3 out of   3 | elapsed:    0.2s finished\n",
      "[Parallel(n_jobs=1)]: Using backend SequentialBackend with 1 concurrent workers.\n",
      "[Parallel(n_jobs=1)]: Done   4 out of   4 | elapsed:  2.9min finished\n",
      "[Parallel(n_jobs=1)]: Using backend SequentialBackend with 1 concurrent workers.\n",
      "[Parallel(n_jobs=1)]: Done   4 out of   4 | elapsed:    0.3s finished\n",
      "[Parallel(n_jobs=1)]: Using backend SequentialBackend with 1 concurrent workers.\n",
      "[Parallel(n_jobs=1)]: Done   5 out of   5 | elapsed:  3.6min finished\n",
      "[Parallel(n_jobs=1)]: Using backend SequentialBackend with 1 concurrent workers.\n",
      "[Parallel(n_jobs=1)]: Done   5 out of   5 | elapsed:    0.4s finished\n",
      "[Parallel(n_jobs=1)]: Using backend SequentialBackend with 1 concurrent workers.\n",
      "[Parallel(n_jobs=1)]: Done   6 out of   6 | elapsed:  4.2min finished\n",
      "[Parallel(n_jobs=1)]: Using backend SequentialBackend with 1 concurrent workers.\n",
      "[Parallel(n_jobs=1)]: Done   6 out of   6 | elapsed:    0.4s finished\n",
      "[Parallel(n_jobs=1)]: Using backend SequentialBackend with 1 concurrent workers.\n",
      "[Parallel(n_jobs=1)]: Done   7 out of   7 | elapsed:  4.7min finished\n",
      "[Parallel(n_jobs=1)]: Using backend SequentialBackend with 1 concurrent workers.\n",
      "[Parallel(n_jobs=1)]: Done   7 out of   7 | elapsed:    0.5s finished\n",
      "[Parallel(n_jobs=1)]: Using backend SequentialBackend with 1 concurrent workers.\n",
      "[Parallel(n_jobs=1)]: Done   8 out of   8 | elapsed:  5.6min finished\n",
      "[Parallel(n_jobs=1)]: Using backend SequentialBackend with 1 concurrent workers.\n",
      "[Parallel(n_jobs=1)]: Done   8 out of   8 | elapsed:    0.6s finished\n",
      "[Parallel(n_jobs=1)]: Using backend SequentialBackend with 1 concurrent workers.\n",
      "[Parallel(n_jobs=1)]: Done   9 out of   9 | elapsed:  6.5min finished\n",
      "[Parallel(n_jobs=1)]: Using backend SequentialBackend with 1 concurrent workers.\n",
      "[Parallel(n_jobs=1)]: Done   9 out of   9 | elapsed:    0.7s finished\n",
      "[Parallel(n_jobs=1)]: Using backend SequentialBackend with 1 concurrent workers.\n",
      "[Parallel(n_jobs=1)]: Done  10 out of  10 | elapsed:  7.0min finished\n",
      "[Parallel(n_jobs=1)]: Using backend SequentialBackend with 1 concurrent workers.\n",
      "[Parallel(n_jobs=1)]: Done  10 out of  10 | elapsed:    0.9s finished\n",
      "[Parallel(n_jobs=1)]: Using backend SequentialBackend with 1 concurrent workers.\n",
      "[Parallel(n_jobs=1)]: Done  11 out of  11 | elapsed:  7.7min finished\n",
      "[Parallel(n_jobs=1)]: Using backend SequentialBackend with 1 concurrent workers.\n",
      "[Parallel(n_jobs=1)]: Done  11 out of  11 | elapsed:    0.9s finished\n",
      "[Parallel(n_jobs=1)]: Using backend SequentialBackend with 1 concurrent workers.\n",
      "[Parallel(n_jobs=1)]: Done  12 out of  12 | elapsed:  8.6min finished\n",
      "[Parallel(n_jobs=1)]: Using backend SequentialBackend with 1 concurrent workers.\n",
      "[Parallel(n_jobs=1)]: Done  12 out of  12 | elapsed:    1.0s finished\n",
      "[Parallel(n_jobs=1)]: Using backend SequentialBackend with 1 concurrent workers.\n",
      "[Parallel(n_jobs=1)]: Done  13 out of  13 | elapsed:  9.4min finished\n",
      "[Parallel(n_jobs=1)]: Using backend SequentialBackend with 1 concurrent workers.\n",
      "[Parallel(n_jobs=1)]: Done  13 out of  13 | elapsed:    1.0s finished\n",
      "[Parallel(n_jobs=1)]: Using backend SequentialBackend with 1 concurrent workers.\n",
      "[Parallel(n_jobs=1)]: Done  14 out of  14 | elapsed:  9.3min finished\n",
      "[Parallel(n_jobs=1)]: Using backend SequentialBackend with 1 concurrent workers.\n",
      "[Parallel(n_jobs=1)]: Done  14 out of  14 | elapsed:    1.1s finished\n",
      "[Parallel(n_jobs=1)]: Using backend SequentialBackend with 1 concurrent workers.\n",
      "[Parallel(n_jobs=1)]: Done  15 out of  15 | elapsed: 10.2min finished\n",
      "[Parallel(n_jobs=1)]: Using backend SequentialBackend with 1 concurrent workers.\n",
      "[Parallel(n_jobs=1)]: Done  15 out of  15 | elapsed:    1.2s finished\n",
      "[Parallel(n_jobs=1)]: Using backend SequentialBackend with 1 concurrent workers.\n",
      "[Parallel(n_jobs=1)]: Done  16 out of  16 | elapsed: 10.7min finished\n",
      "[Parallel(n_jobs=1)]: Using backend SequentialBackend with 1 concurrent workers.\n",
      "[Parallel(n_jobs=1)]: Done  16 out of  16 | elapsed:    1.3s finished\n",
      "[Parallel(n_jobs=1)]: Using backend SequentialBackend with 1 concurrent workers.\n",
      "[Parallel(n_jobs=1)]: Done  17 out of  17 | elapsed: 11.4min finished\n",
      "[Parallel(n_jobs=1)]: Using backend SequentialBackend with 1 concurrent workers.\n",
      "[Parallel(n_jobs=1)]: Done  17 out of  17 | elapsed:    1.3s finished\n",
      "[Parallel(n_jobs=1)]: Using backend SequentialBackend with 1 concurrent workers.\n",
      "[Parallel(n_jobs=1)]: Done  18 out of  18 | elapsed: 11.9min finished\n",
      "[Parallel(n_jobs=1)]: Using backend SequentialBackend with 1 concurrent workers.\n",
      "[Parallel(n_jobs=1)]: Done  18 out of  18 | elapsed:    1.5s finished\n",
      "[Parallel(n_jobs=1)]: Using backend SequentialBackend with 1 concurrent workers.\n",
      "[Parallel(n_jobs=1)]: Done  19 out of  19 | elapsed: 12.6min finished\n",
      "[Parallel(n_jobs=1)]: Using backend SequentialBackend with 1 concurrent workers.\n",
      "[Parallel(n_jobs=1)]: Done  19 out of  19 | elapsed:    1.5s finished\n",
      "[Parallel(n_jobs=1)]: Using backend SequentialBackend with 1 concurrent workers.\n",
      "[Parallel(n_jobs=1)]: Done  20 out of  20 | elapsed: 13.2min finished\n",
      "[Parallel(n_jobs=1)]: Using backend SequentialBackend with 1 concurrent workers.\n",
      "[Parallel(n_jobs=1)]: Done  20 out of  20 | elapsed:    1.6s finished\n",
      "[Parallel(n_jobs=1)]: Using backend SequentialBackend with 1 concurrent workers.\n",
      "[Parallel(n_jobs=1)]: Done  21 out of  21 | elapsed: 13.9min finished\n",
      "[Parallel(n_jobs=1)]: Using backend SequentialBackend with 1 concurrent workers.\n",
      "[Parallel(n_jobs=1)]: Done  21 out of  21 | elapsed:    1.7s finished\n",
      "[Parallel(n_jobs=1)]: Using backend SequentialBackend with 1 concurrent workers.\n",
      "[Parallel(n_jobs=1)]: Done  22 out of  22 | elapsed: 14.6min finished\n",
      "[Parallel(n_jobs=1)]: Using backend SequentialBackend with 1 concurrent workers.\n",
      "[Parallel(n_jobs=1)]: Done  22 out of  22 | elapsed:    1.8s finished\n",
      "[Parallel(n_jobs=1)]: Using backend SequentialBackend with 1 concurrent workers.\n",
      "[Parallel(n_jobs=1)]: Done  23 out of  23 | elapsed: 15.3min finished\n",
      "[Parallel(n_jobs=1)]: Using backend SequentialBackend with 1 concurrent workers.\n",
      "[Parallel(n_jobs=1)]: Done  23 out of  23 | elapsed:    1.9s finished\n",
      "[Parallel(n_jobs=1)]: Using backend SequentialBackend with 1 concurrent workers.\n",
      "[Parallel(n_jobs=1)]: Done  24 out of  24 | elapsed: 15.9min finished\n",
      "[Parallel(n_jobs=1)]: Using backend SequentialBackend with 1 concurrent workers.\n",
      "[Parallel(n_jobs=1)]: Done  24 out of  24 | elapsed:    2.0s finished\n",
      "[Parallel(n_jobs=1)]: Using backend SequentialBackend with 1 concurrent workers.\n",
      "[Parallel(n_jobs=1)]: Done  25 out of  25 | elapsed: 16.4min finished\n",
      "[Parallel(n_jobs=1)]: Using backend SequentialBackend with 1 concurrent workers.\n",
      "[Parallel(n_jobs=1)]: Done  25 out of  25 | elapsed:    2.0s finished\n",
      "[Parallel(n_jobs=1)]: Using backend SequentialBackend with 1 concurrent workers.\n",
      "[Parallel(n_jobs=1)]: Done  26 out of  26 | elapsed: 17.1min finished\n",
      "[Parallel(n_jobs=1)]: Using backend SequentialBackend with 1 concurrent workers.\n",
      "[Parallel(n_jobs=1)]: Done  26 out of  26 | elapsed:    2.2s finished\n",
      "[Parallel(n_jobs=1)]: Using backend SequentialBackend with 1 concurrent workers.\n",
      "[Parallel(n_jobs=1)]: Done  27 out of  27 | elapsed: 17.8min finished\n",
      "[Parallel(n_jobs=1)]: Using backend SequentialBackend with 1 concurrent workers.\n",
      "[Parallel(n_jobs=1)]: Done  27 out of  27 | elapsed:    2.2s finished\n",
      "[Parallel(n_jobs=1)]: Using backend SequentialBackend with 1 concurrent workers.\n",
      "[Parallel(n_jobs=1)]: Done  28 out of  28 | elapsed: 18.4min finished\n",
      "[Parallel(n_jobs=1)]: Using backend SequentialBackend with 1 concurrent workers.\n",
      "[Parallel(n_jobs=1)]: Done  28 out of  28 | elapsed:    2.3s finished\n",
      "[Parallel(n_jobs=1)]: Using backend SequentialBackend with 1 concurrent workers.\n",
      "[Parallel(n_jobs=1)]: Done  29 out of  29 | elapsed: 19.1min finished\n",
      "[Parallel(n_jobs=1)]: Using backend SequentialBackend with 1 concurrent workers.\n",
      "[Parallel(n_jobs=1)]: Done  29 out of  29 | elapsed:    2.4s finished\n",
      "[Parallel(n_jobs=1)]: Using backend SequentialBackend with 1 concurrent workers.\n",
      "[Parallel(n_jobs=1)]: Done  30 out of  30 | elapsed: 20.0min finished\n",
      "[Parallel(n_jobs=1)]: Using backend SequentialBackend with 1 concurrent workers.\n",
      "[Parallel(n_jobs=1)]: Done  30 out of  30 | elapsed:    2.5s finished\n",
      "[Parallel(n_jobs=1)]: Using backend SequentialBackend with 1 concurrent workers.\n",
      "[Parallel(n_jobs=1)]: Done  31 out of  31 | elapsed: 20.7min finished\n",
      "[Parallel(n_jobs=1)]: Using backend SequentialBackend with 1 concurrent workers.\n",
      "[Parallel(n_jobs=1)]: Done  31 out of  31 | elapsed:    2.6s finished\n",
      "[Parallel(n_jobs=1)]: Using backend SequentialBackend with 1 concurrent workers.\n",
      "[Parallel(n_jobs=1)]: Done  32 out of  32 | elapsed: 21.7min finished\n",
      "[Parallel(n_jobs=1)]: Using backend SequentialBackend with 1 concurrent workers.\n",
      "[Parallel(n_jobs=1)]: Done  32 out of  32 | elapsed:    2.7s finished\n",
      "[Parallel(n_jobs=1)]: Using backend SequentialBackend with 1 concurrent workers.\n",
      "[Parallel(n_jobs=1)]: Done  33 out of  33 | elapsed: 23.6min finished\n",
      "[Parallel(n_jobs=1)]: Using backend SequentialBackend with 1 concurrent workers.\n",
      "[Parallel(n_jobs=1)]: Done  33 out of  33 | elapsed:    2.7s finished\n",
      "[Parallel(n_jobs=1)]: Using backend SequentialBackend with 1 concurrent workers.\n",
      "[Parallel(n_jobs=1)]: Done  34 out of  34 | elapsed: 21.9min finished\n",
      "[Parallel(n_jobs=1)]: Using backend SequentialBackend with 1 concurrent workers.\n",
      "[Parallel(n_jobs=1)]: Done  34 out of  34 | elapsed:    2.9s finished\n",
      "[Parallel(n_jobs=1)]: Using backend SequentialBackend with 1 concurrent workers.\n",
      "[Parallel(n_jobs=1)]: Done  35 out of  35 | elapsed: 22.8min finished\n",
      "[Parallel(n_jobs=1)]: Using backend SequentialBackend with 1 concurrent workers.\n",
      "[Parallel(n_jobs=1)]: Done  35 out of  35 | elapsed:    2.9s finished\n",
      "[Parallel(n_jobs=1)]: Using backend SequentialBackend with 1 concurrent workers.\n",
      "[Parallel(n_jobs=1)]: Done  36 out of  36 | elapsed: 24.8min finished\n",
      "[Parallel(n_jobs=1)]: Using backend SequentialBackend with 1 concurrent workers.\n",
      "[Parallel(n_jobs=1)]: Done  36 out of  36 | elapsed:    3.0s finished\n",
      "[Parallel(n_jobs=1)]: Using backend SequentialBackend with 1 concurrent workers.\n",
      "[Parallel(n_jobs=1)]: Done  37 out of  37 | elapsed: 25.1min finished\n",
      "[Parallel(n_jobs=1)]: Using backend SequentialBackend with 1 concurrent workers.\n",
      "[Parallel(n_jobs=1)]: Done  37 out of  37 | elapsed:    3.2s finished\n",
      "[Parallel(n_jobs=1)]: Using backend SequentialBackend with 1 concurrent workers.\n",
      "[Parallel(n_jobs=1)]: Done  38 out of  38 | elapsed: 25.2min finished\n",
      "[Parallel(n_jobs=1)]: Using backend SequentialBackend with 1 concurrent workers.\n",
      "[Parallel(n_jobs=1)]: Done  38 out of  38 | elapsed:    3.2s finished\n",
      "[Parallel(n_jobs=1)]: Using backend SequentialBackend with 1 concurrent workers.\n",
      "[Parallel(n_jobs=1)]: Done  39 out of  39 | elapsed: 25.4min finished\n",
      "[Parallel(n_jobs=1)]: Using backend SequentialBackend with 1 concurrent workers.\n",
      "[Parallel(n_jobs=1)]: Done  39 out of  39 | elapsed:    3.2s finished\n",
      "[Parallel(n_jobs=1)]: Using backend SequentialBackend with 1 concurrent workers.\n",
      "[Parallel(n_jobs=1)]: Done  40 out of  40 | elapsed: 26.1min finished\n",
      "[Parallel(n_jobs=1)]: Using backend SequentialBackend with 1 concurrent workers.\n",
      "[Parallel(n_jobs=1)]: Done  40 out of  40 | elapsed:    3.4s finished\n",
      "[Parallel(n_jobs=1)]: Using backend SequentialBackend with 1 concurrent workers.\n",
      "[Parallel(n_jobs=1)]: Done  41 out of  41 | elapsed: 26.8min finished\n",
      "[Parallel(n_jobs=1)]: Using backend SequentialBackend with 1 concurrent workers.\n",
      "[Parallel(n_jobs=1)]: Done  41 out of  41 | elapsed:    3.4s finished\n",
      "[Parallel(n_jobs=1)]: Using backend SequentialBackend with 1 concurrent workers.\n",
      "[Parallel(n_jobs=1)]: Done  42 out of  42 | elapsed: 27.4min finished\n",
      "[Parallel(n_jobs=1)]: Using backend SequentialBackend with 1 concurrent workers.\n",
      "[Parallel(n_jobs=1)]: Done  42 out of  42 | elapsed:    3.6s finished\n",
      "[Parallel(n_jobs=1)]: Using backend SequentialBackend with 1 concurrent workers.\n",
      "[Parallel(n_jobs=1)]: Done  43 out of  43 | elapsed: 28.0min finished\n",
      "[Parallel(n_jobs=1)]: Using backend SequentialBackend with 1 concurrent workers.\n",
      "[Parallel(n_jobs=1)]: Done  43 out of  43 | elapsed:    3.5s finished\n",
      "[Parallel(n_jobs=1)]: Using backend SequentialBackend with 1 concurrent workers.\n",
      "[Parallel(n_jobs=1)]: Done  44 out of  44 | elapsed: 29.2min finished\n",
      "[Parallel(n_jobs=1)]: Using backend SequentialBackend with 1 concurrent workers.\n",
      "[Parallel(n_jobs=1)]: Done  44 out of  44 | elapsed:    4.5s finished\n",
      "[Parallel(n_jobs=1)]: Using backend SequentialBackend with 1 concurrent workers.\n",
      "[Parallel(n_jobs=1)]: Done  45 out of  45 | elapsed: 31.9min finished\n",
      "[Parallel(n_jobs=1)]: Using backend SequentialBackend with 1 concurrent workers.\n",
      "[Parallel(n_jobs=1)]: Done  45 out of  45 | elapsed:    3.9s finished\n",
      "[Parallel(n_jobs=1)]: Using backend SequentialBackend with 1 concurrent workers.\n",
      "[Parallel(n_jobs=1)]: Done  46 out of  46 | elapsed: 31.4min finished\n",
      "[Parallel(n_jobs=1)]: Using backend SequentialBackend with 1 concurrent workers.\n",
      "[Parallel(n_jobs=1)]: Done  46 out of  46 | elapsed:    4.0s finished\n",
      "[Parallel(n_jobs=1)]: Using backend SequentialBackend with 1 concurrent workers.\n",
      "[Parallel(n_jobs=1)]: Done  47 out of  47 | elapsed: 32.2min finished\n",
      "[Parallel(n_jobs=1)]: Using backend SequentialBackend with 1 concurrent workers.\n",
      "[Parallel(n_jobs=1)]: Done  47 out of  47 | elapsed:    4.1s finished\n",
      "[Parallel(n_jobs=1)]: Using backend SequentialBackend with 1 concurrent workers.\n",
      "[Parallel(n_jobs=1)]: Done  48 out of  48 | elapsed: 32.7min finished\n",
      "[Parallel(n_jobs=1)]: Using backend SequentialBackend with 1 concurrent workers.\n",
      "[Parallel(n_jobs=1)]: Done  48 out of  48 | elapsed:    4.2s finished\n",
      "[Parallel(n_jobs=1)]: Using backend SequentialBackend with 1 concurrent workers.\n",
      "[Parallel(n_jobs=1)]: Done  49 out of  49 | elapsed: 33.1min finished\n",
      "[Parallel(n_jobs=1)]: Using backend SequentialBackend with 1 concurrent workers.\n",
      "[Parallel(n_jobs=1)]: Done  49 out of  49 | elapsed:    4.5s finished\n",
      "[Parallel(n_jobs=1)]: Using backend SequentialBackend with 1 concurrent workers.\n",
      "[Parallel(n_jobs=1)]: Done  50 out of  50 | elapsed: 36.3min finished\n",
      "[Parallel(n_jobs=1)]: Using backend SequentialBackend with 1 concurrent workers.\n",
      "[Parallel(n_jobs=1)]: Done  50 out of  50 | elapsed:    4.5s finished\n",
      "[Parallel(n_jobs=1)]: Using backend SequentialBackend with 1 concurrent workers.\n",
      "[Parallel(n_jobs=1)]: Done  51 out of  51 | elapsed: 36.7min finished\n",
      "[Parallel(n_jobs=1)]: Using backend SequentialBackend with 1 concurrent workers.\n",
      "[Parallel(n_jobs=1)]: Done  51 out of  51 | elapsed:    4.5s finished\n",
      "[Parallel(n_jobs=1)]: Using backend SequentialBackend with 1 concurrent workers.\n",
      "[Parallel(n_jobs=1)]: Done  52 out of  52 | elapsed: 37.7min finished\n",
      "[Parallel(n_jobs=1)]: Using backend SequentialBackend with 1 concurrent workers.\n",
      "[Parallel(n_jobs=1)]: Done  52 out of  52 | elapsed:    4.6s finished\n",
      "[Parallel(n_jobs=1)]: Using backend SequentialBackend with 1 concurrent workers.\n",
      "[Parallel(n_jobs=1)]: Done  53 out of  53 | elapsed: 38.9min finished\n",
      "[Parallel(n_jobs=1)]: Using backend SequentialBackend with 1 concurrent workers.\n",
      "[Parallel(n_jobs=1)]: Done  53 out of  53 | elapsed:    4.7s finished\n",
      "[Parallel(n_jobs=1)]: Using backend SequentialBackend with 1 concurrent workers.\n",
      "[Parallel(n_jobs=1)]: Done  54 out of  54 | elapsed: 39.3min finished\n",
      "[Parallel(n_jobs=1)]: Using backend SequentialBackend with 1 concurrent workers.\n",
      "[Parallel(n_jobs=1)]: Done  54 out of  54 | elapsed:    4.9s finished\n",
      "[Parallel(n_jobs=1)]: Using backend SequentialBackend with 1 concurrent workers.\n",
      "[Parallel(n_jobs=1)]: Done  55 out of  55 | elapsed: 40.4min finished\n",
      "[Parallel(n_jobs=1)]: Using backend SequentialBackend with 1 concurrent workers.\n",
      "[Parallel(n_jobs=1)]: Done  55 out of  55 | elapsed:    5.1s finished\n",
      "[Parallel(n_jobs=1)]: Using backend SequentialBackend with 1 concurrent workers.\n",
      "[Parallel(n_jobs=1)]: Done  56 out of  56 | elapsed: 40.9min finished\n",
      "[Parallel(n_jobs=1)]: Using backend SequentialBackend with 1 concurrent workers.\n",
      "[Parallel(n_jobs=1)]: Done  56 out of  56 | elapsed:    5.1s finished\n",
      "[Parallel(n_jobs=1)]: Using backend SequentialBackend with 1 concurrent workers.\n",
      "[Parallel(n_jobs=1)]: Done  57 out of  57 | elapsed: 41.6min finished\n",
      "[Parallel(n_jobs=1)]: Using backend SequentialBackend with 1 concurrent workers.\n",
      "[Parallel(n_jobs=1)]: Done  57 out of  57 | elapsed:    5.1s finished\n",
      "[Parallel(n_jobs=1)]: Using backend SequentialBackend with 1 concurrent workers.\n",
      "[Parallel(n_jobs=1)]: Done  58 out of  58 | elapsed: 42.5min finished\n",
      "[Parallel(n_jobs=1)]: Using backend SequentialBackend with 1 concurrent workers.\n",
      "[Parallel(n_jobs=1)]: Done  58 out of  58 | elapsed:    5.3s finished\n",
      "[Parallel(n_jobs=1)]: Using backend SequentialBackend with 1 concurrent workers.\n",
      "[Parallel(n_jobs=1)]: Done  59 out of  59 | elapsed: 42.9min finished\n",
      "[Parallel(n_jobs=1)]: Using backend SequentialBackend with 1 concurrent workers.\n",
      "[Parallel(n_jobs=1)]: Done  59 out of  59 | elapsed:    5.3s finished\n",
      "[Parallel(n_jobs=1)]: Using backend SequentialBackend with 1 concurrent workers.\n",
      "[Parallel(n_jobs=1)]: Done  60 out of  60 | elapsed: 43.7min finished\n",
      "[Parallel(n_jobs=1)]: Using backend SequentialBackend with 1 concurrent workers.\n",
      "[Parallel(n_jobs=1)]: Done  60 out of  60 | elapsed:    7.0s finished\n",
      "[Parallel(n_jobs=1)]: Using backend SequentialBackend with 1 concurrent workers.\n",
      "[Parallel(n_jobs=1)]: Done  61 out of  61 | elapsed: 58.2min finished\n",
      "[Parallel(n_jobs=1)]: Using backend SequentialBackend with 1 concurrent workers.\n",
      "[Parallel(n_jobs=1)]: Done  61 out of  61 | elapsed:    9.8s finished\n",
      "[Parallel(n_jobs=1)]: Using backend SequentialBackend with 1 concurrent workers.\n",
      "[Parallel(n_jobs=1)]: Done  62 out of  62 | elapsed: 42.5min finished\n",
      "[Parallel(n_jobs=1)]: Using backend SequentialBackend with 1 concurrent workers.\n",
      "[Parallel(n_jobs=1)]: Done  62 out of  62 | elapsed:    5.3s finished\n",
      "[Parallel(n_jobs=1)]: Using backend SequentialBackend with 1 concurrent workers.\n",
      "[Parallel(n_jobs=1)]: Done  63 out of  63 | elapsed: 41.8min finished\n",
      "[Parallel(n_jobs=1)]: Using backend SequentialBackend with 1 concurrent workers.\n",
      "[Parallel(n_jobs=1)]: Done  63 out of  63 | elapsed:    5.3s finished\n",
      "[Parallel(n_jobs=1)]: Using backend SequentialBackend with 1 concurrent workers.\n",
      "[Parallel(n_jobs=1)]: Done  64 out of  64 | elapsed: 42.5min finished\n",
      "[Parallel(n_jobs=1)]: Using backend SequentialBackend with 1 concurrent workers.\n",
      "[Parallel(n_jobs=1)]: Done  64 out of  64 | elapsed:    5.6s finished\n",
      "[Parallel(n_jobs=1)]: Using backend SequentialBackend with 1 concurrent workers.\n",
      "[Parallel(n_jobs=1)]: Done  65 out of  65 | elapsed: 43.2min finished\n",
      "[Parallel(n_jobs=1)]: Using backend SequentialBackend with 1 concurrent workers.\n",
      "[Parallel(n_jobs=1)]: Done  65 out of  65 | elapsed:    5.6s finished\n",
      "[Parallel(n_jobs=1)]: Using backend SequentialBackend with 1 concurrent workers.\n",
      "[Parallel(n_jobs=1)]: Done  66 out of  66 | elapsed: 43.9min finished\n",
      "[Parallel(n_jobs=1)]: Using backend SequentialBackend with 1 concurrent workers.\n",
      "[Parallel(n_jobs=1)]: Done  66 out of  66 | elapsed:    5.7s finished\n",
      "[Parallel(n_jobs=1)]: Using backend SequentialBackend with 1 concurrent workers.\n",
      "[Parallel(n_jobs=1)]: Done  67 out of  67 | elapsed: 44.8min finished\n",
      "[Parallel(n_jobs=1)]: Using backend SequentialBackend with 1 concurrent workers.\n",
      "[Parallel(n_jobs=1)]: Done  67 out of  67 | elapsed:    5.7s finished\n",
      "[Parallel(n_jobs=1)]: Using backend SequentialBackend with 1 concurrent workers.\n",
      "[Parallel(n_jobs=1)]: Done  68 out of  68 | elapsed: 47.8min finished\n",
      "[Parallel(n_jobs=1)]: Using backend SequentialBackend with 1 concurrent workers.\n",
      "[Parallel(n_jobs=1)]: Done  68 out of  68 | elapsed:    6.4s finished\n",
      "[Parallel(n_jobs=1)]: Using backend SequentialBackend with 1 concurrent workers.\n",
      "[Parallel(n_jobs=1)]: Done  69 out of  69 | elapsed: 46.9min finished\n",
      "[Parallel(n_jobs=1)]: Using backend SequentialBackend with 1 concurrent workers.\n",
      "[Parallel(n_jobs=1)]: Done  69 out of  69 | elapsed:    6.0s finished\n",
      "[Parallel(n_jobs=1)]: Using backend SequentialBackend with 1 concurrent workers.\n",
      "[Parallel(n_jobs=1)]: Done  70 out of  70 | elapsed: 47.2min finished\n",
      "[Parallel(n_jobs=1)]: Using backend SequentialBackend with 1 concurrent workers.\n",
      "[Parallel(n_jobs=1)]: Done  70 out of  70 | elapsed:    6.0s finished\n",
      "[Parallel(n_jobs=1)]: Using backend SequentialBackend with 1 concurrent workers.\n",
      "[Parallel(n_jobs=1)]: Done  71 out of  71 | elapsed: 47.8min finished\n",
      "[Parallel(n_jobs=1)]: Using backend SequentialBackend with 1 concurrent workers.\n",
      "[Parallel(n_jobs=1)]: Done  71 out of  71 | elapsed:    6.1s finished\n",
      "[Parallel(n_jobs=1)]: Using backend SequentialBackend with 1 concurrent workers.\n",
      "[Parallel(n_jobs=1)]: Done  72 out of  72 | elapsed: 48.7min finished\n",
      "[Parallel(n_jobs=1)]: Using backend SequentialBackend with 1 concurrent workers.\n",
      "[Parallel(n_jobs=1)]: Done  72 out of  72 | elapsed:    6.3s finished\n",
      "[Parallel(n_jobs=1)]: Using backend SequentialBackend with 1 concurrent workers.\n",
      "[Parallel(n_jobs=1)]: Done  73 out of  73 | elapsed: 64.5min finished\n",
      "[Parallel(n_jobs=1)]: Using backend SequentialBackend with 1 concurrent workers.\n",
      "[Parallel(n_jobs=1)]: Done  73 out of  73 | elapsed:    8.3s finished\n",
      "[Parallel(n_jobs=1)]: Using backend SequentialBackend with 1 concurrent workers.\n",
      "[Parallel(n_jobs=1)]: Done  74 out of  74 | elapsed: 52.0min finished\n",
      "[Parallel(n_jobs=1)]: Using backend SequentialBackend with 1 concurrent workers.\n",
      "[Parallel(n_jobs=1)]: Done  74 out of  74 | elapsed:    7.1s finished\n",
      "[Parallel(n_jobs=1)]: Using backend SequentialBackend with 1 concurrent workers.\n",
      "[Parallel(n_jobs=1)]: Done  75 out of  75 | elapsed: 50.2min finished\n",
      "[Parallel(n_jobs=1)]: Using backend SequentialBackend with 1 concurrent workers.\n",
      "[Parallel(n_jobs=1)]: Done  75 out of  75 | elapsed:    6.4s finished\n",
      "[Parallel(n_jobs=1)]: Using backend SequentialBackend with 1 concurrent workers.\n",
      "[Parallel(n_jobs=1)]: Done  76 out of  76 | elapsed: 50.8min finished\n",
      "[Parallel(n_jobs=1)]: Using backend SequentialBackend with 1 concurrent workers.\n",
      "[Parallel(n_jobs=1)]: Done  76 out of  76 | elapsed:    6.6s finished\n",
      "[Parallel(n_jobs=1)]: Using backend SequentialBackend with 1 concurrent workers.\n",
      "[Parallel(n_jobs=1)]: Done  77 out of  77 | elapsed: 51.8min finished\n",
      "[Parallel(n_jobs=1)]: Using backend SequentialBackend with 1 concurrent workers.\n",
      "[Parallel(n_jobs=1)]: Done  77 out of  77 | elapsed:    6.6s finished\n",
      "[Parallel(n_jobs=1)]: Using backend SequentialBackend with 1 concurrent workers.\n",
      "[Parallel(n_jobs=1)]: Done  78 out of  78 | elapsed: 70.9min finished\n",
      "[Parallel(n_jobs=1)]: Using backend SequentialBackend with 1 concurrent workers.\n",
      "[Parallel(n_jobs=1)]: Done  78 out of  78 | elapsed:   10.9s finished\n",
      "[Parallel(n_jobs=1)]: Using backend SequentialBackend with 1 concurrent workers.\n",
      "[Parallel(n_jobs=1)]: Done  79 out of  79 | elapsed: 52.0min finished\n",
      "[Parallel(n_jobs=1)]: Using backend SequentialBackend with 1 concurrent workers.\n",
      "[Parallel(n_jobs=1)]: Done  79 out of  79 | elapsed:    7.2s finished\n",
      "[Parallel(n_jobs=1)]: Using backend SequentialBackend with 1 concurrent workers.\n",
      "[Parallel(n_jobs=1)]: Done  80 out of  80 | elapsed: 51.6min finished\n",
      "[Parallel(n_jobs=1)]: Using backend SequentialBackend with 1 concurrent workers.\n",
      "[Parallel(n_jobs=1)]: Done  80 out of  80 | elapsed:    6.8s finished\n",
      "[Parallel(n_jobs=1)]: Using backend SequentialBackend with 1 concurrent workers.\n",
      "[Parallel(n_jobs=1)]: Done  81 out of  81 | elapsed: 52.1min finished\n",
      "[Parallel(n_jobs=1)]: Using backend SequentialBackend with 1 concurrent workers.\n",
      "[Parallel(n_jobs=1)]: Done  81 out of  81 | elapsed:    6.8s finished\n",
      "[Parallel(n_jobs=1)]: Using backend SequentialBackend with 1 concurrent workers.\n",
      "[Parallel(n_jobs=1)]: Done  82 out of  82 | elapsed: 52.5min finished\n",
      "[Parallel(n_jobs=1)]: Using backend SequentialBackend with 1 concurrent workers.\n",
      "[Parallel(n_jobs=1)]: Done  82 out of  82 | elapsed:    6.9s finished\n",
      "[Parallel(n_jobs=1)]: Using backend SequentialBackend with 1 concurrent workers.\n",
      "[Parallel(n_jobs=1)]: Done  83 out of  83 | elapsed: 53.1min finished\n",
      "[Parallel(n_jobs=1)]: Using backend SequentialBackend with 1 concurrent workers.\n",
      "[Parallel(n_jobs=1)]: Done  83 out of  83 | elapsed:    6.9s finished\n",
      "[Parallel(n_jobs=1)]: Using backend SequentialBackend with 1 concurrent workers.\n",
      "[Parallel(n_jobs=1)]: Done  84 out of  84 | elapsed: 53.8min finished\n",
      "[Parallel(n_jobs=1)]: Using backend SequentialBackend with 1 concurrent workers.\n",
      "[Parallel(n_jobs=1)]: Done  84 out of  84 | elapsed:    7.1s finished\n",
      "[Parallel(n_jobs=1)]: Using backend SequentialBackend with 1 concurrent workers.\n",
      "[Parallel(n_jobs=1)]: Done  85 out of  85 | elapsed: 54.6min finished\n",
      "[Parallel(n_jobs=1)]: Using backend SequentialBackend with 1 concurrent workers.\n",
      "[Parallel(n_jobs=1)]: Done  85 out of  85 | elapsed:    7.0s finished\n",
      "[Parallel(n_jobs=1)]: Using backend SequentialBackend with 1 concurrent workers.\n",
      "[Parallel(n_jobs=1)]: Done  86 out of  86 | elapsed: 55.2min finished\n",
      "[Parallel(n_jobs=1)]: Using backend SequentialBackend with 1 concurrent workers.\n",
      "[Parallel(n_jobs=1)]: Done  86 out of  86 | elapsed:    7.3s finished\n",
      "[Parallel(n_jobs=1)]: Using backend SequentialBackend with 1 concurrent workers.\n",
      "[Parallel(n_jobs=1)]: Done  87 out of  87 | elapsed: 56.0min finished\n",
      "[Parallel(n_jobs=1)]: Using backend SequentialBackend with 1 concurrent workers.\n",
      "[Parallel(n_jobs=1)]: Done  87 out of  87 | elapsed:    7.2s finished\n",
      "[Parallel(n_jobs=1)]: Using backend SequentialBackend with 1 concurrent workers.\n",
      "[Parallel(n_jobs=1)]: Done  88 out of  88 | elapsed: 81.8min finished\n",
      "[Parallel(n_jobs=1)]: Using backend SequentialBackend with 1 concurrent workers.\n",
      "[Parallel(n_jobs=1)]: Done  88 out of  88 | elapsed:   13.3s finished\n",
      "[Parallel(n_jobs=1)]: Using backend SequentialBackend with 1 concurrent workers.\n",
      "[Parallel(n_jobs=1)]: Done  89 out of  89 | elapsed: 64.3min finished\n",
      "[Parallel(n_jobs=1)]: Using backend SequentialBackend with 1 concurrent workers.\n",
      "[Parallel(n_jobs=1)]: Done  89 out of  89 | elapsed:    8.4s finished\n",
      "[Parallel(n_jobs=1)]: Using backend SequentialBackend with 1 concurrent workers.\n",
      "[Parallel(n_jobs=1)]: Done  90 out of  90 | elapsed: 69.6min finished\n",
      "[Parallel(n_jobs=1)]: Using backend SequentialBackend with 1 concurrent workers.\n",
      "[Parallel(n_jobs=1)]: Done  90 out of  90 | elapsed:   18.5s finished\n",
      "[Parallel(n_jobs=1)]: Using backend SequentialBackend with 1 concurrent workers.\n",
      "[Parallel(n_jobs=1)]: Done  91 out of  91 | elapsed: 65.5min finished\n",
      "[Parallel(n_jobs=1)]: Using backend SequentialBackend with 1 concurrent workers.\n",
      "[Parallel(n_jobs=1)]: Done  91 out of  91 | elapsed:    9.5s finished\n",
      "[Parallel(n_jobs=1)]: Using backend SequentialBackend with 1 concurrent workers.\n",
      "[Parallel(n_jobs=1)]: Done  92 out of  92 | elapsed: 61.7min finished\n",
      "[Parallel(n_jobs=1)]: Using backend SequentialBackend with 1 concurrent workers.\n",
      "[Parallel(n_jobs=1)]: Done  92 out of  92 | elapsed:    8.0s finished\n",
      "[Parallel(n_jobs=1)]: Using backend SequentialBackend with 1 concurrent workers.\n",
      "[Parallel(n_jobs=1)]: Done  93 out of  93 | elapsed: 62.1min finished\n",
      "[Parallel(n_jobs=1)]: Using backend SequentialBackend with 1 concurrent workers.\n",
      "[Parallel(n_jobs=1)]: Done  93 out of  93 | elapsed:    7.9s finished\n",
      "[Parallel(n_jobs=1)]: Using backend SequentialBackend with 1 concurrent workers.\n",
      "[Parallel(n_jobs=1)]: Done  94 out of  94 | elapsed: 62.7min finished\n",
      "[Parallel(n_jobs=1)]: Using backend SequentialBackend with 1 concurrent workers.\n",
      "[Parallel(n_jobs=1)]: Done  94 out of  94 | elapsed:    8.1s finished\n",
      "[Parallel(n_jobs=1)]: Using backend SequentialBackend with 1 concurrent workers.\n",
      "[Parallel(n_jobs=1)]: Done  95 out of  95 | elapsed: 63.5min finished\n",
      "[Parallel(n_jobs=1)]: Using backend SequentialBackend with 1 concurrent workers.\n",
      "[Parallel(n_jobs=1)]: Done  95 out of  95 | elapsed:    8.1s finished\n",
      "[Parallel(n_jobs=1)]: Using backend SequentialBackend with 1 concurrent workers.\n",
      "[Parallel(n_jobs=1)]: Done  96 out of  96 | elapsed: 64.9min finished\n",
      "[Parallel(n_jobs=1)]: Using backend SequentialBackend with 1 concurrent workers.\n",
      "[Parallel(n_jobs=1)]: Done  96 out of  96 | elapsed:    8.4s finished\n",
      "[Parallel(n_jobs=1)]: Using backend SequentialBackend with 1 concurrent workers.\n",
      "[Parallel(n_jobs=1)]: Done  97 out of  97 | elapsed: 86.6min finished\n",
      "[Parallel(n_jobs=1)]: Using backend SequentialBackend with 1 concurrent workers.\n",
      "[Parallel(n_jobs=1)]: Done  97 out of  97 | elapsed:   12.0s finished\n",
      "[Parallel(n_jobs=1)]: Using backend SequentialBackend with 1 concurrent workers.\n",
      "[Parallel(n_jobs=1)]: Done  98 out of  98 | elapsed: 68.6min finished\n",
      "[Parallel(n_jobs=1)]: Using backend SequentialBackend with 1 concurrent workers.\n",
      "[Parallel(n_jobs=1)]: Done  98 out of  98 | elapsed:    8.7s finished\n",
      "[Parallel(n_jobs=1)]: Using backend SequentialBackend with 1 concurrent workers.\n",
      "[Parallel(n_jobs=1)]: Done  99 out of  99 | elapsed: 69.6min finished\n",
      "[Parallel(n_jobs=1)]: Using backend SequentialBackend with 1 concurrent workers.\n",
      "[Parallel(n_jobs=1)]: Done  99 out of  99 | elapsed:   10.0s finished\n",
      "[Parallel(n_jobs=1)]: Using backend SequentialBackend with 1 concurrent workers.\n",
      "[Parallel(n_jobs=1)]: Done 100 out of 100 | elapsed: 73.3min finished\n",
      "[Parallel(n_jobs=1)]: Using backend SequentialBackend with 1 concurrent workers.\n",
      "[Parallel(n_jobs=1)]: Done 100 out of 100 | elapsed:    9.8s finished\n",
      "[Parallel(n_jobs=1)]: Using backend SequentialBackend with 1 concurrent workers.\n",
      "[Parallel(n_jobs=1)]: Done 101 out of 101 | elapsed: 73.5min finished\n",
      "[Parallel(n_jobs=1)]: Using backend SequentialBackend with 1 concurrent workers.\n",
      "[Parallel(n_jobs=1)]: Done 101 out of 101 | elapsed:    9.0s finished\n",
      "[Parallel(n_jobs=1)]: Using backend SequentialBackend with 1 concurrent workers.\n",
      "[Parallel(n_jobs=1)]: Done 102 out of 102 | elapsed: 73.6min finished\n",
      "[Parallel(n_jobs=1)]: Using backend SequentialBackend with 1 concurrent workers.\n",
      "[Parallel(n_jobs=1)]: Done 102 out of 102 | elapsed:    9.5s finished\n",
      "[Parallel(n_jobs=1)]: Using backend SequentialBackend with 1 concurrent workers.\n",
      "[Parallel(n_jobs=1)]: Done 103 out of 103 | elapsed: 76.5min finished\n",
      "[Parallel(n_jobs=1)]: Using backend SequentialBackend with 1 concurrent workers.\n",
      "[Parallel(n_jobs=1)]: Done 103 out of 103 | elapsed:    9.4s finished\n",
      "[Parallel(n_jobs=1)]: Using backend SequentialBackend with 1 concurrent workers.\n",
      "[Parallel(n_jobs=1)]: Done 104 out of 104 | elapsed: 77.0min finished\n",
      "[Parallel(n_jobs=1)]: Using backend SequentialBackend with 1 concurrent workers.\n",
      "[Parallel(n_jobs=1)]: Done 104 out of 104 | elapsed:    9.9s finished\n",
      "[Parallel(n_jobs=1)]: Using backend SequentialBackend with 1 concurrent workers.\n",
      "[Parallel(n_jobs=1)]: Done 105 out of 105 | elapsed: 77.0min finished\n",
      "[Parallel(n_jobs=1)]: Using backend SequentialBackend with 1 concurrent workers.\n",
      "[Parallel(n_jobs=1)]: Done 105 out of 105 | elapsed:    9.5s finished\n",
      "[Parallel(n_jobs=1)]: Using backend SequentialBackend with 1 concurrent workers.\n",
      "[Parallel(n_jobs=1)]: Done 106 out of 106 | elapsed: 76.7min finished\n",
      "[Parallel(n_jobs=1)]: Using backend SequentialBackend with 1 concurrent workers.\n",
      "[Parallel(n_jobs=1)]: Done 106 out of 106 | elapsed:    9.6s finished\n",
      "[Parallel(n_jobs=1)]: Using backend SequentialBackend with 1 concurrent workers.\n",
      "[Parallel(n_jobs=1)]: Done 107 out of 107 | elapsed: 77.0min finished\n",
      "[Parallel(n_jobs=1)]: Using backend SequentialBackend with 1 concurrent workers.\n",
      "[Parallel(n_jobs=1)]: Done 107 out of 107 | elapsed:    9.6s finished\n",
      "[Parallel(n_jobs=1)]: Using backend SequentialBackend with 1 concurrent workers.\n",
      "[Parallel(n_jobs=1)]: Done 108 out of 108 | elapsed: 77.7min finished\n",
      "[Parallel(n_jobs=1)]: Using backend SequentialBackend with 1 concurrent workers.\n",
      "[Parallel(n_jobs=1)]: Done 108 out of 108 | elapsed:    9.8s finished\n",
      "[Parallel(n_jobs=1)]: Using backend SequentialBackend with 1 concurrent workers.\n",
      "[Parallel(n_jobs=1)]: Done 109 out of 109 | elapsed: 80.9min finished\n",
      "[Parallel(n_jobs=1)]: Using backend SequentialBackend with 1 concurrent workers.\n",
      "[Parallel(n_jobs=1)]: Done 109 out of 109 | elapsed:   22.8s finished\n",
      "[Parallel(n_jobs=1)]: Using backend SequentialBackend with 1 concurrent workers.\n",
      "[Parallel(n_jobs=1)]: Done 110 out of 110 | elapsed: 81.1min finished\n",
      "[Parallel(n_jobs=1)]: Using backend SequentialBackend with 1 concurrent workers.\n",
      "[Parallel(n_jobs=1)]: Done 110 out of 110 | elapsed:   13.4s finished\n",
      "[Parallel(n_jobs=1)]: Using backend SequentialBackend with 1 concurrent workers.\n",
      "[Parallel(n_jobs=1)]: Done 111 out of 111 | elapsed: 83.2min finished\n",
      "[Parallel(n_jobs=1)]: Using backend SequentialBackend with 1 concurrent workers.\n",
      "[Parallel(n_jobs=1)]: Done 111 out of 111 | elapsed:   10.8s finished\n",
      "[Parallel(n_jobs=1)]: Using backend SequentialBackend with 1 concurrent workers.\n",
      "[Parallel(n_jobs=1)]: Done 112 out of 112 | elapsed: 73.6min finished\n",
      "[Parallel(n_jobs=1)]: Using backend SequentialBackend with 1 concurrent workers.\n",
      "[Parallel(n_jobs=1)]: Done 112 out of 112 | elapsed:   11.2s finished\n",
      "[Parallel(n_jobs=1)]: Using backend SequentialBackend with 1 concurrent workers.\n",
      "[Parallel(n_jobs=1)]: Done 113 out of 113 | elapsed: 73.3min finished\n",
      "[Parallel(n_jobs=1)]: Using backend SequentialBackend with 1 concurrent workers.\n",
      "[Parallel(n_jobs=1)]: Done 113 out of 113 | elapsed:    9.6s finished\n",
      "[Parallel(n_jobs=1)]: Using backend SequentialBackend with 1 concurrent workers.\n",
      "[Parallel(n_jobs=1)]: Done 114 out of 114 | elapsed: 73.9min finished\n",
      "[Parallel(n_jobs=1)]: Using backend SequentialBackend with 1 concurrent workers.\n",
      "[Parallel(n_jobs=1)]: Done 114 out of 114 | elapsed:    9.6s finished\n",
      "[Parallel(n_jobs=1)]: Using backend SequentialBackend with 1 concurrent workers.\n",
      "[Parallel(n_jobs=1)]: Done 115 out of 115 | elapsed: 74.6min finished\n",
      "[Parallel(n_jobs=1)]: Using backend SequentialBackend with 1 concurrent workers.\n",
      "[Parallel(n_jobs=1)]: Done 115 out of 115 | elapsed:    9.5s finished\n",
      "[Parallel(n_jobs=1)]: Using backend SequentialBackend with 1 concurrent workers.\n",
      "[Parallel(n_jobs=1)]: Done 116 out of 116 | elapsed: 75.7min finished\n",
      "[Parallel(n_jobs=1)]: Using backend SequentialBackend with 1 concurrent workers.\n",
      "[Parallel(n_jobs=1)]: Done 116 out of 116 | elapsed:   11.6s finished\n",
      "[Parallel(n_jobs=1)]: Using backend SequentialBackend with 1 concurrent workers.\n",
      "[Parallel(n_jobs=1)]: Done 117 out of 117 | elapsed: 100.3min finished\n",
      "[Parallel(n_jobs=1)]: Using backend SequentialBackend with 1 concurrent workers.\n",
      "[Parallel(n_jobs=1)]: Done 117 out of 117 | elapsed:   19.0s finished\n",
      "[Parallel(n_jobs=1)]: Using backend SequentialBackend with 1 concurrent workers.\n",
      "[Parallel(n_jobs=1)]: Done 118 out of 118 | elapsed: 107.3min finished\n",
      "[Parallel(n_jobs=1)]: Using backend SequentialBackend with 1 concurrent workers.\n",
      "[Parallel(n_jobs=1)]: Done 118 out of 118 | elapsed:   14.9s finished\n",
      "[Parallel(n_jobs=1)]: Using backend SequentialBackend with 1 concurrent workers.\n",
      "[Parallel(n_jobs=1)]: Done 119 out of 119 | elapsed: 77.2min finished\n",
      "[Parallel(n_jobs=1)]: Using backend SequentialBackend with 1 concurrent workers.\n",
      "[Parallel(n_jobs=1)]: Done 119 out of 119 | elapsed:   11.4s finished\n",
      "[Parallel(n_jobs=1)]: Using backend SequentialBackend with 1 concurrent workers.\n",
      "[Parallel(n_jobs=1)]: Done 120 out of 120 | elapsed: 78.5min finished\n",
      "[Parallel(n_jobs=1)]: Using backend SequentialBackend with 1 concurrent workers.\n",
      "[Parallel(n_jobs=1)]: Done 120 out of 120 | elapsed:   10.5s finished\n",
      "[Parallel(n_jobs=1)]: Using backend SequentialBackend with 1 concurrent workers.\n",
      "[Parallel(n_jobs=1)]: Done 121 out of 121 | elapsed: 77.5min finished\n",
      "[Parallel(n_jobs=1)]: Using backend SequentialBackend with 1 concurrent workers.\n",
      "[Parallel(n_jobs=1)]: Done 121 out of 121 | elapsed:   10.0s finished\n",
      "[Parallel(n_jobs=1)]: Using backend SequentialBackend with 1 concurrent workers.\n",
      "[Parallel(n_jobs=1)]: Done 122 out of 122 | elapsed: 78.4min finished\n",
      "[Parallel(n_jobs=1)]: Using backend SequentialBackend with 1 concurrent workers.\n",
      "[Parallel(n_jobs=1)]: Done 122 out of 122 | elapsed:   10.1s finished\n",
      "[Parallel(n_jobs=1)]: Using backend SequentialBackend with 1 concurrent workers.\n",
      "[Parallel(n_jobs=1)]: Done 123 out of 123 | elapsed: 79.2min finished\n",
      "[Parallel(n_jobs=1)]: Using backend SequentialBackend with 1 concurrent workers.\n",
      "[Parallel(n_jobs=1)]: Done 123 out of 123 | elapsed:   10.1s finished\n",
      "[Parallel(n_jobs=1)]: Using backend SequentialBackend with 1 concurrent workers.\n",
      "[Parallel(n_jobs=1)]: Done 124 out of 124 | elapsed: 79.6min finished\n",
      "[Parallel(n_jobs=1)]: Using backend SequentialBackend with 1 concurrent workers.\n",
      "[Parallel(n_jobs=1)]: Done 124 out of 124 | elapsed:   11.3s finished\n",
      "[Parallel(n_jobs=1)]: Using backend SequentialBackend with 1 concurrent workers.\n",
      "[Parallel(n_jobs=1)]: Done 125 out of 125 | elapsed: 80.5min finished\n",
      "[Parallel(n_jobs=1)]: Using backend SequentialBackend with 1 concurrent workers.\n",
      "[Parallel(n_jobs=1)]: Done 125 out of 125 | elapsed:   10.3s finished\n",
      "[Parallel(n_jobs=1)]: Using backend SequentialBackend with 1 concurrent workers.\n",
      "[Parallel(n_jobs=1)]: Done 126 out of 126 | elapsed: 93.5min finished\n",
      "[Parallel(n_jobs=1)]: Using backend SequentialBackend with 1 concurrent workers.\n",
      "[Parallel(n_jobs=1)]: Done 126 out of 126 | elapsed:   17.6s finished\n",
      "[Parallel(n_jobs=1)]: Using backend SequentialBackend with 1 concurrent workers.\n",
      "[Parallel(n_jobs=1)]: Done 127 out of 127 | elapsed: 86.8min finished\n",
      "[Parallel(n_jobs=1)]: Using backend SequentialBackend with 1 concurrent workers.\n",
      "[Parallel(n_jobs=1)]: Done 127 out of 127 | elapsed:   13.7s finished\n",
      "[Parallel(n_jobs=1)]: Using backend SequentialBackend with 1 concurrent workers.\n",
      "[Parallel(n_jobs=1)]: Done 128 out of 128 | elapsed: 100.4min finished\n",
      "[Parallel(n_jobs=1)]: Using backend SequentialBackend with 1 concurrent workers.\n",
      "[Parallel(n_jobs=1)]: Done 128 out of 128 | elapsed:   16.6s finished\n",
      "[Parallel(n_jobs=1)]: Using backend SequentialBackend with 1 concurrent workers.\n",
      "[Parallel(n_jobs=1)]: Done 129 out of 129 | elapsed: 89.5min finished\n",
      "[Parallel(n_jobs=1)]: Using backend SequentialBackend with 1 concurrent workers.\n",
      "[Parallel(n_jobs=1)]: Done 129 out of 129 | elapsed:   15.3s finished\n",
      "[Parallel(n_jobs=1)]: Using backend SequentialBackend with 1 concurrent workers.\n",
      "[Parallel(n_jobs=1)]: Done 130 out of 130 | elapsed: 89.9min finished\n",
      "[Parallel(n_jobs=1)]: Using backend SequentialBackend with 1 concurrent workers.\n",
      "[Parallel(n_jobs=1)]: Done 130 out of 130 | elapsed:   11.6s finished\n",
      "[Parallel(n_jobs=1)]: Using backend SequentialBackend with 1 concurrent workers.\n",
      "[Parallel(n_jobs=1)]: Done 131 out of 131 | elapsed: 100.6min finished\n",
      "[Parallel(n_jobs=1)]: Using backend SequentialBackend with 1 concurrent workers.\n",
      "[Parallel(n_jobs=1)]: Done 131 out of 131 | elapsed:   13.4s finished\n",
      "[Parallel(n_jobs=1)]: Using backend SequentialBackend with 1 concurrent workers.\n",
      "[Parallel(n_jobs=1)]: Done 132 out of 132 | elapsed: 90.9min finished\n",
      "[Parallel(n_jobs=1)]: Using backend SequentialBackend with 1 concurrent workers.\n",
      "[Parallel(n_jobs=1)]: Done 132 out of 132 | elapsed:   11.4s finished\n",
      "[Parallel(n_jobs=1)]: Using backend SequentialBackend with 1 concurrent workers.\n",
      "[Parallel(n_jobs=1)]: Done 133 out of 133 | elapsed: 87.9min finished\n",
      "[Parallel(n_jobs=1)]: Using backend SequentialBackend with 1 concurrent workers.\n",
      "[Parallel(n_jobs=1)]: Done 133 out of 133 | elapsed:   11.3s finished\n",
      "[Parallel(n_jobs=1)]: Using backend SequentialBackend with 1 concurrent workers.\n",
      "[Parallel(n_jobs=1)]: Done 134 out of 134 | elapsed: 88.4min finished\n",
      "[Parallel(n_jobs=1)]: Using backend SequentialBackend with 1 concurrent workers.\n",
      "[Parallel(n_jobs=1)]: Done 134 out of 134 | elapsed:   11.4s finished\n",
      "[Parallel(n_jobs=1)]: Using backend SequentialBackend with 1 concurrent workers.\n",
      "[Parallel(n_jobs=1)]: Done 135 out of 135 | elapsed: 106.0min finished\n",
      "[Parallel(n_jobs=1)]: Using backend SequentialBackend with 1 concurrent workers.\n",
      "[Parallel(n_jobs=1)]: Done 135 out of 135 | elapsed:   18.8s finished\n",
      "[Parallel(n_jobs=1)]: Using backend SequentialBackend with 1 concurrent workers.\n",
      "[Parallel(n_jobs=1)]: Done 136 out of 136 | elapsed: 92.3min finished\n",
      "[Parallel(n_jobs=1)]: Using backend SequentialBackend with 1 concurrent workers.\n",
      "[Parallel(n_jobs=1)]: Done 136 out of 136 | elapsed:   13.2s finished\n",
      "[Parallel(n_jobs=1)]: Using backend SequentialBackend with 1 concurrent workers.\n",
      "[Parallel(n_jobs=1)]: Done 137 out of 137 | elapsed: 89.9min finished\n",
      "[Parallel(n_jobs=1)]: Using backend SequentialBackend with 1 concurrent workers.\n",
      "[Parallel(n_jobs=1)]: Done 137 out of 137 | elapsed:   11.8s finished\n",
      "[Parallel(n_jobs=1)]: Using backend SequentialBackend with 1 concurrent workers.\n",
      "[Parallel(n_jobs=1)]: Done 138 out of 138 | elapsed: 90.8min finished\n",
      "[Parallel(n_jobs=1)]: Using backend SequentialBackend with 1 concurrent workers.\n",
      "[Parallel(n_jobs=1)]: Done 138 out of 138 | elapsed:   11.9s finished\n",
      "[Parallel(n_jobs=1)]: Using backend SequentialBackend with 1 concurrent workers.\n",
      "[Parallel(n_jobs=1)]: Done 139 out of 139 | elapsed: 90.7min finished\n",
      "[Parallel(n_jobs=1)]: Using backend SequentialBackend with 1 concurrent workers.\n",
      "[Parallel(n_jobs=1)]: Done 139 out of 139 | elapsed:   12.0s finished\n",
      "[Parallel(n_jobs=1)]: Using backend SequentialBackend with 1 concurrent workers.\n",
      "[Parallel(n_jobs=1)]: Done 140 out of 140 | elapsed: 92.0min finished\n",
      "[Parallel(n_jobs=1)]: Using backend SequentialBackend with 1 concurrent workers.\n",
      "[Parallel(n_jobs=1)]: Done 140 out of 140 | elapsed:   12.1s finished\n",
      "[Parallel(n_jobs=1)]: Using backend SequentialBackend with 1 concurrent workers.\n",
      "[Parallel(n_jobs=1)]: Done 141 out of 141 | elapsed: 113.2min finished\n",
      "[Parallel(n_jobs=1)]: Using backend SequentialBackend with 1 concurrent workers.\n",
      "[Parallel(n_jobs=1)]: Done 141 out of 141 | elapsed:   17.6s finished\n",
      "[Parallel(n_jobs=1)]: Using backend SequentialBackend with 1 concurrent workers.\n",
      "[Parallel(n_jobs=1)]: Done 142 out of 142 | elapsed: 94.9min finished\n",
      "[Parallel(n_jobs=1)]: Using backend SequentialBackend with 1 concurrent workers.\n",
      "[Parallel(n_jobs=1)]: Done 142 out of 142 | elapsed:   12.1s finished\n",
      "[Parallel(n_jobs=1)]: Using backend SequentialBackend with 1 concurrent workers.\n",
      "[Parallel(n_jobs=1)]: Done 143 out of 143 | elapsed: 95.6min finished\n",
      "[Parallel(n_jobs=1)]: Using backend SequentialBackend with 1 concurrent workers.\n",
      "[Parallel(n_jobs=1)]: Done 143 out of 143 | elapsed:   17.7s finished\n",
      "[Parallel(n_jobs=1)]: Using backend SequentialBackend with 1 concurrent workers.\n",
      "[Parallel(n_jobs=1)]: Done 144 out of 144 | elapsed: 108.8min finished\n",
      "[Parallel(n_jobs=1)]: Using backend SequentialBackend with 1 concurrent workers.\n",
      "[Parallel(n_jobs=1)]: Done 144 out of 144 | elapsed:   30.9s finished\n",
      "[Parallel(n_jobs=1)]: Using backend SequentialBackend with 1 concurrent workers.\n",
      "[Parallel(n_jobs=1)]: Done 145 out of 145 | elapsed: 114.7min finished\n",
      "[Parallel(n_jobs=1)]: Using backend SequentialBackend with 1 concurrent workers.\n",
      "[Parallel(n_jobs=1)]: Done 145 out of 145 | elapsed:   16.1s finished\n",
      "[Parallel(n_jobs=1)]: Using backend SequentialBackend with 1 concurrent workers.\n",
      "[Parallel(n_jobs=1)]: Done 146 out of 146 | elapsed: 103.4min finished\n",
      "[Parallel(n_jobs=1)]: Using backend SequentialBackend with 1 concurrent workers.\n",
      "[Parallel(n_jobs=1)]: Done 146 out of 146 | elapsed:   16.7s finished\n",
      "[Parallel(n_jobs=1)]: Using backend SequentialBackend with 1 concurrent workers.\n",
      "[Parallel(n_jobs=1)]: Done 147 out of 147 | elapsed: 101.8min finished\n",
      "[Parallel(n_jobs=1)]: Using backend SequentialBackend with 1 concurrent workers.\n",
      "[Parallel(n_jobs=1)]: Done 147 out of 147 | elapsed:   15.0s finished\n",
      "[Parallel(n_jobs=1)]: Using backend SequentialBackend with 1 concurrent workers.\n",
      "[Parallel(n_jobs=1)]: Done 148 out of 148 | elapsed: 101.2min finished\n",
      "[Parallel(n_jobs=1)]: Using backend SequentialBackend with 1 concurrent workers.\n",
      "[Parallel(n_jobs=1)]: Done 148 out of 148 | elapsed:   13.2s finished\n",
      "[Parallel(n_jobs=1)]: Using backend SequentialBackend with 1 concurrent workers.\n",
      "[Parallel(n_jobs=1)]: Done 149 out of 149 | elapsed: 101.6min finished\n",
      "[Parallel(n_jobs=1)]: Using backend SequentialBackend with 1 concurrent workers.\n",
      "[Parallel(n_jobs=1)]: Done 149 out of 149 | elapsed:   13.3s finished\n",
      "[Parallel(n_jobs=1)]: Using backend SequentialBackend with 1 concurrent workers.\n",
      "[Parallel(n_jobs=1)]: Done 150 out of 150 | elapsed: 103.1min finished\n",
      "[Parallel(n_jobs=1)]: Using backend SequentialBackend with 1 concurrent workers.\n",
      "[Parallel(n_jobs=1)]: Done 150 out of 150 | elapsed:   14.2s finished\n"
     ]
    }
   ],
   "source": [
    "#Finding optomized number of estimators\n",
    "\n",
    "scores = []\n",
    "for k in range(1, 151):\n",
    "    rfc_pipe = Pipeline([(\"vect\", CountVectorizer()), (\"tfidf\", TfidfTransformer()), (\"clf_randomForest\", RandomForestClassifier(n_estimators=k, verbose=1))])\n",
    "    rfc_pipe.fit(X_train, y_train)\n",
    "    y_pred = rfc_pipe.predict(X_test)\n",
    "    scores.append(accuracy_score(y_test, y_pred))"
   ]
  },
  {
   "cell_type": "code",
   "execution_count": 8,
   "metadata": {},
   "outputs": [
    {
     "name": "stderr",
     "output_type": "stream",
     "text": [
      "[Parallel(n_jobs=1)]: Using backend SequentialBackend with 1 concurrent workers.\n"
     ]
    },
    {
     "name": "stdout",
     "output_type": "stream",
     "text": [
      "building tree 1 of 100\n"
     ]
    },
    {
     "name": "stderr",
     "output_type": "stream",
     "text": [
      "[Parallel(n_jobs=1)]: Done   1 out of   1 | elapsed:   39.9s remaining:    0.0s\n"
     ]
    },
    {
     "name": "stdout",
     "output_type": "stream",
     "text": [
      "building tree 2 of 100\n",
      "building tree 3 of 100\n",
      "building tree 4 of 100\n",
      "building tree 5 of 100\n",
      "building tree 6 of 100\n",
      "building tree 7 of 100\n",
      "building tree 8 of 100\n",
      "building tree 9 of 100\n",
      "building tree 10 of 100\n",
      "building tree 11 of 100\n",
      "building tree 12 of 100\n",
      "building tree 13 of 100\n",
      "building tree 14 of 100\n",
      "building tree 15 of 100\n",
      "building tree 16 of 100\n",
      "building tree 17 of 100\n",
      "building tree 18 of 100\n",
      "building tree 19 of 100\n",
      "building tree 20 of 100\n",
      "building tree 21 of 100\n",
      "building tree 22 of 100\n",
      "building tree 23 of 100\n",
      "building tree 24 of 100\n",
      "building tree 25 of 100\n",
      "building tree 26 of 100\n",
      "building tree 27 of 100\n",
      "building tree 28 of 100\n",
      "building tree 29 of 100\n",
      "building tree 30 of 100\n",
      "building tree 31 of 100\n",
      "building tree 32 of 100\n",
      "building tree 33 of 100\n",
      "building tree 34 of 100\n",
      "building tree 35 of 100\n",
      "building tree 36 of 100\n",
      "building tree 37 of 100\n",
      "building tree 38 of 100\n",
      "building tree 39 of 100\n",
      "building tree 40 of 100\n",
      "building tree 41 of 100\n",
      "building tree 42 of 100\n",
      "building tree 43 of 100\n",
      "building tree 44 of 100\n",
      "building tree 45 of 100\n",
      "building tree 46 of 100\n",
      "building tree 47 of 100\n",
      "building tree 48 of 100\n",
      "building tree 49 of 100\n",
      "building tree 50 of 100\n",
      "building tree 51 of 100\n",
      "building tree 52 of 100\n",
      "building tree 53 of 100\n",
      "building tree 54 of 100\n",
      "building tree 55 of 100\n",
      "building tree 56 of 100\n",
      "building tree 57 of 100\n",
      "building tree 58 of 100\n",
      "building tree 59 of 100\n",
      "building tree 60 of 100\n",
      "building tree 61 of 100\n",
      "building tree 62 of 100\n",
      "building tree 63 of 100\n",
      "building tree 64 of 100\n",
      "building tree 65 of 100\n",
      "building tree 66 of 100\n",
      "building tree 67 of 100\n",
      "building tree 68 of 100\n",
      "building tree 69 of 100\n",
      "building tree 70 of 100\n",
      "building tree 71 of 100\n",
      "building tree 72 of 100\n",
      "building tree 73 of 100\n",
      "building tree 74 of 100\n",
      "building tree 75 of 100\n",
      "building tree 76 of 100\n",
      "building tree 77 of 100\n",
      "building tree 78 of 100\n",
      "building tree 79 of 100\n",
      "building tree 80 of 100\n",
      "building tree 81 of 100\n",
      "building tree 82 of 100\n",
      "building tree 83 of 100\n",
      "building tree 84 of 100\n",
      "building tree 85 of 100\n",
      "building tree 86 of 100\n",
      "building tree 87 of 100\n",
      "building tree 88 of 100\n",
      "building tree 89 of 100\n",
      "building tree 90 of 100\n",
      "building tree 91 of 100\n",
      "building tree 92 of 100\n",
      "building tree 93 of 100\n",
      "building tree 94 of 100\n",
      "building tree 95 of 100\n",
      "building tree 96 of 100\n",
      "building tree 97 of 100\n",
      "building tree 98 of 100\n",
      "building tree 99 of 100\n",
      "building tree 100 of 100\n"
     ]
    },
    {
     "name": "stderr",
     "output_type": "stream",
     "text": [
      "[Parallel(n_jobs=1)]: Done 100 out of 100 | elapsed: 67.6min finished\n"
     ]
    },
    {
     "data": {
      "text/plain": [
       "Pipeline(steps=[('vect', CountVectorizer()), ('tfidf', TfidfTransformer()),\n",
       "                ('clf_randomForest', RandomForestClassifier(verbose=2))])"
      ]
     },
     "execution_count": 8,
     "metadata": {},
     "output_type": "execute_result"
    }
   ],
   "source": [
    "#Doing a pipelin at 100 estimators, default prediction.\n",
    "rfc_pipe = Pipeline([(\"vect\", CountVectorizer()), (\"tfidf\", TfidfTransformer()), (\"clf_randomForest\", RandomForestClassifier(verbose=1, n_jobs = -1))])\n",
    "rfc_pipe.fit(X_train, y_train)"
   ]
  },
  {
   "cell_type": "code",
   "execution_count": 21,
   "metadata": {},
   "outputs": [
    {
     "name": "stderr",
     "output_type": "stream",
     "text": [
      "[Parallel(n_jobs=1)]: Using backend SequentialBackend with 1 concurrent workers.\n",
      "[Parallel(n_jobs=1)]: Done   1 out of   1 | elapsed:    0.2s remaining:    0.0s\n",
      "[Parallel(n_jobs=1)]: Done 100 out of 100 | elapsed:   21.9s finished\n"
     ]
    },
    {
     "data": {
      "text/plain": [
       "0.8038632725225622"
      ]
     },
     "execution_count": 21,
     "metadata": {},
     "output_type": "execute_result"
    }
   ],
   "source": [
    "#Getting initial accuracy.\n",
    "predictedRandomForest = rfc_pipe.predict(X_test)\n",
    "np.mean(predictedRandomForest == y_test)"
   ]
  },
  {
   "cell_type": "code",
   "execution_count": 7,
   "metadata": {},
   "outputs": [
    {
     "data": {
      "text/plain": [
       "Text(0, 0.5, 'Testing Accuracy')"
      ]
     },
     "execution_count": 7,
     "metadata": {},
     "output_type": "execute_result"
    },
    {
     "data": {
      "image/png": "[encoded data removed]",
      "text/plain": [
       "<Figure size 432x288 with 1 Axes>"
      ]
     },
     "metadata": {
      "needs_background": "light"
     },
     "output_type": "display_data"
    }
   ],
   "source": [
    "#Plotting accuracy curve\n",
    "plt.plot(range(1, 151), scores)\n",
    "plt.xlabel('Value of n_estimators for Random Forest Classifier')\n",
    "plt.ylabel('Testing Accuracy')"
   ]
  },
  {
   "cell_type": "code",
   "execution_count": 23,
   "metadata": {},
   "outputs": [
    {
     "name": "stdout",
     "output_type": "stream",
     "text": [
      "The max score is 0.8099062329574442.\n",
      "The index of the max score is 23\n"
     ]
    }
   ],
   "source": [
    "#Finding the optimal number of estimators and the max accuracy at that point.\n",
    "print(f\"The max score is {max(scores)}.\")\n",
    "print(f\"The index of the max score is {scores.index(max(scores))}\")"
   ]
  },
  {
   "cell_type": "code",
   "execution_count": 35,
   "metadata": {},
   "outputs": [],
   "source": [
    "#Hyperparameter tuning\n",
    "param_grid = {\n",
    "\n",
    "    'clf_randomForest__max_depth' : [None, 2, 4, 6, 8],\n",
    "    'clf_randomForest__max_features' : [\"auto\" , \"sqrt\" , \"log2\" , None],\n",
    "    'clf_randomForest__n_estimators' : [23]\n",
    "}"
   ]
  },
  {
   "cell_type": "code",
   "execution_count": 36,
   "metadata": {},
   "outputs": [
    {
     "name": "stderr",
     "output_type": "stream",
     "text": [
      "[Parallel(n_jobs=1)]: Using backend SequentialBackend with 1 concurrent workers.\n"
     ]
    },
    {
     "name": "stdout",
     "output_type": "stream",
     "text": [
      "building tree 1 of 23\n"
     ]
    },
    {
     "name": "stderr",
     "output_type": "stream",
     "text": [
      "[Parallel(n_jobs=1)]: Done   1 out of   1 | elapsed:   29.9s remaining:    0.0s\n"
     ]
    },
    {
     "name": "stdout",
     "output_type": "stream",
     "text": [
      "building tree 2 of 23\n",
      "building tree 3 of 23\n",
      "building tree 4 of 23\n",
      "building tree 5 of 23\n",
      "building tree 6 of 23\n",
      "building tree 7 of 23\n",
      "building tree 8 of 23\n",
      "building tree 9 of 23\n",
      "building tree 10 of 23\n",
      "building tree 11 of 23\n",
      "building tree 12 of 23\n",
      "building tree 13 of 23\n",
      "building tree 14 of 23\n",
      "building tree 15 of 23\n",
      "building tree 16 of 23\n",
      "building tree 17 of 23\n",
      "building tree 18 of 23\n",
      "building tree 19 of 23\n",
      "building tree 20 of 23\n",
      "building tree 21 of 23\n",
      "building tree 22 of 23\n",
      "building tree 23 of 23\n"
     ]
    },
    {
     "name": "stderr",
     "output_type": "stream",
     "text": [
      "[Parallel(n_jobs=1)]: Done  23 out of  23 | elapsed: 11.2min finished\n",
      "[Parallel(n_jobs=1)]: Using backend SequentialBackend with 1 concurrent workers.\n",
      "[Parallel(n_jobs=1)]: Done   1 out of   1 | elapsed:    0.0s remaining:    0.0s\n",
      "[Parallel(n_jobs=1)]: Done  23 out of  23 | elapsed:    1.5s finished\n",
      "[Parallel(n_jobs=1)]: Using backend SequentialBackend with 1 concurrent workers.\n"
     ]
    },
    {
     "name": "stdout",
     "output_type": "stream",
     "text": [
      "building tree 1 of 23\n"
     ]
    },
    {
     "name": "stderr",
     "output_type": "stream",
     "text": [
      "[Parallel(n_jobs=1)]: Done   1 out of   1 | elapsed:   29.4s remaining:    0.0s\n"
     ]
    },
    {
     "name": "stdout",
     "output_type": "stream",
     "text": [
      "building tree 2 of 23\n",
      "building tree 3 of 23\n",
      "building tree 4 of 23\n",
      "building tree 5 of 23\n",
      "building tree 6 of 23\n",
      "building tree 7 of 23\n",
      "building tree 8 of 23\n",
      "building tree 9 of 23\n",
      "building tree 10 of 23\n",
      "building tree 11 of 23\n",
      "building tree 12 of 23\n",
      "building tree 13 of 23\n",
      "building tree 14 of 23\n",
      "building tree 15 of 23\n",
      "building tree 16 of 23\n",
      "building tree 17 of 23\n",
      "building tree 18 of 23\n",
      "building tree 19 of 23\n",
      "building tree 20 of 23\n",
      "building tree 21 of 23\n",
      "building tree 22 of 23\n",
      "building tree 23 of 23\n"
     ]
    },
    {
     "name": "stderr",
     "output_type": "stream",
     "text": [
      "[Parallel(n_jobs=1)]: Done  23 out of  23 | elapsed: 11.5min finished\n",
      "[Parallel(n_jobs=1)]: Using backend SequentialBackend with 1 concurrent workers.\n",
      "[Parallel(n_jobs=1)]: Done   1 out of   1 | elapsed:    0.0s remaining:    0.0s\n",
      "[Parallel(n_jobs=1)]: Done  23 out of  23 | elapsed:    1.5s finished\n",
      "[Parallel(n_jobs=1)]: Using backend SequentialBackend with 1 concurrent workers.\n"
     ]
    },
    {
     "name": "stdout",
     "output_type": "stream",
     "text": [
      "building tree 1 of 23\n"
     ]
    },
    {
     "name": "stderr",
     "output_type": "stream",
     "text": [
      "[Parallel(n_jobs=1)]: Done   1 out of   1 | elapsed:   31.1s remaining:    0.0s\n"
     ]
    },
    {
     "name": "stdout",
     "output_type": "stream",
     "text": [
      "building tree 2 of 23\n",
      "building tree 3 of 23\n",
      "building tree 4 of 23\n",
      "building tree 5 of 23\n",
      "building tree 6 of 23\n",
      "building tree 7 of 23\n",
      "building tree 8 of 23\n",
      "building tree 9 of 23\n",
      "building tree 10 of 23\n",
      "building tree 11 of 23\n",
      "building tree 12 of 23\n",
      "building tree 13 of 23\n",
      "building tree 14 of 23\n",
      "building tree 15 of 23\n",
      "building tree 16 of 23\n",
      "building tree 17 of 23\n",
      "building tree 18 of 23\n",
      "building tree 19 of 23\n",
      "building tree 20 of 23\n",
      "building tree 21 of 23\n",
      "building tree 22 of 23\n",
      "building tree 23 of 23\n"
     ]
    },
    {
     "name": "stderr",
     "output_type": "stream",
     "text": [
      "[Parallel(n_jobs=1)]: Done  23 out of  23 | elapsed: 11.1min finished\n",
      "[Parallel(n_jobs=1)]: Using backend SequentialBackend with 1 concurrent workers.\n",
      "[Parallel(n_jobs=1)]: Done   1 out of   1 | elapsed:    0.0s remaining:    0.0s\n",
      "[Parallel(n_jobs=1)]: Done  23 out of  23 | elapsed:    1.4s finished\n",
      "[Parallel(n_jobs=1)]: Using backend SequentialBackend with 1 concurrent workers.\n"
     ]
    },
    {
     "name": "stdout",
     "output_type": "stream",
     "text": [
      "building tree 1 of 23\n"
     ]
    },
    {
     "name": "stderr",
     "output_type": "stream",
     "text": [
      "[Parallel(n_jobs=1)]: Done   1 out of   1 | elapsed:   28.4s remaining:    0.0s\n"
     ]
    },
    {
     "name": "stdout",
     "output_type": "stream",
     "text": [
      "building tree 2 of 23\n",
      "building tree 3 of 23\n",
      "building tree 4 of 23\n",
      "building tree 5 of 23\n",
      "building tree 6 of 23\n",
      "building tree 7 of 23\n",
      "building tree 8 of 23\n",
      "building tree 9 of 23\n",
      "building tree 10 of 23\n",
      "building tree 11 of 23\n",
      "building tree 12 of 23\n",
      "building tree 13 of 23\n",
      "building tree 14 of 23\n",
      "building tree 15 of 23\n",
      "building tree 16 of 23\n",
      "building tree 17 of 23\n",
      "building tree 18 of 23\n",
      "building tree 19 of 23\n",
      "building tree 20 of 23\n",
      "building tree 21 of 23\n",
      "building tree 22 of 23\n",
      "building tree 23 of 23\n"
     ]
    },
    {
     "name": "stderr",
     "output_type": "stream",
     "text": [
      "[Parallel(n_jobs=1)]: Done  23 out of  23 | elapsed: 10.9min finished\n",
      "[Parallel(n_jobs=1)]: Using backend SequentialBackend with 1 concurrent workers.\n",
      "[Parallel(n_jobs=1)]: Done   1 out of   1 | elapsed:    0.0s remaining:    0.0s\n",
      "[Parallel(n_jobs=1)]: Done  23 out of  23 | elapsed:    1.4s finished\n",
      "[Parallel(n_jobs=1)]: Using backend SequentialBackend with 1 concurrent workers.\n"
     ]
    },
    {
     "name": "stdout",
     "output_type": "stream",
     "text": [
      "building tree 1 of 23\n"
     ]
    },
    {
     "name": "stderr",
     "output_type": "stream",
     "text": [
      "[Parallel(n_jobs=1)]: Done   1 out of   1 | elapsed:   28.9s remaining:    0.0s\n"
     ]
    },
    {
     "name": "stdout",
     "output_type": "stream",
     "text": [
      "building tree 2 of 23\n",
      "building tree 3 of 23\n",
      "building tree 4 of 23\n",
      "building tree 5 of 23\n",
      "building tree 6 of 23\n",
      "building tree 7 of 23\n",
      "building tree 8 of 23\n",
      "building tree 9 of 23\n",
      "building tree 10 of 23\n",
      "building tree 11 of 23\n",
      "building tree 12 of 23\n",
      "building tree 13 of 23\n",
      "building tree 14 of 23\n",
      "building tree 15 of 23\n",
      "building tree 16 of 23\n",
      "building tree 17 of 23\n",
      "building tree 18 of 23\n",
      "building tree 19 of 23\n",
      "building tree 20 of 23\n",
      "building tree 21 of 23\n",
      "building tree 22 of 23\n",
      "building tree 23 of 23\n"
     ]
    },
    {
     "name": "stderr",
     "output_type": "stream",
     "text": [
      "[Parallel(n_jobs=1)]: Done  23 out of  23 | elapsed: 10.9min finished\n",
      "[Parallel(n_jobs=1)]: Using backend SequentialBackend with 1 concurrent workers.\n",
      "[Parallel(n_jobs=1)]: Done   1 out of   1 | elapsed:    0.0s remaining:    0.0s\n",
      "[Parallel(n_jobs=1)]: Done  23 out of  23 | elapsed:    1.4s finished\n",
      "[Parallel(n_jobs=1)]: Using backend SequentialBackend with 1 concurrent workers.\n"
     ]
    },
    {
     "name": "stdout",
     "output_type": "stream",
     "text": [
      "building tree 1 of 23\n"
     ]
    },
    {
     "name": "stderr",
     "output_type": "stream",
     "text": [
      "[Parallel(n_jobs=1)]: Done   1 out of   1 | elapsed:   28.7s remaining:    0.0s\n"
     ]
    },
    {
     "name": "stdout",
     "output_type": "stream",
     "text": [
      "building tree 2 of 23\n",
      "building tree 3 of 23\n",
      "building tree 4 of 23\n",
      "building tree 5 of 23\n",
      "building tree 6 of 23\n",
      "building tree 7 of 23\n",
      "building tree 8 of 23\n",
      "building tree 9 of 23\n",
      "building tree 10 of 23\n",
      "building tree 11 of 23\n",
      "building tree 12 of 23\n",
      "building tree 13 of 23\n",
      "building tree 14 of 23\n",
      "building tree 15 of 23\n",
      "building tree 16 of 23\n",
      "building tree 17 of 23\n",
      "building tree 18 of 23\n",
      "building tree 19 of 23\n",
      "building tree 20 of 23\n",
      "building tree 21 of 23\n",
      "building tree 22 of 23\n",
      "building tree 23 of 23\n"
     ]
    },
    {
     "name": "stderr",
     "output_type": "stream",
     "text": [
      "[Parallel(n_jobs=1)]: Done  23 out of  23 | elapsed: 10.9min finished\n",
      "[Parallel(n_jobs=1)]: Using backend SequentialBackend with 1 concurrent workers.\n",
      "[Parallel(n_jobs=1)]: Done   1 out of   1 | elapsed:    0.0s remaining:    0.0s\n",
      "[Parallel(n_jobs=1)]: Done  23 out of  23 | elapsed:    1.4s finished\n",
      "[Parallel(n_jobs=1)]: Using backend SequentialBackend with 1 concurrent workers.\n"
     ]
    },
    {
     "name": "stdout",
     "output_type": "stream",
     "text": [
      "building tree 1 of 23\n"
     ]
    },
    {
     "name": "stderr",
     "output_type": "stream",
     "text": [
      "[Parallel(n_jobs=1)]: Done   1 out of   1 | elapsed:   28.5s remaining:    0.0s\n"
     ]
    },
    {
     "name": "stdout",
     "output_type": "stream",
     "text": [
      "building tree 2 of 23\n",
      "building tree 3 of 23\n",
      "building tree 4 of 23\n",
      "building tree 5 of 23\n",
      "building tree 6 of 23\n",
      "building tree 7 of 23\n",
      "building tree 8 of 23\n",
      "building tree 9 of 23\n",
      "building tree 10 of 23\n",
      "building tree 11 of 23\n",
      "building tree 12 of 23\n",
      "building tree 13 of 23\n",
      "building tree 14 of 23\n",
      "building tree 15 of 23\n",
      "building tree 16 of 23\n",
      "building tree 17 of 23\n",
      "building tree 18 of 23\n",
      "building tree 19 of 23\n",
      "building tree 20 of 23\n",
      "building tree 21 of 23\n",
      "building tree 22 of 23\n",
      "building tree 23 of 23\n"
     ]
    },
    {
     "name": "stderr",
     "output_type": "stream",
     "text": [
      "[Parallel(n_jobs=1)]: Done  23 out of  23 | elapsed: 10.9min finished\n",
      "[Parallel(n_jobs=1)]: Using backend SequentialBackend with 1 concurrent workers.\n",
      "[Parallel(n_jobs=1)]: Done   1 out of   1 | elapsed:    0.0s remaining:    0.0s\n",
      "[Parallel(n_jobs=1)]: Done  23 out of  23 | elapsed:    1.5s finished\n",
      "[Parallel(n_jobs=1)]: Using backend SequentialBackend with 1 concurrent workers.\n"
     ]
    },
    {
     "name": "stdout",
     "output_type": "stream",
     "text": [
      "building tree 1 of 23\n"
     ]
    },
    {
     "name": "stderr",
     "output_type": "stream",
     "text": [
      "[Parallel(n_jobs=1)]: Done   1 out of   1 | elapsed:   28.4s remaining:    0.0s\n"
     ]
    },
    {
     "name": "stdout",
     "output_type": "stream",
     "text": [
      "building tree 2 of 23\n",
      "building tree 3 of 23\n",
      "building tree 4 of 23\n",
      "building tree 5 of 23\n",
      "building tree 6 of 23\n",
      "building tree 7 of 23\n",
      "building tree 8 of 23\n",
      "building tree 9 of 23\n",
      "building tree 10 of 23\n",
      "building tree 11 of 23\n",
      "building tree 12 of 23\n",
      "building tree 13 of 23\n",
      "building tree 14 of 23\n",
      "building tree 15 of 23\n",
      "building tree 16 of 23\n",
      "building tree 17 of 23\n",
      "building tree 18 of 23\n",
      "building tree 19 of 23\n",
      "building tree 20 of 23\n",
      "building tree 21 of 23\n",
      "building tree 22 of 23\n",
      "building tree 23 of 23\n"
     ]
    },
    {
     "name": "stderr",
     "output_type": "stream",
     "text": [
      "[Parallel(n_jobs=1)]: Done  23 out of  23 | elapsed: 10.9min finished\n",
      "[Parallel(n_jobs=1)]: Using backend SequentialBackend with 1 concurrent workers.\n",
      "[Parallel(n_jobs=1)]: Done   1 out of   1 | elapsed:    0.0s remaining:    0.0s\n",
      "[Parallel(n_jobs=1)]: Done  23 out of  23 | elapsed:    1.4s finished\n",
      "[Parallel(n_jobs=1)]: Using backend SequentialBackend with 1 concurrent workers.\n"
     ]
    },
    {
     "name": "stdout",
     "output_type": "stream",
     "text": [
      "building tree 1 of 23\n"
     ]
    },
    {
     "name": "stderr",
     "output_type": "stream",
     "text": [
      "[Parallel(n_jobs=1)]: Done   1 out of   1 | elapsed:   28.1s remaining:    0.0s\n"
     ]
    },
    {
     "name": "stdout",
     "output_type": "stream",
     "text": [
      "building tree 2 of 23\n",
      "building tree 3 of 23\n",
      "building tree 4 of 23\n",
      "building tree 5 of 23\n",
      "building tree 6 of 23\n",
      "building tree 7 of 23\n",
      "building tree 8 of 23\n",
      "building tree 9 of 23\n",
      "building tree 10 of 23\n",
      "building tree 11 of 23\n",
      "building tree 12 of 23\n",
      "building tree 13 of 23\n",
      "building tree 14 of 23\n",
      "building tree 15 of 23\n",
      "building tree 16 of 23\n",
      "building tree 17 of 23\n",
      "building tree 18 of 23\n",
      "building tree 19 of 23\n",
      "building tree 20 of 23\n",
      "building tree 21 of 23\n",
      "building tree 22 of 23\n",
      "building tree 23 of 23\n"
     ]
    },
    {
     "name": "stderr",
     "output_type": "stream",
     "text": [
      "[Parallel(n_jobs=1)]: Done  23 out of  23 | elapsed: 10.9min finished\n",
      "[Parallel(n_jobs=1)]: Using backend SequentialBackend with 1 concurrent workers.\n",
      "[Parallel(n_jobs=1)]: Done   1 out of   1 | elapsed:    0.0s remaining:    0.0s\n",
      "[Parallel(n_jobs=1)]: Done  23 out of  23 | elapsed:    1.4s finished\n",
      "[Parallel(n_jobs=1)]: Using backend SequentialBackend with 1 concurrent workers.\n"
     ]
    },
    {
     "name": "stdout",
     "output_type": "stream",
     "text": [
      "building tree 1 of 23\n"
     ]
    },
    {
     "name": "stderr",
     "output_type": "stream",
     "text": [
      "[Parallel(n_jobs=1)]: Done   1 out of   1 | elapsed:   28.8s remaining:    0.0s\n"
     ]
    },
    {
     "name": "stdout",
     "output_type": "stream",
     "text": [
      "building tree 2 of 23\n",
      "building tree 3 of 23\n",
      "building tree 4 of 23\n",
      "building tree 5 of 23\n",
      "building tree 6 of 23\n",
      "building tree 7 of 23\n",
      "building tree 8 of 23\n",
      "building tree 9 of 23\n",
      "building tree 10 of 23\n",
      "building tree 11 of 23\n",
      "building tree 12 of 23\n",
      "building tree 13 of 23\n",
      "building tree 14 of 23\n",
      "building tree 15 of 23\n",
      "building tree 16 of 23\n",
      "building tree 17 of 23\n",
      "building tree 18 of 23\n",
      "building tree 19 of 23\n",
      "building tree 20 of 23\n",
      "building tree 21 of 23\n",
      "building tree 22 of 23\n",
      "building tree 23 of 23\n"
     ]
    },
    {
     "name": "stderr",
     "output_type": "stream",
     "text": [
      "[Parallel(n_jobs=1)]: Done  23 out of  23 | elapsed: 11.0min finished\n",
      "[Parallel(n_jobs=1)]: Using backend SequentialBackend with 1 concurrent workers.\n",
      "[Parallel(n_jobs=1)]: Done   1 out of   1 | elapsed:    0.0s remaining:    0.0s\n",
      "[Parallel(n_jobs=1)]: Done  23 out of  23 | elapsed:    1.4s finished\n",
      "[Parallel(n_jobs=1)]: Using backend SequentialBackend with 1 concurrent workers.\n"
     ]
    },
    {
     "name": "stdout",
     "output_type": "stream",
     "text": [
      "building tree 1 of 23\n"
     ]
    },
    {
     "name": "stderr",
     "output_type": "stream",
     "text": [
      "[Parallel(n_jobs=1)]: Done   1 out of   1 | elapsed:   22.1s remaining:    0.0s\n"
     ]
    },
    {
     "name": "stdout",
     "output_type": "stream",
     "text": [
      "building tree 2 of 23\n",
      "building tree 3 of 23\n",
      "building tree 4 of 23\n",
      "building tree 5 of 23\n",
      "building tree 6 of 23\n",
      "building tree 7 of 23\n",
      "building tree 8 of 23\n",
      "building tree 9 of 23\n",
      "building tree 10 of 23\n",
      "building tree 11 of 23\n",
      "building tree 12 of 23\n",
      "building tree 13 of 23\n",
      "building tree 14 of 23\n",
      "building tree 15 of 23\n",
      "building tree 16 of 23\n",
      "building tree 17 of 23\n",
      "building tree 18 of 23\n",
      "building tree 19 of 23\n",
      "building tree 20 of 23\n",
      "building tree 21 of 23\n",
      "building tree 22 of 23\n",
      "building tree 23 of 23\n"
     ]
    },
    {
     "name": "stderr",
     "output_type": "stream",
     "text": [
      "[Parallel(n_jobs=1)]: Done  23 out of  23 | elapsed:  8.5min finished\n",
      "[Parallel(n_jobs=1)]: Using backend SequentialBackend with 1 concurrent workers.\n",
      "[Parallel(n_jobs=1)]: Done   1 out of   1 | elapsed:    0.1s remaining:    0.0s\n",
      "[Parallel(n_jobs=1)]: Done  23 out of  23 | elapsed:    3.5s finished\n",
      "[Parallel(n_jobs=1)]: Using backend SequentialBackend with 1 concurrent workers.\n"
     ]
    },
    {
     "name": "stdout",
     "output_type": "stream",
     "text": [
      "building tree 1 of 23\n"
     ]
    },
    {
     "name": "stderr",
     "output_type": "stream",
     "text": [
      "[Parallel(n_jobs=1)]: Done   1 out of   1 | elapsed:   21.8s remaining:    0.0s\n"
     ]
    },
    {
     "name": "stdout",
     "output_type": "stream",
     "text": [
      "building tree 2 of 23\n",
      "building tree 3 of 23\n",
      "building tree 4 of 23\n",
      "building tree 5 of 23\n",
      "building tree 6 of 23\n",
      "building tree 7 of 23\n",
      "building tree 8 of 23\n",
      "building tree 9 of 23\n",
      "building tree 10 of 23\n",
      "building tree 11 of 23\n",
      "building tree 12 of 23\n",
      "building tree 13 of 23\n",
      "building tree 14 of 23\n",
      "building tree 15 of 23\n",
      "building tree 16 of 23\n",
      "building tree 17 of 23\n",
      "building tree 18 of 23\n",
      "building tree 19 of 23\n",
      "building tree 20 of 23\n",
      "building tree 21 of 23\n",
      "building tree 22 of 23\n",
      "building tree 23 of 23\n"
     ]
    },
    {
     "name": "stderr",
     "output_type": "stream",
     "text": [
      "[Parallel(n_jobs=1)]: Done  23 out of  23 | elapsed:  8.5min finished\n",
      "[Parallel(n_jobs=1)]: Using backend SequentialBackend with 1 concurrent workers.\n",
      "[Parallel(n_jobs=1)]: Done   1 out of   1 | elapsed:    0.1s remaining:    0.0s\n",
      "[Parallel(n_jobs=1)]: Done  23 out of  23 | elapsed:    3.5s finished\n",
      "[Parallel(n_jobs=1)]: Using backend SequentialBackend with 1 concurrent workers.\n"
     ]
    },
    {
     "name": "stdout",
     "output_type": "stream",
     "text": [
      "building tree 1 of 23\n"
     ]
    },
    {
     "name": "stderr",
     "output_type": "stream",
     "text": [
      "[Parallel(n_jobs=1)]: Done   1 out of   1 | elapsed:   22.5s remaining:    0.0s\n"
     ]
    },
    {
     "name": "stdout",
     "output_type": "stream",
     "text": [
      "building tree 2 of 23\n",
      "building tree 3 of 23\n",
      "building tree 4 of 23\n",
      "building tree 5 of 23\n",
      "building tree 6 of 23\n",
      "building tree 7 of 23\n",
      "building tree 8 of 23\n",
      "building tree 9 of 23\n",
      "building tree 10 of 23\n",
      "building tree 11 of 23\n",
      "building tree 12 of 23\n",
      "building tree 13 of 23\n",
      "building tree 14 of 23\n",
      "building tree 15 of 23\n",
      "building tree 16 of 23\n",
      "building tree 17 of 23\n",
      "building tree 18 of 23\n",
      "building tree 19 of 23\n",
      "building tree 20 of 23\n",
      "building tree 21 of 23\n",
      "building tree 22 of 23\n",
      "building tree 23 of 23\n"
     ]
    },
    {
     "name": "stderr",
     "output_type": "stream",
     "text": [
      "[Parallel(n_jobs=1)]: Done  23 out of  23 | elapsed:  8.5min finished\n",
      "[Parallel(n_jobs=1)]: Using backend SequentialBackend with 1 concurrent workers.\n",
      "[Parallel(n_jobs=1)]: Done   1 out of   1 | elapsed:    0.1s remaining:    0.0s\n",
      "[Parallel(n_jobs=1)]: Done  23 out of  23 | elapsed:    3.5s finished\n",
      "[Parallel(n_jobs=1)]: Using backend SequentialBackend with 1 concurrent workers.\n"
     ]
    },
    {
     "name": "stdout",
     "output_type": "stream",
     "text": [
      "building tree 1 of 23\n"
     ]
    },
    {
     "name": "stderr",
     "output_type": "stream",
     "text": [
      "[Parallel(n_jobs=1)]: Done   1 out of   1 | elapsed:   22.1s remaining:    0.0s\n"
     ]
    },
    {
     "name": "stdout",
     "output_type": "stream",
     "text": [
      "building tree 2 of 23\n",
      "building tree 3 of 23\n",
      "building tree 4 of 23\n",
      "building tree 5 of 23\n",
      "building tree 6 of 23\n",
      "building tree 7 of 23\n",
      "building tree 8 of 23\n",
      "building tree 9 of 23\n",
      "building tree 10 of 23\n",
      "building tree 11 of 23\n",
      "building tree 12 of 23\n",
      "building tree 13 of 23\n",
      "building tree 14 of 23\n",
      "building tree 15 of 23\n",
      "building tree 16 of 23\n",
      "building tree 17 of 23\n",
      "building tree 18 of 23\n",
      "building tree 19 of 23\n",
      "building tree 20 of 23\n",
      "building tree 21 of 23\n",
      "building tree 22 of 23\n",
      "building tree 23 of 23\n"
     ]
    },
    {
     "name": "stderr",
     "output_type": "stream",
     "text": [
      "[Parallel(n_jobs=1)]: Done  23 out of  23 | elapsed:  8.5min finished\n",
      "[Parallel(n_jobs=1)]: Using backend SequentialBackend with 1 concurrent workers.\n",
      "[Parallel(n_jobs=1)]: Done   1 out of   1 | elapsed:    0.1s remaining:    0.0s\n",
      "[Parallel(n_jobs=1)]: Done  23 out of  23 | elapsed:    3.5s finished\n",
      "[Parallel(n_jobs=1)]: Using backend SequentialBackend with 1 concurrent workers.\n"
     ]
    },
    {
     "name": "stdout",
     "output_type": "stream",
     "text": [
      "building tree 1 of 23\n"
     ]
    },
    {
     "name": "stderr",
     "output_type": "stream",
     "text": [
      "[Parallel(n_jobs=1)]: Done   1 out of   1 | elapsed:   23.0s remaining:    0.0s\n"
     ]
    },
    {
     "name": "stdout",
     "output_type": "stream",
     "text": [
      "building tree 2 of 23\n",
      "building tree 3 of 23\n",
      "building tree 4 of 23\n",
      "building tree 5 of 23\n",
      "building tree 6 of 23\n",
      "building tree 7 of 23\n",
      "building tree 8 of 23\n",
      "building tree 9 of 23\n",
      "building tree 10 of 23\n",
      "building tree 11 of 23\n",
      "building tree 12 of 23\n",
      "building tree 13 of 23\n",
      "building tree 14 of 23\n",
      "building tree 15 of 23\n",
      "building tree 16 of 23\n",
      "building tree 17 of 23\n",
      "building tree 18 of 23\n",
      "building tree 19 of 23\n",
      "building tree 20 of 23\n",
      "building tree 21 of 23\n",
      "building tree 22 of 23\n",
      "building tree 23 of 23\n"
     ]
    },
    {
     "name": "stderr",
     "output_type": "stream",
     "text": [
      "[Parallel(n_jobs=1)]: Done  23 out of  23 | elapsed:  8.5min finished\n",
      "[Parallel(n_jobs=1)]: Using backend SequentialBackend with 1 concurrent workers.\n",
      "[Parallel(n_jobs=1)]: Done   1 out of   1 | elapsed:    0.1s remaining:    0.0s\n",
      "[Parallel(n_jobs=1)]: Done  23 out of  23 | elapsed:    3.5s finished\n",
      "[Parallel(n_jobs=1)]: Using backend SequentialBackend with 1 concurrent workers.\n"
     ]
    },
    {
     "name": "stdout",
     "output_type": "stream",
     "text": [
      "building tree 1 of 23\n"
     ]
    },
    {
     "name": "stderr",
     "output_type": "stream",
     "text": [
      "[Parallel(n_jobs=1)]: Done   1 out of   1 | elapsed: 24.7min remaining:    0.0s\n"
     ]
    },
    {
     "name": "stdout",
     "output_type": "stream",
     "text": [
      "building tree 2 of 23\n",
      "building tree 3 of 23\n",
      "building tree 4 of 23\n",
      "building tree 5 of 23\n",
      "building tree 6 of 23\n",
      "building tree 7 of 23\n",
      "building tree 8 of 23\n",
      "building tree 9 of 23\n",
      "building tree 10 of 23\n",
      "building tree 11 of 23\n",
      "building tree 12 of 23\n",
      "building tree 13 of 23\n",
      "building tree 14 of 23\n",
      "building tree 15 of 23\n",
      "building tree 16 of 23\n",
      "building tree 17 of 23\n",
      "building tree 18 of 23\n",
      "building tree 19 of 23\n",
      "building tree 20 of 23\n",
      "building tree 21 of 23\n",
      "building tree 22 of 23\n",
      "building tree 23 of 23\n"
     ]
    },
    {
     "name": "stderr",
     "output_type": "stream",
     "text": [
      "[Parallel(n_jobs=1)]: Done  23 out of  23 | elapsed: 580.0min finished\n",
      "[Parallel(n_jobs=1)]: Using backend SequentialBackend with 1 concurrent workers.\n",
      "[Parallel(n_jobs=1)]: Done   1 out of   1 | elapsed:    0.0s remaining:    0.0s\n",
      "[Parallel(n_jobs=1)]: Done  23 out of  23 | elapsed:    1.7s finished\n",
      "[Parallel(n_jobs=1)]: Using backend SequentialBackend with 1 concurrent workers.\n"
     ]
    },
    {
     "name": "stdout",
     "output_type": "stream",
     "text": [
      "building tree 1 of 23\n"
     ]
    },
    {
     "name": "stderr",
     "output_type": "stream",
     "text": [
      "[Parallel(n_jobs=1)]: Done   1 out of   1 | elapsed: 24.2min remaining:    0.0s\n"
     ]
    },
    {
     "name": "stdout",
     "output_type": "stream",
     "text": [
      "building tree 2 of 23\n",
      "building tree 3 of 23\n",
      "building tree 4 of 23\n",
      "building tree 5 of 23\n",
      "building tree 6 of 23\n",
      "building tree 7 of 23\n",
      "building tree 8 of 23\n",
      "building tree 9 of 23\n",
      "building tree 10 of 23\n",
      "building tree 11 of 23\n",
      "building tree 12 of 23\n",
      "building tree 13 of 23\n",
      "building tree 14 of 23\n",
      "building tree 15 of 23\n",
      "building tree 16 of 23\n",
      "building tree 17 of 23\n",
      "building tree 18 of 23\n",
      "building tree 19 of 23\n",
      "building tree 20 of 23\n",
      "building tree 21 of 23\n",
      "building tree 22 of 23\n",
      "building tree 23 of 23\n"
     ]
    },
    {
     "name": "stderr",
     "output_type": "stream",
     "text": [
      "[Parallel(n_jobs=1)]: Done  23 out of  23 | elapsed: 598.4min finished\n",
      "[Parallel(n_jobs=1)]: Using backend SequentialBackend with 1 concurrent workers.\n",
      "[Parallel(n_jobs=1)]: Done   1 out of   1 | elapsed:    0.0s remaining:    0.0s\n",
      "[Parallel(n_jobs=1)]: Done  23 out of  23 | elapsed:    2.3s finished\n",
      "[Parallel(n_jobs=1)]: Using backend SequentialBackend with 1 concurrent workers.\n"
     ]
    },
    {
     "name": "stdout",
     "output_type": "stream",
     "text": [
      "building tree 1 of 23\n"
     ]
    },
    {
     "name": "stderr",
     "output_type": "stream",
     "text": [
      "[Parallel(n_jobs=1)]: Done   1 out of   1 | elapsed: 27.3min remaining:    0.0s\n"
     ]
    },
    {
     "name": "stdout",
     "output_type": "stream",
     "text": [
      "building tree 2 of 23\n",
      "building tree 3 of 23\n",
      "building tree 4 of 23\n",
      "building tree 5 of 23\n",
      "building tree 6 of 23\n",
      "building tree 7 of 23\n",
      "building tree 8 of 23\n",
      "building tree 9 of 23\n",
      "building tree 10 of 23\n",
      "building tree 11 of 23\n",
      "building tree 12 of 23\n",
      "building tree 13 of 23\n",
      "building tree 14 of 23\n",
      "building tree 15 of 23\n",
      "building tree 16 of 23\n",
      "building tree 17 of 23\n",
      "building tree 18 of 23\n",
      "building tree 19 of 23\n",
      "building tree 20 of 23\n",
      "building tree 21 of 23\n",
      "building tree 22 of 23\n",
      "building tree 23 of 23\n"
     ]
    },
    {
     "name": "stderr",
     "output_type": "stream",
     "text": [
      "[Parallel(n_jobs=1)]: Done  23 out of  23 | elapsed: 558.6min finished\n",
      "[Parallel(n_jobs=1)]: Using backend SequentialBackend with 1 concurrent workers.\n",
      "[Parallel(n_jobs=1)]: Done   1 out of   1 | elapsed:    0.0s remaining:    0.0s\n",
      "[Parallel(n_jobs=1)]: Done  23 out of  23 | elapsed:    1.7s finished\n",
      "[Parallel(n_jobs=1)]: Using backend SequentialBackend with 1 concurrent workers.\n"
     ]
    },
    {
     "name": "stdout",
     "output_type": "stream",
     "text": [
      "building tree 1 of 23\n"
     ]
    },
    {
     "name": "stderr",
     "output_type": "stream",
     "text": [
      "[Parallel(n_jobs=1)]: Done   1 out of   1 | elapsed: 26.4min remaining:    0.0s\n"
     ]
    },
    {
     "name": "stdout",
     "output_type": "stream",
     "text": [
      "building tree 2 of 23\n",
      "building tree 3 of 23\n",
      "building tree 4 of 23\n",
      "building tree 5 of 23\n",
      "building tree 6 of 23\n",
      "building tree 7 of 23\n",
      "building tree 8 of 23\n",
      "building tree 9 of 23\n",
      "building tree 10 of 23\n",
      "building tree 11 of 23\n",
      "building tree 12 of 23\n",
      "building tree 13 of 23\n",
      "building tree 14 of 23\n",
      "building tree 15 of 23\n",
      "building tree 16 of 23\n",
      "building tree 17 of 23\n",
      "building tree 18 of 23\n",
      "building tree 19 of 23\n",
      "building tree 20 of 23\n",
      "building tree 21 of 23\n",
      "building tree 22 of 23\n",
      "building tree 23 of 23\n"
     ]
    },
    {
     "name": "stderr",
     "output_type": "stream",
     "text": [
      "[Parallel(n_jobs=1)]: Done  23 out of  23 | elapsed: 606.5min finished\n",
      "[Parallel(n_jobs=1)]: Using backend SequentialBackend with 1 concurrent workers.\n",
      "[Parallel(n_jobs=1)]: Done   1 out of   1 | elapsed:    0.0s remaining:    0.0s\n",
      "[Parallel(n_jobs=1)]: Done  23 out of  23 | elapsed:    2.0s finished\n",
      "[Parallel(n_jobs=1)]: Using backend SequentialBackend with 1 concurrent workers.\n"
     ]
    },
    {
     "name": "stdout",
     "output_type": "stream",
     "text": [
      "building tree 1 of 23\n"
     ]
    },
    {
     "name": "stderr",
     "output_type": "stream",
     "text": [
      "[Parallel(n_jobs=1)]: Done   1 out of   1 | elapsed: 28.3min remaining:    0.0s\n"
     ]
    },
    {
     "name": "stdout",
     "output_type": "stream",
     "text": [
      "building tree 2 of 23\n",
      "building tree 3 of 23\n",
      "building tree 4 of 23\n",
      "building tree 5 of 23\n",
      "building tree 6 of 23\n",
      "building tree 7 of 23\n",
      "building tree 8 of 23\n",
      "building tree 9 of 23\n",
      "building tree 10 of 23\n",
      "building tree 11 of 23\n",
      "building tree 12 of 23\n",
      "building tree 13 of 23\n",
      "building tree 14 of 23\n",
      "building tree 15 of 23\n",
      "building tree 16 of 23\n",
      "building tree 17 of 23\n",
      "building tree 18 of 23\n",
      "building tree 19 of 23\n",
      "building tree 20 of 23\n",
      "building tree 21 of 23\n",
      "building tree 22 of 23\n",
      "building tree 23 of 23\n"
     ]
    },
    {
     "name": "stderr",
     "output_type": "stream",
     "text": [
      "[Parallel(n_jobs=1)]: Done  23 out of  23 | elapsed: 584.5min finished\n",
      "[Parallel(n_jobs=1)]: Using backend SequentialBackend with 1 concurrent workers.\n",
      "[Parallel(n_jobs=1)]: Done   1 out of   1 | elapsed:    0.0s remaining:    0.0s\n",
      "[Parallel(n_jobs=1)]: Done  23 out of  23 | elapsed:    1.8s finished\n",
      "[Parallel(n_jobs=1)]: Using backend SequentialBackend with 1 concurrent workers.\n",
      "[Parallel(n_jobs=1)]: Done   1 out of   1 | elapsed:    0.0s remaining:    0.0s\n"
     ]
    },
    {
     "name": "stdout",
     "output_type": "stream",
     "text": [
      "building tree 1 of 23\n",
      "building tree 2 of 23\n",
      "building tree 3 of 23\n",
      "building tree 4 of 23\n",
      "building tree 5 of 23\n",
      "building tree 6 of 23\n",
      "building tree 7 of 23\n",
      "building tree 8 of 23\n",
      "building tree 9 of 23\n",
      "building tree 10 of 23\n",
      "building tree 11 of 23\n",
      "building tree 12 of 23\n",
      "building tree 13 of 23\n",
      "building tree 14 of 23\n",
      "building tree 15 of 23\n",
      "building tree 16 of 23\n",
      "building tree 17 of 23\n",
      "building tree 18 of 23\n",
      "building tree 19 of 23\n",
      "building tree 20 of 23\n",
      "building tree 21 of 23\n",
      "building tree 22 of 23\n",
      "building tree 23 of 23\n"
     ]
    },
    {
     "name": "stderr",
     "output_type": "stream",
     "text": [
      "[Parallel(n_jobs=1)]: Done  23 out of  23 | elapsed:    1.3s finished\n",
      "[Parallel(n_jobs=1)]: Using backend SequentialBackend with 1 concurrent workers.\n",
      "[Parallel(n_jobs=1)]: Done   1 out of   1 | elapsed:    0.0s remaining:    0.0s\n",
      "[Parallel(n_jobs=1)]: Done  23 out of  23 | elapsed:    0.3s finished\n",
      "[Parallel(n_jobs=1)]: Using backend SequentialBackend with 1 concurrent workers.\n",
      "[Parallel(n_jobs=1)]: Done   1 out of   1 | elapsed:    0.0s remaining:    0.0s\n"
     ]
    },
    {
     "name": "stdout",
     "output_type": "stream",
     "text": [
      "building tree 1 of 23\n",
      "building tree 2 of 23\n",
      "building tree 3 of 23\n",
      "building tree 4 of 23\n",
      "building tree 5 of 23\n",
      "building tree 6 of 23\n",
      "building tree 7 of 23\n",
      "building tree 8 of 23\n",
      "building tree 9 of 23\n",
      "building tree 10 of 23\n",
      "building tree 11 of 23\n",
      "building tree 12 of 23\n",
      "building tree 13 of 23\n",
      "building tree 14 of 23\n",
      "building tree 15 of 23\n",
      "building tree 16 of 23\n",
      "building tree 17 of 23\n",
      "building tree 18 of 23\n",
      "building tree 19 of 23\n",
      "building tree 20 of 23\n",
      "building tree 21 of 23\n",
      "building tree 22 of 23\n",
      "building tree 23 of 23\n"
     ]
    },
    {
     "name": "stderr",
     "output_type": "stream",
     "text": [
      "[Parallel(n_jobs=1)]: Done  23 out of  23 | elapsed:    1.4s finished\n",
      "[Parallel(n_jobs=1)]: Using backend SequentialBackend with 1 concurrent workers.\n",
      "[Parallel(n_jobs=1)]: Done   1 out of   1 | elapsed:    0.0s remaining:    0.0s\n",
      "[Parallel(n_jobs=1)]: Done  23 out of  23 | elapsed:    0.3s finished\n",
      "[Parallel(n_jobs=1)]: Using backend SequentialBackend with 1 concurrent workers.\n",
      "[Parallel(n_jobs=1)]: Done   1 out of   1 | elapsed:    0.0s remaining:    0.0s\n"
     ]
    },
    {
     "name": "stdout",
     "output_type": "stream",
     "text": [
      "building tree 1 of 23\n",
      "building tree 2 of 23\n",
      "building tree 3 of 23\n",
      "building tree 4 of 23\n",
      "building tree 5 of 23\n",
      "building tree 6 of 23\n",
      "building tree 7 of 23\n",
      "building tree 8 of 23\n",
      "building tree 9 of 23\n",
      "building tree 10 of 23\n",
      "building tree 11 of 23\n",
      "building tree 12 of 23\n",
      "building tree 13 of 23\n",
      "building tree 14 of 23\n",
      "building tree 15 of 23\n",
      "building tree 16 of 23\n",
      "building tree 17 of 23\n",
      "building tree 18 of 23\n",
      "building tree 19 of 23\n",
      "building tree 20 of 23\n",
      "building tree 21 of 23\n",
      "building tree 22 of 23\n",
      "building tree 23 of 23\n"
     ]
    },
    {
     "name": "stderr",
     "output_type": "stream",
     "text": [
      "[Parallel(n_jobs=1)]: Done  23 out of  23 | elapsed:    1.2s finished\n",
      "[Parallel(n_jobs=1)]: Using backend SequentialBackend with 1 concurrent workers.\n",
      "[Parallel(n_jobs=1)]: Done   1 out of   1 | elapsed:    0.0s remaining:    0.0s\n",
      "[Parallel(n_jobs=1)]: Done  23 out of  23 | elapsed:    0.3s finished\n",
      "[Parallel(n_jobs=1)]: Using backend SequentialBackend with 1 concurrent workers.\n",
      "[Parallel(n_jobs=1)]: Done   1 out of   1 | elapsed:    0.0s remaining:    0.0s\n"
     ]
    },
    {
     "name": "stdout",
     "output_type": "stream",
     "text": [
      "building tree 1 of 23\n",
      "building tree 2 of 23\n",
      "building tree 3 of 23\n",
      "building tree 4 of 23\n",
      "building tree 5 of 23\n",
      "building tree 6 of 23\n",
      "building tree 7 of 23\n",
      "building tree 8 of 23\n",
      "building tree 9 of 23\n",
      "building tree 10 of 23\n",
      "building tree 11 of 23\n",
      "building tree 12 of 23\n",
      "building tree 13 of 23\n",
      "building tree 14 of 23\n",
      "building tree 15 of 23\n",
      "building tree 16 of 23\n",
      "building tree 17 of 23\n",
      "building tree 18 of 23\n",
      "building tree 19 of 23\n",
      "building tree 20 of 23\n",
      "building tree 21 of 23\n",
      "building tree 22 of 23\n",
      "building tree 23 of 23\n"
     ]
    },
    {
     "name": "stderr",
     "output_type": "stream",
     "text": [
      "[Parallel(n_jobs=1)]: Done  23 out of  23 | elapsed:    1.4s finished\n",
      "[Parallel(n_jobs=1)]: Using backend SequentialBackend with 1 concurrent workers.\n",
      "[Parallel(n_jobs=1)]: Done   1 out of   1 | elapsed:    0.0s remaining:    0.0s\n",
      "[Parallel(n_jobs=1)]: Done  23 out of  23 | elapsed:    0.3s finished\n",
      "[Parallel(n_jobs=1)]: Using backend SequentialBackend with 1 concurrent workers.\n",
      "[Parallel(n_jobs=1)]: Done   1 out of   1 | elapsed:    0.0s remaining:    0.0s\n"
     ]
    },
    {
     "name": "stdout",
     "output_type": "stream",
     "text": [
      "building tree 1 of 23\n",
      "building tree 2 of 23\n",
      "building tree 3 of 23\n",
      "building tree 4 of 23\n",
      "building tree 5 of 23\n",
      "building tree 6 of 23\n",
      "building tree 7 of 23\n",
      "building tree 8 of 23\n",
      "building tree 9 of 23\n",
      "building tree 10 of 23\n",
      "building tree 11 of 23\n",
      "building tree 12 of 23\n",
      "building tree 13 of 23\n",
      "building tree 14 of 23\n",
      "building tree 15 of 23\n",
      "building tree 16 of 23\n",
      "building tree 17 of 23\n",
      "building tree 18 of 23\n",
      "building tree 19 of 23\n",
      "building tree 20 of 23\n",
      "building tree 21 of 23\n",
      "building tree 22 of 23\n",
      "building tree 23 of 23\n"
     ]
    },
    {
     "name": "stderr",
     "output_type": "stream",
     "text": [
      "[Parallel(n_jobs=1)]: Done  23 out of  23 | elapsed:    1.2s finished\n",
      "[Parallel(n_jobs=1)]: Using backend SequentialBackend with 1 concurrent workers.\n",
      "[Parallel(n_jobs=1)]: Done   1 out of   1 | elapsed:    0.0s remaining:    0.0s\n",
      "[Parallel(n_jobs=1)]: Done  23 out of  23 | elapsed:    0.3s finished\n",
      "[Parallel(n_jobs=1)]: Using backend SequentialBackend with 1 concurrent workers.\n",
      "[Parallel(n_jobs=1)]: Done   1 out of   1 | elapsed:    0.0s remaining:    0.0s\n"
     ]
    },
    {
     "name": "stdout",
     "output_type": "stream",
     "text": [
      "building tree 1 of 23\n",
      "building tree 2 of 23\n",
      "building tree 3 of 23\n",
      "building tree 4 of 23\n",
      "building tree 5 of 23\n",
      "building tree 6 of 23\n",
      "building tree 7 of 23\n",
      "building tree 8 of 23\n",
      "building tree 9 of 23\n",
      "building tree 10 of 23\n",
      "building tree 11 of 23\n",
      "building tree 12 of 23\n",
      "building tree 13 of 23\n",
      "building tree 14 of 23\n",
      "building tree 15 of 23\n",
      "building tree 16 of 23\n",
      "building tree 17 of 23\n",
      "building tree 18 of 23\n",
      "building tree 19 of 23\n",
      "building tree 20 of 23\n",
      "building tree 21 of 23\n",
      "building tree 22 of 23\n",
      "building tree 23 of 23\n"
     ]
    },
    {
     "name": "stderr",
     "output_type": "stream",
     "text": [
      "[Parallel(n_jobs=1)]: Done  23 out of  23 | elapsed:    1.2s finished\n",
      "[Parallel(n_jobs=1)]: Using backend SequentialBackend with 1 concurrent workers.\n",
      "[Parallel(n_jobs=1)]: Done   1 out of   1 | elapsed:    0.0s remaining:    0.0s\n",
      "[Parallel(n_jobs=1)]: Done  23 out of  23 | elapsed:    0.3s finished\n",
      "[Parallel(n_jobs=1)]: Using backend SequentialBackend with 1 concurrent workers.\n",
      "[Parallel(n_jobs=1)]: Done   1 out of   1 | elapsed:    0.0s remaining:    0.0s\n"
     ]
    },
    {
     "name": "stdout",
     "output_type": "stream",
     "text": [
      "building tree 1 of 23\n",
      "building tree 2 of 23\n",
      "building tree 3 of 23\n",
      "building tree 4 of 23\n",
      "building tree 5 of 23\n",
      "building tree 6 of 23\n",
      "building tree 7 of 23\n",
      "building tree 8 of 23\n",
      "building tree 9 of 23\n",
      "building tree 10 of 23\n",
      "building tree 11 of 23\n",
      "building tree 12 of 23\n",
      "building tree 13 of 23\n",
      "building tree 14 of 23\n",
      "building tree 15 of 23\n",
      "building tree 16 of 23\n",
      "building tree 17 of 23\n",
      "building tree 18 of 23\n",
      "building tree 19 of 23\n",
      "building tree 20 of 23\n",
      "building tree 21 of 23\n",
      "building tree 22 of 23\n",
      "building tree 23 of 23\n"
     ]
    },
    {
     "name": "stderr",
     "output_type": "stream",
     "text": [
      "[Parallel(n_jobs=1)]: Done  23 out of  23 | elapsed:    1.2s finished\n",
      "[Parallel(n_jobs=1)]: Using backend SequentialBackend with 1 concurrent workers.\n",
      "[Parallel(n_jobs=1)]: Done   1 out of   1 | elapsed:    0.0s remaining:    0.0s\n",
      "[Parallel(n_jobs=1)]: Done  23 out of  23 | elapsed:    0.3s finished\n",
      "[Parallel(n_jobs=1)]: Using backend SequentialBackend with 1 concurrent workers.\n",
      "[Parallel(n_jobs=1)]: Done   1 out of   1 | elapsed:    0.0s remaining:    0.0s\n"
     ]
    },
    {
     "name": "stdout",
     "output_type": "stream",
     "text": [
      "building tree 1 of 23\n",
      "building tree 2 of 23\n",
      "building tree 3 of 23\n",
      "building tree 4 of 23\n",
      "building tree 5 of 23\n",
      "building tree 6 of 23\n",
      "building tree 7 of 23\n",
      "building tree 8 of 23\n",
      "building tree 9 of 23\n",
      "building tree 10 of 23\n",
      "building tree 11 of 23\n",
      "building tree 12 of 23\n",
      "building tree 13 of 23\n",
      "building tree 14 of 23\n",
      "building tree 15 of 23\n",
      "building tree 16 of 23\n",
      "building tree 17 of 23\n",
      "building tree 18 of 23\n",
      "building tree 19 of 23\n",
      "building tree 20 of 23\n",
      "building tree 21 of 23\n",
      "building tree 22 of 23\n",
      "building tree 23 of 23\n"
     ]
    },
    {
     "name": "stderr",
     "output_type": "stream",
     "text": [
      "[Parallel(n_jobs=1)]: Done  23 out of  23 | elapsed:    1.3s finished\n",
      "[Parallel(n_jobs=1)]: Using backend SequentialBackend with 1 concurrent workers.\n",
      "[Parallel(n_jobs=1)]: Done   1 out of   1 | elapsed:    0.0s remaining:    0.0s\n",
      "[Parallel(n_jobs=1)]: Done  23 out of  23 | elapsed:    0.3s finished\n",
      "[Parallel(n_jobs=1)]: Using backend SequentialBackend with 1 concurrent workers.\n",
      "[Parallel(n_jobs=1)]: Done   1 out of   1 | elapsed:    0.0s remaining:    0.0s\n"
     ]
    },
    {
     "name": "stdout",
     "output_type": "stream",
     "text": [
      "building tree 1 of 23\n",
      "building tree 2 of 23\n",
      "building tree 3 of 23\n",
      "building tree 4 of 23\n",
      "building tree 5 of 23\n",
      "building tree 6 of 23\n",
      "building tree 7 of 23\n",
      "building tree 8 of 23\n",
      "building tree 9 of 23\n",
      "building tree 10 of 23\n",
      "building tree 11 of 23\n",
      "building tree 12 of 23\n",
      "building tree 13 of 23\n",
      "building tree 14 of 23\n",
      "building tree 15 of 23\n",
      "building tree 16 of 23\n",
      "building tree 17 of 23\n",
      "building tree 18 of 23\n",
      "building tree 19 of 23\n",
      "building tree 20 of 23\n",
      "building tree 21 of 23\n",
      "building tree 22 of 23\n",
      "building tree 23 of 23\n"
     ]
    },
    {
     "name": "stderr",
     "output_type": "stream",
     "text": [
      "[Parallel(n_jobs=1)]: Done  23 out of  23 | elapsed:    1.3s finished\n",
      "[Parallel(n_jobs=1)]: Using backend SequentialBackend with 1 concurrent workers.\n",
      "[Parallel(n_jobs=1)]: Done   1 out of   1 | elapsed:    0.0s remaining:    0.0s\n",
      "[Parallel(n_jobs=1)]: Done  23 out of  23 | elapsed:    0.3s finished\n",
      "[Parallel(n_jobs=1)]: Using backend SequentialBackend with 1 concurrent workers.\n",
      "[Parallel(n_jobs=1)]: Done   1 out of   1 | elapsed:    0.0s remaining:    0.0s\n"
     ]
    },
    {
     "name": "stdout",
     "output_type": "stream",
     "text": [
      "building tree 1 of 23\n",
      "building tree 2 of 23\n",
      "building tree 3 of 23\n",
      "building tree 4 of 23\n",
      "building tree 5 of 23\n",
      "building tree 6 of 23\n",
      "building tree 7 of 23\n",
      "building tree 8 of 23\n",
      "building tree 9 of 23\n",
      "building tree 10 of 23\n",
      "building tree 11 of 23\n",
      "building tree 12 of 23\n",
      "building tree 13 of 23\n",
      "building tree 14 of 23\n",
      "building tree 15 of 23\n",
      "building tree 16 of 23\n",
      "building tree 17 of 23\n",
      "building tree 18 of 23\n",
      "building tree 19 of 23\n",
      "building tree 20 of 23\n",
      "building tree 21 of 23\n",
      "building tree 22 of 23\n",
      "building tree 23 of 23\n"
     ]
    },
    {
     "name": "stderr",
     "output_type": "stream",
     "text": [
      "[Parallel(n_jobs=1)]: Done  23 out of  23 | elapsed:    1.2s finished\n",
      "[Parallel(n_jobs=1)]: Using backend SequentialBackend with 1 concurrent workers.\n",
      "[Parallel(n_jobs=1)]: Done   1 out of   1 | elapsed:    0.0s remaining:    0.0s\n",
      "[Parallel(n_jobs=1)]: Done  23 out of  23 | elapsed:    0.3s finished\n",
      "[Parallel(n_jobs=1)]: Using backend SequentialBackend with 1 concurrent workers.\n",
      "[Parallel(n_jobs=1)]: Done   1 out of   1 | elapsed:    0.0s remaining:    0.0s\n"
     ]
    },
    {
     "name": "stdout",
     "output_type": "stream",
     "text": [
      "building tree 1 of 23\n",
      "building tree 2 of 23\n",
      "building tree 3 of 23\n",
      "building tree 4 of 23\n",
      "building tree 5 of 23\n",
      "building tree 6 of 23\n",
      "building tree 7 of 23\n",
      "building tree 8 of 23\n",
      "building tree 9 of 23\n",
      "building tree 10 of 23\n",
      "building tree 11 of 23\n",
      "building tree 12 of 23\n",
      "building tree 13 of 23\n",
      "building tree 14 of 23\n",
      "building tree 15 of 23\n",
      "building tree 16 of 23\n",
      "building tree 17 of 23\n",
      "building tree 18 of 23\n",
      "building tree 19 of 23\n",
      "building tree 20 of 23\n",
      "building tree 21 of 23\n",
      "building tree 22 of 23\n",
      "building tree 23 of 23\n"
     ]
    },
    {
     "name": "stderr",
     "output_type": "stream",
     "text": [
      "[Parallel(n_jobs=1)]: Done  23 out of  23 | elapsed:    1.0s finished\n",
      "[Parallel(n_jobs=1)]: Using backend SequentialBackend with 1 concurrent workers.\n",
      "[Parallel(n_jobs=1)]: Done   1 out of   1 | elapsed:    0.0s remaining:    0.0s\n",
      "[Parallel(n_jobs=1)]: Done  23 out of  23 | elapsed:    0.3s finished\n",
      "[Parallel(n_jobs=1)]: Using backend SequentialBackend with 1 concurrent workers.\n",
      "[Parallel(n_jobs=1)]: Done   1 out of   1 | elapsed:    0.0s remaining:    0.0s\n"
     ]
    },
    {
     "name": "stdout",
     "output_type": "stream",
     "text": [
      "building tree 1 of 23\n",
      "building tree 2 of 23\n",
      "building tree 3 of 23\n",
      "building tree 4 of 23\n",
      "building tree 5 of 23\n",
      "building tree 6 of 23\n",
      "building tree 7 of 23\n",
      "building tree 8 of 23\n",
      "building tree 9 of 23\n",
      "building tree 10 of 23\n",
      "building tree 11 of 23\n",
      "building tree 12 of 23\n",
      "building tree 13 of 23\n",
      "building tree 14 of 23\n",
      "building tree 15 of 23\n",
      "building tree 16 of 23\n",
      "building tree 17 of 23\n",
      "building tree 18 of 23\n",
      "building tree 19 of 23\n",
      "building tree 20 of 23\n",
      "building tree 21 of 23\n",
      "building tree 22 of 23\n",
      "building tree 23 of 23\n"
     ]
    },
    {
     "name": "stderr",
     "output_type": "stream",
     "text": [
      "[Parallel(n_jobs=1)]: Done  23 out of  23 | elapsed:    1.0s finished\n",
      "[Parallel(n_jobs=1)]: Using backend SequentialBackend with 1 concurrent workers.\n",
      "[Parallel(n_jobs=1)]: Done   1 out of   1 | elapsed:    0.0s remaining:    0.0s\n",
      "[Parallel(n_jobs=1)]: Done  23 out of  23 | elapsed:    0.3s finished\n",
      "[Parallel(n_jobs=1)]: Using backend SequentialBackend with 1 concurrent workers.\n",
      "[Parallel(n_jobs=1)]: Done   1 out of   1 | elapsed:    0.0s remaining:    0.0s\n"
     ]
    },
    {
     "name": "stdout",
     "output_type": "stream",
     "text": [
      "building tree 1 of 23\n",
      "building tree 2 of 23\n",
      "building tree 3 of 23\n",
      "building tree 4 of 23\n",
      "building tree 5 of 23\n",
      "building tree 6 of 23\n",
      "building tree 7 of 23\n",
      "building tree 8 of 23\n",
      "building tree 9 of 23\n",
      "building tree 10 of 23\n",
      "building tree 11 of 23\n",
      "building tree 12 of 23\n",
      "building tree 13 of 23\n",
      "building tree 14 of 23\n",
      "building tree 15 of 23\n",
      "building tree 16 of 23\n",
      "building tree 17 of 23\n",
      "building tree 18 of 23\n",
      "building tree 19 of 23\n",
      "building tree 20 of 23\n",
      "building tree 21 of 23\n",
      "building tree 22 of 23\n",
      "building tree 23 of 23\n"
     ]
    },
    {
     "name": "stderr",
     "output_type": "stream",
     "text": [
      "[Parallel(n_jobs=1)]: Done  23 out of  23 | elapsed:    0.9s finished\n",
      "[Parallel(n_jobs=1)]: Using backend SequentialBackend with 1 concurrent workers.\n",
      "[Parallel(n_jobs=1)]: Done   1 out of   1 | elapsed:    0.0s remaining:    0.0s\n",
      "[Parallel(n_jobs=1)]: Done  23 out of  23 | elapsed:    0.3s finished\n",
      "[Parallel(n_jobs=1)]: Using backend SequentialBackend with 1 concurrent workers.\n",
      "[Parallel(n_jobs=1)]: Done   1 out of   1 | elapsed:    0.0s remaining:    0.0s\n"
     ]
    },
    {
     "name": "stdout",
     "output_type": "stream",
     "text": [
      "building tree 1 of 23\n",
      "building tree 2 of 23\n",
      "building tree 3 of 23\n",
      "building tree 4 of 23\n",
      "building tree 5 of 23\n",
      "building tree 6 of 23\n",
      "building tree 7 of 23\n",
      "building tree 8 of 23\n",
      "building tree 9 of 23\n",
      "building tree 10 of 23\n",
      "building tree 11 of 23\n",
      "building tree 12 of 23\n",
      "building tree 13 of 23\n",
      "building tree 14 of 23\n",
      "building tree 15 of 23\n",
      "building tree 16 of 23\n",
      "building tree 17 of 23\n",
      "building tree 18 of 23\n",
      "building tree 19 of 23\n",
      "building tree 20 of 23\n",
      "building tree 21 of 23\n",
      "building tree 22 of 23\n",
      "building tree 23 of 23\n"
     ]
    },
    {
     "name": "stderr",
     "output_type": "stream",
     "text": [
      "[Parallel(n_jobs=1)]: Done  23 out of  23 | elapsed:    0.9s finished\n",
      "[Parallel(n_jobs=1)]: Using backend SequentialBackend with 1 concurrent workers.\n",
      "[Parallel(n_jobs=1)]: Done   1 out of   1 | elapsed:    0.0s remaining:    0.0s\n",
      "[Parallel(n_jobs=1)]: Done  23 out of  23 | elapsed:    0.3s finished\n",
      "[Parallel(n_jobs=1)]: Using backend SequentialBackend with 1 concurrent workers.\n",
      "[Parallel(n_jobs=1)]: Done   1 out of   1 | elapsed:    0.0s remaining:    0.0s\n"
     ]
    },
    {
     "name": "stdout",
     "output_type": "stream",
     "text": [
      "building tree 1 of 23\n",
      "building tree 2 of 23\n",
      "building tree 3 of 23\n",
      "building tree 4 of 23\n",
      "building tree 5 of 23\n",
      "building tree 6 of 23\n",
      "building tree 7 of 23\n",
      "building tree 8 of 23\n",
      "building tree 9 of 23\n",
      "building tree 10 of 23\n",
      "building tree 11 of 23\n",
      "building tree 12 of 23\n",
      "building tree 13 of 23\n",
      "building tree 14 of 23\n",
      "building tree 15 of 23\n",
      "building tree 16 of 23\n",
      "building tree 17 of 23\n",
      "building tree 18 of 23\n",
      "building tree 19 of 23\n",
      "building tree 20 of 23\n",
      "building tree 21 of 23\n",
      "building tree 22 of 23\n",
      "building tree 23 of 23\n"
     ]
    },
    {
     "name": "stderr",
     "output_type": "stream",
     "text": [
      "[Parallel(n_jobs=1)]: Done  23 out of  23 | elapsed:    0.9s finished\n",
      "[Parallel(n_jobs=1)]: Using backend SequentialBackend with 1 concurrent workers.\n",
      "[Parallel(n_jobs=1)]: Done   1 out of   1 | elapsed:    0.0s remaining:    0.0s\n",
      "[Parallel(n_jobs=1)]: Done  23 out of  23 | elapsed:    0.3s finished\n",
      "[Parallel(n_jobs=1)]: Using backend SequentialBackend with 1 concurrent workers.\n"
     ]
    },
    {
     "name": "stdout",
     "output_type": "stream",
     "text": [
      "building tree 1 of 23\n"
     ]
    },
    {
     "name": "stderr",
     "output_type": "stream",
     "text": [
      "[Parallel(n_jobs=1)]: Done   1 out of   1 | elapsed:    3.7s remaining:    0.0s\n"
     ]
    },
    {
     "name": "stdout",
     "output_type": "stream",
     "text": [
      "building tree 2 of 23\n",
      "building tree 3 of 23\n",
      "building tree 4 of 23\n",
      "building tree 5 of 23\n",
      "building tree 6 of 23\n",
      "building tree 7 of 23\n",
      "building tree 8 of 23\n",
      "building tree 9 of 23\n",
      "building tree 10 of 23\n",
      "building tree 11 of 23\n",
      "building tree 12 of 23\n",
      "building tree 13 of 23\n",
      "building tree 14 of 23\n",
      "building tree 15 of 23\n",
      "building tree 16 of 23\n",
      "building tree 17 of 23\n",
      "building tree 18 of 23\n",
      "building tree 19 of 23\n",
      "building tree 20 of 23\n",
      "building tree 21 of 23\n",
      "building tree 22 of 23\n",
      "building tree 23 of 23\n"
     ]
    },
    {
     "name": "stderr",
     "output_type": "stream",
     "text": [
      "[Parallel(n_jobs=1)]: Done  23 out of  23 | elapsed:  1.6min finished\n",
      "[Parallel(n_jobs=1)]: Using backend SequentialBackend with 1 concurrent workers.\n",
      "[Parallel(n_jobs=1)]: Done   1 out of   1 | elapsed:    0.0s remaining:    0.0s\n",
      "[Parallel(n_jobs=1)]: Done  23 out of  23 | elapsed:    0.3s finished\n",
      "[Parallel(n_jobs=1)]: Using backend SequentialBackend with 1 concurrent workers.\n"
     ]
    },
    {
     "name": "stdout",
     "output_type": "stream",
     "text": [
      "building tree 1 of 23\n"
     ]
    },
    {
     "name": "stderr",
     "output_type": "stream",
     "text": [
      "[Parallel(n_jobs=1)]: Done   1 out of   1 | elapsed:    4.1s remaining:    0.0s\n"
     ]
    },
    {
     "name": "stdout",
     "output_type": "stream",
     "text": [
      "building tree 2 of 23\n",
      "building tree 3 of 23\n",
      "building tree 4 of 23\n",
      "building tree 5 of 23\n",
      "building tree 6 of 23\n",
      "building tree 7 of 23\n",
      "building tree 8 of 23\n",
      "building tree 9 of 23\n",
      "building tree 10 of 23\n",
      "building tree 11 of 23\n",
      "building tree 12 of 23\n",
      "building tree 13 of 23\n",
      "building tree 14 of 23\n",
      "building tree 15 of 23\n",
      "building tree 16 of 23\n",
      "building tree 17 of 23\n",
      "building tree 18 of 23\n",
      "building tree 19 of 23\n",
      "building tree 20 of 23\n",
      "building tree 21 of 23\n",
      "building tree 22 of 23\n",
      "building tree 23 of 23\n"
     ]
    },
    {
     "name": "stderr",
     "output_type": "stream",
     "text": [
      "[Parallel(n_jobs=1)]: Done  23 out of  23 | elapsed:  1.5min finished\n",
      "[Parallel(n_jobs=1)]: Using backend SequentialBackend with 1 concurrent workers.\n",
      "[Parallel(n_jobs=1)]: Done   1 out of   1 | elapsed:    0.0s remaining:    0.0s\n",
      "[Parallel(n_jobs=1)]: Done  23 out of  23 | elapsed:    0.3s finished\n",
      "[Parallel(n_jobs=1)]: Using backend SequentialBackend with 1 concurrent workers.\n"
     ]
    },
    {
     "name": "stdout",
     "output_type": "stream",
     "text": [
      "building tree 1 of 23\n"
     ]
    },
    {
     "name": "stderr",
     "output_type": "stream",
     "text": [
      "[Parallel(n_jobs=1)]: Done   1 out of   1 | elapsed:    3.7s remaining:    0.0s\n"
     ]
    },
    {
     "name": "stdout",
     "output_type": "stream",
     "text": [
      "building tree 2 of 23\n",
      "building tree 3 of 23\n",
      "building tree 4 of 23\n",
      "building tree 5 of 23\n",
      "building tree 6 of 23\n",
      "building tree 7 of 23\n",
      "building tree 8 of 23\n",
      "building tree 9 of 23\n",
      "building tree 10 of 23\n",
      "building tree 11 of 23\n",
      "building tree 12 of 23\n",
      "building tree 13 of 23\n",
      "building tree 14 of 23\n",
      "building tree 15 of 23\n",
      "building tree 16 of 23\n",
      "building tree 17 of 23\n",
      "building tree 18 of 23\n",
      "building tree 19 of 23\n",
      "building tree 20 of 23\n",
      "building tree 21 of 23\n",
      "building tree 22 of 23\n",
      "building tree 23 of 23\n"
     ]
    },
    {
     "name": "stderr",
     "output_type": "stream",
     "text": [
      "[Parallel(n_jobs=1)]: Done  23 out of  23 | elapsed:  1.5min finished\n",
      "[Parallel(n_jobs=1)]: Using backend SequentialBackend with 1 concurrent workers.\n",
      "[Parallel(n_jobs=1)]: Done   1 out of   1 | elapsed:    0.0s remaining:    0.0s\n",
      "[Parallel(n_jobs=1)]: Done  23 out of  23 | elapsed:    0.3s finished\n",
      "[Parallel(n_jobs=1)]: Using backend SequentialBackend with 1 concurrent workers.\n"
     ]
    },
    {
     "name": "stdout",
     "output_type": "stream",
     "text": [
      "building tree 1 of 23\n"
     ]
    },
    {
     "name": "stderr",
     "output_type": "stream",
     "text": [
      "[Parallel(n_jobs=1)]: Done   1 out of   1 | elapsed:    3.7s remaining:    0.0s\n"
     ]
    },
    {
     "name": "stdout",
     "output_type": "stream",
     "text": [
      "building tree 2 of 23\n",
      "building tree 3 of 23\n",
      "building tree 4 of 23\n",
      "building tree 5 of 23\n",
      "building tree 6 of 23\n",
      "building tree 7 of 23\n",
      "building tree 8 of 23\n",
      "building tree 9 of 23\n",
      "building tree 10 of 23\n",
      "building tree 11 of 23\n",
      "building tree 12 of 23\n",
      "building tree 13 of 23\n",
      "building tree 14 of 23\n",
      "building tree 15 of 23\n",
      "building tree 16 of 23\n",
      "building tree 17 of 23\n",
      "building tree 18 of 23\n",
      "building tree 19 of 23\n",
      "building tree 20 of 23\n",
      "building tree 21 of 23\n",
      "building tree 22 of 23\n",
      "building tree 23 of 23\n"
     ]
    },
    {
     "name": "stderr",
     "output_type": "stream",
     "text": [
      "[Parallel(n_jobs=1)]: Done  23 out of  23 | elapsed:  1.5min finished\n",
      "[Parallel(n_jobs=1)]: Using backend SequentialBackend with 1 concurrent workers.\n",
      "[Parallel(n_jobs=1)]: Done   1 out of   1 | elapsed:    0.0s remaining:    0.0s\n",
      "[Parallel(n_jobs=1)]: Done  23 out of  23 | elapsed:    0.3s finished\n",
      "[Parallel(n_jobs=1)]: Using backend SequentialBackend with 1 concurrent workers.\n"
     ]
    },
    {
     "name": "stdout",
     "output_type": "stream",
     "text": [
      "building tree 1 of 23\n"
     ]
    },
    {
     "name": "stderr",
     "output_type": "stream",
     "text": [
      "[Parallel(n_jobs=1)]: Done   1 out of   1 | elapsed:    4.0s remaining:    0.0s\n"
     ]
    },
    {
     "name": "stdout",
     "output_type": "stream",
     "text": [
      "building tree 2 of 23\n",
      "building tree 3 of 23\n",
      "building tree 4 of 23\n",
      "building tree 5 of 23\n",
      "building tree 6 of 23\n",
      "building tree 7 of 23\n",
      "building tree 8 of 23\n",
      "building tree 9 of 23\n",
      "building tree 10 of 23\n",
      "building tree 11 of 23\n",
      "building tree 12 of 23\n",
      "building tree 13 of 23\n",
      "building tree 14 of 23\n",
      "building tree 15 of 23\n",
      "building tree 16 of 23\n",
      "building tree 17 of 23\n",
      "building tree 18 of 23\n",
      "building tree 19 of 23\n",
      "building tree 20 of 23\n",
      "building tree 21 of 23\n",
      "building tree 22 of 23\n",
      "building tree 23 of 23\n"
     ]
    },
    {
     "name": "stderr",
     "output_type": "stream",
     "text": [
      "[Parallel(n_jobs=1)]: Done  23 out of  23 | elapsed:  1.5min finished\n",
      "[Parallel(n_jobs=1)]: Using backend SequentialBackend with 1 concurrent workers.\n",
      "[Parallel(n_jobs=1)]: Done   1 out of   1 | elapsed:    0.0s remaining:    0.0s\n",
      "[Parallel(n_jobs=1)]: Done  23 out of  23 | elapsed:    0.3s finished\n",
      "[Parallel(n_jobs=1)]: Using backend SequentialBackend with 1 concurrent workers.\n",
      "[Parallel(n_jobs=1)]: Done   1 out of   1 | elapsed:    0.0s remaining:    0.0s\n"
     ]
    },
    {
     "name": "stdout",
     "output_type": "stream",
     "text": [
      "building tree 1 of 23\n",
      "building tree 2 of 23\n",
      "building tree 3 of 23\n",
      "building tree 4 of 23\n",
      "building tree 5 of 23\n",
      "building tree 6 of 23\n",
      "building tree 7 of 23\n",
      "building tree 8 of 23\n",
      "building tree 9 of 23\n",
      "building tree 10 of 23\n",
      "building tree 11 of 23\n",
      "building tree 12 of 23\n",
      "building tree 13 of 23\n",
      "building tree 14 of 23\n",
      "building tree 15 of 23\n",
      "building tree 16 of 23\n",
      "building tree 17 of 23\n",
      "building tree 18 of 23\n",
      "building tree 19 of 23\n",
      "building tree 20 of 23\n",
      "building tree 21 of 23\n",
      "building tree 22 of 23\n",
      "building tree 23 of 23\n"
     ]
    },
    {
     "name": "stderr",
     "output_type": "stream",
     "text": [
      "[Parallel(n_jobs=1)]: Done  23 out of  23 | elapsed:    1.7s finished\n",
      "[Parallel(n_jobs=1)]: Using backend SequentialBackend with 1 concurrent workers.\n",
      "[Parallel(n_jobs=1)]: Done   1 out of   1 | elapsed:    0.0s remaining:    0.0s\n",
      "[Parallel(n_jobs=1)]: Done  23 out of  23 | elapsed:    0.3s finished\n",
      "[Parallel(n_jobs=1)]: Using backend SequentialBackend with 1 concurrent workers.\n",
      "[Parallel(n_jobs=1)]: Done   1 out of   1 | elapsed:    0.0s remaining:    0.0s\n"
     ]
    },
    {
     "name": "stdout",
     "output_type": "stream",
     "text": [
      "building tree 1 of 23\n",
      "building tree 2 of 23\n",
      "building tree 3 of 23\n",
      "building tree 4 of 23\n",
      "building tree 5 of 23\n",
      "building tree 6 of 23\n",
      "building tree 7 of 23\n",
      "building tree 8 of 23\n",
      "building tree 9 of 23\n",
      "building tree 10 of 23\n",
      "building tree 11 of 23\n",
      "building tree 12 of 23\n",
      "building tree 13 of 23\n",
      "building tree 14 of 23\n",
      "building tree 15 of 23\n",
      "building tree 16 of 23\n",
      "building tree 17 of 23\n",
      "building tree 18 of 23\n",
      "building tree 19 of 23\n",
      "building tree 20 of 23\n",
      "building tree 21 of 23\n",
      "building tree 22 of 23\n",
      "building tree 23 of 23\n"
     ]
    },
    {
     "name": "stderr",
     "output_type": "stream",
     "text": [
      "[Parallel(n_jobs=1)]: Done  23 out of  23 | elapsed:    1.6s finished\n",
      "[Parallel(n_jobs=1)]: Using backend SequentialBackend with 1 concurrent workers.\n",
      "[Parallel(n_jobs=1)]: Done   1 out of   1 | elapsed:    0.0s remaining:    0.0s\n",
      "[Parallel(n_jobs=1)]: Done  23 out of  23 | elapsed:    0.3s finished\n",
      "[Parallel(n_jobs=1)]: Using backend SequentialBackend with 1 concurrent workers.\n",
      "[Parallel(n_jobs=1)]: Done   1 out of   1 | elapsed:    0.0s remaining:    0.0s\n"
     ]
    },
    {
     "name": "stdout",
     "output_type": "stream",
     "text": [
      "building tree 1 of 23\n",
      "building tree 2 of 23\n",
      "building tree 3 of 23\n",
      "building tree 4 of 23\n",
      "building tree 5 of 23\n",
      "building tree 6 of 23\n",
      "building tree 7 of 23\n",
      "building tree 8 of 23\n",
      "building tree 9 of 23\n",
      "building tree 10 of 23\n",
      "building tree 11 of 23\n",
      "building tree 12 of 23\n",
      "building tree 13 of 23\n",
      "building tree 14 of 23\n",
      "building tree 15 of 23\n",
      "building tree 16 of 23\n",
      "building tree 17 of 23\n",
      "building tree 18 of 23\n",
      "building tree 19 of 23\n",
      "building tree 20 of 23\n",
      "building tree 21 of 23\n",
      "building tree 22 of 23\n",
      "building tree 23 of 23\n"
     ]
    },
    {
     "name": "stderr",
     "output_type": "stream",
     "text": [
      "[Parallel(n_jobs=1)]: Done  23 out of  23 | elapsed:    1.7s finished\n",
      "[Parallel(n_jobs=1)]: Using backend SequentialBackend with 1 concurrent workers.\n",
      "[Parallel(n_jobs=1)]: Done   1 out of   1 | elapsed:    0.0s remaining:    0.0s\n",
      "[Parallel(n_jobs=1)]: Done  23 out of  23 | elapsed:    0.3s finished\n",
      "[Parallel(n_jobs=1)]: Using backend SequentialBackend with 1 concurrent workers.\n",
      "[Parallel(n_jobs=1)]: Done   1 out of   1 | elapsed:    0.0s remaining:    0.0s\n"
     ]
    },
    {
     "name": "stdout",
     "output_type": "stream",
     "text": [
      "building tree 1 of 23\n",
      "building tree 2 of 23\n",
      "building tree 3 of 23\n",
      "building tree 4 of 23\n",
      "building tree 5 of 23\n",
      "building tree 6 of 23\n",
      "building tree 7 of 23\n",
      "building tree 8 of 23\n",
      "building tree 9 of 23\n",
      "building tree 10 of 23\n",
      "building tree 11 of 23\n",
      "building tree 12 of 23\n",
      "building tree 13 of 23\n",
      "building tree 14 of 23\n",
      "building tree 15 of 23\n",
      "building tree 16 of 23\n",
      "building tree 17 of 23\n",
      "building tree 18 of 23\n",
      "building tree 19 of 23\n",
      "building tree 20 of 23\n",
      "building tree 21 of 23\n",
      "building tree 22 of 23\n",
      "building tree 23 of 23\n"
     ]
    },
    {
     "name": "stderr",
     "output_type": "stream",
     "text": [
      "[Parallel(n_jobs=1)]: Done  23 out of  23 | elapsed:    1.6s finished\n",
      "[Parallel(n_jobs=1)]: Using backend SequentialBackend with 1 concurrent workers.\n",
      "[Parallel(n_jobs=1)]: Done   1 out of   1 | elapsed:    0.0s remaining:    0.0s\n",
      "[Parallel(n_jobs=1)]: Done  23 out of  23 | elapsed:    0.3s finished\n",
      "[Parallel(n_jobs=1)]: Using backend SequentialBackend with 1 concurrent workers.\n",
      "[Parallel(n_jobs=1)]: Done   1 out of   1 | elapsed:    0.0s remaining:    0.0s\n"
     ]
    },
    {
     "name": "stdout",
     "output_type": "stream",
     "text": [
      "building tree 1 of 23\n",
      "building tree 2 of 23\n",
      "building tree 3 of 23\n",
      "building tree 4 of 23\n",
      "building tree 5 of 23\n",
      "building tree 6 of 23\n",
      "building tree 7 of 23\n",
      "building tree 8 of 23\n",
      "building tree 9 of 23\n",
      "building tree 10 of 23\n",
      "building tree 11 of 23\n",
      "building tree 12 of 23\n",
      "building tree 13 of 23\n",
      "building tree 14 of 23\n",
      "building tree 15 of 23\n",
      "building tree 16 of 23\n",
      "building tree 17 of 23\n",
      "building tree 18 of 23\n",
      "building tree 19 of 23\n",
      "building tree 20 of 23\n",
      "building tree 21 of 23\n",
      "building tree 22 of 23\n",
      "building tree 23 of 23\n"
     ]
    },
    {
     "name": "stderr",
     "output_type": "stream",
     "text": [
      "[Parallel(n_jobs=1)]: Done  23 out of  23 | elapsed:    1.6s finished\n",
      "[Parallel(n_jobs=1)]: Using backend SequentialBackend with 1 concurrent workers.\n",
      "[Parallel(n_jobs=1)]: Done   1 out of   1 | elapsed:    0.0s remaining:    0.0s\n",
      "[Parallel(n_jobs=1)]: Done  23 out of  23 | elapsed:    0.3s finished\n",
      "[Parallel(n_jobs=1)]: Using backend SequentialBackend with 1 concurrent workers.\n",
      "[Parallel(n_jobs=1)]: Done   1 out of   1 | elapsed:    0.0s remaining:    0.0s\n"
     ]
    },
    {
     "name": "stdout",
     "output_type": "stream",
     "text": [
      "building tree 1 of 23\n",
      "building tree 2 of 23\n",
      "building tree 3 of 23\n",
      "building tree 4 of 23\n",
      "building tree 5 of 23\n",
      "building tree 6 of 23\n",
      "building tree 7 of 23\n",
      "building tree 8 of 23\n",
      "building tree 9 of 23\n",
      "building tree 10 of 23\n",
      "building tree 11 of 23\n",
      "building tree 12 of 23\n",
      "building tree 13 of 23\n",
      "building tree 14 of 23\n",
      "building tree 15 of 23\n",
      "building tree 16 of 23\n",
      "building tree 17 of 23\n",
      "building tree 18 of 23\n",
      "building tree 19 of 23\n",
      "building tree 20 of 23\n",
      "building tree 21 of 23\n",
      "building tree 22 of 23\n",
      "building tree 23 of 23\n"
     ]
    },
    {
     "name": "stderr",
     "output_type": "stream",
     "text": [
      "[Parallel(n_jobs=1)]: Done  23 out of  23 | elapsed:    1.7s finished\n",
      "[Parallel(n_jobs=1)]: Using backend SequentialBackend with 1 concurrent workers.\n",
      "[Parallel(n_jobs=1)]: Done   1 out of   1 | elapsed:    0.0s remaining:    0.0s\n",
      "[Parallel(n_jobs=1)]: Done  23 out of  23 | elapsed:    0.3s finished\n",
      "[Parallel(n_jobs=1)]: Using backend SequentialBackend with 1 concurrent workers.\n",
      "[Parallel(n_jobs=1)]: Done   1 out of   1 | elapsed:    0.0s remaining:    0.0s\n"
     ]
    },
    {
     "name": "stdout",
     "output_type": "stream",
     "text": [
      "building tree 1 of 23\n",
      "building tree 2 of 23\n",
      "building tree 3 of 23\n",
      "building tree 4 of 23\n",
      "building tree 5 of 23\n",
      "building tree 6 of 23\n",
      "building tree 7 of 23\n",
      "building tree 8 of 23\n",
      "building tree 9 of 23\n",
      "building tree 10 of 23\n",
      "building tree 11 of 23\n",
      "building tree 12 of 23\n",
      "building tree 13 of 23\n",
      "building tree 14 of 23\n",
      "building tree 15 of 23\n",
      "building tree 16 of 23\n",
      "building tree 17 of 23\n",
      "building tree 18 of 23\n",
      "building tree 19 of 23\n",
      "building tree 20 of 23\n",
      "building tree 21 of 23\n",
      "building tree 22 of 23\n",
      "building tree 23 of 23\n"
     ]
    },
    {
     "name": "stderr",
     "output_type": "stream",
     "text": [
      "[Parallel(n_jobs=1)]: Done  23 out of  23 | elapsed:    1.5s finished\n",
      "[Parallel(n_jobs=1)]: Using backend SequentialBackend with 1 concurrent workers.\n",
      "[Parallel(n_jobs=1)]: Done   1 out of   1 | elapsed:    0.0s remaining:    0.0s\n",
      "[Parallel(n_jobs=1)]: Done  23 out of  23 | elapsed:    0.3s finished\n",
      "[Parallel(n_jobs=1)]: Using backend SequentialBackend with 1 concurrent workers.\n",
      "[Parallel(n_jobs=1)]: Done   1 out of   1 | elapsed:    0.0s remaining:    0.0s\n"
     ]
    },
    {
     "name": "stdout",
     "output_type": "stream",
     "text": [
      "building tree 1 of 23\n",
      "building tree 2 of 23\n",
      "building tree 3 of 23\n",
      "building tree 4 of 23\n",
      "building tree 5 of 23\n",
      "building tree 6 of 23\n",
      "building tree 7 of 23\n",
      "building tree 8 of 23\n",
      "building tree 9 of 23\n",
      "building tree 10 of 23\n",
      "building tree 11 of 23\n",
      "building tree 12 of 23\n",
      "building tree 13 of 23\n",
      "building tree 14 of 23\n",
      "building tree 15 of 23\n",
      "building tree 16 of 23\n",
      "building tree 17 of 23\n",
      "building tree 18 of 23\n",
      "building tree 19 of 23\n",
      "building tree 20 of 23\n",
      "building tree 21 of 23\n",
      "building tree 22 of 23\n",
      "building tree 23 of 23\n"
     ]
    },
    {
     "name": "stderr",
     "output_type": "stream",
     "text": [
      "[Parallel(n_jobs=1)]: Done  23 out of  23 | elapsed:    1.6s finished\n",
      "[Parallel(n_jobs=1)]: Using backend SequentialBackend with 1 concurrent workers.\n",
      "[Parallel(n_jobs=1)]: Done   1 out of   1 | elapsed:    0.0s remaining:    0.0s\n",
      "[Parallel(n_jobs=1)]: Done  23 out of  23 | elapsed:    0.3s finished\n",
      "[Parallel(n_jobs=1)]: Using backend SequentialBackend with 1 concurrent workers.\n",
      "[Parallel(n_jobs=1)]: Done   1 out of   1 | elapsed:    0.0s remaining:    0.0s\n"
     ]
    },
    {
     "name": "stdout",
     "output_type": "stream",
     "text": [
      "building tree 1 of 23\n",
      "building tree 2 of 23\n",
      "building tree 3 of 23\n",
      "building tree 4 of 23\n",
      "building tree 5 of 23\n",
      "building tree 6 of 23\n",
      "building tree 7 of 23\n",
      "building tree 8 of 23\n",
      "building tree 9 of 23\n",
      "building tree 10 of 23\n",
      "building tree 11 of 23\n",
      "building tree 12 of 23\n",
      "building tree 13 of 23\n",
      "building tree 14 of 23\n",
      "building tree 15 of 23\n",
      "building tree 16 of 23\n",
      "building tree 17 of 23\n",
      "building tree 18 of 23\n",
      "building tree 19 of 23\n",
      "building tree 20 of 23\n",
      "building tree 21 of 23\n",
      "building tree 22 of 23\n",
      "building tree 23 of 23\n"
     ]
    },
    {
     "name": "stderr",
     "output_type": "stream",
     "text": [
      "[Parallel(n_jobs=1)]: Done  23 out of  23 | elapsed:    1.7s finished\n",
      "[Parallel(n_jobs=1)]: Using backend SequentialBackend with 1 concurrent workers.\n",
      "[Parallel(n_jobs=1)]: Done   1 out of   1 | elapsed:    0.0s remaining:    0.0s\n",
      "[Parallel(n_jobs=1)]: Done  23 out of  23 | elapsed:    0.3s finished\n",
      "[Parallel(n_jobs=1)]: Using backend SequentialBackend with 1 concurrent workers.\n",
      "[Parallel(n_jobs=1)]: Done   1 out of   1 | elapsed:    0.0s remaining:    0.0s\n"
     ]
    },
    {
     "name": "stdout",
     "output_type": "stream",
     "text": [
      "building tree 1 of 23\n",
      "building tree 2 of 23\n",
      "building tree 3 of 23\n",
      "building tree 4 of 23\n",
      "building tree 5 of 23\n",
      "building tree 6 of 23\n",
      "building tree 7 of 23\n",
      "building tree 8 of 23\n",
      "building tree 9 of 23\n",
      "building tree 10 of 23\n",
      "building tree 11 of 23\n",
      "building tree 12 of 23\n",
      "building tree 13 of 23\n",
      "building tree 14 of 23\n",
      "building tree 15 of 23\n",
      "building tree 16 of 23\n",
      "building tree 17 of 23\n",
      "building tree 18 of 23\n",
      "building tree 19 of 23\n",
      "building tree 20 of 23\n",
      "building tree 21 of 23\n",
      "building tree 22 of 23\n",
      "building tree 23 of 23\n"
     ]
    },
    {
     "name": "stderr",
     "output_type": "stream",
     "text": [
      "[Parallel(n_jobs=1)]: Done  23 out of  23 | elapsed:    1.6s finished\n",
      "[Parallel(n_jobs=1)]: Using backend SequentialBackend with 1 concurrent workers.\n",
      "[Parallel(n_jobs=1)]: Done   1 out of   1 | elapsed:    0.0s remaining:    0.0s\n",
      "[Parallel(n_jobs=1)]: Done  23 out of  23 | elapsed:    0.3s finished\n",
      "[Parallel(n_jobs=1)]: Using backend SequentialBackend with 1 concurrent workers.\n",
      "[Parallel(n_jobs=1)]: Done   1 out of   1 | elapsed:    0.0s remaining:    0.0s\n"
     ]
    },
    {
     "name": "stdout",
     "output_type": "stream",
     "text": [
      "building tree 1 of 23\n",
      "building tree 2 of 23\n",
      "building tree 3 of 23\n",
      "building tree 4 of 23\n",
      "building tree 5 of 23\n",
      "building tree 6 of 23\n",
      "building tree 7 of 23\n",
      "building tree 8 of 23\n",
      "building tree 9 of 23\n",
      "building tree 10 of 23\n",
      "building tree 11 of 23\n",
      "building tree 12 of 23\n",
      "building tree 13 of 23\n",
      "building tree 14 of 23\n",
      "building tree 15 of 23\n",
      "building tree 16 of 23\n",
      "building tree 17 of 23\n",
      "building tree 18 of 23\n",
      "building tree 19 of 23\n",
      "building tree 20 of 23\n",
      "building tree 21 of 23\n",
      "building tree 22 of 23\n",
      "building tree 23 of 23\n"
     ]
    },
    {
     "name": "stderr",
     "output_type": "stream",
     "text": [
      "[Parallel(n_jobs=1)]: Done  23 out of  23 | elapsed:    1.0s finished\n",
      "[Parallel(n_jobs=1)]: Using backend SequentialBackend with 1 concurrent workers.\n",
      "[Parallel(n_jobs=1)]: Done   1 out of   1 | elapsed:    0.0s remaining:    0.0s\n",
      "[Parallel(n_jobs=1)]: Done  23 out of  23 | elapsed:    0.3s finished\n",
      "[Parallel(n_jobs=1)]: Using backend SequentialBackend with 1 concurrent workers.\n",
      "[Parallel(n_jobs=1)]: Done   1 out of   1 | elapsed:    0.0s remaining:    0.0s\n"
     ]
    },
    {
     "name": "stdout",
     "output_type": "stream",
     "text": [
      "building tree 1 of 23\n",
      "building tree 2 of 23\n",
      "building tree 3 of 23\n",
      "building tree 4 of 23\n",
      "building tree 5 of 23\n",
      "building tree 6 of 23\n",
      "building tree 7 of 23\n",
      "building tree 8 of 23\n",
      "building tree 9 of 23\n",
      "building tree 10 of 23\n",
      "building tree 11 of 23\n",
      "building tree 12 of 23\n",
      "building tree 13 of 23\n",
      "building tree 14 of 23\n",
      "building tree 15 of 23\n",
      "building tree 16 of 23\n",
      "building tree 17 of 23\n",
      "building tree 18 of 23\n",
      "building tree 19 of 23\n",
      "building tree 20 of 23\n",
      "building tree 21 of 23\n",
      "building tree 22 of 23\n",
      "building tree 23 of 23\n"
     ]
    },
    {
     "name": "stderr",
     "output_type": "stream",
     "text": [
      "[Parallel(n_jobs=1)]: Done  23 out of  23 | elapsed:    1.0s finished\n",
      "[Parallel(n_jobs=1)]: Using backend SequentialBackend with 1 concurrent workers.\n",
      "[Parallel(n_jobs=1)]: Done   1 out of   1 | elapsed:    0.0s remaining:    0.0s\n",
      "[Parallel(n_jobs=1)]: Done  23 out of  23 | elapsed:    0.3s finished\n",
      "[Parallel(n_jobs=1)]: Using backend SequentialBackend with 1 concurrent workers.\n",
      "[Parallel(n_jobs=1)]: Done   1 out of   1 | elapsed:    0.0s remaining:    0.0s\n"
     ]
    },
    {
     "name": "stdout",
     "output_type": "stream",
     "text": [
      "building tree 1 of 23\n",
      "building tree 2 of 23\n",
      "building tree 3 of 23\n",
      "building tree 4 of 23\n",
      "building tree 5 of 23\n",
      "building tree 6 of 23\n",
      "building tree 7 of 23\n",
      "building tree 8 of 23\n",
      "building tree 9 of 23\n",
      "building tree 10 of 23\n",
      "building tree 11 of 23\n",
      "building tree 12 of 23\n",
      "building tree 13 of 23\n",
      "building tree 14 of 23\n",
      "building tree 15 of 23\n",
      "building tree 16 of 23\n",
      "building tree 17 of 23\n",
      "building tree 18 of 23\n",
      "building tree 19 of 23\n",
      "building tree 20 of 23\n",
      "building tree 21 of 23\n",
      "building tree 22 of 23\n",
      "building tree 23 of 23\n"
     ]
    },
    {
     "name": "stderr",
     "output_type": "stream",
     "text": [
      "[Parallel(n_jobs=1)]: Done  23 out of  23 | elapsed:    1.1s finished\n",
      "[Parallel(n_jobs=1)]: Using backend SequentialBackend with 1 concurrent workers.\n",
      "[Parallel(n_jobs=1)]: Done   1 out of   1 | elapsed:    0.0s remaining:    0.0s\n",
      "[Parallel(n_jobs=1)]: Done  23 out of  23 | elapsed:    0.3s finished\n",
      "[Parallel(n_jobs=1)]: Using backend SequentialBackend with 1 concurrent workers.\n",
      "[Parallel(n_jobs=1)]: Done   1 out of   1 | elapsed:    0.0s remaining:    0.0s\n"
     ]
    },
    {
     "name": "stdout",
     "output_type": "stream",
     "text": [
      "building tree 1 of 23\n",
      "building tree 2 of 23\n",
      "building tree 3 of 23\n",
      "building tree 4 of 23\n",
      "building tree 5 of 23\n",
      "building tree 6 of 23\n",
      "building tree 7 of 23\n",
      "building tree 8 of 23\n",
      "building tree 9 of 23\n",
      "building tree 10 of 23\n",
      "building tree 11 of 23\n",
      "building tree 12 of 23\n",
      "building tree 13 of 23\n",
      "building tree 14 of 23\n",
      "building tree 15 of 23\n",
      "building tree 16 of 23\n",
      "building tree 17 of 23\n",
      "building tree 18 of 23\n",
      "building tree 19 of 23\n",
      "building tree 20 of 23\n",
      "building tree 21 of 23\n",
      "building tree 22 of 23\n",
      "building tree 23 of 23\n"
     ]
    },
    {
     "name": "stderr",
     "output_type": "stream",
     "text": [
      "[Parallel(n_jobs=1)]: Done  23 out of  23 | elapsed:    1.0s finished\n",
      "[Parallel(n_jobs=1)]: Using backend SequentialBackend with 1 concurrent workers.\n",
      "[Parallel(n_jobs=1)]: Done   1 out of   1 | elapsed:    0.0s remaining:    0.0s\n",
      "[Parallel(n_jobs=1)]: Done  23 out of  23 | elapsed:    0.3s finished\n",
      "[Parallel(n_jobs=1)]: Using backend SequentialBackend with 1 concurrent workers.\n",
      "[Parallel(n_jobs=1)]: Done   1 out of   1 | elapsed:    0.0s remaining:    0.0s\n"
     ]
    },
    {
     "name": "stdout",
     "output_type": "stream",
     "text": [
      "building tree 1 of 23\n",
      "building tree 2 of 23\n",
      "building tree 3 of 23\n",
      "building tree 4 of 23\n",
      "building tree 5 of 23\n",
      "building tree 6 of 23\n",
      "building tree 7 of 23\n",
      "building tree 8 of 23\n",
      "building tree 9 of 23\n",
      "building tree 10 of 23\n",
      "building tree 11 of 23\n",
      "building tree 12 of 23\n",
      "building tree 13 of 23\n",
      "building tree 14 of 23\n",
      "building tree 15 of 23\n",
      "building tree 16 of 23\n",
      "building tree 17 of 23\n",
      "building tree 18 of 23\n",
      "building tree 19 of 23\n",
      "building tree 20 of 23\n",
      "building tree 21 of 23\n",
      "building tree 22 of 23\n",
      "building tree 23 of 23\n"
     ]
    },
    {
     "name": "stderr",
     "output_type": "stream",
     "text": [
      "[Parallel(n_jobs=1)]: Done  23 out of  23 | elapsed:    1.0s finished\n",
      "[Parallel(n_jobs=1)]: Using backend SequentialBackend with 1 concurrent workers.\n",
      "[Parallel(n_jobs=1)]: Done   1 out of   1 | elapsed:    0.0s remaining:    0.0s\n",
      "[Parallel(n_jobs=1)]: Done  23 out of  23 | elapsed:    0.3s finished\n",
      "[Parallel(n_jobs=1)]: Using backend SequentialBackend with 1 concurrent workers.\n"
     ]
    },
    {
     "name": "stdout",
     "output_type": "stream",
     "text": [
      "building tree 1 of 23\n"
     ]
    },
    {
     "name": "stderr",
     "output_type": "stream",
     "text": [
      "[Parallel(n_jobs=1)]: Done   1 out of   1 | elapsed:    7.9s remaining:    0.0s\n"
     ]
    },
    {
     "name": "stdout",
     "output_type": "stream",
     "text": [
      "building tree 2 of 23\n",
      "building tree 3 of 23\n",
      "building tree 4 of 23\n",
      "building tree 5 of 23\n",
      "building tree 6 of 23\n",
      "building tree 7 of 23\n",
      "building tree 8 of 23\n",
      "building tree 9 of 23\n",
      "building tree 10 of 23\n",
      "building tree 11 of 23\n",
      "building tree 12 of 23\n",
      "building tree 13 of 23\n",
      "building tree 14 of 23\n",
      "building tree 15 of 23\n",
      "building tree 16 of 23\n",
      "building tree 17 of 23\n",
      "building tree 18 of 23\n",
      "building tree 19 of 23\n",
      "building tree 20 of 23\n",
      "building tree 21 of 23\n",
      "building tree 22 of 23\n",
      "building tree 23 of 23\n"
     ]
    },
    {
     "name": "stderr",
     "output_type": "stream",
     "text": [
      "[Parallel(n_jobs=1)]: Done  23 out of  23 | elapsed:  3.2min finished\n",
      "[Parallel(n_jobs=1)]: Using backend SequentialBackend with 1 concurrent workers.\n",
      "[Parallel(n_jobs=1)]: Done   1 out of   1 | elapsed:    0.0s remaining:    0.0s\n",
      "[Parallel(n_jobs=1)]: Done  23 out of  23 | elapsed:    0.3s finished\n",
      "[Parallel(n_jobs=1)]: Using backend SequentialBackend with 1 concurrent workers.\n"
     ]
    },
    {
     "name": "stdout",
     "output_type": "stream",
     "text": [
      "building tree 1 of 23\n"
     ]
    },
    {
     "name": "stderr",
     "output_type": "stream",
     "text": [
      "[Parallel(n_jobs=1)]: Done   1 out of   1 | elapsed:    8.2s remaining:    0.0s\n"
     ]
    },
    {
     "name": "stdout",
     "output_type": "stream",
     "text": [
      "building tree 2 of 23\n",
      "building tree 3 of 23\n",
      "building tree 4 of 23\n",
      "building tree 5 of 23\n",
      "building tree 6 of 23\n",
      "building tree 7 of 23\n",
      "building tree 8 of 23\n",
      "building tree 9 of 23\n",
      "building tree 10 of 23\n",
      "building tree 11 of 23\n",
      "building tree 12 of 23\n",
      "building tree 13 of 23\n",
      "building tree 14 of 23\n",
      "building tree 15 of 23\n",
      "building tree 16 of 23\n",
      "building tree 17 of 23\n",
      "building tree 18 of 23\n",
      "building tree 19 of 23\n",
      "building tree 20 of 23\n",
      "building tree 21 of 23\n",
      "building tree 22 of 23\n",
      "building tree 23 of 23\n"
     ]
    },
    {
     "name": "stderr",
     "output_type": "stream",
     "text": [
      "[Parallel(n_jobs=1)]: Done  23 out of  23 | elapsed:  3.2min finished\n",
      "[Parallel(n_jobs=1)]: Using backend SequentialBackend with 1 concurrent workers.\n",
      "[Parallel(n_jobs=1)]: Done   1 out of   1 | elapsed:    0.0s remaining:    0.0s\n",
      "[Parallel(n_jobs=1)]: Done  23 out of  23 | elapsed:    0.3s finished\n",
      "[Parallel(n_jobs=1)]: Using backend SequentialBackend with 1 concurrent workers.\n"
     ]
    },
    {
     "name": "stdout",
     "output_type": "stream",
     "text": [
      "building tree 1 of 23\n"
     ]
    },
    {
     "name": "stderr",
     "output_type": "stream",
     "text": [
      "[Parallel(n_jobs=1)]: Done   1 out of   1 | elapsed:    8.4s remaining:    0.0s\n"
     ]
    },
    {
     "name": "stdout",
     "output_type": "stream",
     "text": [
      "building tree 2 of 23\n",
      "building tree 3 of 23\n",
      "building tree 4 of 23\n",
      "building tree 5 of 23\n",
      "building tree 6 of 23\n",
      "building tree 7 of 23\n",
      "building tree 8 of 23\n",
      "building tree 9 of 23\n",
      "building tree 10 of 23\n",
      "building tree 11 of 23\n",
      "building tree 12 of 23\n",
      "building tree 13 of 23\n",
      "building tree 14 of 23\n",
      "building tree 15 of 23\n",
      "building tree 16 of 23\n",
      "building tree 17 of 23\n",
      "building tree 18 of 23\n",
      "building tree 19 of 23\n",
      "building tree 20 of 23\n",
      "building tree 21 of 23\n",
      "building tree 22 of 23\n",
      "building tree 23 of 23\n"
     ]
    },
    {
     "name": "stderr",
     "output_type": "stream",
     "text": [
      "[Parallel(n_jobs=1)]: Done  23 out of  23 | elapsed:  3.3min finished\n",
      "[Parallel(n_jobs=1)]: Using backend SequentialBackend with 1 concurrent workers.\n",
      "[Parallel(n_jobs=1)]: Done   1 out of   1 | elapsed:    0.0s remaining:    0.0s\n",
      "[Parallel(n_jobs=1)]: Done  23 out of  23 | elapsed:    0.3s finished\n",
      "[Parallel(n_jobs=1)]: Using backend SequentialBackend with 1 concurrent workers.\n"
     ]
    },
    {
     "name": "stdout",
     "output_type": "stream",
     "text": [
      "building tree 1 of 23\n"
     ]
    },
    {
     "name": "stderr",
     "output_type": "stream",
     "text": [
      "[Parallel(n_jobs=1)]: Done   1 out of   1 | elapsed:    8.5s remaining:    0.0s\n"
     ]
    },
    {
     "name": "stdout",
     "output_type": "stream",
     "text": [
      "building tree 2 of 23\n",
      "building tree 3 of 23\n",
      "building tree 4 of 23\n",
      "building tree 5 of 23\n",
      "building tree 6 of 23\n",
      "building tree 7 of 23\n",
      "building tree 8 of 23\n",
      "building tree 9 of 23\n",
      "building tree 10 of 23\n",
      "building tree 11 of 23\n",
      "building tree 12 of 23\n",
      "building tree 13 of 23\n",
      "building tree 14 of 23\n",
      "building tree 15 of 23\n",
      "building tree 16 of 23\n",
      "building tree 17 of 23\n",
      "building tree 18 of 23\n",
      "building tree 19 of 23\n",
      "building tree 20 of 23\n",
      "building tree 21 of 23\n",
      "building tree 22 of 23\n",
      "building tree 23 of 23\n"
     ]
    },
    {
     "name": "stderr",
     "output_type": "stream",
     "text": [
      "[Parallel(n_jobs=1)]: Done  23 out of  23 | elapsed:  3.2min finished\n",
      "[Parallel(n_jobs=1)]: Using backend SequentialBackend with 1 concurrent workers.\n",
      "[Parallel(n_jobs=1)]: Done   1 out of   1 | elapsed:    0.0s remaining:    0.0s\n",
      "[Parallel(n_jobs=1)]: Done  23 out of  23 | elapsed:    0.3s finished\n",
      "[Parallel(n_jobs=1)]: Using backend SequentialBackend with 1 concurrent workers.\n"
     ]
    },
    {
     "name": "stdout",
     "output_type": "stream",
     "text": [
      "building tree 1 of 23\n"
     ]
    },
    {
     "name": "stderr",
     "output_type": "stream",
     "text": [
      "[Parallel(n_jobs=1)]: Done   1 out of   1 | elapsed:    8.6s remaining:    0.0s\n"
     ]
    },
    {
     "name": "stdout",
     "output_type": "stream",
     "text": [
      "building tree 2 of 23\n",
      "building tree 3 of 23\n",
      "building tree 4 of 23\n",
      "building tree 5 of 23\n",
      "building tree 6 of 23\n",
      "building tree 7 of 23\n",
      "building tree 8 of 23\n",
      "building tree 9 of 23\n",
      "building tree 10 of 23\n",
      "building tree 11 of 23\n",
      "building tree 12 of 23\n",
      "building tree 13 of 23\n",
      "building tree 14 of 23\n",
      "building tree 15 of 23\n",
      "building tree 16 of 23\n",
      "building tree 17 of 23\n",
      "building tree 18 of 23\n",
      "building tree 19 of 23\n",
      "building tree 20 of 23\n",
      "building tree 21 of 23\n",
      "building tree 22 of 23\n",
      "building tree 23 of 23\n"
     ]
    },
    {
     "name": "stderr",
     "output_type": "stream",
     "text": [
      "[Parallel(n_jobs=1)]: Done  23 out of  23 | elapsed:  3.2min finished\n",
      "[Parallel(n_jobs=1)]: Using backend SequentialBackend with 1 concurrent workers.\n",
      "[Parallel(n_jobs=1)]: Done   1 out of   1 | elapsed:    0.0s remaining:    0.0s\n",
      "[Parallel(n_jobs=1)]: Done  23 out of  23 | elapsed:    0.3s finished\n",
      "[Parallel(n_jobs=1)]: Using backend SequentialBackend with 1 concurrent workers.\n",
      "[Parallel(n_jobs=1)]: Done   1 out of   1 | elapsed:    0.0s remaining:    0.0s\n"
     ]
    },
    {
     "name": "stdout",
     "output_type": "stream",
     "text": [
      "building tree 1 of 23\n",
      "building tree 2 of 23\n",
      "building tree 3 of 23\n",
      "building tree 4 of 23\n",
      "building tree 5 of 23\n",
      "building tree 6 of 23\n",
      "building tree 7 of 23\n",
      "building tree 8 of 23\n",
      "building tree 9 of 23\n",
      "building tree 10 of 23\n",
      "building tree 11 of 23\n",
      "building tree 12 of 23\n",
      "building tree 13 of 23\n",
      "building tree 14 of 23\n",
      "building tree 15 of 23\n",
      "building tree 16 of 23\n",
      "building tree 17 of 23\n",
      "building tree 18 of 23\n",
      "building tree 19 of 23\n",
      "building tree 20 of 23\n",
      "building tree 21 of 23\n",
      "building tree 22 of 23\n",
      "building tree 23 of 23\n"
     ]
    },
    {
     "name": "stderr",
     "output_type": "stream",
     "text": [
      "[Parallel(n_jobs=1)]: Done  23 out of  23 | elapsed:    2.2s finished\n",
      "[Parallel(n_jobs=1)]: Using backend SequentialBackend with 1 concurrent workers.\n",
      "[Parallel(n_jobs=1)]: Done   1 out of   1 | elapsed:    0.0s remaining:    0.0s\n",
      "[Parallel(n_jobs=1)]: Done  23 out of  23 | elapsed:    0.3s finished\n",
      "[Parallel(n_jobs=1)]: Using backend SequentialBackend with 1 concurrent workers.\n",
      "[Parallel(n_jobs=1)]: Done   1 out of   1 | elapsed:    0.0s remaining:    0.0s\n"
     ]
    },
    {
     "name": "stdout",
     "output_type": "stream",
     "text": [
      "building tree 1 of 23\n",
      "building tree 2 of 23\n",
      "building tree 3 of 23\n",
      "building tree 4 of 23\n",
      "building tree 5 of 23\n",
      "building tree 6 of 23\n",
      "building tree 7 of 23\n",
      "building tree 8 of 23\n",
      "building tree 9 of 23\n",
      "building tree 10 of 23\n",
      "building tree 11 of 23\n",
      "building tree 12 of 23\n",
      "building tree 13 of 23\n",
      "building tree 14 of 23\n",
      "building tree 15 of 23\n",
      "building tree 16 of 23\n",
      "building tree 17 of 23\n",
      "building tree 18 of 23\n",
      "building tree 19 of 23\n",
      "building tree 20 of 23\n",
      "building tree 21 of 23\n",
      "building tree 22 of 23\n",
      "building tree 23 of 23\n"
     ]
    },
    {
     "name": "stderr",
     "output_type": "stream",
     "text": [
      "[Parallel(n_jobs=1)]: Done  23 out of  23 | elapsed:    2.2s finished\n",
      "[Parallel(n_jobs=1)]: Using backend SequentialBackend with 1 concurrent workers.\n",
      "[Parallel(n_jobs=1)]: Done   1 out of   1 | elapsed:    0.0s remaining:    0.0s\n",
      "[Parallel(n_jobs=1)]: Done  23 out of  23 | elapsed:    0.3s finished\n",
      "[Parallel(n_jobs=1)]: Using backend SequentialBackend with 1 concurrent workers.\n",
      "[Parallel(n_jobs=1)]: Done   1 out of   1 | elapsed:    0.0s remaining:    0.0s\n"
     ]
    },
    {
     "name": "stdout",
     "output_type": "stream",
     "text": [
      "building tree 1 of 23\n",
      "building tree 2 of 23\n",
      "building tree 3 of 23\n",
      "building tree 4 of 23\n",
      "building tree 5 of 23\n",
      "building tree 6 of 23\n",
      "building tree 7 of 23\n",
      "building tree 8 of 23\n",
      "building tree 9 of 23\n",
      "building tree 10 of 23\n",
      "building tree 11 of 23\n",
      "building tree 12 of 23\n",
      "building tree 13 of 23\n",
      "building tree 14 of 23\n",
      "building tree 15 of 23\n",
      "building tree 16 of 23\n",
      "building tree 17 of 23\n",
      "building tree 18 of 23\n",
      "building tree 19 of 23\n",
      "building tree 20 of 23\n",
      "building tree 21 of 23\n",
      "building tree 22 of 23\n",
      "building tree 23 of 23\n"
     ]
    },
    {
     "name": "stderr",
     "output_type": "stream",
     "text": [
      "[Parallel(n_jobs=1)]: Done  23 out of  23 | elapsed:    2.3s finished\n",
      "[Parallel(n_jobs=1)]: Using backend SequentialBackend with 1 concurrent workers.\n",
      "[Parallel(n_jobs=1)]: Done   1 out of   1 | elapsed:    0.0s remaining:    0.0s\n",
      "[Parallel(n_jobs=1)]: Done  23 out of  23 | elapsed:    0.3s finished\n",
      "[Parallel(n_jobs=1)]: Using backend SequentialBackend with 1 concurrent workers.\n",
      "[Parallel(n_jobs=1)]: Done   1 out of   1 | elapsed:    0.0s remaining:    0.0s\n"
     ]
    },
    {
     "name": "stdout",
     "output_type": "stream",
     "text": [
      "building tree 1 of 23\n",
      "building tree 2 of 23\n",
      "building tree 3 of 23\n",
      "building tree 4 of 23\n",
      "building tree 5 of 23\n",
      "building tree 6 of 23\n",
      "building tree 7 of 23\n",
      "building tree 8 of 23\n",
      "building tree 9 of 23\n",
      "building tree 10 of 23\n",
      "building tree 11 of 23\n",
      "building tree 12 of 23\n",
      "building tree 13 of 23\n",
      "building tree 14 of 23\n",
      "building tree 15 of 23\n",
      "building tree 16 of 23\n",
      "building tree 17 of 23\n",
      "building tree 18 of 23\n",
      "building tree 19 of 23\n",
      "building tree 20 of 23\n",
      "building tree 21 of 23\n",
      "building tree 22 of 23\n",
      "building tree 23 of 23\n"
     ]
    },
    {
     "name": "stderr",
     "output_type": "stream",
     "text": [
      "[Parallel(n_jobs=1)]: Done  23 out of  23 | elapsed:    2.6s finished\n",
      "[Parallel(n_jobs=1)]: Using backend SequentialBackend with 1 concurrent workers.\n",
      "[Parallel(n_jobs=1)]: Done   1 out of   1 | elapsed:    0.0s remaining:    0.0s\n",
      "[Parallel(n_jobs=1)]: Done  23 out of  23 | elapsed:    0.3s finished\n",
      "[Parallel(n_jobs=1)]: Using backend SequentialBackend with 1 concurrent workers.\n",
      "[Parallel(n_jobs=1)]: Done   1 out of   1 | elapsed:    0.0s remaining:    0.0s\n"
     ]
    },
    {
     "name": "stdout",
     "output_type": "stream",
     "text": [
      "building tree 1 of 23\n",
      "building tree 2 of 23\n",
      "building tree 3 of 23\n",
      "building tree 4 of 23\n",
      "building tree 5 of 23\n",
      "building tree 6 of 23\n",
      "building tree 7 of 23\n",
      "building tree 8 of 23\n",
      "building tree 9 of 23\n",
      "building tree 10 of 23\n",
      "building tree 11 of 23\n",
      "building tree 12 of 23\n",
      "building tree 13 of 23\n",
      "building tree 14 of 23\n",
      "building tree 15 of 23\n",
      "building tree 16 of 23\n",
      "building tree 17 of 23\n",
      "building tree 18 of 23\n",
      "building tree 19 of 23\n",
      "building tree 20 of 23\n",
      "building tree 21 of 23\n",
      "building tree 22 of 23\n",
      "building tree 23 of 23\n"
     ]
    },
    {
     "name": "stderr",
     "output_type": "stream",
     "text": [
      "[Parallel(n_jobs=1)]: Done  23 out of  23 | elapsed:    2.1s finished\n",
      "[Parallel(n_jobs=1)]: Using backend SequentialBackend with 1 concurrent workers.\n",
      "[Parallel(n_jobs=1)]: Done   1 out of   1 | elapsed:    0.0s remaining:    0.0s\n",
      "[Parallel(n_jobs=1)]: Done  23 out of  23 | elapsed:    0.3s finished\n",
      "[Parallel(n_jobs=1)]: Using backend SequentialBackend with 1 concurrent workers.\n",
      "[Parallel(n_jobs=1)]: Done   1 out of   1 | elapsed:    0.0s remaining:    0.0s\n"
     ]
    },
    {
     "name": "stdout",
     "output_type": "stream",
     "text": [
      "building tree 1 of 23\n",
      "building tree 2 of 23\n",
      "building tree 3 of 23\n",
      "building tree 4 of 23\n",
      "building tree 5 of 23\n",
      "building tree 6 of 23\n",
      "building tree 7 of 23\n",
      "building tree 8 of 23\n",
      "building tree 9 of 23\n",
      "building tree 10 of 23\n",
      "building tree 11 of 23\n",
      "building tree 12 of 23\n",
      "building tree 13 of 23\n",
      "building tree 14 of 23\n",
      "building tree 15 of 23\n",
      "building tree 16 of 23\n",
      "building tree 17 of 23\n",
      "building tree 18 of 23\n",
      "building tree 19 of 23\n",
      "building tree 20 of 23\n",
      "building tree 21 of 23\n",
      "building tree 22 of 23\n",
      "building tree 23 of 23\n"
     ]
    },
    {
     "name": "stderr",
     "output_type": "stream",
     "text": [
      "[Parallel(n_jobs=1)]: Done  23 out of  23 | elapsed:    2.1s finished\n",
      "[Parallel(n_jobs=1)]: Using backend SequentialBackend with 1 concurrent workers.\n",
      "[Parallel(n_jobs=1)]: Done   1 out of   1 | elapsed:    0.0s remaining:    0.0s\n",
      "[Parallel(n_jobs=1)]: Done  23 out of  23 | elapsed:    0.3s finished\n",
      "[Parallel(n_jobs=1)]: Using backend SequentialBackend with 1 concurrent workers.\n",
      "[Parallel(n_jobs=1)]: Done   1 out of   1 | elapsed:    0.0s remaining:    0.0s\n"
     ]
    },
    {
     "name": "stdout",
     "output_type": "stream",
     "text": [
      "building tree 1 of 23\n",
      "building tree 2 of 23\n",
      "building tree 3 of 23\n",
      "building tree 4 of 23\n",
      "building tree 5 of 23\n",
      "building tree 6 of 23\n",
      "building tree 7 of 23\n",
      "building tree 8 of 23\n",
      "building tree 9 of 23\n",
      "building tree 10 of 23\n",
      "building tree 11 of 23\n",
      "building tree 12 of 23\n",
      "building tree 13 of 23\n",
      "building tree 14 of 23\n",
      "building tree 15 of 23\n",
      "building tree 16 of 23\n",
      "building tree 17 of 23\n",
      "building tree 18 of 23\n",
      "building tree 19 of 23\n",
      "building tree 20 of 23\n",
      "building tree 21 of 23\n",
      "building tree 22 of 23\n",
      "building tree 23 of 23\n"
     ]
    },
    {
     "name": "stderr",
     "output_type": "stream",
     "text": [
      "[Parallel(n_jobs=1)]: Done  23 out of  23 | elapsed:    2.2s finished\n",
      "[Parallel(n_jobs=1)]: Using backend SequentialBackend with 1 concurrent workers.\n",
      "[Parallel(n_jobs=1)]: Done   1 out of   1 | elapsed:    0.0s remaining:    0.0s\n",
      "[Parallel(n_jobs=1)]: Done  23 out of  23 | elapsed:    0.3s finished\n",
      "[Parallel(n_jobs=1)]: Using backend SequentialBackend with 1 concurrent workers.\n",
      "[Parallel(n_jobs=1)]: Done   1 out of   1 | elapsed:    0.0s remaining:    0.0s\n"
     ]
    },
    {
     "name": "stdout",
     "output_type": "stream",
     "text": [
      "building tree 1 of 23\n",
      "building tree 2 of 23\n",
      "building tree 3 of 23\n",
      "building tree 4 of 23\n",
      "building tree 5 of 23\n",
      "building tree 6 of 23\n",
      "building tree 7 of 23\n",
      "building tree 8 of 23\n",
      "building tree 9 of 23\n",
      "building tree 10 of 23\n",
      "building tree 11 of 23\n",
      "building tree 12 of 23\n",
      "building tree 13 of 23\n",
      "building tree 14 of 23\n",
      "building tree 15 of 23\n",
      "building tree 16 of 23\n",
      "building tree 17 of 23\n",
      "building tree 18 of 23\n",
      "building tree 19 of 23\n",
      "building tree 20 of 23\n",
      "building tree 21 of 23\n",
      "building tree 22 of 23\n",
      "building tree 23 of 23\n"
     ]
    },
    {
     "name": "stderr",
     "output_type": "stream",
     "text": [
      "[Parallel(n_jobs=1)]: Done  23 out of  23 | elapsed:    2.2s finished\n",
      "[Parallel(n_jobs=1)]: Using backend SequentialBackend with 1 concurrent workers.\n",
      "[Parallel(n_jobs=1)]: Done   1 out of   1 | elapsed:    0.0s remaining:    0.0s\n",
      "[Parallel(n_jobs=1)]: Done  23 out of  23 | elapsed:    0.3s finished\n",
      "[Parallel(n_jobs=1)]: Using backend SequentialBackend with 1 concurrent workers.\n",
      "[Parallel(n_jobs=1)]: Done   1 out of   1 | elapsed:    0.0s remaining:    0.0s\n"
     ]
    },
    {
     "name": "stdout",
     "output_type": "stream",
     "text": [
      "building tree 1 of 23\n",
      "building tree 2 of 23\n",
      "building tree 3 of 23\n",
      "building tree 4 of 23\n",
      "building tree 5 of 23\n",
      "building tree 6 of 23\n",
      "building tree 7 of 23\n",
      "building tree 8 of 23\n",
      "building tree 9 of 23\n",
      "building tree 10 of 23\n",
      "building tree 11 of 23\n",
      "building tree 12 of 23\n",
      "building tree 13 of 23\n",
      "building tree 14 of 23\n",
      "building tree 15 of 23\n",
      "building tree 16 of 23\n",
      "building tree 17 of 23\n",
      "building tree 18 of 23\n",
      "building tree 19 of 23\n",
      "building tree 20 of 23\n",
      "building tree 21 of 23\n",
      "building tree 22 of 23\n",
      "building tree 23 of 23\n"
     ]
    },
    {
     "name": "stderr",
     "output_type": "stream",
     "text": [
      "[Parallel(n_jobs=1)]: Done  23 out of  23 | elapsed:    2.1s finished\n",
      "[Parallel(n_jobs=1)]: Using backend SequentialBackend with 1 concurrent workers.\n",
      "[Parallel(n_jobs=1)]: Done   1 out of   1 | elapsed:    0.0s remaining:    0.0s\n",
      "[Parallel(n_jobs=1)]: Done  23 out of  23 | elapsed:    0.3s finished\n",
      "[Parallel(n_jobs=1)]: Using backend SequentialBackend with 1 concurrent workers.\n",
      "[Parallel(n_jobs=1)]: Done   1 out of   1 | elapsed:    0.0s remaining:    0.0s\n"
     ]
    },
    {
     "name": "stdout",
     "output_type": "stream",
     "text": [
      "building tree 1 of 23\n",
      "building tree 2 of 23\n",
      "building tree 3 of 23\n",
      "building tree 4 of 23\n",
      "building tree 5 of 23\n",
      "building tree 6 of 23\n",
      "building tree 7 of 23\n",
      "building tree 8 of 23\n",
      "building tree 9 of 23\n",
      "building tree 10 of 23\n",
      "building tree 11 of 23\n",
      "building tree 12 of 23\n",
      "building tree 13 of 23\n",
      "building tree 14 of 23\n",
      "building tree 15 of 23\n",
      "building tree 16 of 23\n",
      "building tree 17 of 23\n",
      "building tree 18 of 23\n",
      "building tree 19 of 23\n",
      "building tree 20 of 23\n",
      "building tree 21 of 23\n",
      "building tree 22 of 23\n",
      "building tree 23 of 23\n"
     ]
    },
    {
     "name": "stderr",
     "output_type": "stream",
     "text": [
      "[Parallel(n_jobs=1)]: Done  23 out of  23 | elapsed:    2.3s finished\n",
      "[Parallel(n_jobs=1)]: Using backend SequentialBackend with 1 concurrent workers.\n",
      "[Parallel(n_jobs=1)]: Done   1 out of   1 | elapsed:    0.0s remaining:    0.0s\n",
      "[Parallel(n_jobs=1)]: Done  23 out of  23 | elapsed:    0.3s finished\n",
      "[Parallel(n_jobs=1)]: Using backend SequentialBackend with 1 concurrent workers.\n",
      "[Parallel(n_jobs=1)]: Done   1 out of   1 | elapsed:    0.0s remaining:    0.0s\n"
     ]
    },
    {
     "name": "stdout",
     "output_type": "stream",
     "text": [
      "building tree 1 of 23\n",
      "building tree 2 of 23\n",
      "building tree 3 of 23\n",
      "building tree 4 of 23\n",
      "building tree 5 of 23\n",
      "building tree 6 of 23\n",
      "building tree 7 of 23\n",
      "building tree 8 of 23\n",
      "building tree 9 of 23\n",
      "building tree 10 of 23\n",
      "building tree 11 of 23\n",
      "building tree 12 of 23\n",
      "building tree 13 of 23\n",
      "building tree 14 of 23\n",
      "building tree 15 of 23\n",
      "building tree 16 of 23\n",
      "building tree 17 of 23\n",
      "building tree 18 of 23\n",
      "building tree 19 of 23\n",
      "building tree 20 of 23\n",
      "building tree 21 of 23\n",
      "building tree 22 of 23\n",
      "building tree 23 of 23\n"
     ]
    },
    {
     "name": "stderr",
     "output_type": "stream",
     "text": [
      "[Parallel(n_jobs=1)]: Done  23 out of  23 | elapsed:    1.1s finished\n",
      "[Parallel(n_jobs=1)]: Using backend SequentialBackend with 1 concurrent workers.\n",
      "[Parallel(n_jobs=1)]: Done   1 out of   1 | elapsed:    0.0s remaining:    0.0s\n",
      "[Parallel(n_jobs=1)]: Done  23 out of  23 | elapsed:    0.3s finished\n",
      "[Parallel(n_jobs=1)]: Using backend SequentialBackend with 1 concurrent workers.\n",
      "[Parallel(n_jobs=1)]: Done   1 out of   1 | elapsed:    0.0s remaining:    0.0s\n"
     ]
    },
    {
     "name": "stdout",
     "output_type": "stream",
     "text": [
      "building tree 1 of 23\n",
      "building tree 2 of 23\n",
      "building tree 3 of 23\n",
      "building tree 4 of 23\n",
      "building tree 5 of 23\n",
      "building tree 6 of 23\n",
      "building tree 7 of 23\n",
      "building tree 8 of 23\n",
      "building tree 9 of 23\n",
      "building tree 10 of 23\n",
      "building tree 11 of 23\n",
      "building tree 12 of 23\n",
      "building tree 13 of 23\n",
      "building tree 14 of 23\n",
      "building tree 15 of 23\n",
      "building tree 16 of 23\n",
      "building tree 17 of 23\n",
      "building tree 18 of 23\n",
      "building tree 19 of 23\n",
      "building tree 20 of 23\n",
      "building tree 21 of 23\n",
      "building tree 22 of 23\n",
      "building tree 23 of 23\n"
     ]
    },
    {
     "name": "stderr",
     "output_type": "stream",
     "text": [
      "[Parallel(n_jobs=1)]: Done  23 out of  23 | elapsed:    1.1s finished\n",
      "[Parallel(n_jobs=1)]: Using backend SequentialBackend with 1 concurrent workers.\n",
      "[Parallel(n_jobs=1)]: Done   1 out of   1 | elapsed:    0.0s remaining:    0.0s\n",
      "[Parallel(n_jobs=1)]: Done  23 out of  23 | elapsed:    0.3s finished\n",
      "[Parallel(n_jobs=1)]: Using backend SequentialBackend with 1 concurrent workers.\n",
      "[Parallel(n_jobs=1)]: Done   1 out of   1 | elapsed:    0.0s remaining:    0.0s\n"
     ]
    },
    {
     "name": "stdout",
     "output_type": "stream",
     "text": [
      "building tree 1 of 23\n",
      "building tree 2 of 23\n",
      "building tree 3 of 23\n",
      "building tree 4 of 23\n",
      "building tree 5 of 23\n",
      "building tree 6 of 23\n",
      "building tree 7 of 23\n",
      "building tree 8 of 23\n",
      "building tree 9 of 23\n",
      "building tree 10 of 23\n",
      "building tree 11 of 23\n",
      "building tree 12 of 23\n",
      "building tree 13 of 23\n",
      "building tree 14 of 23\n",
      "building tree 15 of 23\n",
      "building tree 16 of 23\n",
      "building tree 17 of 23\n",
      "building tree 18 of 23\n",
      "building tree 19 of 23\n",
      "building tree 20 of 23\n",
      "building tree 21 of 23\n",
      "building tree 22 of 23\n",
      "building tree 23 of 23\n"
     ]
    },
    {
     "name": "stderr",
     "output_type": "stream",
     "text": [
      "[Parallel(n_jobs=1)]: Done  23 out of  23 | elapsed:    1.1s finished\n",
      "[Parallel(n_jobs=1)]: Using backend SequentialBackend with 1 concurrent workers.\n",
      "[Parallel(n_jobs=1)]: Done   1 out of   1 | elapsed:    0.0s remaining:    0.0s\n",
      "[Parallel(n_jobs=1)]: Done  23 out of  23 | elapsed:    0.3s finished\n",
      "[Parallel(n_jobs=1)]: Using backend SequentialBackend with 1 concurrent workers.\n",
      "[Parallel(n_jobs=1)]: Done   1 out of   1 | elapsed:    0.0s remaining:    0.0s\n"
     ]
    },
    {
     "name": "stdout",
     "output_type": "stream",
     "text": [
      "building tree 1 of 23\n",
      "building tree 2 of 23\n",
      "building tree 3 of 23\n",
      "building tree 4 of 23\n",
      "building tree 5 of 23\n",
      "building tree 6 of 23\n",
      "building tree 7 of 23\n",
      "building tree 8 of 23\n",
      "building tree 9 of 23\n",
      "building tree 10 of 23\n",
      "building tree 11 of 23\n",
      "building tree 12 of 23\n",
      "building tree 13 of 23\n",
      "building tree 14 of 23\n",
      "building tree 15 of 23\n",
      "building tree 16 of 23\n",
      "building tree 17 of 23\n",
      "building tree 18 of 23\n",
      "building tree 19 of 23\n",
      "building tree 20 of 23\n",
      "building tree 21 of 23\n",
      "building tree 22 of 23\n",
      "building tree 23 of 23\n"
     ]
    },
    {
     "name": "stderr",
     "output_type": "stream",
     "text": [
      "[Parallel(n_jobs=1)]: Done  23 out of  23 | elapsed:    1.1s finished\n",
      "[Parallel(n_jobs=1)]: Using backend SequentialBackend with 1 concurrent workers.\n",
      "[Parallel(n_jobs=1)]: Done   1 out of   1 | elapsed:    0.0s remaining:    0.0s\n",
      "[Parallel(n_jobs=1)]: Done  23 out of  23 | elapsed:    0.3s finished\n",
      "[Parallel(n_jobs=1)]: Using backend SequentialBackend with 1 concurrent workers.\n",
      "[Parallel(n_jobs=1)]: Done   1 out of   1 | elapsed:    0.0s remaining:    0.0s\n"
     ]
    },
    {
     "name": "stdout",
     "output_type": "stream",
     "text": [
      "building tree 1 of 23\n",
      "building tree 2 of 23\n",
      "building tree 3 of 23\n",
      "building tree 4 of 23\n",
      "building tree 5 of 23\n",
      "building tree 6 of 23\n",
      "building tree 7 of 23\n",
      "building tree 8 of 23\n",
      "building tree 9 of 23\n",
      "building tree 10 of 23\n",
      "building tree 11 of 23\n",
      "building tree 12 of 23\n",
      "building tree 13 of 23\n",
      "building tree 14 of 23\n",
      "building tree 15 of 23\n",
      "building tree 16 of 23\n",
      "building tree 17 of 23\n",
      "building tree 18 of 23\n",
      "building tree 19 of 23\n",
      "building tree 20 of 23\n",
      "building tree 21 of 23\n",
      "building tree 22 of 23\n",
      "building tree 23 of 23\n"
     ]
    },
    {
     "name": "stderr",
     "output_type": "stream",
     "text": [
      "[Parallel(n_jobs=1)]: Done  23 out of  23 | elapsed:    1.2s finished\n",
      "[Parallel(n_jobs=1)]: Using backend SequentialBackend with 1 concurrent workers.\n",
      "[Parallel(n_jobs=1)]: Done   1 out of   1 | elapsed:    0.0s remaining:    0.0s\n",
      "[Parallel(n_jobs=1)]: Done  23 out of  23 | elapsed:    0.3s finished\n",
      "[Parallel(n_jobs=1)]: Using backend SequentialBackend with 1 concurrent workers.\n"
     ]
    },
    {
     "name": "stdout",
     "output_type": "stream",
     "text": [
      "building tree 1 of 23\n"
     ]
    },
    {
     "name": "stderr",
     "output_type": "stream",
     "text": [
      "[Parallel(n_jobs=1)]: Done   1 out of   1 | elapsed:   14.9s remaining:    0.0s\n"
     ]
    },
    {
     "name": "stdout",
     "output_type": "stream",
     "text": [
      "building tree 2 of 23\n",
      "building tree 3 of 23\n",
      "building tree 4 of 23\n",
      "building tree 5 of 23\n",
      "building tree 6 of 23\n",
      "building tree 7 of 23\n",
      "building tree 8 of 23\n",
      "building tree 9 of 23\n",
      "building tree 10 of 23\n",
      "building tree 11 of 23\n",
      "building tree 12 of 23\n",
      "building tree 13 of 23\n",
      "building tree 14 of 23\n",
      "building tree 15 of 23\n",
      "building tree 16 of 23\n",
      "building tree 17 of 23\n",
      "building tree 18 of 23\n",
      "building tree 19 of 23\n",
      "building tree 20 of 23\n",
      "building tree 21 of 23\n",
      "building tree 22 of 23\n",
      "building tree 23 of 23\n"
     ]
    },
    {
     "name": "stderr",
     "output_type": "stream",
     "text": [
      "[Parallel(n_jobs=1)]: Done  23 out of  23 | elapsed:  5.6min finished\n",
      "[Parallel(n_jobs=1)]: Using backend SequentialBackend with 1 concurrent workers.\n",
      "[Parallel(n_jobs=1)]: Done   1 out of   1 | elapsed:    0.0s remaining:    0.0s\n",
      "[Parallel(n_jobs=1)]: Done  23 out of  23 | elapsed:    0.3s finished\n",
      "[Parallel(n_jobs=1)]: Using backend SequentialBackend with 1 concurrent workers.\n"
     ]
    },
    {
     "name": "stdout",
     "output_type": "stream",
     "text": [
      "building tree 1 of 23\n"
     ]
    },
    {
     "name": "stderr",
     "output_type": "stream",
     "text": [
      "[Parallel(n_jobs=1)]: Done   1 out of   1 | elapsed:   14.4s remaining:    0.0s\n"
     ]
    },
    {
     "name": "stdout",
     "output_type": "stream",
     "text": [
      "building tree 2 of 23\n",
      "building tree 3 of 23\n",
      "building tree 4 of 23\n",
      "building tree 5 of 23\n",
      "building tree 6 of 23\n",
      "building tree 7 of 23\n",
      "building tree 8 of 23\n",
      "building tree 9 of 23\n",
      "building tree 10 of 23\n",
      "building tree 11 of 23\n",
      "building tree 12 of 23\n",
      "building tree 13 of 23\n",
      "building tree 14 of 23\n",
      "building tree 15 of 23\n",
      "building tree 16 of 23\n",
      "building tree 17 of 23\n",
      "building tree 18 of 23\n",
      "building tree 19 of 23\n",
      "building tree 20 of 23\n",
      "building tree 21 of 23\n",
      "building tree 22 of 23\n",
      "building tree 23 of 23\n"
     ]
    },
    {
     "name": "stderr",
     "output_type": "stream",
     "text": [
      "[Parallel(n_jobs=1)]: Done  23 out of  23 | elapsed:  5.6min finished\n",
      "[Parallel(n_jobs=1)]: Using backend SequentialBackend with 1 concurrent workers.\n",
      "[Parallel(n_jobs=1)]: Done   1 out of   1 | elapsed:    0.0s remaining:    0.0s\n",
      "[Parallel(n_jobs=1)]: Done  23 out of  23 | elapsed:    0.3s finished\n",
      "[Parallel(n_jobs=1)]: Using backend SequentialBackend with 1 concurrent workers.\n"
     ]
    },
    {
     "name": "stdout",
     "output_type": "stream",
     "text": [
      "building tree 1 of 23\n"
     ]
    },
    {
     "name": "stderr",
     "output_type": "stream",
     "text": [
      "[Parallel(n_jobs=1)]: Done   1 out of   1 | elapsed:   14.5s remaining:    0.0s\n"
     ]
    },
    {
     "name": "stdout",
     "output_type": "stream",
     "text": [
      "building tree 2 of 23\n",
      "building tree 3 of 23\n",
      "building tree 4 of 23\n",
      "building tree 5 of 23\n",
      "building tree 6 of 23\n",
      "building tree 7 of 23\n",
      "building tree 8 of 23\n",
      "building tree 9 of 23\n",
      "building tree 10 of 23\n",
      "building tree 11 of 23\n",
      "building tree 12 of 23\n",
      "building tree 13 of 23\n",
      "building tree 14 of 23\n",
      "building tree 15 of 23\n",
      "building tree 16 of 23\n",
      "building tree 17 of 23\n",
      "building tree 18 of 23\n",
      "building tree 19 of 23\n",
      "building tree 20 of 23\n",
      "building tree 21 of 23\n",
      "building tree 22 of 23\n",
      "building tree 23 of 23\n"
     ]
    },
    {
     "name": "stderr",
     "output_type": "stream",
     "text": [
      "[Parallel(n_jobs=1)]: Done  23 out of  23 | elapsed:  5.8min finished\n",
      "[Parallel(n_jobs=1)]: Using backend SequentialBackend with 1 concurrent workers.\n",
      "[Parallel(n_jobs=1)]: Done   1 out of   1 | elapsed:    0.0s remaining:    0.0s\n",
      "[Parallel(n_jobs=1)]: Done  23 out of  23 | elapsed:    0.3s finished\n",
      "[Parallel(n_jobs=1)]: Using backend SequentialBackend with 1 concurrent workers.\n"
     ]
    },
    {
     "name": "stdout",
     "output_type": "stream",
     "text": [
      "building tree 1 of 23\n"
     ]
    },
    {
     "name": "stderr",
     "output_type": "stream",
     "text": [
      "[Parallel(n_jobs=1)]: Done   1 out of   1 | elapsed:   15.2s remaining:    0.0s\n"
     ]
    },
    {
     "name": "stdout",
     "output_type": "stream",
     "text": [
      "building tree 2 of 23\n",
      "building tree 3 of 23\n",
      "building tree 4 of 23\n",
      "building tree 5 of 23\n",
      "building tree 6 of 23\n",
      "building tree 7 of 23\n",
      "building tree 8 of 23\n",
      "building tree 9 of 23\n",
      "building tree 10 of 23\n",
      "building tree 11 of 23\n",
      "building tree 12 of 23\n",
      "building tree 13 of 23\n",
      "building tree 14 of 23\n",
      "building tree 15 of 23\n",
      "building tree 16 of 23\n",
      "building tree 17 of 23\n",
      "building tree 18 of 23\n",
      "building tree 19 of 23\n",
      "building tree 20 of 23\n",
      "building tree 21 of 23\n",
      "building tree 22 of 23\n",
      "building tree 23 of 23\n"
     ]
    },
    {
     "name": "stderr",
     "output_type": "stream",
     "text": [
      "[Parallel(n_jobs=1)]: Done  23 out of  23 | elapsed:  5.8min finished\n",
      "[Parallel(n_jobs=1)]: Using backend SequentialBackend with 1 concurrent workers.\n",
      "[Parallel(n_jobs=1)]: Done   1 out of   1 | elapsed:    0.0s remaining:    0.0s\n",
      "[Parallel(n_jobs=1)]: Done  23 out of  23 | elapsed:    0.3s finished\n",
      "[Parallel(n_jobs=1)]: Using backend SequentialBackend with 1 concurrent workers.\n"
     ]
    },
    {
     "name": "stdout",
     "output_type": "stream",
     "text": [
      "building tree 1 of 23\n"
     ]
    },
    {
     "name": "stderr",
     "output_type": "stream",
     "text": [
      "[Parallel(n_jobs=1)]: Done   1 out of   1 | elapsed:   14.5s remaining:    0.0s\n"
     ]
    },
    {
     "name": "stdout",
     "output_type": "stream",
     "text": [
      "building tree 2 of 23\n",
      "building tree 3 of 23\n",
      "building tree 4 of 23\n",
      "building tree 5 of 23\n",
      "building tree 6 of 23\n",
      "building tree 7 of 23\n",
      "building tree 8 of 23\n",
      "building tree 9 of 23\n",
      "building tree 10 of 23\n",
      "building tree 11 of 23\n",
      "building tree 12 of 23\n",
      "building tree 13 of 23\n",
      "building tree 14 of 23\n",
      "building tree 15 of 23\n",
      "building tree 16 of 23\n",
      "building tree 17 of 23\n",
      "building tree 18 of 23\n",
      "building tree 19 of 23\n",
      "building tree 20 of 23\n",
      "building tree 21 of 23\n",
      "building tree 22 of 23\n",
      "building tree 23 of 23\n"
     ]
    },
    {
     "name": "stderr",
     "output_type": "stream",
     "text": [
      "[Parallel(n_jobs=1)]: Done  23 out of  23 | elapsed:  5.6min finished\n",
      "[Parallel(n_jobs=1)]: Using backend SequentialBackend with 1 concurrent workers.\n",
      "[Parallel(n_jobs=1)]: Done   1 out of   1 | elapsed:    0.0s remaining:    0.0s\n",
      "[Parallel(n_jobs=1)]: Done  23 out of  23 | elapsed:    0.3s finished\n",
      "[Parallel(n_jobs=1)]: Using backend SequentialBackend with 1 concurrent workers.\n",
      "[Parallel(n_jobs=1)]: Done   1 out of   1 | elapsed:    0.0s remaining:    0.0s\n"
     ]
    },
    {
     "name": "stdout",
     "output_type": "stream",
     "text": [
      "building tree 1 of 23\n",
      "building tree 2 of 23\n",
      "building tree 3 of 23\n",
      "building tree 4 of 23\n",
      "building tree 5 of 23\n",
      "building tree 6 of 23\n",
      "building tree 7 of 23\n",
      "building tree 8 of 23\n",
      "building tree 9 of 23\n",
      "building tree 10 of 23\n",
      "building tree 11 of 23\n",
      "building tree 12 of 23\n",
      "building tree 13 of 23\n",
      "building tree 14 of 23\n",
      "building tree 15 of 23\n",
      "building tree 16 of 23\n",
      "building tree 17 of 23\n",
      "building tree 18 of 23\n",
      "building tree 19 of 23\n",
      "building tree 20 of 23\n",
      "building tree 21 of 23\n",
      "building tree 22 of 23\n",
      "building tree 23 of 23\n"
     ]
    },
    {
     "name": "stderr",
     "output_type": "stream",
     "text": [
      "[Parallel(n_jobs=1)]: Done  23 out of  23 | elapsed:    2.9s finished\n",
      "[Parallel(n_jobs=1)]: Using backend SequentialBackend with 1 concurrent workers.\n",
      "[Parallel(n_jobs=1)]: Done   1 out of   1 | elapsed:    0.0s remaining:    0.0s\n",
      "[Parallel(n_jobs=1)]: Done  23 out of  23 | elapsed:    0.3s finished\n",
      "[Parallel(n_jobs=1)]: Using backend SequentialBackend with 1 concurrent workers.\n",
      "[Parallel(n_jobs=1)]: Done   1 out of   1 | elapsed:    0.1s remaining:    0.0s\n"
     ]
    },
    {
     "name": "stdout",
     "output_type": "stream",
     "text": [
      "building tree 1 of 23\n",
      "building tree 2 of 23\n",
      "building tree 3 of 23\n",
      "building tree 4 of 23\n",
      "building tree 5 of 23\n",
      "building tree 6 of 23\n",
      "building tree 7 of 23\n",
      "building tree 8 of 23\n",
      "building tree 9 of 23\n",
      "building tree 10 of 23\n",
      "building tree 11 of 23\n",
      "building tree 12 of 23\n",
      "building tree 13 of 23\n",
      "building tree 14 of 23\n",
      "building tree 15 of 23\n",
      "building tree 16 of 23\n",
      "building tree 17 of 23\n",
      "building tree 18 of 23\n",
      "building tree 19 of 23\n",
      "building tree 20 of 23\n",
      "building tree 21 of 23\n",
      "building tree 22 of 23\n",
      "building tree 23 of 23\n"
     ]
    },
    {
     "name": "stderr",
     "output_type": "stream",
     "text": [
      "[Parallel(n_jobs=1)]: Done  23 out of  23 | elapsed:    3.2s finished\n",
      "[Parallel(n_jobs=1)]: Using backend SequentialBackend with 1 concurrent workers.\n",
      "[Parallel(n_jobs=1)]: Done   1 out of   1 | elapsed:    0.0s remaining:    0.0s\n",
      "[Parallel(n_jobs=1)]: Done  23 out of  23 | elapsed:    0.3s finished\n",
      "[Parallel(n_jobs=1)]: Using backend SequentialBackend with 1 concurrent workers.\n",
      "[Parallel(n_jobs=1)]: Done   1 out of   1 | elapsed:    0.0s remaining:    0.0s\n"
     ]
    },
    {
     "name": "stdout",
     "output_type": "stream",
     "text": [
      "building tree 1 of 23\n",
      "building tree 2 of 23\n",
      "building tree 3 of 23\n",
      "building tree 4 of 23\n",
      "building tree 5 of 23\n",
      "building tree 6 of 23\n",
      "building tree 7 of 23\n",
      "building tree 8 of 23\n",
      "building tree 9 of 23\n",
      "building tree 10 of 23\n",
      "building tree 11 of 23\n",
      "building tree 12 of 23\n",
      "building tree 13 of 23\n",
      "building tree 14 of 23\n",
      "building tree 15 of 23\n",
      "building tree 16 of 23\n",
      "building tree 17 of 23\n",
      "building tree 18 of 23\n",
      "building tree 19 of 23\n",
      "building tree 20 of 23\n",
      "building tree 21 of 23\n",
      "building tree 22 of 23\n",
      "building tree 23 of 23\n"
     ]
    },
    {
     "name": "stderr",
     "output_type": "stream",
     "text": [
      "[Parallel(n_jobs=1)]: Done  23 out of  23 | elapsed:    3.3s finished\n",
      "[Parallel(n_jobs=1)]: Using backend SequentialBackend with 1 concurrent workers.\n",
      "[Parallel(n_jobs=1)]: Done   1 out of   1 | elapsed:    0.0s remaining:    0.0s\n",
      "[Parallel(n_jobs=1)]: Done  23 out of  23 | elapsed:    0.3s finished\n",
      "[Parallel(n_jobs=1)]: Using backend SequentialBackend with 1 concurrent workers.\n",
      "[Parallel(n_jobs=1)]: Done   1 out of   1 | elapsed:    0.0s remaining:    0.0s\n"
     ]
    },
    {
     "name": "stdout",
     "output_type": "stream",
     "text": [
      "building tree 1 of 23\n",
      "building tree 2 of 23\n",
      "building tree 3 of 23\n",
      "building tree 4 of 23\n",
      "building tree 5 of 23\n",
      "building tree 6 of 23\n",
      "building tree 7 of 23\n",
      "building tree 8 of 23\n",
      "building tree 9 of 23\n",
      "building tree 10 of 23\n",
      "building tree 11 of 23\n",
      "building tree 12 of 23\n",
      "building tree 13 of 23\n",
      "building tree 14 of 23\n",
      "building tree 15 of 23\n",
      "building tree 16 of 23\n",
      "building tree 17 of 23\n",
      "building tree 18 of 23\n",
      "building tree 19 of 23\n",
      "building tree 20 of 23\n",
      "building tree 21 of 23\n",
      "building tree 22 of 23\n",
      "building tree 23 of 23\n"
     ]
    },
    {
     "name": "stderr",
     "output_type": "stream",
     "text": [
      "[Parallel(n_jobs=1)]: Done  23 out of  23 | elapsed:    2.7s finished\n",
      "[Parallel(n_jobs=1)]: Using backend SequentialBackend with 1 concurrent workers.\n",
      "[Parallel(n_jobs=1)]: Done   1 out of   1 | elapsed:    0.0s remaining:    0.0s\n",
      "[Parallel(n_jobs=1)]: Done  23 out of  23 | elapsed:    0.3s finished\n",
      "[Parallel(n_jobs=1)]: Using backend SequentialBackend with 1 concurrent workers.\n",
      "[Parallel(n_jobs=1)]: Done   1 out of   1 | elapsed:    0.0s remaining:    0.0s\n"
     ]
    },
    {
     "name": "stdout",
     "output_type": "stream",
     "text": [
      "building tree 1 of 23\n",
      "building tree 2 of 23\n",
      "building tree 3 of 23\n",
      "building tree 4 of 23\n",
      "building tree 5 of 23\n",
      "building tree 6 of 23\n",
      "building tree 7 of 23\n",
      "building tree 8 of 23\n",
      "building tree 9 of 23\n",
      "building tree 10 of 23\n",
      "building tree 11 of 23\n",
      "building tree 12 of 23\n",
      "building tree 13 of 23\n",
      "building tree 14 of 23\n",
      "building tree 15 of 23\n",
      "building tree 16 of 23\n",
      "building tree 17 of 23\n",
      "building tree 18 of 23\n",
      "building tree 19 of 23\n",
      "building tree 20 of 23\n",
      "building tree 21 of 23\n",
      "building tree 22 of 23\n",
      "building tree 23 of 23\n"
     ]
    },
    {
     "name": "stderr",
     "output_type": "stream",
     "text": [
      "[Parallel(n_jobs=1)]: Done  23 out of  23 | elapsed:    2.6s finished\n",
      "[Parallel(n_jobs=1)]: Using backend SequentialBackend with 1 concurrent workers.\n",
      "[Parallel(n_jobs=1)]: Done   1 out of   1 | elapsed:    0.0s remaining:    0.0s\n",
      "[Parallel(n_jobs=1)]: Done  23 out of  23 | elapsed:    0.4s finished\n",
      "[Parallel(n_jobs=1)]: Using backend SequentialBackend with 1 concurrent workers.\n",
      "[Parallel(n_jobs=1)]: Done   1 out of   1 | elapsed:    0.0s remaining:    0.0s\n"
     ]
    },
    {
     "name": "stdout",
     "output_type": "stream",
     "text": [
      "building tree 1 of 23\n",
      "building tree 2 of 23\n",
      "building tree 3 of 23\n",
      "building tree 4 of 23\n",
      "building tree 5 of 23\n",
      "building tree 6 of 23\n",
      "building tree 7 of 23\n",
      "building tree 8 of 23\n",
      "building tree 9 of 23\n",
      "building tree 10 of 23\n",
      "building tree 11 of 23\n",
      "building tree 12 of 23\n",
      "building tree 13 of 23\n",
      "building tree 14 of 23\n",
      "building tree 15 of 23\n",
      "building tree 16 of 23\n",
      "building tree 17 of 23\n",
      "building tree 18 of 23\n",
      "building tree 19 of 23\n",
      "building tree 20 of 23\n",
      "building tree 21 of 23\n",
      "building tree 22 of 23\n",
      "building tree 23 of 23\n"
     ]
    },
    {
     "name": "stderr",
     "output_type": "stream",
     "text": [
      "[Parallel(n_jobs=1)]: Done  23 out of  23 | elapsed:    2.9s finished\n",
      "[Parallel(n_jobs=1)]: Using backend SequentialBackend with 1 concurrent workers.\n",
      "[Parallel(n_jobs=1)]: Done   1 out of   1 | elapsed:    0.0s remaining:    0.0s\n",
      "[Parallel(n_jobs=1)]: Done  23 out of  23 | elapsed:    0.3s finished\n",
      "[Parallel(n_jobs=1)]: Using backend SequentialBackend with 1 concurrent workers.\n",
      "[Parallel(n_jobs=1)]: Done   1 out of   1 | elapsed:    0.0s remaining:    0.0s\n"
     ]
    },
    {
     "name": "stdout",
     "output_type": "stream",
     "text": [
      "building tree 1 of 23\n",
      "building tree 2 of 23\n",
      "building tree 3 of 23\n",
      "building tree 4 of 23\n",
      "building tree 5 of 23\n",
      "building tree 6 of 23\n",
      "building tree 7 of 23\n",
      "building tree 8 of 23\n",
      "building tree 9 of 23\n",
      "building tree 10 of 23\n",
      "building tree 11 of 23\n",
      "building tree 12 of 23\n",
      "building tree 13 of 23\n",
      "building tree 14 of 23\n",
      "building tree 15 of 23\n",
      "building tree 16 of 23\n",
      "building tree 17 of 23\n",
      "building tree 18 of 23\n",
      "building tree 19 of 23\n",
      "building tree 20 of 23\n",
      "building tree 21 of 23\n",
      "building tree 22 of 23\n",
      "building tree 23 of 23\n"
     ]
    },
    {
     "name": "stderr",
     "output_type": "stream",
     "text": [
      "[Parallel(n_jobs=1)]: Done  23 out of  23 | elapsed:    2.7s finished\n",
      "[Parallel(n_jobs=1)]: Using backend SequentialBackend with 1 concurrent workers.\n",
      "[Parallel(n_jobs=1)]: Done   1 out of   1 | elapsed:    0.0s remaining:    0.0s\n",
      "[Parallel(n_jobs=1)]: Done  23 out of  23 | elapsed:    0.4s finished\n",
      "[Parallel(n_jobs=1)]: Using backend SequentialBackend with 1 concurrent workers.\n",
      "[Parallel(n_jobs=1)]: Done   1 out of   1 | elapsed:    0.0s remaining:    0.0s\n"
     ]
    },
    {
     "name": "stdout",
     "output_type": "stream",
     "text": [
      "building tree 1 of 23\n",
      "building tree 2 of 23\n",
      "building tree 3 of 23\n",
      "building tree 4 of 23\n",
      "building tree 5 of 23\n",
      "building tree 6 of 23\n",
      "building tree 7 of 23\n",
      "building tree 8 of 23\n",
      "building tree 9 of 23\n",
      "building tree 10 of 23\n",
      "building tree 11 of 23\n",
      "building tree 12 of 23\n",
      "building tree 13 of 23\n",
      "building tree 14 of 23\n",
      "building tree 15 of 23\n",
      "building tree 16 of 23\n",
      "building tree 17 of 23\n",
      "building tree 18 of 23\n",
      "building tree 19 of 23\n",
      "building tree 20 of 23\n",
      "building tree 21 of 23\n",
      "building tree 22 of 23\n",
      "building tree 23 of 23\n"
     ]
    },
    {
     "name": "stderr",
     "output_type": "stream",
     "text": [
      "[Parallel(n_jobs=1)]: Done  23 out of  23 | elapsed:    2.9s finished\n",
      "[Parallel(n_jobs=1)]: Using backend SequentialBackend with 1 concurrent workers.\n",
      "[Parallel(n_jobs=1)]: Done   1 out of   1 | elapsed:    0.0s remaining:    0.0s\n",
      "[Parallel(n_jobs=1)]: Done  23 out of  23 | elapsed:    0.3s finished\n",
      "[Parallel(n_jobs=1)]: Using backend SequentialBackend with 1 concurrent workers.\n",
      "[Parallel(n_jobs=1)]: Done   1 out of   1 | elapsed:    0.0s remaining:    0.0s\n"
     ]
    },
    {
     "name": "stdout",
     "output_type": "stream",
     "text": [
      "building tree 1 of 23\n",
      "building tree 2 of 23\n",
      "building tree 3 of 23\n",
      "building tree 4 of 23\n",
      "building tree 5 of 23\n",
      "building tree 6 of 23\n",
      "building tree 7 of 23\n",
      "building tree 8 of 23\n",
      "building tree 9 of 23\n",
      "building tree 10 of 23\n",
      "building tree 11 of 23\n",
      "building tree 12 of 23\n",
      "building tree 13 of 23\n",
      "building tree 14 of 23\n",
      "building tree 15 of 23\n",
      "building tree 16 of 23\n",
      "building tree 17 of 23\n",
      "building tree 18 of 23\n",
      "building tree 19 of 23\n",
      "building tree 20 of 23\n",
      "building tree 21 of 23\n",
      "building tree 22 of 23\n",
      "building tree 23 of 23\n"
     ]
    },
    {
     "name": "stderr",
     "output_type": "stream",
     "text": [
      "[Parallel(n_jobs=1)]: Done  23 out of  23 | elapsed:    2.9s finished\n",
      "[Parallel(n_jobs=1)]: Using backend SequentialBackend with 1 concurrent workers.\n",
      "[Parallel(n_jobs=1)]: Done   1 out of   1 | elapsed:    0.0s remaining:    0.0s\n",
      "[Parallel(n_jobs=1)]: Done  23 out of  23 | elapsed:    0.3s finished\n",
      "[Parallel(n_jobs=1)]: Using backend SequentialBackend with 1 concurrent workers.\n",
      "[Parallel(n_jobs=1)]: Done   1 out of   1 | elapsed:    0.0s remaining:    0.0s\n"
     ]
    },
    {
     "name": "stdout",
     "output_type": "stream",
     "text": [
      "building tree 1 of 23\n",
      "building tree 2 of 23\n",
      "building tree 3 of 23\n",
      "building tree 4 of 23\n",
      "building tree 5 of 23\n",
      "building tree 6 of 23\n",
      "building tree 7 of 23\n",
      "building tree 8 of 23\n",
      "building tree 9 of 23\n",
      "building tree 10 of 23\n",
      "building tree 11 of 23\n",
      "building tree 12 of 23\n",
      "building tree 13 of 23\n",
      "building tree 14 of 23\n",
      "building tree 15 of 23\n",
      "building tree 16 of 23\n",
      "building tree 17 of 23\n",
      "building tree 18 of 23\n",
      "building tree 19 of 23\n",
      "building tree 20 of 23\n",
      "building tree 21 of 23\n",
      "building tree 22 of 23\n",
      "building tree 23 of 23\n"
     ]
    },
    {
     "name": "stderr",
     "output_type": "stream",
     "text": [
      "[Parallel(n_jobs=1)]: Done  23 out of  23 | elapsed:    2.6s finished\n",
      "[Parallel(n_jobs=1)]: Using backend SequentialBackend with 1 concurrent workers.\n",
      "[Parallel(n_jobs=1)]: Done   1 out of   1 | elapsed:    0.0s remaining:    0.0s\n",
      "[Parallel(n_jobs=1)]: Done  23 out of  23 | elapsed:    0.4s finished\n",
      "[Parallel(n_jobs=1)]: Using backend SequentialBackend with 1 concurrent workers.\n",
      "[Parallel(n_jobs=1)]: Done   1 out of   1 | elapsed:    0.0s remaining:    0.0s\n"
     ]
    },
    {
     "name": "stdout",
     "output_type": "stream",
     "text": [
      "building tree 1 of 23\n",
      "building tree 2 of 23\n",
      "building tree 3 of 23\n",
      "building tree 4 of 23\n",
      "building tree 5 of 23\n",
      "building tree 6 of 23\n",
      "building tree 7 of 23\n",
      "building tree 8 of 23\n",
      "building tree 9 of 23\n",
      "building tree 10 of 23\n",
      "building tree 11 of 23\n",
      "building tree 12 of 23\n",
      "building tree 13 of 23\n",
      "building tree 14 of 23\n",
      "building tree 15 of 23\n",
      "building tree 16 of 23\n",
      "building tree 17 of 23\n",
      "building tree 18 of 23\n",
      "building tree 19 of 23\n",
      "building tree 20 of 23\n",
      "building tree 21 of 23\n",
      "building tree 22 of 23\n",
      "building tree 23 of 23\n"
     ]
    },
    {
     "name": "stderr",
     "output_type": "stream",
     "text": [
      "[Parallel(n_jobs=1)]: Done  23 out of  23 | elapsed:    1.3s finished\n",
      "[Parallel(n_jobs=1)]: Using backend SequentialBackend with 1 concurrent workers.\n",
      "[Parallel(n_jobs=1)]: Done   1 out of   1 | elapsed:    0.0s remaining:    0.0s\n",
      "[Parallel(n_jobs=1)]: Done  23 out of  23 | elapsed:    0.3s finished\n",
      "[Parallel(n_jobs=1)]: Using backend SequentialBackend with 1 concurrent workers.\n",
      "[Parallel(n_jobs=1)]: Done   1 out of   1 | elapsed:    0.0s remaining:    0.0s\n"
     ]
    },
    {
     "name": "stdout",
     "output_type": "stream",
     "text": [
      "building tree 1 of 23\n",
      "building tree 2 of 23\n",
      "building tree 3 of 23\n",
      "building tree 4 of 23\n",
      "building tree 5 of 23\n",
      "building tree 6 of 23\n",
      "building tree 7 of 23\n",
      "building tree 8 of 23\n",
      "building tree 9 of 23\n",
      "building tree 10 of 23\n",
      "building tree 11 of 23\n",
      "building tree 12 of 23\n",
      "building tree 13 of 23\n",
      "building tree 14 of 23\n",
      "building tree 15 of 23\n",
      "building tree 16 of 23\n",
      "building tree 17 of 23\n",
      "building tree 18 of 23\n",
      "building tree 19 of 23\n",
      "building tree 20 of 23\n",
      "building tree 21 of 23\n",
      "building tree 22 of 23\n",
      "building tree 23 of 23\n"
     ]
    },
    {
     "name": "stderr",
     "output_type": "stream",
     "text": [
      "[Parallel(n_jobs=1)]: Done  23 out of  23 | elapsed:    1.2s finished\n",
      "[Parallel(n_jobs=1)]: Using backend SequentialBackend with 1 concurrent workers.\n",
      "[Parallel(n_jobs=1)]: Done   1 out of   1 | elapsed:    0.0s remaining:    0.0s\n",
      "[Parallel(n_jobs=1)]: Done  23 out of  23 | elapsed:    0.3s finished\n",
      "[Parallel(n_jobs=1)]: Using backend SequentialBackend with 1 concurrent workers.\n",
      "[Parallel(n_jobs=1)]: Done   1 out of   1 | elapsed:    0.0s remaining:    0.0s\n"
     ]
    },
    {
     "name": "stdout",
     "output_type": "stream",
     "text": [
      "building tree 1 of 23\n",
      "building tree 2 of 23\n",
      "building tree 3 of 23\n",
      "building tree 4 of 23\n",
      "building tree 5 of 23\n",
      "building tree 6 of 23\n",
      "building tree 7 of 23\n",
      "building tree 8 of 23\n",
      "building tree 9 of 23\n",
      "building tree 10 of 23\n",
      "building tree 11 of 23\n",
      "building tree 12 of 23\n",
      "building tree 13 of 23\n",
      "building tree 14 of 23\n",
      "building tree 15 of 23\n",
      "building tree 16 of 23\n",
      "building tree 17 of 23\n",
      "building tree 18 of 23\n",
      "building tree 19 of 23\n",
      "building tree 20 of 23\n",
      "building tree 21 of 23\n",
      "building tree 22 of 23\n",
      "building tree 23 of 23\n"
     ]
    },
    {
     "name": "stderr",
     "output_type": "stream",
     "text": [
      "[Parallel(n_jobs=1)]: Done  23 out of  23 | elapsed:    1.2s finished\n",
      "[Parallel(n_jobs=1)]: Using backend SequentialBackend with 1 concurrent workers.\n",
      "[Parallel(n_jobs=1)]: Done   1 out of   1 | elapsed:    0.0s remaining:    0.0s\n",
      "[Parallel(n_jobs=1)]: Done  23 out of  23 | elapsed:    0.3s finished\n",
      "[Parallel(n_jobs=1)]: Using backend SequentialBackend with 1 concurrent workers.\n",
      "[Parallel(n_jobs=1)]: Done   1 out of   1 | elapsed:    0.0s remaining:    0.0s\n"
     ]
    },
    {
     "name": "stdout",
     "output_type": "stream",
     "text": [
      "building tree 1 of 23\n",
      "building tree 2 of 23\n",
      "building tree 3 of 23\n",
      "building tree 4 of 23\n",
      "building tree 5 of 23\n",
      "building tree 6 of 23\n",
      "building tree 7 of 23\n",
      "building tree 8 of 23\n",
      "building tree 9 of 23\n",
      "building tree 10 of 23\n",
      "building tree 11 of 23\n",
      "building tree 12 of 23\n",
      "building tree 13 of 23\n",
      "building tree 14 of 23\n",
      "building tree 15 of 23\n",
      "building tree 16 of 23\n",
      "building tree 17 of 23\n",
      "building tree 18 of 23\n",
      "building tree 19 of 23\n",
      "building tree 20 of 23\n",
      "building tree 21 of 23\n",
      "building tree 22 of 23\n",
      "building tree 23 of 23\n"
     ]
    },
    {
     "name": "stderr",
     "output_type": "stream",
     "text": [
      "[Parallel(n_jobs=1)]: Done  23 out of  23 | elapsed:    1.2s finished\n",
      "[Parallel(n_jobs=1)]: Using backend SequentialBackend with 1 concurrent workers.\n",
      "[Parallel(n_jobs=1)]: Done   1 out of   1 | elapsed:    0.0s remaining:    0.0s\n",
      "[Parallel(n_jobs=1)]: Done  23 out of  23 | elapsed:    0.3s finished\n",
      "[Parallel(n_jobs=1)]: Using backend SequentialBackend with 1 concurrent workers.\n",
      "[Parallel(n_jobs=1)]: Done   1 out of   1 | elapsed:    0.0s remaining:    0.0s\n"
     ]
    },
    {
     "name": "stdout",
     "output_type": "stream",
     "text": [
      "building tree 1 of 23\n",
      "building tree 2 of 23\n",
      "building tree 3 of 23\n",
      "building tree 4 of 23\n",
      "building tree 5 of 23\n",
      "building tree 6 of 23\n",
      "building tree 7 of 23\n",
      "building tree 8 of 23\n",
      "building tree 9 of 23\n",
      "building tree 10 of 23\n",
      "building tree 11 of 23\n",
      "building tree 12 of 23\n",
      "building tree 13 of 23\n",
      "building tree 14 of 23\n",
      "building tree 15 of 23\n",
      "building tree 16 of 23\n",
      "building tree 17 of 23\n",
      "building tree 18 of 23\n",
      "building tree 19 of 23\n",
      "building tree 20 of 23\n",
      "building tree 21 of 23\n",
      "building tree 22 of 23\n",
      "building tree 23 of 23\n"
     ]
    },
    {
     "name": "stderr",
     "output_type": "stream",
     "text": [
      "[Parallel(n_jobs=1)]: Done  23 out of  23 | elapsed:    1.3s finished\n",
      "[Parallel(n_jobs=1)]: Using backend SequentialBackend with 1 concurrent workers.\n",
      "[Parallel(n_jobs=1)]: Done   1 out of   1 | elapsed:    0.0s remaining:    0.0s\n",
      "[Parallel(n_jobs=1)]: Done  23 out of  23 | elapsed:    0.3s finished\n",
      "[Parallel(n_jobs=1)]: Using backend SequentialBackend with 1 concurrent workers.\n"
     ]
    },
    {
     "name": "stdout",
     "output_type": "stream",
     "text": [
      "building tree 1 of 23\n"
     ]
    },
    {
     "name": "stderr",
     "output_type": "stream",
     "text": [
      "[Parallel(n_jobs=1)]: Done   1 out of   1 | elapsed:   25.8s remaining:    0.0s\n"
     ]
    },
    {
     "name": "stdout",
     "output_type": "stream",
     "text": [
      "building tree 2 of 23\n",
      "building tree 3 of 23\n",
      "building tree 4 of 23\n",
      "building tree 5 of 23\n",
      "building tree 6 of 23\n",
      "building tree 7 of 23\n",
      "building tree 8 of 23\n",
      "building tree 9 of 23\n",
      "building tree 10 of 23\n",
      "building tree 11 of 23\n",
      "building tree 12 of 23\n",
      "building tree 13 of 23\n",
      "building tree 14 of 23\n",
      "building tree 15 of 23\n",
      "building tree 16 of 23\n",
      "building tree 17 of 23\n",
      "building tree 18 of 23\n",
      "building tree 19 of 23\n",
      "building tree 20 of 23\n",
      "building tree 21 of 23\n",
      "building tree 22 of 23\n",
      "building tree 23 of 23\n"
     ]
    },
    {
     "name": "stderr",
     "output_type": "stream",
     "text": [
      "[Parallel(n_jobs=1)]: Done  23 out of  23 | elapsed:  9.7min finished\n",
      "[Parallel(n_jobs=1)]: Using backend SequentialBackend with 1 concurrent workers.\n",
      "[Parallel(n_jobs=1)]: Done   1 out of   1 | elapsed:    0.0s remaining:    0.0s\n",
      "[Parallel(n_jobs=1)]: Done  23 out of  23 | elapsed:    0.3s finished\n",
      "[Parallel(n_jobs=1)]: Using backend SequentialBackend with 1 concurrent workers.\n"
     ]
    },
    {
     "name": "stdout",
     "output_type": "stream",
     "text": [
      "building tree 1 of 23\n"
     ]
    },
    {
     "name": "stderr",
     "output_type": "stream",
     "text": [
      "[Parallel(n_jobs=1)]: Done   1 out of   1 | elapsed:   26.0s remaining:    0.0s\n"
     ]
    },
    {
     "name": "stdout",
     "output_type": "stream",
     "text": [
      "building tree 2 of 23\n",
      "building tree 3 of 23\n",
      "building tree 4 of 23\n",
      "building tree 5 of 23\n",
      "building tree 6 of 23\n",
      "building tree 7 of 23\n",
      "building tree 8 of 23\n",
      "building tree 9 of 23\n",
      "building tree 10 of 23\n",
      "building tree 11 of 23\n",
      "building tree 12 of 23\n",
      "building tree 13 of 23\n",
      "building tree 14 of 23\n",
      "building tree 15 of 23\n",
      "building tree 16 of 23\n",
      "building tree 17 of 23\n",
      "building tree 18 of 23\n",
      "building tree 19 of 23\n",
      "building tree 20 of 23\n",
      "building tree 21 of 23\n",
      "building tree 22 of 23\n",
      "building tree 23 of 23\n"
     ]
    },
    {
     "name": "stderr",
     "output_type": "stream",
     "text": [
      "[Parallel(n_jobs=1)]: Done  23 out of  23 | elapsed:  9.7min finished\n",
      "[Parallel(n_jobs=1)]: Using backend SequentialBackend with 1 concurrent workers.\n",
      "[Parallel(n_jobs=1)]: Done   1 out of   1 | elapsed:    0.0s remaining:    0.0s\n",
      "[Parallel(n_jobs=1)]: Done  23 out of  23 | elapsed:    0.4s finished\n",
      "[Parallel(n_jobs=1)]: Using backend SequentialBackend with 1 concurrent workers.\n"
     ]
    },
    {
     "name": "stdout",
     "output_type": "stream",
     "text": [
      "building tree 1 of 23\n"
     ]
    },
    {
     "name": "stderr",
     "output_type": "stream",
     "text": [
      "[Parallel(n_jobs=1)]: Done   1 out of   1 | elapsed:   25.5s remaining:    0.0s\n"
     ]
    },
    {
     "name": "stdout",
     "output_type": "stream",
     "text": [
      "building tree 2 of 23\n",
      "building tree 3 of 23\n",
      "building tree 4 of 23\n",
      "building tree 5 of 23\n",
      "building tree 6 of 23\n",
      "building tree 7 of 23\n",
      "building tree 8 of 23\n",
      "building tree 9 of 23\n",
      "building tree 10 of 23\n",
      "building tree 11 of 23\n",
      "building tree 12 of 23\n",
      "building tree 13 of 23\n",
      "building tree 14 of 23\n",
      "building tree 15 of 23\n",
      "building tree 16 of 23\n",
      "building tree 17 of 23\n",
      "building tree 18 of 23\n",
      "building tree 19 of 23\n",
      "building tree 20 of 23\n",
      "building tree 21 of 23\n",
      "building tree 22 of 23\n",
      "building tree 23 of 23\n"
     ]
    },
    {
     "name": "stderr",
     "output_type": "stream",
     "text": [
      "[Parallel(n_jobs=1)]: Done  23 out of  23 | elapsed:  9.9min finished\n",
      "[Parallel(n_jobs=1)]: Using backend SequentialBackend with 1 concurrent workers.\n",
      "[Parallel(n_jobs=1)]: Done   1 out of   1 | elapsed:    0.0s remaining:    0.0s\n",
      "[Parallel(n_jobs=1)]: Done  23 out of  23 | elapsed:    0.3s finished\n",
      "[Parallel(n_jobs=1)]: Using backend SequentialBackend with 1 concurrent workers.\n"
     ]
    },
    {
     "name": "stdout",
     "output_type": "stream",
     "text": [
      "building tree 1 of 23\n"
     ]
    },
    {
     "name": "stderr",
     "output_type": "stream",
     "text": [
      "[Parallel(n_jobs=1)]: Done   1 out of   1 | elapsed:   25.3s remaining:    0.0s\n"
     ]
    },
    {
     "name": "stdout",
     "output_type": "stream",
     "text": [
      "building tree 2 of 23\n",
      "building tree 3 of 23\n",
      "building tree 4 of 23\n",
      "building tree 5 of 23\n",
      "building tree 6 of 23\n",
      "building tree 7 of 23\n",
      "building tree 8 of 23\n",
      "building tree 9 of 23\n",
      "building tree 10 of 23\n",
      "building tree 11 of 23\n",
      "building tree 12 of 23\n",
      "building tree 13 of 23\n",
      "building tree 14 of 23\n",
      "building tree 15 of 23\n",
      "building tree 16 of 23\n",
      "building tree 17 of 23\n",
      "building tree 18 of 23\n",
      "building tree 19 of 23\n",
      "building tree 20 of 23\n",
      "building tree 21 of 23\n",
      "building tree 22 of 23\n",
      "building tree 23 of 23\n"
     ]
    },
    {
     "name": "stderr",
     "output_type": "stream",
     "text": [
      "[Parallel(n_jobs=1)]: Done  23 out of  23 | elapsed:  9.7min finished\n",
      "[Parallel(n_jobs=1)]: Using backend SequentialBackend with 1 concurrent workers.\n",
      "[Parallel(n_jobs=1)]: Done   1 out of   1 | elapsed:    0.0s remaining:    0.0s\n",
      "[Parallel(n_jobs=1)]: Done  23 out of  23 | elapsed:    0.3s finished\n",
      "[Parallel(n_jobs=1)]: Using backend SequentialBackend with 1 concurrent workers.\n"
     ]
    },
    {
     "name": "stdout",
     "output_type": "stream",
     "text": [
      "building tree 1 of 23\n"
     ]
    },
    {
     "name": "stderr",
     "output_type": "stream",
     "text": [
      "[Parallel(n_jobs=1)]: Done   1 out of   1 | elapsed:   25.7s remaining:    0.0s\n"
     ]
    },
    {
     "name": "stdout",
     "output_type": "stream",
     "text": [
      "building tree 2 of 23\n",
      "building tree 3 of 23\n",
      "building tree 4 of 23\n",
      "building tree 5 of 23\n",
      "building tree 6 of 23\n",
      "building tree 7 of 23\n",
      "building tree 8 of 23\n",
      "building tree 9 of 23\n",
      "building tree 10 of 23\n",
      "building tree 11 of 23\n",
      "building tree 12 of 23\n",
      "building tree 13 of 23\n",
      "building tree 14 of 23\n",
      "building tree 15 of 23\n",
      "building tree 16 of 23\n",
      "building tree 17 of 23\n",
      "building tree 18 of 23\n",
      "building tree 19 of 23\n",
      "building tree 20 of 23\n",
      "building tree 21 of 23\n",
      "building tree 22 of 23\n",
      "building tree 23 of 23\n"
     ]
    },
    {
     "name": "stderr",
     "output_type": "stream",
     "text": [
      "[Parallel(n_jobs=1)]: Done  23 out of  23 | elapsed:  9.6min finished\n",
      "[Parallel(n_jobs=1)]: Using backend SequentialBackend with 1 concurrent workers.\n",
      "[Parallel(n_jobs=1)]: Done   1 out of   1 | elapsed:    0.0s remaining:    0.0s\n",
      "[Parallel(n_jobs=1)]: Done  23 out of  23 | elapsed:    0.4s finished\n",
      "[Parallel(n_jobs=1)]: Using backend SequentialBackend with 1 concurrent workers.\n"
     ]
    },
    {
     "name": "stdout",
     "output_type": "stream",
     "text": [
      "building tree 1 of 23\n"
     ]
    },
    {
     "name": "stderr",
     "output_type": "stream",
     "text": [
      "[Parallel(n_jobs=1)]: Done   1 out of   1 | elapsed: 36.5min remaining:    0.0s\n"
     ]
    },
    {
     "name": "stdout",
     "output_type": "stream",
     "text": [
      "building tree 2 of 23\n",
      "building tree 3 of 23\n",
      "building tree 4 of 23\n",
      "building tree 5 of 23\n",
      "building tree 6 of 23\n",
      "building tree 7 of 23\n",
      "building tree 8 of 23\n",
      "building tree 9 of 23\n",
      "building tree 10 of 23\n",
      "building tree 11 of 23\n",
      "building tree 12 of 23\n",
      "building tree 13 of 23\n",
      "building tree 14 of 23\n",
      "building tree 15 of 23\n",
      "building tree 16 of 23\n",
      "building tree 17 of 23\n",
      "building tree 18 of 23\n",
      "building tree 19 of 23\n",
      "building tree 20 of 23\n",
      "building tree 21 of 23\n",
      "building tree 22 of 23\n",
      "building tree 23 of 23\n"
     ]
    },
    {
     "name": "stderr",
     "output_type": "stream",
     "text": [
      "[Parallel(n_jobs=1)]: Done  23 out of  23 | elapsed: 840.6min finished\n"
     ]
    },
    {
     "data": {
      "text/plain": [
       "{'clf_randomForest__max_depth': None,\n",
       " 'clf_randomForest__max_features': None,\n",
       " 'clf_randomForest__n_estimators': 23}"
      ]
     },
     "execution_count": 36,
     "metadata": {},
     "output_type": "execute_result"
    }
   ],
   "source": [
    "#Performing a grdisearch on the estimator utilizing the above param_grid.\n",
    "grid_pipeline = GridSearchCV(rfc_pipe,param_grid)\n",
    "grid_pipeline.fit(X_train,y_train)\n",
    "grid_pipeline.best_params_\n"
   ]
  },
  {
   "cell_type": "code",
   "execution_count": 39,
   "metadata": {},
   "outputs": [
    {
     "name": "stdout",
     "output_type": "stream",
     "text": [
      "Best parameter (CV score=0.816):\n",
      "{'clf_randomForest__max_depth': None, 'clf_randomForest__max_features': None, 'clf_randomForest__n_estimators': 23}\n"
     ]
    }
   ],
   "source": [
    "print(\"Best parameter (CV score=%0.3f):\" % grid_pipeline.best_score_)\n",
    "print(grid_pipeline.best_params_)"
   ]
  },
  {
   "cell_type": "code",
   "execution_count": 38,
   "metadata": {},
   "outputs": [
    {
     "name": "stderr",
     "output_type": "stream",
     "text": [
      "[Parallel(n_jobs=1)]: Using backend SequentialBackend with 1 concurrent workers.\n",
      "[Parallel(n_jobs=1)]: Done   1 out of   1 | elapsed:    0.0s remaining:    0.0s\n",
      "[Parallel(n_jobs=1)]: Done  23 out of  23 | elapsed:    2.3s finished\n"
     ]
    },
    {
     "data": {
      "text/plain": [
       "0.8221680769839734"
      ]
     },
     "execution_count": 38,
     "metadata": {},
     "output_type": "execute_result"
    }
   ],
   "source": [
    "#Finding accuracy with the optimal parameters.\n",
    "predictedRandomForest2 = grid_pipeline.predict(X_test)\n",
    "np.mean(predictedRandomForest2 == y_test)\n",
    "accuracy_score(y_test, predictedRandomForest2)\n"
   ]
  },
  {
   "cell_type": "code",
   "execution_count": 5,
   "metadata": {},
   "outputs": [
    {
     "name": "stderr",
     "output_type": "stream",
     "text": [
      "[Parallel(n_jobs=-1)]: Using backend ThreadingBackend with 12 concurrent workers.\n"
     ]
    },
    {
     "name": "stdout",
     "output_type": "stream",
     "text": [
      "building tree 1 of 23building tree 2 of 23\n",
      "building tree 3 of 23\n",
      "\n",
      "building tree 4 of 23\n",
      "building tree 5 of 23\n",
      "building tree 6 of 23\n",
      "building tree 7 of 23\n",
      "building tree 8 of 23\n",
      "building tree 9 of 23\n",
      "building tree 10 of 23\n",
      "building tree 11 of 23\n",
      "building tree 12 of 23\n",
      "building tree 13 of 23\n",
      "building tree 14 of 23\n",
      "building tree 15 of 23\n",
      "building tree 16 of 23\n",
      "building tree 17 of 23\n",
      "building tree 18 of 23\n",
      "building tree 19 of 23\n",
      "building tree 20 of 23\n",
      "building tree 21 of 23\n",
      "building tree 22 of 23\n",
      "building tree 23 of 23\n"
     ]
    },
    {
     "name": "stderr",
     "output_type": "stream",
     "text": [
      "[Parallel(n_jobs=-1)]: Done  12 out of  23 | elapsed: 123.7min remaining: 113.4min\n",
      "[Parallel(n_jobs=-1)]: Done  23 out of  23 | elapsed: 214.8min finished\n",
      "[Parallel(n_jobs=12)]: Using backend ThreadingBackend with 12 concurrent workers.\n",
      "[Parallel(n_jobs=12)]: Done  12 out of  23 | elapsed:    0.1s remaining:    0.1s\n",
      "[Parallel(n_jobs=12)]: Done  23 out of  23 | elapsed:    0.3s finished\n"
     ]
    }
   ],
   "source": [
    "\n",
    "pipe = Pipeline([(\"vect\", CountVectorizer()), (\"tfidf\", TfidfTransformer()), (\"clf_randomForest\", RandomForestClassifier(n_estimators=23, max_depth = None, max_features= None, n_jobs=-1, verbose = 2))])\n",
    "pipe.fit(X_train, y_train)\n",
    "rfc_pred = pipe.predict(X_test)\n"
   ]
  },
  {
   "cell_type": "code",
   "execution_count": 10,
   "metadata": {},
   "outputs": [
    {
     "name": "stdout",
     "output_type": "stream",
     "text": [
      "\n",
      "Accuracy: 0.822\n",
      "\n",
      "Micro Precision: 0.822\n",
      "Micro Recall: 0.822\n",
      "Micro F1-score: 0.822\n",
      "\n",
      "Macro Precision: 0.795\n",
      "Macro Recall: 0.732\n",
      "Macro F1-score: 0.758\n",
      "\n",
      "Weighted Precision: 0.817\n",
      "Weighted Recall: 0.822\n",
      "Weighted F1-score: 0.815\n",
      "\n",
      "Classification Report\n",
      "\n",
      "              precision    recall  f1-score   support\n",
      "\n",
      "          -1       0.79      0.67      0.73     16402\n",
      "           0       0.75      0.58      0.66     24659\n",
      "           1       0.84      0.94      0.89     72625\n",
      "\n",
      "    accuracy                           0.82    113686\n",
      "   macro avg       0.80      0.73      0.76    113686\n",
      "weighted avg       0.82      0.82      0.82    113686\n",
      "\n"
     ]
    }
   ],
   "source": [
    "print('\\nAccuracy: {:.3f}\\n'.format(accuracy_score(y_test, rfc_pred)))\n",
    "\n",
    "print('Micro Precision: {:.3f}'.format(precision_score(y_test, rfc_pred, average='micro')))\n",
    "print('Micro Recall: {:.3f}'.format(recall_score(y_test, rfc_pred, average='micro')))\n",
    "print('Micro F1-score: {:.3f}\\n'.format(f1_score(y_test, rfc_pred, average='micro')))\n",
    "\n",
    "print('Macro Precision: {:.3f}'.format(precision_score(y_test, rfc_pred, average='macro')))\n",
    "print('Macro Recall: {:.3f}'.format(recall_score(y_test, rfc_pred, average='macro')))\n",
    "print('Macro F1-score: {:.3f}\\n'.format(f1_score(y_test, rfc_pred, average='macro')))\n",
    "\n",
    "print('Weighted Precision: {:.3f}'.format(precision_score(y_test, rfc_pred, average='weighted')))\n",
    "print('Weighted Recall: {:.3f}'.format(recall_score(y_test, rfc_pred, average='weighted')))\n",
    "print('Weighted F1-score: {:.3f}'.format(f1_score(y_test, rfc_pred, average='weighted')))\n",
    "\n",
    "print('\\nClassification Report\\n')\n",
    "print(classification_report(y_test, rfc_pred, target_names=['-1', '0', '1']))"
   ]
  },
  {
   "cell_type": "code",
   "execution_count": 7,
   "metadata": {},
   "outputs": [
    {
     "data": {
      "image/png": "[encoded data removed]",
      "text/plain": [
       "<Figure size 576x432 with 2 Axes>"
      ]
     },
     "metadata": {
      "needs_background": "light"
     },
     "output_type": "display_data"
    }
   ],
   "source": [
    "#This is the confusion matrix for the fitted data.\n",
    "cm_lin = confusion_matrix(y_test, rfc_pred)\n",
    "cm_df = pd.DataFrame(cm_lin,\n",
    "                 index = ['-1','0','1'], \n",
    "                 columns = ['-1','0','1'])\n",
    "    \n",
    "plt.figure(figsize=(8,6))\n",
    "sns.heatmap(cm_df, vmin=-1000, vmax=30000, annot=True,fmt='g')\n",
    "plt.title('Confusion Matrix')\n",
    "plt.ylabel('Actual Values')\n",
    "plt.xlabel('Predicted Values')\n",
    "plt.show()"
   ]
  },
  {
   "cell_type": "code",
   "execution_count": null,
   "metadata": {},
   "outputs": [],
   "source": []
  }
 ],
 "metadata": {
  "interpreter": {
   "hash": "81794d4967e6c3204c66dcd87b604927b115b27c00565d3d43f05ba2f3a2cb0d"
  },
  "kernelspec": {
   "display_name": "Python 3.9.6 64-bit",
   "language": "python",
   "name": "python3"
  },
  "language_info": {
   "codemirror_mode": {
    "name": "ipython",
    "version": 3
   },
   "file_extension": ".py",
   "mimetype": "text/x-python",
   "name": "python",
   "nbconvert_exporter": "python",
   "pygments_lexer": "ipython3",
   "version": "3.9.6"
  },
  "orig_nbformat": 4
 },
 "nbformat": 4,
 "nbformat_minor": 2
}
