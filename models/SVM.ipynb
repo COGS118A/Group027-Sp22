{
 "cells": [
  {
   "cell_type": "code",
   "execution_count": 1,
   "id": "83eb1eee",
   "metadata": {},
   "outputs": [
    {
     "name": "stdout",
     "output_type": "stream",
     "text": [
      "importing Jupyter notebook from UtilityFunctions.ipynb\n"
     ]
    }
   ],
   "source": [
    "import import_ipynb\n",
    "\n",
    "import matplotlib.pyplot as plt\n",
    "import numpy as np\n",
    "import pandas as pd\n",
    "\n",
    "from sklearn.feature_extraction.text import CountVectorizer\n",
    "from sklearn.feature_extraction.text import TfidfTransformer\n",
    "from sklearn.feature_extraction.text import TfidfVectorizer\n",
    "from sklearn.linear_model import LogisticRegression\n",
    "from sklearn.pipeline import Pipeline\n",
    "from sklearn.model_selection import train_test_split\n",
    "\n",
    "from UtilityFunctions import retrieve_reviews_df, preprocessing, vectorize, text_preprocess"
   ]
  },
  {
   "cell_type": "code",
   "execution_count": 2,
   "id": "dff1714e",
   "metadata": {},
   "outputs": [
    {
     "name": "stdout",
     "output_type": "stream",
     "text": [
      "Concatenating ../data/Reviews-4.csv\n",
      "Concatenating ../data/Reviews-1.csv\n",
      "Concatenating ../data/Reviews-2.csv\n",
      "Concatenating ../data/Reviews-3.csv\n"
     ]
    }
   ],
   "source": [
    "# retrieve and preprocesses dataframe\n",
    "df = preprocessing(retrieve_reviews_df())"
   ]
  },
  {
   "cell_type": "code",
   "execution_count": 3,
   "id": "d434a46e",
   "metadata": {},
   "outputs": [],
   "source": [
    "# perform text preprocessing\n",
    "text_preprocess(df, ['html', 'punc', 'lower'])"
   ]
  },
  {
   "cell_type": "code",
   "execution_count": 4,
   "id": "b9db4327",
   "metadata": {},
   "outputs": [
    {
     "data": {
      "text/html": [
       "<div>\n",
       "<style scoped>\n",
       "    .dataframe tbody tr th:only-of-type {\n",
       "        vertical-align: middle;\n",
       "    }\n",
       "\n",
       "    .dataframe tbody tr th {\n",
       "        vertical-align: top;\n",
       "    }\n",
       "\n",
       "    .dataframe thead th {\n",
       "        text-align: right;\n",
       "    }\n",
       "</style>\n",
       "<table border=\"1\" class=\"dataframe\">\n",
       "  <thead>\n",
       "    <tr style=\"text-align: right;\">\n",
       "      <th></th>\n",
       "      <th>Id</th>\n",
       "      <th>Score</th>\n",
       "      <th>Summary</th>\n",
       "      <th>Text</th>\n",
       "      <th>Sentiment</th>\n",
       "      <th>Clean_text</th>\n",
       "    </tr>\n",
       "  </thead>\n",
       "  <tbody>\n",
       "    <tr>\n",
       "      <th>0</th>\n",
       "      <td>566663</td>\n",
       "      <td>5</td>\n",
       "      <td>THE BEST TREAT YOU CAN BUY PERIOD!</td>\n",
       "      <td>There is NOTHING on the market like these trea...</td>\n",
       "      <td>1</td>\n",
       "      <td>there is nothing on the market like these trea...</td>\n",
       "    </tr>\n",
       "    <tr>\n",
       "      <th>1</th>\n",
       "      <td>566664</td>\n",
       "      <td>5</td>\n",
       "      <td>Awesome treats!</td>\n",
       "      <td>My pup can't have anything with grains in it a...</td>\n",
       "      <td>1</td>\n",
       "      <td>my pup cant have anything with grains in it an...</td>\n",
       "    </tr>\n",
       "    <tr>\n",
       "      <th>2</th>\n",
       "      <td>566665</td>\n",
       "      <td>4</td>\n",
       "      <td>My dog loves this, but beware there are differ...</td>\n",
       "      <td>My elderly dog who has pretty much given up on...</td>\n",
       "      <td>0</td>\n",
       "      <td>my elderly dog who has pretty much given up on...</td>\n",
       "    </tr>\n",
       "    <tr>\n",
       "      <th>3</th>\n",
       "      <td>566666</td>\n",
       "      <td>5</td>\n",
       "      <td>Awesome treats!</td>\n",
       "      <td>So glad we found Amazon. Used to travel to the...</td>\n",
       "      <td>1</td>\n",
       "      <td>so glad we found amazon used to travel to the ...</td>\n",
       "    </tr>\n",
       "    <tr>\n",
       "      <th>4</th>\n",
       "      <td>566667</td>\n",
       "      <td>3</td>\n",
       "      <td>Good stuff</td>\n",
       "      <td>Naturally, pooch scarfed this up.  What's not ...</td>\n",
       "      <td>0</td>\n",
       "      <td>naturally pooch scarfed this up  whats not to ...</td>\n",
       "    </tr>\n",
       "  </tbody>\n",
       "</table>\n",
       "</div>"
      ],
      "text/plain": [
       "       Id  Score                                            Summary  \\\n",
       "0  566663      5                 THE BEST TREAT YOU CAN BUY PERIOD!   \n",
       "1  566664      5                                    Awesome treats!   \n",
       "2  566665      4  My dog loves this, but beware there are differ...   \n",
       "3  566666      5                                    Awesome treats!   \n",
       "4  566667      3                                         Good stuff   \n",
       "\n",
       "                                                Text  Sentiment  \\\n",
       "0  There is NOTHING on the market like these trea...          1   \n",
       "1  My pup can't have anything with grains in it a...          1   \n",
       "2  My elderly dog who has pretty much given up on...          0   \n",
       "3  So glad we found Amazon. Used to travel to the...          1   \n",
       "4  Naturally, pooch scarfed this up.  What's not ...          0   \n",
       "\n",
       "                                          Clean_text  \n",
       "0  there is nothing on the market like these trea...  \n",
       "1  my pup cant have anything with grains in it an...  \n",
       "2  my elderly dog who has pretty much given up on...  \n",
       "3  so glad we found amazon used to travel to the ...  \n",
       "4  naturally pooch scarfed this up  whats not to ...  "
      ]
     },
     "execution_count": 4,
     "metadata": {},
     "output_type": "execute_result"
    }
   ],
   "source": [
    "df.head()"
   ]
  },
  {
   "cell_type": "code",
   "execution_count": 5,
   "id": "073c9a2a",
   "metadata": {},
   "outputs": [],
   "source": [
    "X = df['Clean_text']\n",
    "y = df['Sentiment']"
   ]
  },
  {
   "cell_type": "code",
   "execution_count": 25,
   "id": "60a91150",
   "metadata": {},
   "outputs": [],
   "source": [
    "X_train_counts, X_train_tfidf = vectorize(X_train, y_train)"
   ]
  },
  {
   "cell_type": "code",
   "execution_count": 26,
   "id": "40a3d79e",
   "metadata": {},
   "outputs": [],
   "source": [
    "from sklearn.svm import LinearSVC\n",
    "clf_linearSVC_pipe = Pipeline([(\"vect\", CountVectorizer()), (\"tfidf\", TfidfTransformer()), (\"clf_linearSVC\", LinearSVC(verbose=True))])"
   ]
  },
  {
   "cell_type": "code",
   "execution_count": 27,
   "id": "722ec485",
   "metadata": {},
   "outputs": [
    {
     "name": "stdout",
     "output_type": "stream",
     "text": [
      "[LibLinear].....*\n",
      "optimization finished, #iter = 52\n",
      "Objective value = -46324.526363\n",
      "nSV = 105408\n",
      ".....*\n",
      "optimization finished, #iter = 54\n",
      "Objective value = -111572.726010\n",
      "nSV = 214690\n",
      ".....*\n",
      "optimization finished, #iter = 54\n",
      "Objective value = -108803.236951\n",
      "nSV = 206554\n"
     ]
    },
    {
     "data": {
      "text/plain": [
       "Pipeline(steps=[('vect', CountVectorizer()), ('tfidf', TfidfTransformer()),\n",
       "                ('clf_linearSVC', LinearSVC(verbose=True))])"
      ]
     },
     "execution_count": 27,
     "metadata": {},
     "output_type": "execute_result"
    }
   ],
   "source": [
    "clf_linearSVC_pipe.fit(X_train, y_train)"
   ]
  },
  {
   "cell_type": "code",
   "execution_count": 28,
   "id": "c2877e40",
   "metadata": {},
   "outputs": [
    {
     "data": {
      "text/plain": [
       "0.8118952620208716"
      ]
     },
     "execution_count": 28,
     "metadata": {},
     "output_type": "execute_result"
    }
   ],
   "source": [
    "predictedSVM = clf_linearSVC_pipe.predict(X_test)\n",
    "np.mean(predictedSVM == y_test)"
   ]
  }
 ],
 "metadata": {
  "kernelspec": {
   "display_name": "Python 3 (ipykernel)",
   "language": "python",
   "name": "python3"
  },
  "language_info": {
   "codemirror_mode": {
    "name": "ipython",
    "version": 3
   },
   "file_extension": ".py",
   "mimetype": "text/x-python",
   "name": "python",
   "nbconvert_exporter": "python",
   "pygments_lexer": "ipython3",
   "version": "3.9.7"
  }
 },
 "nbformat": 4,
 "nbformat_minor": 5
}
