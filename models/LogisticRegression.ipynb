{
 "cells": [
  {
   "cell_type": "code",
   "execution_count": null,
   "metadata": {},
   "outputs": [
    {
     "name": "stdout",
     "output_type": "stream",
     "text": [
      "importing Jupyter notebook from c:\\Users\\Nick\\Documents\\GitHub\\Group027-Sp22\\utilities\\UtilityFunctions.ipynb\n"
     ]
    }
   ],
   "source": [
    "import import_ipynb\n",
    "import os\n",
    "import sys\n",
    "\n",
    "import matplotlib.pyplot as plt\n",
    "import numpy as np\n",
    "import pandas as pd\n",
    "\n",
    "from sklearn.feature_extraction.text import CountVectorizer\n",
    "from sklearn.feature_extraction.text import TfidfTransformer\n",
    "from sklearn.feature_extraction.text import TfidfVectorizer\n",
    "from sklearn.linear_model import LogisticRegression\n",
    "from sklearn.pipeline import Pipeline\n",
    "from sklearn.model_selection import train_test_split, GridSearchCV\n",
    "\n",
    "module_path = os.path.abspath(os.path.join('..'))\n",
    "if module_path not in sys.path:\n",
    "    sys.path.append(module_path)\n",
    "from utilities.UtilityFunctions import retrieve_reviews_df, retrieve_processed_reviews_df, preprocessing, vectorize, text_preprocess"
   ]
  },
  {
   "cell_type": "code",
   "execution_count": 2,
   "metadata": {},
   "outputs": [
    {
     "name": "stdout",
     "output_type": "stream",
     "text": [
      "Concatenating ../processed_data/processed_data-4.csv\n",
      "Concatenating ../processed_data/processed_data-5.csv\n"
     ]
    },
    {
     "data": {
      "text/html": [
       "<div>\n",
       "<style scoped>\n",
       "    .dataframe tbody tr th:only-of-type {\n",
       "        vertical-align: middle;\n",
       "    }\n",
       "\n",
       "    .dataframe tbody tr th {\n",
       "        vertical-align: top;\n",
       "    }\n",
       "\n",
       "    .dataframe thead th {\n",
       "        text-align: right;\n",
       "    }\n",
       "</style>\n",
       "<table border=\"1\" class=\"dataframe\">\n",
       "  <thead>\n",
       "    <tr style=\"text-align: right;\">\n",
       "      <th></th>\n",
       "      <th>Id</th>\n",
       "      <th>Score</th>\n",
       "      <th>Summary</th>\n",
       "      <th>Text</th>\n",
       "      <th>Sentiment</th>\n",
       "      <th>Clean_text</th>\n",
       "    </tr>\n",
       "  </thead>\n",
       "  <tbody>\n",
       "    <tr>\n",
       "      <th>0</th>\n",
       "      <td>127777</td>\n",
       "      <td>5</td>\n",
       "      <td>Most enjoyable....and irresistible</td>\n",
       "      <td>I ordered these to serve at a 'proper Scottish...</td>\n",
       "      <td>1</td>\n",
       "      <td>i serve proper scottish tea church i doubled t...</td>\n",
       "    </tr>\n",
       "    <tr>\n",
       "      <th>1</th>\n",
       "      <td>127778</td>\n",
       "      <td>5</td>\n",
       "      <td>You won't even think your eating healthy....</td>\n",
       "      <td>I'm normally a very healthy yet picky eater.  ...</td>\n",
       "      <td>1</td>\n",
       "      <td>im normally healthy yet picky eater these soy ...</td>\n",
       "    </tr>\n",
       "    <tr>\n",
       "      <th>2</th>\n",
       "      <td>127779</td>\n",
       "      <td>5</td>\n",
       "      <td>The best of all the cheese soy chips</td>\n",
       "      <td>I tested most of the cheddar soy chips availab...</td>\n",
       "      <td>1</td>\n",
       "      <td>i tested cheddar soy chips available online on...</td>\n",
       "    </tr>\n",
       "    <tr>\n",
       "      <th>3</th>\n",
       "      <td>127780</td>\n",
       "      <td>5</td>\n",
       "      <td>Low Fat and Few Calories (HEALTHY SNACK); Grea...</td>\n",
       "      <td>Glenny's Low Fat Soy Crisps are a healthy snac...</td>\n",
       "      <td>1</td>\n",
       "      <td>glennys low fat soy crisps healthy snack i abs...</td>\n",
       "    </tr>\n",
       "    <tr>\n",
       "      <th>4</th>\n",
       "      <td>127781</td>\n",
       "      <td>2</td>\n",
       "      <td>overcooked</td>\n",
       "      <td>Glennys organic soy crisps have always been my...</td>\n",
       "      <td>-1</td>\n",
       "      <td>glennys organic soy crisps always favorite bra...</td>\n",
       "    </tr>\n",
       "  </tbody>\n",
       "</table>\n",
       "</div>"
      ],
      "text/plain": [
       "       Id  Score                                            Summary  \\\n",
       "0  127777      5                 Most enjoyable....and irresistible   \n",
       "1  127778      5       You won't even think your eating healthy....   \n",
       "2  127779      5               The best of all the cheese soy chips   \n",
       "3  127780      5  Low Fat and Few Calories (HEALTHY SNACK); Grea...   \n",
       "4  127781      2                                         overcooked   \n",
       "\n",
       "                                                Text  Sentiment  \\\n",
       "0  I ordered these to serve at a 'proper Scottish...          1   \n",
       "1  I'm normally a very healthy yet picky eater.  ...          1   \n",
       "2  I tested most of the cheddar soy chips availab...          1   \n",
       "3  Glenny's Low Fat Soy Crisps are a healthy snac...          1   \n",
       "4  Glennys organic soy crisps have always been my...         -1   \n",
       "\n",
       "                                          Clean_text  \n",
       "0  i serve proper scottish tea church i doubled t...  \n",
       "1  im normally healthy yet picky eater these soy ...  \n",
       "2  i tested cheddar soy chips available online on...  \n",
       "3  glennys low fat soy crisps healthy snack i abs...  \n",
       "4  glennys organic soy crisps always favorite bra...  "
      ]
     },
     "execution_count": 2,
     "metadata": {},
     "output_type": "execute_result"
    }
   ],
   "source": [
    "df = retrieve_processed_reviews_df()\n",
    "df.head()"
   ]
  },
  {
   "cell_type": "code",
   "execution_count": 3,
   "metadata": {},
   "outputs": [],
   "source": [
    "X = df['Clean_text']\n",
    "y = df['Sentiment']\n",
    "X_train, X_test, y_train, y_test = train_test_split( X, y, test_size=0.2, random_state=42)"
   ]
  },
  {
   "cell_type": "code",
   "execution_count": 4,
   "metadata": {},
   "outputs": [
    {
     "data": {
      "text/plain": [
       "(454741, 290983)"
      ]
     },
     "execution_count": 4,
     "metadata": {},
     "output_type": "execute_result"
    }
   ],
   "source": [
    "X_train_counts, X_train_tfidf = vectorize(X_train)\n",
    "\n",
    "X_train_tfidf.shape"
   ]
  },
  {
   "cell_type": "code",
   "execution_count": 5,
   "metadata": {},
   "outputs": [
    {
     "data": {
      "text/plain": [
       "Pipeline(steps=[('vect', CountVectorizer()), ('tfidf', TfidfTransformer()),\n",
       "                ('clf_logReg',\n",
       "                 LogisticRegression(multi_class='multinomial',\n",
       "                                    solver='newton-cg'))])"
      ]
     },
     "execution_count": 5,
     "metadata": {},
     "output_type": "execute_result"
    }
   ],
   "source": [
    "clf_logReg_pipe = Pipeline([(\"vect\", CountVectorizer()), (\"tfidf\", TfidfTransformer()), \n",
    "                            (\"clf_logReg\", LogisticRegression(multi_class='multinomial',solver ='newton-cg'))])\n",
    "                            \n",
    "clf_logReg_pipe.fit(X_train, y_train)"
   ]
  },
  {
   "cell_type": "code",
   "execution_count": 6,
   "metadata": {},
   "outputs": [
    {
     "data": {
      "text/plain": [
       "0.8051035307777563"
      ]
     },
     "execution_count": 6,
     "metadata": {},
     "output_type": "execute_result"
    }
   ],
   "source": [
    "predictedLogReg = clf_logReg_pipe.predict(X_test)\n",
    "np.mean(predictedLogReg == y_test)"
   ]
  },
  {
   "cell_type": "code",
   "execution_count": 7,
   "metadata": {},
   "outputs": [
    {
     "data": {
      "text/html": [
       "<div>\n",
       "<style scoped>\n",
       "    .dataframe tbody tr th:only-of-type {\n",
       "        vertical-align: middle;\n",
       "    }\n",
       "\n",
       "    .dataframe tbody tr th {\n",
       "        vertical-align: top;\n",
       "    }\n",
       "\n",
       "    .dataframe thead th {\n",
       "        text-align: right;\n",
       "    }\n",
       "</style>\n",
       "<table border=\"1\" class=\"dataframe\">\n",
       "  <thead>\n",
       "    <tr style=\"text-align: right;\">\n",
       "      <th></th>\n",
       "      <th>Id</th>\n",
       "      <th>Score</th>\n",
       "      <th>Summary</th>\n",
       "      <th>Text</th>\n",
       "      <th>Sentiment</th>\n",
       "      <th>Clean_text</th>\n",
       "    </tr>\n",
       "  </thead>\n",
       "  <tbody>\n",
       "    <tr>\n",
       "      <th>0</th>\n",
       "      <td>127777</td>\n",
       "      <td>5</td>\n",
       "      <td>Most enjoyable....and irresistible</td>\n",
       "      <td>I ordered these to serve at a 'proper Scottish...</td>\n",
       "      <td>1</td>\n",
       "      <td>i serve proper scottish tea church i doubled t...</td>\n",
       "    </tr>\n",
       "    <tr>\n",
       "      <th>1</th>\n",
       "      <td>127778</td>\n",
       "      <td>5</td>\n",
       "      <td>You won't even think your eating healthy....</td>\n",
       "      <td>I'm normally a very healthy yet picky eater.  ...</td>\n",
       "      <td>1</td>\n",
       "      <td>im normally healthy yet picky eater these soy ...</td>\n",
       "    </tr>\n",
       "    <tr>\n",
       "      <th>2</th>\n",
       "      <td>127779</td>\n",
       "      <td>5</td>\n",
       "      <td>The best of all the cheese soy chips</td>\n",
       "      <td>I tested most of the cheddar soy chips availab...</td>\n",
       "      <td>1</td>\n",
       "      <td>i tested cheddar soy chips available online on...</td>\n",
       "    </tr>\n",
       "    <tr>\n",
       "      <th>3</th>\n",
       "      <td>127780</td>\n",
       "      <td>5</td>\n",
       "      <td>Low Fat and Few Calories (HEALTHY SNACK); Grea...</td>\n",
       "      <td>Glenny's Low Fat Soy Crisps are a healthy snac...</td>\n",
       "      <td>1</td>\n",
       "      <td>glennys low fat soy crisps healthy snack i abs...</td>\n",
       "    </tr>\n",
       "    <tr>\n",
       "      <th>4</th>\n",
       "      <td>127781</td>\n",
       "      <td>2</td>\n",
       "      <td>overcooked</td>\n",
       "      <td>Glennys organic soy crisps have always been my...</td>\n",
       "      <td>-1</td>\n",
       "      <td>glennys organic soy crisps always favorite bra...</td>\n",
       "    </tr>\n",
       "    <tr>\n",
       "      <th>...</th>\n",
       "      <td>...</td>\n",
       "      <td>...</td>\n",
       "      <td>...</td>\n",
       "      <td>...</td>\n",
       "      <td>...</td>\n",
       "      <td>...</td>\n",
       "    </tr>\n",
       "    <tr>\n",
       "      <th>568422</th>\n",
       "      <td>568450</td>\n",
       "      <td>5</td>\n",
       "      <td>Will not do without</td>\n",
       "      <td>Great for sesame chicken..this is a good if no...</td>\n",
       "      <td>1</td>\n",
       "      <td>great sesame chickenthis good better resturant...</td>\n",
       "    </tr>\n",
       "    <tr>\n",
       "      <th>568423</th>\n",
       "      <td>568451</td>\n",
       "      <td>2</td>\n",
       "      <td>disappointed</td>\n",
       "      <td>I'm disappointed with the flavor. The chocolat...</td>\n",
       "      <td>-1</td>\n",
       "      <td>im disappointed flavor the chocolate notes esp...</td>\n",
       "    </tr>\n",
       "    <tr>\n",
       "      <th>568424</th>\n",
       "      <td>568452</td>\n",
       "      <td>5</td>\n",
       "      <td>Perfect for our maltipoo</td>\n",
       "      <td>These stars are small, so you can give 10-15 o...</td>\n",
       "      <td>1</td>\n",
       "      <td>these stars small give 1015 one training sessi...</td>\n",
       "    </tr>\n",
       "    <tr>\n",
       "      <th>568425</th>\n",
       "      <td>568453</td>\n",
       "      <td>5</td>\n",
       "      <td>Favorite Training and reward treat</td>\n",
       "      <td>These are the BEST treats for training and rew...</td>\n",
       "      <td>1</td>\n",
       "      <td>these best treats training rewarding good groo...</td>\n",
       "    </tr>\n",
       "    <tr>\n",
       "      <th>568426</th>\n",
       "      <td>568454</td>\n",
       "      <td>5</td>\n",
       "      <td>Great Honey</td>\n",
       "      <td>I am very satisfied ,product is as advertised,...</td>\n",
       "      <td>1</td>\n",
       "      <td>i satisfied product advertised i use cereal ra...</td>\n",
       "    </tr>\n",
       "  </tbody>\n",
       "</table>\n",
       "<p>568427 rows × 6 columns</p>\n",
       "</div>"
      ],
      "text/plain": [
       "            Id  Score                                            Summary  \\\n",
       "0       127777      5                 Most enjoyable....and irresistible   \n",
       "1       127778      5       You won't even think your eating healthy....   \n",
       "2       127779      5               The best of all the cheese soy chips   \n",
       "3       127780      5  Low Fat and Few Calories (HEALTHY SNACK); Grea...   \n",
       "4       127781      2                                         overcooked   \n",
       "...        ...    ...                                                ...   \n",
       "568422  568450      5                                Will not do without   \n",
       "568423  568451      2                                       disappointed   \n",
       "568424  568452      5                           Perfect for our maltipoo   \n",
       "568425  568453      5                 Favorite Training and reward treat   \n",
       "568426  568454      5                                        Great Honey   \n",
       "\n",
       "                                                     Text  Sentiment  \\\n",
       "0       I ordered these to serve at a 'proper Scottish...          1   \n",
       "1       I'm normally a very healthy yet picky eater.  ...          1   \n",
       "2       I tested most of the cheddar soy chips availab...          1   \n",
       "3       Glenny's Low Fat Soy Crisps are a healthy snac...          1   \n",
       "4       Glennys organic soy crisps have always been my...         -1   \n",
       "...                                                   ...        ...   \n",
       "568422  Great for sesame chicken..this is a good if no...          1   \n",
       "568423  I'm disappointed with the flavor. The chocolat...         -1   \n",
       "568424  These stars are small, so you can give 10-15 o...          1   \n",
       "568425  These are the BEST treats for training and rew...          1   \n",
       "568426  I am very satisfied ,product is as advertised,...          1   \n",
       "\n",
       "                                               Clean_text  \n",
       "0       i serve proper scottish tea church i doubled t...  \n",
       "1       im normally healthy yet picky eater these soy ...  \n",
       "2       i tested cheddar soy chips available online on...  \n",
       "3       glennys low fat soy crisps healthy snack i abs...  \n",
       "4       glennys organic soy crisps always favorite bra...  \n",
       "...                                                   ...  \n",
       "568422  great sesame chickenthis good better resturant...  \n",
       "568423  im disappointed flavor the chocolate notes esp...  \n",
       "568424  these stars small give 1015 one training sessi...  \n",
       "568425  these best treats training rewarding good groo...  \n",
       "568426  i satisfied product advertised i use cereal ra...  \n",
       "\n",
       "[568427 rows x 6 columns]"
      ]
     },
     "execution_count": 7,
     "metadata": {},
     "output_type": "execute_result"
    }
   ],
   "source": [
    "#testing change\n",
    "df"
   ]
  },
  {
   "cell_type": "code",
   "execution_count": 8,
   "metadata": {},
   "outputs": [
    {
     "name": "stdout",
     "output_type": "stream",
     "text": [
      "Before 568427\n",
      "After 568427\n"
     ]
    }
   ],
   "source": [
    "from sklearn.model_selection import StratifiedShuffleSplit\n",
    "\n",
    "data = df\n",
    "\n",
    "print(\"Before {}\".format(len(data)))\n",
    "dataAfter = data.dropna(subset=[\"Score\"]) # removes all NAN in reviews.rating\n",
    "print(\"After {}\".format(len(dataAfter)))\n",
    "dataAfter[\"Score\"] = dataAfter[\"Score\"].astype(int)\n",
    "\n",
    "split = StratifiedShuffleSplit(n_splits=5, test_size=0.2)\n",
    "for train_index, test_index in split.split(dataAfter, dataAfter[\"Score\"]): \n",
    "    strat_train = dataAfter.reindex(train_index)\n",
    "    strat_test = dataAfter.reindex(test_index)"
   ]
  },
  {
   "cell_type": "code",
   "execution_count": 9,
   "metadata": {},
   "outputs": [
    {
     "data": {
      "text/plain": [
       "116681    Positive\n",
       "180571    Positive\n",
       "205298    Positive\n",
       "386898    Positive\n",
       "263185    Positive\n",
       "490704    Negative\n",
       "471833    Positive\n",
       "271241    Positive\n",
       "547569    Positive\n",
       "41009      Neutral\n",
       "89938     Positive\n",
       "476285    Positive\n",
       "95188     Positive\n",
       "151192    Positive\n",
       "498124    Positive\n",
       "361667    Positive\n",
       "325413    Negative\n",
       "386797    Positive\n",
       "368054    Positive\n",
       "314397    Positive\n",
       "Name: Sentiment, dtype: object"
      ]
     },
     "execution_count": 9,
     "metadata": {},
     "output_type": "execute_result"
    }
   ],
   "source": [
    "def sentiments(rating):\n",
    "    if (rating == 5) or (rating == 4):\n",
    "        return \"Positive\"\n",
    "    elif rating == 3:\n",
    "        return \"Neutral\"\n",
    "    elif (rating == 2) or (rating == 1):\n",
    "        return \"Negative\"\n",
    "# Add sentiments to the data\n",
    "strat_train[\"Sentiment\"] = strat_train[\"Score\"].apply(sentiments)\n",
    "strat_test[\"Sentiment\"] = strat_test[\"Score\"].apply(sentiments)\n",
    "strat_train[\"Sentiment\"][:20]"
   ]
  },
  {
   "cell_type": "code",
   "execution_count": 13,
   "metadata": {},
   "outputs": [
    {
     "name": "stdout",
     "output_type": "stream",
     "text": [
      "454741 454741 \n",
      " 113686 113686\n"
     ]
    },
    {
     "data": {
      "text/plain": [
       "(454741, 290799)"
      ]
     },
     "execution_count": 13,
     "metadata": {},
     "output_type": "execute_result"
    }
   ],
   "source": [
    "# Prepare data\n",
    "X_train = strat_train[\"Clean_text\"]\n",
    "y_train = strat_train[\"Sentiment\"]\n",
    "X_test = strat_test[\"Clean_text\"]\n",
    "y_test = strat_test[\"Sentiment\"]\n",
    "print(len(X_train), len(y_train), '\\n', len(X_test), len(y_test))\n",
    "\n",
    "# Replace \"nan\" with space\n",
    "X_train = X_train.fillna(' ')\n",
    "X_test = X_test.fillna(' ')\n",
    "y_train = y_train.fillna(' ')\n",
    "y_test = y_test.fillna(' ')\n",
    "\n",
    "# Text preprocessing and occurance counting\n",
    "from sklearn.feature_extraction.text import CountVectorizer \n",
    "count_vect = CountVectorizer()\n",
    "#X_train_counts = count_vect.fit_transform(X_train) \n",
    "\n",
    "X_train_counts, X_train_tfidf = vectorize(X_train)\n",
    "X_train_counts.shape"
   ]
  },
  {
   "cell_type": "code",
   "execution_count": 14,
   "metadata": {},
   "outputs": [
    {
     "data": {
      "text/plain": [
       "(454741, 290799)"
      ]
     },
     "execution_count": 14,
     "metadata": {},
     "output_type": "execute_result"
    }
   ],
   "source": [
    "from sklearn.feature_extraction.text import TfidfTransformer\n",
    "tfidf_transformer = TfidfTransformer(use_idf=False)\n",
    "X_train_tfidf = tfidf_transformer.fit_transform(X_train_counts)\n",
    "X_train_tfidf.shape"
   ]
  },
  {
   "cell_type": "code",
   "execution_count": 16,
   "metadata": {},
   "outputs": [
    {
     "data": {
      "text/plain": [
       "0.8822194465457488"
      ]
     },
     "execution_count": 16,
     "metadata": {},
     "output_type": "execute_result"
    }
   ],
   "source": [
    "from sklearn.linear_model import LogisticRegression\n",
    "from sklearn.pipeline import Pipeline\n",
    "clf_logReg_pipe = Pipeline([(\"vect\", CountVectorizer()), (\"tfidf\", TfidfTransformer()), (\"clf_logReg\", LogisticRegression(multi_class='multinomial',solver ='newton-cg'))])\n",
    "clf_logReg_pipe.fit(X_train, y_train)\n",
    "\n",
    "predictedLogReg = clf_logReg_pipe.predict(X_test)\n",
    "np.mean(predictedLogReg == y_test)\n",
    "\n",
    "#clf_logReg_pipe = Pipeline([(\"vect\", CountVectorizer()), (\"tfidf\", TfidfTransformer()), \n",
    "#                            (\"clf_logReg\", LogisticRegression(multi_class='multinomial',solver ='newton-cg'))])\n",
    "                            \n",
    "#clf_logReg_pipe.fit(X_train, y_train)"
   ]
  },
  {
   "cell_type": "code",
   "execution_count": 19,
   "metadata": {},
   "outputs": [
    {
     "data": {
      "text/plain": [
       "dict_keys(['memory', 'steps', 'verbose', 'vect', 'tfidf', 'clf_logReg', 'vect__analyzer', 'vect__binary', 'vect__decode_error', 'vect__dtype', 'vect__encoding', 'vect__input', 'vect__lowercase', 'vect__max_df', 'vect__max_features', 'vect__min_df', 'vect__ngram_range', 'vect__preprocessor', 'vect__stop_words', 'vect__strip_accents', 'vect__token_pattern', 'vect__tokenizer', 'vect__vocabulary', 'tfidf__norm', 'tfidf__smooth_idf', 'tfidf__sublinear_tf', 'tfidf__use_idf', 'clf_logReg__C', 'clf_logReg__class_weight', 'clf_logReg__dual', 'clf_logReg__fit_intercept', 'clf_logReg__intercept_scaling', 'clf_logReg__l1_ratio', 'clf_logReg__max_iter', 'clf_logReg__multi_class', 'clf_logReg__n_jobs', 'clf_logReg__penalty', 'clf_logReg__random_state', 'clf_logReg__solver', 'clf_logReg__tol', 'clf_logReg__verbose', 'clf_logReg__warm_start'])"
      ]
     },
     "execution_count": 19,
     "metadata": {},
     "output_type": "execute_result"
    }
   ],
   "source": [
    "clf_logReg_pipe.get_params().keys()"
   ]
  },
  {
   "cell_type": "code",
   "execution_count": 20,
   "metadata": {},
   "outputs": [
    {
     "data": {
      "text/plain": [
       "{'clf_logReg__C': 10}"
      ]
     },
     "execution_count": 20,
     "metadata": {},
     "output_type": "execute_result"
    }
   ],
   "source": [
    "param_grid = {\n",
    "    \n",
    "    \"clf_logReg__C\": [0.01, 0.5, 10],\n",
    "\n",
    "}\n",
    "\n",
    "grid_pipeline = GridSearchCV(clf_logReg_pipe, param_grid = param_grid)\n",
    "grid_pipeline.fit(X_train, y_train)\n",
    "grid_pipeline.best_params_\n"
   ]
  },
  {
   "cell_type": "code",
   "execution_count": 22,
   "metadata": {},
   "outputs": [
    {
     "data": {
      "text/plain": [
       "{'mean_fit_time': array([ 59.84163933, 105.08221521, 215.63259168]),\n",
       " 'std_fit_time': array([ 4.06355679,  7.32966529, 14.38335304]),\n",
       " 'mean_score_time': array([4.89311767, 4.69323139, 5.23002033]),\n",
       " 'std_score_time': array([0.32625993, 0.10658637, 0.39305681]),\n",
       " 'param_clf_logReg__C': masked_array(data=[0.01, 0.5, 10],\n",
       "              mask=[False, False, False],\n",
       "        fill_value='?',\n",
       "             dtype=object),\n",
       " 'params': [{'clf_logReg__C': 0.01},\n",
       "  {'clf_logReg__C': 0.5},\n",
       "  {'clf_logReg__C': 10}],\n",
       " 'split0_test_score': array([0.80960758, 0.87488593, 0.89208238]),\n",
       " 'split1_test_score': array([0.80970445, 0.87403791, 0.89138849]),\n",
       " 'split2_test_score': array([0.80918767, 0.87332322, 0.89054185]),\n",
       " 'split3_test_score': array([0.80867089, 0.87443374, 0.89166337]),\n",
       " 'split4_test_score': array([0.80881383, 0.87300435, 0.89027796]),\n",
       " 'mean_test_score': array([0.80919688, 0.87393703, 0.89119081]),\n",
       " 'std_test_score': array([0.00041226, 0.00069339, 0.00067996]),\n",
       " 'rank_test_score': array([3, 2, 1], dtype=int32)}"
      ]
     },
     "execution_count": 22,
     "metadata": {},
     "output_type": "execute_result"
    }
   ],
   "source": [
    "grid_pipeline.cv_results_"
   ]
  },
  {
   "cell_type": "code",
   "execution_count": 26,
   "metadata": {},
   "outputs": [
    {
     "data": {
      "text/plain": [
       "Text(0.5, 1.0, 'All C values together')"
      ]
     },
     "execution_count": 26,
     "metadata": {},
     "output_type": "execute_result"
    },
    {
     "data": {
      "image/png": "[encoded data removed]",
      "text/plain": [
       "<Figure size 600x400 with 1 Axes>"
      ]
     },
     "metadata": {
      "needs_background": "light"
     },
     "output_type": "display_data"
    },
    {
     "data": {
      "image/png": "[encoded data removed]",
      "text/plain": [
       "<Figure size 600x400 with 1 Axes>"
      ]
     },
     "metadata": {
      "needs_background": "light"
     },
     "output_type": "display_data"
    },
    {
     "data": {
      "image/png": "[encoded data removed]",
      "text/plain": [
       "<Figure size 600x400 with 1 Axes>"
      ]
     },
     "metadata": {
      "needs_background": "light"
     },
     "output_type": "display_data"
    },
    {
     "data": {
      "image/png": "[encoded data removed]",
      "text/plain": [
       "<Figure size 600x400 with 1 Axes>"
      ]
     },
     "metadata": {
      "needs_background": "light"
     },
     "output_type": "display_data"
    }
   ],
   "source": [
    "def create_mat(clf):\n",
    "    clf_keys = sorted(clf.cv_results_.keys())\n",
    "    clf_mat = np.zeros((5, 3))\n",
    "    i = 0\n",
    "    #for key in sorted(clf.cv_results_)[6:31]:\n",
    "    for i in range(5):\n",
    "        clf_mat[i] = clf.cv_results_[f\"split{i}_test_score\"]\n",
    "        i += 1\n",
    "    return clf_mat\n",
    "\n",
    "\n",
    "clf_mat = create_mat(grid_pipeline)\n",
    "\n",
    "# Plotting C = 0.01\n",
    "plt.figure(dpi = 100)\n",
    "plt.plot(range(5), clf_mat[:,0], label = \"5 C=0.01\")\n",
    "plt.legend()\n",
    "plt.title(\"C = 0.01\")\n",
    "\n",
    "# Plotting C = 0.5\n",
    "plt.figure(dpi = 100)\n",
    "plt.plot(range(5), clf_mat[:,1], label = \"5 C=0.5\")\n",
    "plt.legend()\n",
    "plt.title(\"C = 0.5\")\n",
    "\n",
    "# Plotting C = 10\n",
    "plt.figure(dpi = 100)\n",
    "plt.plot(range(5), clf_mat[:,2], label = \"5 C=10\")\n",
    "plt.legend()\n",
    "plt.title(\"C = 10\")\n",
    "\n",
    "# Plot Altogether\n",
    "plt.figure(dpi = 100)\n",
    "plt.plot(range(5), clf_mat[:,0], label = \"5 C=0.01\")\n",
    "plt.plot(range(5), clf_mat[:,1], label = \"5 C=0.5\")\n",
    "plt.plot(range(5), clf_mat[:,2], label = \"5 C=10\")\n",
    "plt.legend()\n",
    "plt.title(\"All C values together\")"
   ]
  },
  {
   "cell_type": "markdown",
   "metadata": {},
   "source": [
    "With C = 0.01, the generalization estimate/test score seems to be around the range (0.80, 0.81). With C = 0.5, we observe a much higher test accuracy, ranging around 0.873 to 0.875. With C = 10, we observe the best test accuracy (and thus highest generalization estimate), which ranges from about 0.890 to 0.892. In the original pipeline, LogisticRegression uses the default C value of 1.0, and achieves a test accuracy of 0.882. Thus, the best C value (regularization parameter) for our model is C = 10."
   ]
  },
  {
   "cell_type": "code",
   "execution_count": 27,
   "metadata": {},
   "outputs": [
    {
     "data": {
      "text/plain": [
       "0.8932674207905986"
      ]
     },
     "execution_count": 27,
     "metadata": {},
     "output_type": "execute_result"
    }
   ],
   "source": [
    "# Rerun model with new chosen hyperparameter\n",
    "clf_logReg_pipe = Pipeline([(\"vect\", CountVectorizer()), (\"tfidf\", TfidfTransformer()), (\"clf_logReg\", LogisticRegression(multi_class='multinomial',solver ='newton-cg', C=10))])\n",
    "clf_logReg_pipe.fit(X_train, y_train)\n",
    "\n",
    "predictedLogReg = clf_logReg_pipe.predict(X_test)\n",
    "np.mean(predictedLogReg == y_test)"
   ]
  },
  {
   "cell_type": "code",
   "execution_count": null,
   "metadata": {},
   "outputs": [],
   "source": []
  }
 ],
 "metadata": {
  "interpreter": {
   "hash": "dd7c5bf3a281dae8682785c2bdcd4fbbf774a1528ca612c95be99b150fda13f8"
  },
  "kernelspec": {
   "display_name": "Python 3.8.3 ('base')",
   "language": "python",
   "name": "python3"
  },
  "language_info": {
   "codemirror_mode": {
    "name": "ipython",
    "version": 3
   },
   "file_extension": ".py",
   "mimetype": "text/x-python",
   "name": "python",
   "nbconvert_exporter": "python",
   "pygments_lexer": "ipython3",
   "version": "3.8.3"
  },
  "orig_nbformat": 4
 },
 "nbformat": 4,
 "nbformat_minor": 2
}
