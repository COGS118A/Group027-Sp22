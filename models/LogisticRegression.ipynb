{
 "cells": [
  {
   "cell_type": "code",
   "execution_count": 2,
   "metadata": {},
   "outputs": [],
   "source": [
    "import numpy as np\n",
    "import pandas as pd\n",
    "import glob\n",
    "import string\n",
    "import re\n",
    "import nltk\n",
    "\n",
    "from sklearn.feature_extraction.text import CountVectorizer \n",
    "from sklearn.linear_model import LogisticRegression\n",
    "from sklearn.pipeline import Pipeline\n",
    "\n",
    "from sklearn.model_selection import train_test_split\n",
    "\n",
    "import matplotlib.pyplot as plt\n",
    "from textwrap import wrap"
   ]
  },
  {
   "cell_type": "code",
   "execution_count": 3,
   "metadata": {},
   "outputs": [
    {
     "name": "stdout",
     "output_type": "stream",
     "text": [
      "Concatenating ../data\\Reviews-1.csv\n",
      "Concatenating ../data\\Reviews-2.csv\n",
      "Concatenating ../data\\Reviews-3.csv\n",
      "Concatenating ../data\\Reviews-4.csv\n"
     ]
    }
   ],
   "source": [
    "#reviews_df = pd.read_csv('Reviews.csv')\n",
    "'''\n",
    "Merge datasets in the data folder.\n",
    "Returns a dataframe of all the data.\n",
    "'''\n",
    "def retrieve_reviews_df():\n",
    "    all_files = glob.glob(\"../data/*.csv\")  \n",
    "\n",
    "    df_list = []\n",
    "\n",
    "    for filename in all_files:\n",
    "        print(f\"Concatenating {filename}\")\n",
    "        df = pd.read_csv(filename, index_col=None, header=0)\n",
    "        df_list.append(df)\n",
    "    \n",
    "    return pd.concat(df_list, axis=0, ignore_index=True)\n",
    "\n",
    "reviews_df = retrieve_reviews_df()"
   ]
  },
  {
   "cell_type": "code",
   "execution_count": 4,
   "metadata": {},
   "outputs": [],
   "source": [
    "# preprocessing for the dataframe \n",
    "def score(x):\n",
    "    if x<3:\n",
    "        return -1\n",
    "    elif x==3 or x==4:\n",
    "        return 0\n",
    "    else:\n",
    "        return 1\n",
    "\n",
    "def preprocessing(df):\n",
    "    # drop columns\n",
    "    new_df = df.drop(columns = [\"ProductId\", \"UserId\", \"ProfileName\", \"HelpfulnessNumerator\", \"HelpfulnessDenominator\", \"Time\"])\n",
    "\n",
    "    # drop na values\n",
    "    new_df = new_df.dropna(axis=0)\n",
    "\n",
    "    # make a new column of sentiment: (-1/0/1) -- pos/neutral/neg -- 1,2/3/4,5\n",
    "    new_df['Sentiment'] = new_df.apply(lambda x: score(x['Score']), axis=1)\n",
    "\n",
    "\n",
    "    return new_df\n",
    "\n",
    "df = preprocessing(reviews_df)"
   ]
  },
  {
   "cell_type": "code",
   "execution_count": 5,
   "metadata": {},
   "outputs": [],
   "source": [
    "X = df['Text']\n",
    "y = df['Sentiment']\n",
    "X_train, X_test, y_train, y_test = train_test_split( X, y, test_size=0.2, random_state=42)"
   ]
  },
  {
   "cell_type": "code",
   "execution_count": 6,
   "metadata": {},
   "outputs": [
    {
     "data": {
      "text/plain": [
       "(454741, 109178)"
      ]
     },
     "execution_count": 6,
     "metadata": {},
     "output_type": "execute_result"
    }
   ],
   "source": [
    "from sklearn.feature_extraction.text import CountVectorizer \n",
    "from sklearn.feature_extraction.text import TfidfTransformer\n",
    "from sklearn.naive_bayes import MultinomialNB\n",
    "from sklearn.pipeline import Pipeline\n",
    "\n",
    "count_vect = CountVectorizer()\n",
    "\n",
    "X_train_counts = count_vect.fit_transform(X_train) \n",
    "\n",
    "tfidf_transformer = TfidfTransformer(use_idf=False)\n",
    "X_train_tfidf = tfidf_transformer.fit_transform(X_train_counts)\n",
    "X_train_tfidf.shape"
   ]
  },
  {
   "cell_type": "code",
   "execution_count": 7,
   "metadata": {},
   "outputs": [],
   "source": [
    "#split data into train and test"
   ]
  },
  {
   "cell_type": "code",
   "execution_count": 8,
   "metadata": {},
   "outputs": [
    {
     "data": {
      "text/plain": [
       "Pipeline(steps=[('vect', CountVectorizer()), ('tfidf', TfidfTransformer()),\n",
       "                ('clf_logReg',\n",
       "                 LogisticRegression(multi_class='multinomial',\n",
       "                                    solver='newton-cg'))])"
      ]
     },
     "execution_count": 8,
     "metadata": {},
     "output_type": "execute_result"
    }
   ],
   "source": [
    "clf_logReg_pipe = Pipeline([(\"vect\", CountVectorizer()), (\"tfidf\", TfidfTransformer()), \n",
    "                            (\"clf_logReg\", LogisticRegression(multi_class='multinomial',solver ='newton-cg'))])\n",
    "                            \n",
    "clf_logReg_pipe.fit(X_train, y_train)"
   ]
  },
  {
   "cell_type": "code",
   "execution_count": 9,
   "metadata": {},
   "outputs": [
    {
     "data": {
      "text/plain": [
       "0.8041359534155481"
      ]
     },
     "execution_count": 9,
     "metadata": {},
     "output_type": "execute_result"
    }
   ],
   "source": [
    "predictedLogReg = clf_logReg_pipe.predict(X_test)\n",
    "np.mean(predictedLogReg == y_test)"
   ]
  }
 ],
 "metadata": {
  "interpreter": {
   "hash": "ccf4a7f5866892d9adb2921814fce30372ba9f7152d0e6674cf63c6853a7d4cc"
  },
  "kernelspec": {
   "display_name": "Python 3.8.10",
   "language": "python",
   "name": "python3"
  },
  "language_info": {
   "codemirror_mode": {
    "name": "ipython",
    "version": 3
   },
   "file_extension": ".py",
   "mimetype": "text/x-python",
   "name": "python",
   "nbconvert_exporter": "python",
   "pygments_lexer": "ipython3",
   "version": "3.8.10"
  },
  "orig_nbformat": 4
 },
 "nbformat": 4,
 "nbformat_minor": 2
}
