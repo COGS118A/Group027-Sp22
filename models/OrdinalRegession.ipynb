{
 "cells": [
  {
   "cell_type": "code",
   "execution_count": 9,
   "metadata": {},
   "outputs": [],
   "source": [
    "import import_ipynb\n",
    "import os\n",
    "import sys\n",
    "\n",
    "import matplotlib.pyplot as plt\n",
    "import numpy as np\n",
    "import pandas as pd\n",
    "\n",
    "from sklearn.feature_extraction.text import CountVectorizer\n",
    "from sklearn.feature_extraction.text import TfidfTransformer\n",
    "from sklearn.feature_extraction.text import TfidfVectorizer\n",
    "from sklearn.linear_model import LogisticRegression\n",
    "from sklearn.pipeline import Pipeline\n",
    "from sklearn.model_selection import train_test_split\n",
    "\n",
    "module_path = os.path.abspath(os.path.join('..'))\n",
    "if module_path not in sys.path:\n",
    "    sys.path.append(module_path)\n",
    "from utilities.UtilityFunctions import retrieve_reviews_df, preprocessing, vectorize, text_preprocess\n",
    "\n",
    "from statsmodels.miscmodels.ordinal_model import OrderedModel"
   ]
  },
  {
   "cell_type": "code",
   "execution_count": 13,
   "metadata": {},
   "outputs": [
    {
     "name": "stdout",
     "output_type": "stream",
     "text": [
      "Concatenating ../data\\Reviews-1.csv\n",
      "Concatenating ../data\\Reviews-2.csv\n",
      "Concatenating ../data\\Reviews-3.csv\n",
      "Concatenating ../data\\Reviews-4.csv\n"
     ]
    }
   ],
   "source": [
    "df = preprocessing(retrieve_reviews_df())"
   ]
  },
  {
   "cell_type": "code",
   "execution_count": 14,
   "metadata": {},
   "outputs": [],
   "source": [
    "# perform text preprocessing\n",
    "text_preprocess(df, ['html', 'punc', 'lower'])"
   ]
  },
  {
   "cell_type": "code",
   "execution_count": 27,
   "metadata": {},
   "outputs": [],
   "source": [
    "X = df[['Clean_text']]\n",
    "y = df['Sentiment']"
   ]
  },
  {
   "cell_type": "code",
   "execution_count": 28,
   "metadata": {},
   "outputs": [],
   "source": [
    "from pandas.api.types import CategoricalDtype\n",
    "cat_type = CategoricalDtype(categories=[-1, 0, 1], ordered=True)\n",
    "y = y.astype(cat_type)"
   ]
  },
  {
   "cell_type": "code",
   "execution_count": 29,
   "metadata": {},
   "outputs": [],
   "source": [
    "X_train, X_test, y_train, y_test = train_test_split( X, y, test_size=0.2, random_state=42)\n",
    "X_train_counts, X_train_tfidf = vectorize(X_train)"
   ]
  },
  {
   "cell_type": "code",
   "execution_count": 30,
   "metadata": {},
   "outputs": [
    {
     "ename": "ValueError",
     "evalue": "Pandas data cast to numpy dtype of object. Check input data with np.asarray(data).",
     "output_type": "error",
     "traceback": [
      "\u001b[1;31m---------------------------------------------------------------------------\u001b[0m",
      "\u001b[1;31mValueError\u001b[0m                                Traceback (most recent call last)",
      "\u001b[1;32mc:\\Users\\ddeha\\Desktop\\Group027-Sp22\\models\\OrdinalRegession.ipynb Cell 7'\u001b[0m in \u001b[0;36m<cell line: 1>\u001b[1;34m()\u001b[0m\n\u001b[1;32m----> <a href='vscode-notebook-cell:/c%3A/Users/ddeha/Desktop/Group027-Sp22/models/OrdinalRegession.ipynb#ch0000005?line=0'>1</a>\u001b[0m mod_prob \u001b[39m=\u001b[39m OrderedModel(y_train, X_train, distr\u001b[39m=\u001b[39;49m\u001b[39m'\u001b[39;49m\u001b[39mprobit\u001b[39;49m\u001b[39m'\u001b[39;49m)\n\u001b[0;32m      <a href='vscode-notebook-cell:/c%3A/Users/ddeha/Desktop/Group027-Sp22/models/OrdinalRegession.ipynb#ch0000005?line=1'>2</a>\u001b[0m res_prob \u001b[39m=\u001b[39m mod_prob\u001b[39m.\u001b[39mfit(method\u001b[39m=\u001b[39m\u001b[39m'\u001b[39m\u001b[39mbfgs\u001b[39m\u001b[39m'\u001b[39m)\n\u001b[0;32m      <a href='vscode-notebook-cell:/c%3A/Users/ddeha/Desktop/Group027-Sp22/models/OrdinalRegession.ipynb#ch0000005?line=2'>3</a>\u001b[0m res_prob\u001b[39m.\u001b[39msummary()\n",
      "File \u001b[1;32m~\\AppData\\Local\\Packages\\PythonSoftwareFoundation.Python.3.9_qbz5n2kfra8p0\\LocalCache\\local-packages\\Python39\\site-packages\\statsmodels\\miscmodels\\ordinal_model.py:133\u001b[0m, in \u001b[0;36mOrderedModel.__init__\u001b[1;34m(self, endog, exog, offset, distr, **kwds)\u001b[0m\n\u001b[0;32m    <a href='file:///c%3A/Users/ddeha/AppData/Local/Packages/PythonSoftwareFoundation.Python.3.9_qbz5n2kfra8p0/LocalCache/local-packages/Python39/site-packages/statsmodels/miscmodels/ordinal_model.py?line=128'>129</a>\u001b[0m \u001b[39mself\u001b[39m\u001b[39m.\u001b[39moffset \u001b[39m=\u001b[39m offset\n\u001b[0;32m    <a href='file:///c%3A/Users/ddeha/AppData/Local/Packages/PythonSoftwareFoundation.Python.3.9_qbz5n2kfra8p0/LocalCache/local-packages/Python39/site-packages/statsmodels/miscmodels/ordinal_model.py?line=130'>131</a>\u001b[0m endog, labels, is_pandas \u001b[39m=\u001b[39m \u001b[39mself\u001b[39m\u001b[39m.\u001b[39m_check_inputs(endog, exog)\n\u001b[1;32m--> <a href='file:///c%3A/Users/ddeha/AppData/Local/Packages/PythonSoftwareFoundation.Python.3.9_qbz5n2kfra8p0/LocalCache/local-packages/Python39/site-packages/statsmodels/miscmodels/ordinal_model.py?line=132'>133</a>\u001b[0m \u001b[39msuper\u001b[39m(OrderedModel, \u001b[39mself\u001b[39m)\u001b[39m.\u001b[39m\u001b[39m__init__\u001b[39m(endog, exog, \u001b[39m*\u001b[39m\u001b[39m*\u001b[39mkwds)\n\u001b[0;32m    <a href='file:///c%3A/Users/ddeha/AppData/Local/Packages/PythonSoftwareFoundation.Python.3.9_qbz5n2kfra8p0/LocalCache/local-packages/Python39/site-packages/statsmodels/miscmodels/ordinal_model.py?line=133'>134</a>\u001b[0m k_levels \u001b[39m=\u001b[39m \u001b[39mNone\u001b[39;00m  \u001b[39m# initialize\u001b[39;00m\n\u001b[0;32m    <a href='file:///c%3A/Users/ddeha/AppData/Local/Packages/PythonSoftwareFoundation.Python.3.9_qbz5n2kfra8p0/LocalCache/local-packages/Python39/site-packages/statsmodels/miscmodels/ordinal_model.py?line=134'>135</a>\u001b[0m \u001b[39mif\u001b[39;00m \u001b[39mnot\u001b[39;00m is_pandas:\n",
      "File \u001b[1;32m~\\AppData\\Local\\Packages\\PythonSoftwareFoundation.Python.3.9_qbz5n2kfra8p0\\LocalCache\\local-packages\\Python39\\site-packages\\statsmodels\\base\\model.py:838\u001b[0m, in \u001b[0;36mGenericLikelihoodModel.__init__\u001b[1;34m(self, endog, exog, loglike, score, hessian, missing, extra_params_names, **kwds)\u001b[0m\n\u001b[0;32m    <a href='file:///c%3A/Users/ddeha/AppData/Local/Packages/PythonSoftwareFoundation.Python.3.9_qbz5n2kfra8p0/LocalCache/local-packages/Python39/site-packages/statsmodels/base/model.py?line=830'>831</a>\u001b[0m \u001b[39mself\u001b[39m\u001b[39m.\u001b[39m\u001b[39m__dict__\u001b[39m\u001b[39m.\u001b[39mupdate(kwds)\n\u001b[0;32m    <a href='file:///c%3A/Users/ddeha/AppData/Local/Packages/PythonSoftwareFoundation.Python.3.9_qbz5n2kfra8p0/LocalCache/local-packages/Python39/site-packages/statsmodels/base/model.py?line=832'>833</a>\u001b[0m \u001b[39m# TODO: data structures?\u001b[39;00m\n\u001b[0;32m    <a href='file:///c%3A/Users/ddeha/AppData/Local/Packages/PythonSoftwareFoundation.Python.3.9_qbz5n2kfra8p0/LocalCache/local-packages/Python39/site-packages/statsmodels/base/model.py?line=833'>834</a>\u001b[0m \n\u001b[0;32m    <a href='file:///c%3A/Users/ddeha/AppData/Local/Packages/PythonSoftwareFoundation.Python.3.9_qbz5n2kfra8p0/LocalCache/local-packages/Python39/site-packages/statsmodels/base/model.py?line=834'>835</a>\u001b[0m \u001b[39m# TODO temporary solution, force approx normal\u001b[39;00m\n\u001b[0;32m    <a href='file:///c%3A/Users/ddeha/AppData/Local/Packages/PythonSoftwareFoundation.Python.3.9_qbz5n2kfra8p0/LocalCache/local-packages/Python39/site-packages/statsmodels/base/model.py?line=835'>836</a>\u001b[0m \u001b[39m# self.df_model = 9999\u001b[39;00m\n\u001b[0;32m    <a href='file:///c%3A/Users/ddeha/AppData/Local/Packages/PythonSoftwareFoundation.Python.3.9_qbz5n2kfra8p0/LocalCache/local-packages/Python39/site-packages/statsmodels/base/model.py?line=836'>837</a>\u001b[0m \u001b[39m# somewhere: CacheWriteWarning: 'df_model' cannot be overwritten\u001b[39;00m\n\u001b[1;32m--> <a href='file:///c%3A/Users/ddeha/AppData/Local/Packages/PythonSoftwareFoundation.Python.3.9_qbz5n2kfra8p0/LocalCache/local-packages/Python39/site-packages/statsmodels/base/model.py?line=837'>838</a>\u001b[0m \u001b[39msuper\u001b[39m(GenericLikelihoodModel, \u001b[39mself\u001b[39m)\u001b[39m.\u001b[39m\u001b[39m__init__\u001b[39m(endog, exog,\n\u001b[0;32m    <a href='file:///c%3A/Users/ddeha/AppData/Local/Packages/PythonSoftwareFoundation.Python.3.9_qbz5n2kfra8p0/LocalCache/local-packages/Python39/site-packages/statsmodels/base/model.py?line=838'>839</a>\u001b[0m                                              missing\u001b[39m=\u001b[39mmissing,\n\u001b[0;32m    <a href='file:///c%3A/Users/ddeha/AppData/Local/Packages/PythonSoftwareFoundation.Python.3.9_qbz5n2kfra8p0/LocalCache/local-packages/Python39/site-packages/statsmodels/base/model.py?line=839'>840</a>\u001b[0m                                              hasconst\u001b[39m=\u001b[39mhasconst,\n\u001b[0;32m    <a href='file:///c%3A/Users/ddeha/AppData/Local/Packages/PythonSoftwareFoundation.Python.3.9_qbz5n2kfra8p0/LocalCache/local-packages/Python39/site-packages/statsmodels/base/model.py?line=840'>841</a>\u001b[0m                                              \u001b[39m*\u001b[39m\u001b[39m*\u001b[39mkwds\n\u001b[0;32m    <a href='file:///c%3A/Users/ddeha/AppData/Local/Packages/PythonSoftwareFoundation.Python.3.9_qbz5n2kfra8p0/LocalCache/local-packages/Python39/site-packages/statsmodels/base/model.py?line=841'>842</a>\u001b[0m                                              )\n\u001b[0;32m    <a href='file:///c%3A/Users/ddeha/AppData/Local/Packages/PythonSoftwareFoundation.Python.3.9_qbz5n2kfra8p0/LocalCache/local-packages/Python39/site-packages/statsmodels/base/model.py?line=843'>844</a>\u001b[0m \u001b[39m# this will not work for ru2nmnl, maybe np.ndim of a dict?\u001b[39;00m\n\u001b[0;32m    <a href='file:///c%3A/Users/ddeha/AppData/Local/Packages/PythonSoftwareFoundation.Python.3.9_qbz5n2kfra8p0/LocalCache/local-packages/Python39/site-packages/statsmodels/base/model.py?line=844'>845</a>\u001b[0m \u001b[39mif\u001b[39;00m exog \u001b[39mis\u001b[39;00m \u001b[39mnot\u001b[39;00m \u001b[39mNone\u001b[39;00m:\n",
      "File \u001b[1;32m~\\AppData\\Local\\Packages\\PythonSoftwareFoundation.Python.3.9_qbz5n2kfra8p0\\LocalCache\\local-packages\\Python39\\site-packages\\statsmodels\\base\\model.py:267\u001b[0m, in \u001b[0;36mLikelihoodModel.__init__\u001b[1;34m(self, endog, exog, **kwargs)\u001b[0m\n\u001b[0;32m    <a href='file:///c%3A/Users/ddeha/AppData/Local/Packages/PythonSoftwareFoundation.Python.3.9_qbz5n2kfra8p0/LocalCache/local-packages/Python39/site-packages/statsmodels/base/model.py?line=265'>266</a>\u001b[0m \u001b[39mdef\u001b[39;00m \u001b[39m__init__\u001b[39m(\u001b[39mself\u001b[39m, endog, exog\u001b[39m=\u001b[39m\u001b[39mNone\u001b[39;00m, \u001b[39m*\u001b[39m\u001b[39m*\u001b[39mkwargs):\n\u001b[1;32m--> <a href='file:///c%3A/Users/ddeha/AppData/Local/Packages/PythonSoftwareFoundation.Python.3.9_qbz5n2kfra8p0/LocalCache/local-packages/Python39/site-packages/statsmodels/base/model.py?line=266'>267</a>\u001b[0m     \u001b[39msuper\u001b[39m()\u001b[39m.\u001b[39m\u001b[39m__init__\u001b[39m(endog, exog, \u001b[39m*\u001b[39m\u001b[39m*\u001b[39mkwargs)\n\u001b[0;32m    <a href='file:///c%3A/Users/ddeha/AppData/Local/Packages/PythonSoftwareFoundation.Python.3.9_qbz5n2kfra8p0/LocalCache/local-packages/Python39/site-packages/statsmodels/base/model.py?line=267'>268</a>\u001b[0m     \u001b[39mself\u001b[39m\u001b[39m.\u001b[39minitialize()\n",
      "File \u001b[1;32m~\\AppData\\Local\\Packages\\PythonSoftwareFoundation.Python.3.9_qbz5n2kfra8p0\\LocalCache\\local-packages\\Python39\\site-packages\\statsmodels\\base\\model.py:92\u001b[0m, in \u001b[0;36mModel.__init__\u001b[1;34m(self, endog, exog, **kwargs)\u001b[0m\n\u001b[0;32m     <a href='file:///c%3A/Users/ddeha/AppData/Local/Packages/PythonSoftwareFoundation.Python.3.9_qbz5n2kfra8p0/LocalCache/local-packages/Python39/site-packages/statsmodels/base/model.py?line=89'>90</a>\u001b[0m missing \u001b[39m=\u001b[39m kwargs\u001b[39m.\u001b[39mpop(\u001b[39m'\u001b[39m\u001b[39mmissing\u001b[39m\u001b[39m'\u001b[39m, \u001b[39m'\u001b[39m\u001b[39mnone\u001b[39m\u001b[39m'\u001b[39m)\n\u001b[0;32m     <a href='file:///c%3A/Users/ddeha/AppData/Local/Packages/PythonSoftwareFoundation.Python.3.9_qbz5n2kfra8p0/LocalCache/local-packages/Python39/site-packages/statsmodels/base/model.py?line=90'>91</a>\u001b[0m hasconst \u001b[39m=\u001b[39m kwargs\u001b[39m.\u001b[39mpop(\u001b[39m'\u001b[39m\u001b[39mhasconst\u001b[39m\u001b[39m'\u001b[39m, \u001b[39mNone\u001b[39;00m)\n\u001b[1;32m---> <a href='file:///c%3A/Users/ddeha/AppData/Local/Packages/PythonSoftwareFoundation.Python.3.9_qbz5n2kfra8p0/LocalCache/local-packages/Python39/site-packages/statsmodels/base/model.py?line=91'>92</a>\u001b[0m \u001b[39mself\u001b[39m\u001b[39m.\u001b[39mdata \u001b[39m=\u001b[39m \u001b[39mself\u001b[39m\u001b[39m.\u001b[39m_handle_data(endog, exog, missing, hasconst,\n\u001b[0;32m     <a href='file:///c%3A/Users/ddeha/AppData/Local/Packages/PythonSoftwareFoundation.Python.3.9_qbz5n2kfra8p0/LocalCache/local-packages/Python39/site-packages/statsmodels/base/model.py?line=92'>93</a>\u001b[0m                               \u001b[39m*\u001b[39m\u001b[39m*\u001b[39mkwargs)\n\u001b[0;32m     <a href='file:///c%3A/Users/ddeha/AppData/Local/Packages/PythonSoftwareFoundation.Python.3.9_qbz5n2kfra8p0/LocalCache/local-packages/Python39/site-packages/statsmodels/base/model.py?line=93'>94</a>\u001b[0m \u001b[39mself\u001b[39m\u001b[39m.\u001b[39mk_constant \u001b[39m=\u001b[39m \u001b[39mself\u001b[39m\u001b[39m.\u001b[39mdata\u001b[39m.\u001b[39mk_constant\n\u001b[0;32m     <a href='file:///c%3A/Users/ddeha/AppData/Local/Packages/PythonSoftwareFoundation.Python.3.9_qbz5n2kfra8p0/LocalCache/local-packages/Python39/site-packages/statsmodels/base/model.py?line=94'>95</a>\u001b[0m \u001b[39mself\u001b[39m\u001b[39m.\u001b[39mexog \u001b[39m=\u001b[39m \u001b[39mself\u001b[39m\u001b[39m.\u001b[39mdata\u001b[39m.\u001b[39mexog\n",
      "File \u001b[1;32m~\\AppData\\Local\\Packages\\PythonSoftwareFoundation.Python.3.9_qbz5n2kfra8p0\\LocalCache\\local-packages\\Python39\\site-packages\\statsmodels\\base\\model.py:132\u001b[0m, in \u001b[0;36mModel._handle_data\u001b[1;34m(self, endog, exog, missing, hasconst, **kwargs)\u001b[0m\n\u001b[0;32m    <a href='file:///c%3A/Users/ddeha/AppData/Local/Packages/PythonSoftwareFoundation.Python.3.9_qbz5n2kfra8p0/LocalCache/local-packages/Python39/site-packages/statsmodels/base/model.py?line=130'>131</a>\u001b[0m \u001b[39mdef\u001b[39;00m \u001b[39m_handle_data\u001b[39m(\u001b[39mself\u001b[39m, endog, exog, missing, hasconst, \u001b[39m*\u001b[39m\u001b[39m*\u001b[39mkwargs):\n\u001b[1;32m--> <a href='file:///c%3A/Users/ddeha/AppData/Local/Packages/PythonSoftwareFoundation.Python.3.9_qbz5n2kfra8p0/LocalCache/local-packages/Python39/site-packages/statsmodels/base/model.py?line=131'>132</a>\u001b[0m     data \u001b[39m=\u001b[39m handle_data(endog, exog, missing, hasconst, \u001b[39m*\u001b[39m\u001b[39m*\u001b[39mkwargs)\n\u001b[0;32m    <a href='file:///c%3A/Users/ddeha/AppData/Local/Packages/PythonSoftwareFoundation.Python.3.9_qbz5n2kfra8p0/LocalCache/local-packages/Python39/site-packages/statsmodels/base/model.py?line=132'>133</a>\u001b[0m     \u001b[39m# kwargs arrays could have changed, easier to just attach here\u001b[39;00m\n\u001b[0;32m    <a href='file:///c%3A/Users/ddeha/AppData/Local/Packages/PythonSoftwareFoundation.Python.3.9_qbz5n2kfra8p0/LocalCache/local-packages/Python39/site-packages/statsmodels/base/model.py?line=133'>134</a>\u001b[0m     \u001b[39mfor\u001b[39;00m key \u001b[39min\u001b[39;00m kwargs:\n",
      "File \u001b[1;32m~\\AppData\\Local\\Packages\\PythonSoftwareFoundation.Python.3.9_qbz5n2kfra8p0\\LocalCache\\local-packages\\Python39\\site-packages\\statsmodels\\base\\data.py:673\u001b[0m, in \u001b[0;36mhandle_data\u001b[1;34m(endog, exog, missing, hasconst, **kwargs)\u001b[0m\n\u001b[0;32m    <a href='file:///c%3A/Users/ddeha/AppData/Local/Packages/PythonSoftwareFoundation.Python.3.9_qbz5n2kfra8p0/LocalCache/local-packages/Python39/site-packages/statsmodels/base/data.py?line=669'>670</a>\u001b[0m     exog \u001b[39m=\u001b[39m np\u001b[39m.\u001b[39masarray(exog)\n\u001b[0;32m    <a href='file:///c%3A/Users/ddeha/AppData/Local/Packages/PythonSoftwareFoundation.Python.3.9_qbz5n2kfra8p0/LocalCache/local-packages/Python39/site-packages/statsmodels/base/data.py?line=671'>672</a>\u001b[0m klass \u001b[39m=\u001b[39m handle_data_class_factory(endog, exog)\n\u001b[1;32m--> <a href='file:///c%3A/Users/ddeha/AppData/Local/Packages/PythonSoftwareFoundation.Python.3.9_qbz5n2kfra8p0/LocalCache/local-packages/Python39/site-packages/statsmodels/base/data.py?line=672'>673</a>\u001b[0m \u001b[39mreturn\u001b[39;00m klass(endog, exog\u001b[39m=\u001b[39mexog, missing\u001b[39m=\u001b[39mmissing, hasconst\u001b[39m=\u001b[39mhasconst,\n\u001b[0;32m    <a href='file:///c%3A/Users/ddeha/AppData/Local/Packages/PythonSoftwareFoundation.Python.3.9_qbz5n2kfra8p0/LocalCache/local-packages/Python39/site-packages/statsmodels/base/data.py?line=673'>674</a>\u001b[0m              \u001b[39m*\u001b[39m\u001b[39m*\u001b[39mkwargs)\n",
      "File \u001b[1;32m~\\AppData\\Local\\Packages\\PythonSoftwareFoundation.Python.3.9_qbz5n2kfra8p0\\LocalCache\\local-packages\\Python39\\site-packages\\statsmodels\\base\\data.py:82\u001b[0m, in \u001b[0;36mModelData.__init__\u001b[1;34m(self, endog, exog, missing, hasconst, **kwargs)\u001b[0m\n\u001b[0;32m     <a href='file:///c%3A/Users/ddeha/AppData/Local/Packages/PythonSoftwareFoundation.Python.3.9_qbz5n2kfra8p0/LocalCache/local-packages/Python39/site-packages/statsmodels/base/data.py?line=79'>80</a>\u001b[0m     \u001b[39mself\u001b[39m\u001b[39m.\u001b[39morig_endog \u001b[39m=\u001b[39m endog\n\u001b[0;32m     <a href='file:///c%3A/Users/ddeha/AppData/Local/Packages/PythonSoftwareFoundation.Python.3.9_qbz5n2kfra8p0/LocalCache/local-packages/Python39/site-packages/statsmodels/base/data.py?line=80'>81</a>\u001b[0m     \u001b[39mself\u001b[39m\u001b[39m.\u001b[39morig_exog \u001b[39m=\u001b[39m exog\n\u001b[1;32m---> <a href='file:///c%3A/Users/ddeha/AppData/Local/Packages/PythonSoftwareFoundation.Python.3.9_qbz5n2kfra8p0/LocalCache/local-packages/Python39/site-packages/statsmodels/base/data.py?line=81'>82</a>\u001b[0m     \u001b[39mself\u001b[39m\u001b[39m.\u001b[39mendog, \u001b[39mself\u001b[39m\u001b[39m.\u001b[39mexog \u001b[39m=\u001b[39m \u001b[39mself\u001b[39;49m\u001b[39m.\u001b[39;49m_convert_endog_exog(endog, exog)\n\u001b[0;32m     <a href='file:///c%3A/Users/ddeha/AppData/Local/Packages/PythonSoftwareFoundation.Python.3.9_qbz5n2kfra8p0/LocalCache/local-packages/Python39/site-packages/statsmodels/base/data.py?line=83'>84</a>\u001b[0m \u001b[39mself\u001b[39m\u001b[39m.\u001b[39mconst_idx \u001b[39m=\u001b[39m \u001b[39mNone\u001b[39;00m\n\u001b[0;32m     <a href='file:///c%3A/Users/ddeha/AppData/Local/Packages/PythonSoftwareFoundation.Python.3.9_qbz5n2kfra8p0/LocalCache/local-packages/Python39/site-packages/statsmodels/base/data.py?line=84'>85</a>\u001b[0m \u001b[39mself\u001b[39m\u001b[39m.\u001b[39mk_constant \u001b[39m=\u001b[39m \u001b[39m0\u001b[39m\n",
      "File \u001b[1;32m~\\AppData\\Local\\Packages\\PythonSoftwareFoundation.Python.3.9_qbz5n2kfra8p0\\LocalCache\\local-packages\\Python39\\site-packages\\statsmodels\\base\\data.py:507\u001b[0m, in \u001b[0;36mPandasData._convert_endog_exog\u001b[1;34m(self, endog, exog)\u001b[0m\n\u001b[0;32m    <a href='file:///c%3A/Users/ddeha/AppData/Local/Packages/PythonSoftwareFoundation.Python.3.9_qbz5n2kfra8p0/LocalCache/local-packages/Python39/site-packages/statsmodels/base/data.py?line=504'>505</a>\u001b[0m exog \u001b[39m=\u001b[39m exog \u001b[39mif\u001b[39;00m exog \u001b[39mis\u001b[39;00m \u001b[39mNone\u001b[39;00m \u001b[39melse\u001b[39;00m np\u001b[39m.\u001b[39masarray(exog)\n\u001b[0;32m    <a href='file:///c%3A/Users/ddeha/AppData/Local/Packages/PythonSoftwareFoundation.Python.3.9_qbz5n2kfra8p0/LocalCache/local-packages/Python39/site-packages/statsmodels/base/data.py?line=505'>506</a>\u001b[0m \u001b[39mif\u001b[39;00m endog\u001b[39m.\u001b[39mdtype \u001b[39m==\u001b[39m \u001b[39mobject\u001b[39m \u001b[39mor\u001b[39;00m exog \u001b[39mis\u001b[39;00m \u001b[39mnot\u001b[39;00m \u001b[39mNone\u001b[39;00m \u001b[39mand\u001b[39;00m exog\u001b[39m.\u001b[39mdtype \u001b[39m==\u001b[39m \u001b[39mobject\u001b[39m:\n\u001b[1;32m--> <a href='file:///c%3A/Users/ddeha/AppData/Local/Packages/PythonSoftwareFoundation.Python.3.9_qbz5n2kfra8p0/LocalCache/local-packages/Python39/site-packages/statsmodels/base/data.py?line=506'>507</a>\u001b[0m     \u001b[39mraise\u001b[39;00m \u001b[39mValueError\u001b[39;00m(\u001b[39m\"\u001b[39m\u001b[39mPandas data cast to numpy dtype of object. \u001b[39m\u001b[39m\"\u001b[39m\n\u001b[0;32m    <a href='file:///c%3A/Users/ddeha/AppData/Local/Packages/PythonSoftwareFoundation.Python.3.9_qbz5n2kfra8p0/LocalCache/local-packages/Python39/site-packages/statsmodels/base/data.py?line=507'>508</a>\u001b[0m                      \u001b[39m\"\u001b[39m\u001b[39mCheck input data with np.asarray(data).\u001b[39m\u001b[39m\"\u001b[39m)\n\u001b[0;32m    <a href='file:///c%3A/Users/ddeha/AppData/Local/Packages/PythonSoftwareFoundation.Python.3.9_qbz5n2kfra8p0/LocalCache/local-packages/Python39/site-packages/statsmodels/base/data.py?line=508'>509</a>\u001b[0m \u001b[39mreturn\u001b[39;00m \u001b[39msuper\u001b[39m(PandasData, \u001b[39mself\u001b[39m)\u001b[39m.\u001b[39m_convert_endog_exog(endog, exog)\n",
      "\u001b[1;31mValueError\u001b[0m: Pandas data cast to numpy dtype of object. Check input data with np.asarray(data)."
     ]
    }
   ],
   "source": [
    "mod_prob = OrderedModel(y_train, X_train, distr='probit')\n",
    "res_prob = mod_prob.fit(method='bfgs')\n",
    "res_prob.summary()"
   ]
  },
  {
   "cell_type": "code",
   "execution_count": 31,
   "metadata": {},
   "outputs": [
    {
     "data": {
      "text/plain": [
       "array([['tasty by itself but not much more sugar than regular peanut butter this stuff is delicious especially for those who love the salty sweetness of chocolate n peanut butter ive used this as if it were a sort of fudge for ice cream heat up one serving for about 30 seconds in the microwave and then throw the ice cream in and enjoy very yummy'],\n",
       "       ['john wm macys crunchy snack sticks are great  i have loved john wm macys sweet sticks for years the chocolate sticks are my favorite along with the java cinnamon sticks if you like a light slightly sweet snack or some crunchy nibbles with your coffee you cant go wrong  my suggestion is to order in bulk the chocolate ones are not offered on amazon yet and the cheddar stick and snacks  are good as well  but i love the lightly sweetened cinnamon and chocolate ones better  they are great for snacking or with coffee and breakfast  most of all  i love the products because of the ingredients  im intollerant to margarines and palm oil products which are in most baked things and these are made with real butter all my kids love them too ages grade school thru collegeevery time i get them i have to have a box for my mother grandmother and all the kids they are low in sugar content and low in fat too if you cant find them on amazon go directly to their website   order with confidencephyllis'],\n",
       "       ['i have used this product for a long time as lipton has always been a trusted brand  i do go through a lot of tea so buying it on amazon was quick and more affordable then other stores'],\n",
       "       ...,\n",
       "       ['we give these several times a week to all our dogs and its made a huge difference in the buildup of tartar on their teeththe big dogs labrador2 border collies  border collie mix teeth are being maintained on these and the smaller dogs pomeranians teeth have improved greatly after we started using these cet chews they are more prone to tartar buildup it seems and the chews have made it almost non existent great reviews from our vet when we did annual checkupscompany shipped extremely fast and were great to deal withthanks'],\n",
       "       ['but thankfully amazon is there to be my supplierthis is strong tea but i love it  i cant tolerate so much as the scent of coffee and i never was a morning mountain dew person but this gets me moving in the am  ive cut back in that i dont brew two bags in a mug for 20 minutes at a time like i did a decade ago with earl greysuper target used to carry it around here dfw but i think i may have singlehandedly cleaned them out over the course of the past yearthe great thing about amazon is not only can i buy six months worth at once but there is no tax  free shipping  between those extras and not having to go anywhere to purchase it it costs well below what it does at the store'],\n",
       "       ['we have four dogs and they have done very well with the holistic select line  its a bit more money but if you look at the ingredient list youll see why  our dogs have not had digestive issues and their skin and coat are healthy i am also a happy camper for not having to drag a big bulky and heavy bag from the store to car to home  the product is priced right and shipped super fast  amazon prime is so worth it especially if you order a lot of stuff online']],\n",
       "      dtype=object)"
      ]
     },
     "execution_count": 31,
     "metadata": {},
     "output_type": "execute_result"
    }
   ],
   "source": [
    "np.asarray(X_train)"
   ]
  },
  {
   "cell_type": "code",
   "execution_count": 25,
   "metadata": {},
   "outputs": [
    {
     "data": {
      "text/html": [
       "<div>\n",
       "<style scoped>\n",
       "    .dataframe tbody tr th:only-of-type {\n",
       "        vertical-align: middle;\n",
       "    }\n",
       "\n",
       "    .dataframe tbody tr th {\n",
       "        vertical-align: top;\n",
       "    }\n",
       "\n",
       "    .dataframe thead th {\n",
       "        text-align: right;\n",
       "    }\n",
       "</style>\n",
       "<table border=\"1\" class=\"dataframe\">\n",
       "  <thead>\n",
       "    <tr style=\"text-align: right;\">\n",
       "      <th></th>\n",
       "      <th>Clean_text</th>\n",
       "    </tr>\n",
       "  </thead>\n",
       "  <tbody>\n",
       "    <tr>\n",
       "      <th>0</th>\n",
       "      <td>i have bought several of the vitality canned d...</td>\n",
       "    </tr>\n",
       "    <tr>\n",
       "      <th>1</th>\n",
       "      <td>product arrived labeled as jumbo salted peanut...</td>\n",
       "    </tr>\n",
       "    <tr>\n",
       "      <th>2</th>\n",
       "      <td>this is a confection that has been around a fe...</td>\n",
       "    </tr>\n",
       "    <tr>\n",
       "      <th>3</th>\n",
       "      <td>if you are looking for the secret ingredient i...</td>\n",
       "    </tr>\n",
       "    <tr>\n",
       "      <th>4</th>\n",
       "      <td>great taffy at a great price  there was a wide...</td>\n",
       "    </tr>\n",
       "    <tr>\n",
       "      <th>...</th>\n",
       "      <td>...</td>\n",
       "    </tr>\n",
       "    <tr>\n",
       "      <th>568449</th>\n",
       "      <td>great for sesame chickenthis is a good if not ...</td>\n",
       "    </tr>\n",
       "    <tr>\n",
       "      <th>568450</th>\n",
       "      <td>im disappointed with the flavor the chocolate ...</td>\n",
       "    </tr>\n",
       "    <tr>\n",
       "      <th>568451</th>\n",
       "      <td>these stars are small so you can give 1015 of ...</td>\n",
       "    </tr>\n",
       "    <tr>\n",
       "      <th>568452</th>\n",
       "      <td>these are the best treats for training and rew...</td>\n",
       "    </tr>\n",
       "    <tr>\n",
       "      <th>568453</th>\n",
       "      <td>i am very satisfied product is as advertised i...</td>\n",
       "    </tr>\n",
       "  </tbody>\n",
       "</table>\n",
       "<p>568427 rows × 1 columns</p>\n",
       "</div>"
      ],
      "text/plain": [
       "                                               Clean_text\n",
       "0       i have bought several of the vitality canned d...\n",
       "1       product arrived labeled as jumbo salted peanut...\n",
       "2       this is a confection that has been around a fe...\n",
       "3       if you are looking for the secret ingredient i...\n",
       "4       great taffy at a great price  there was a wide...\n",
       "...                                                   ...\n",
       "568449  great for sesame chickenthis is a good if not ...\n",
       "568450  im disappointed with the flavor the chocolate ...\n",
       "568451  these stars are small so you can give 1015 of ...\n",
       "568452  these are the best treats for training and rew...\n",
       "568453  i am very satisfied product is as advertised i...\n",
       "\n",
       "[568427 rows x 1 columns]"
      ]
     },
     "execution_count": 25,
     "metadata": {},
     "output_type": "execute_result"
    }
   ],
   "source": [
    "df[['Clean_text']]"
   ]
  },
  {
   "cell_type": "code",
   "execution_count": 26,
   "metadata": {},
   "outputs": [
    {
     "data": {
      "text/plain": [
       "[321645    tasty by itself but not much more sugar than r...\n",
       " 72131     john wm macys crunchy snack sticks are great  ...\n",
       " 80123     i have used this product for a long time as li...\n",
       " 49098     i cant find this flavor in my local grocery an...\n",
       " 317894    no apple flavor what so ever has a horrible me...\n",
       "                                 ...                        \n",
       " 110272    yes this is spendy for genmai cha the thing is...\n",
       " 259188    these are great the texture is like no other f...\n",
       " 365856    we give these several times a week to all our ...\n",
       " 131937    but thankfully amazon is there to be my suppli...\n",
       " 121963    we have four dogs and they have done very well...\n",
       " Name: Clean_text, Length: 454741, dtype: object]"
      ]
     },
     "execution_count": 26,
     "metadata": {},
     "output_type": "execute_result"
    }
   ],
   "source": [
    "[X_train]"
   ]
  },
  {
   "cell_type": "code",
   "execution_count": null,
   "metadata": {},
   "outputs": [],
   "source": []
  }
 ],
 "metadata": {
  "interpreter": {
   "hash": "eba3777182181f7194bfb697954a28e76dcfb5f6263981e3f2f6a03b4268acbd"
  },
  "kernelspec": {
   "display_name": "Python 3.9.13 64-bit (windows store)",
   "language": "python",
   "name": "python3"
  },
  "language_info": {
   "codemirror_mode": {
    "name": "ipython",
    "version": 3
   },
   "file_extension": ".py",
   "mimetype": "text/x-python",
   "name": "python",
   "nbconvert_exporter": "python",
   "pygments_lexer": "ipython3",
   "version": "3.9.13"
  },
  "orig_nbformat": 4
 },
 "nbformat": 4,
 "nbformat_minor": 2
}
