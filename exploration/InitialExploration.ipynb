{
 "cells": [
  {
   "cell_type": "markdown",
   "metadata": {},
   "source": [
    "# Initial Exploration\n",
    "\n",
    "### Merge CSVs, Preprocessing, EDA"
   ]
  },
  {
   "cell_type": "code",
   "execution_count": 76,
   "metadata": {},
   "outputs": [],
   "source": [
    "import numpy as np\n",
    "import pandas as pd\n",
    "import glob\n",
    "import string\n",
    "import re\n",
    "import nltk\n",
    "\n",
    "from sklearn.feature_extraction.text import CountVectorizer \n",
    "\n",
    "from wordcloud import WordCloud\n",
    "import matplotlib.pyplot as plt\n",
    "from textwrap import wrap\n",
    "\n",
    "# constants\n",
    "stopwords = nltk.corpus.stopwords.words('english')\n",
    "#stopwords = stopwords[:10]"
   ]
  },
  {
   "cell_type": "code",
   "execution_count": 77,
   "metadata": {},
   "outputs": [
    {
     "data": {
      "text/plain": [
       "179"
      ]
     },
     "execution_count": 77,
     "metadata": {},
     "output_type": "execute_result"
    }
   ],
   "source": [
    "len(nltk.corpus.stopwords.words('english'))"
   ]
  },
  {
   "cell_type": "code",
   "execution_count": 78,
   "metadata": {},
   "outputs": [],
   "source": [
    "'''\n",
    "Merge datasets in the data folder.\n",
    "Returns a dataframe of all the data.\n",
    "'''\n",
    "def retrieve_reviews_df():\n",
    "    all_files = glob.glob(\"../data/*.csv\")  \n",
    "\n",
    "    df_list = []\n",
    "\n",
    "    for filename in all_files:\n",
    "        print(f\"Concatenating {filename}\")\n",
    "        df = pd.read_csv(filename, index_col=None, header=0)\n",
    "        df_list.append(df)\n",
    "    \n",
    "    return pd.concat(df_list, axis=0, ignore_index=True)"
   ]
  },
  {
   "cell_type": "code",
   "execution_count": 79,
   "metadata": {},
   "outputs": [
    {
     "name": "stdout",
     "output_type": "stream",
     "text": [
      "Concatenating ../data\\Reviews-1.csv\n",
      "Concatenating ../data\\Reviews-2.csv\n",
      "Concatenating ../data\\Reviews-3.csv\n",
      "Concatenating ../data\\Reviews-4.csv\n",
      "   Id   ProductId          UserId                      ProfileName  \\\n",
      "0   1  B001E4KFG0  A3SGXH7AUHU8GW                       delmartian   \n",
      "1   2  B00813GRG4  A1D87F6ZCVE5NK                           dll pa   \n",
      "2   3  B000LQOCH0   ABXLMWJIXXAIN  Natalia Corres \"Natalia Corres\"   \n",
      "3   4  B000UA0QIQ  A395BORC6FGVXV                             Karl   \n",
      "4   5  B006K2ZZ7K  A1UQRSCLF8GW1T    Michael D. Bigham \"M. Wassir\"   \n",
      "\n",
      "   HelpfulnessNumerator  HelpfulnessDenominator  Score        Time  \\\n",
      "0                     1                       1      5  1303862400   \n",
      "1                     0                       0      1  1346976000   \n",
      "2                     1                       1      4  1219017600   \n",
      "3                     3                       3      2  1307923200   \n",
      "4                     0                       0      5  1350777600   \n",
      "\n",
      "                 Summary                                               Text  \n",
      "0  Good Quality Dog Food  I have bought several of the Vitality canned d...  \n",
      "1      Not as Advertised  Product arrived labeled as Jumbo Salted Peanut...  \n",
      "2  \"Delight\" says it all  This is a confection that has been around a fe...  \n",
      "3         Cough Medicine  If you are looking for the secret ingredient i...  \n",
      "4            Great taffy  Great taffy at a great price.  There was a wid...  \n"
     ]
    }
   ],
   "source": [
    "reviews_df = retrieve_reviews_df()\n",
    "print(reviews_df.head())"
   ]
  },
  {
   "cell_type": "code",
   "execution_count": 80,
   "metadata": {},
   "outputs": [
    {
     "data": {
      "text/plain": [
       "Id                         0\n",
       "ProductId                  0\n",
       "UserId                     0\n",
       "ProfileName               16\n",
       "HelpfulnessNumerator       0\n",
       "HelpfulnessDenominator     0\n",
       "Score                      0\n",
       "Time                       0\n",
       "Summary                   27\n",
       "Text                       0\n",
       "dtype: int64"
      ]
     },
     "execution_count": 80,
     "metadata": {},
     "output_type": "execute_result"
    }
   ],
   "source": [
    "# number of null values per column\n",
    "reviews_df.isnull().sum()"
   ]
  },
  {
   "cell_type": "code",
   "execution_count": 81,
   "metadata": {},
   "outputs": [],
   "source": [
    "# preprocessing for the dataframe \n",
    "def score(x):\n",
    "    if x<3:\n",
    "        return -1\n",
    "    elif x==3 or x==4:\n",
    "        return 0\n",
    "    else:\n",
    "        return 1\n",
    "\n",
    "def preprocessing(df):\n",
    "    # drop columns\n",
    "    new_df = df.drop(columns = [\"ProductId\", \"UserId\", \"ProfileName\", \"HelpfulnessNumerator\", \"HelpfulnessDenominator\", \"Time\"])\n",
    "\n",
    "    # drop na values\n",
    "    new_df = new_df.dropna(axis=0)\n",
    "\n",
    "    # make a new column of sentiment: (-1/0/1) -- pos/neutral/neg -- 1,2/3/4,5\n",
    "    new_df['Sentiment'] = new_df.apply(lambda x: score(x['Score']), axis=1)\n",
    "\n",
    "\n",
    "    return new_df"
   ]
  },
  {
   "cell_type": "code",
   "execution_count": 82,
   "metadata": {},
   "outputs": [
    {
     "data": {
      "text/html": [
       "<div>\n",
       "<style scoped>\n",
       "    .dataframe tbody tr th:only-of-type {\n",
       "        vertical-align: middle;\n",
       "    }\n",
       "\n",
       "    .dataframe tbody tr th {\n",
       "        vertical-align: top;\n",
       "    }\n",
       "\n",
       "    .dataframe thead th {\n",
       "        text-align: right;\n",
       "    }\n",
       "</style>\n",
       "<table border=\"1\" class=\"dataframe\">\n",
       "  <thead>\n",
       "    <tr style=\"text-align: right;\">\n",
       "      <th></th>\n",
       "      <th>Id</th>\n",
       "      <th>Score</th>\n",
       "      <th>Summary</th>\n",
       "      <th>Text</th>\n",
       "      <th>Sentiment</th>\n",
       "    </tr>\n",
       "  </thead>\n",
       "  <tbody>\n",
       "    <tr>\n",
       "      <th>0</th>\n",
       "      <td>1</td>\n",
       "      <td>5</td>\n",
       "      <td>Good Quality Dog Food</td>\n",
       "      <td>I have bought several of the Vitality canned d...</td>\n",
       "      <td>1</td>\n",
       "    </tr>\n",
       "    <tr>\n",
       "      <th>1</th>\n",
       "      <td>2</td>\n",
       "      <td>1</td>\n",
       "      <td>Not as Advertised</td>\n",
       "      <td>Product arrived labeled as Jumbo Salted Peanut...</td>\n",
       "      <td>-1</td>\n",
       "    </tr>\n",
       "    <tr>\n",
       "      <th>2</th>\n",
       "      <td>3</td>\n",
       "      <td>4</td>\n",
       "      <td>\"Delight\" says it all</td>\n",
       "      <td>This is a confection that has been around a fe...</td>\n",
       "      <td>0</td>\n",
       "    </tr>\n",
       "    <tr>\n",
       "      <th>3</th>\n",
       "      <td>4</td>\n",
       "      <td>2</td>\n",
       "      <td>Cough Medicine</td>\n",
       "      <td>If you are looking for the secret ingredient i...</td>\n",
       "      <td>-1</td>\n",
       "    </tr>\n",
       "    <tr>\n",
       "      <th>4</th>\n",
       "      <td>5</td>\n",
       "      <td>5</td>\n",
       "      <td>Great taffy</td>\n",
       "      <td>Great taffy at a great price.  There was a wid...</td>\n",
       "      <td>1</td>\n",
       "    </tr>\n",
       "  </tbody>\n",
       "</table>\n",
       "</div>"
      ],
      "text/plain": [
       "   Id  Score                Summary  \\\n",
       "0   1      5  Good Quality Dog Food   \n",
       "1   2      1      Not as Advertised   \n",
       "2   3      4  \"Delight\" says it all   \n",
       "3   4      2         Cough Medicine   \n",
       "4   5      5            Great taffy   \n",
       "\n",
       "                                                Text  Sentiment  \n",
       "0  I have bought several of the Vitality canned d...          1  \n",
       "1  Product arrived labeled as Jumbo Salted Peanut...         -1  \n",
       "2  This is a confection that has been around a fe...          0  \n",
       "3  If you are looking for the secret ingredient i...         -1  \n",
       "4  Great taffy at a great price.  There was a wid...          1  "
      ]
     },
     "execution_count": 82,
     "metadata": {},
     "output_type": "execute_result"
    }
   ],
   "source": [
    "df = preprocessing(reviews_df)\n",
    "df.head()"
   ]
  },
  {
   "cell_type": "code",
   "execution_count": null,
   "metadata": {},
   "outputs": [],
   "source": []
  },
  {
   "cell_type": "markdown",
   "metadata": {},
   "source": [
    "Text Preprocessing"
   ]
  },
  {
   "cell_type": "code",
   "execution_count": 83,
   "metadata": {},
   "outputs": [],
   "source": [
    "'''\n",
    "Removing punctuations like . , ! $( ) * % @\n",
    "Removing URLs\n",
    "Removing Stop words\n",
    "Lower casing\n",
    "Tokenization\n",
    "Stemming\n",
    "Lemmatization\n",
    "'''\n",
    "def remove_punctuation(text):\n",
    "    punctuation_free = \"\".join([i for i in text if i not in string.punctuation])\n",
    "    return punctuation_free\n",
    "\n",
    "def tokenization(text):\n",
    "    tokens = re.split('W+',text)\n",
    "    return tokens\n",
    "\n",
    "def remove_stopwords(text):\n",
    "    products = ['dog', 'food', 'soup', 'chai', 'tea','ordered','order','coconut','taffy','product']\n",
    "    output= [i for i in text if i not in stopwords]\n",
    "    output= [i for i in text if i not in products]\n",
    "    return output\n",
    "\n",
    "def text_preprocessing(df):\n",
    "    # remove punctuation\n",
    "    df[\"Clean_text\"] = df[\"Text\"].apply(lambda x: remove_punctuation(x))\n",
    "\n",
    "    # tokenization\n",
    "    # TODO: tokenization is a bit buggy rn, maybe don't use regular expressions\n",
    "    #df[\"Clean_text\"] = df[\"Clean_text\"].apply(lambda x: tokenization(x))\n",
    "\n",
    "    # remove stopwords\n",
    "    df[\"Clean_text\"] = df[\"Clean_text\"].apply(lambda x: remove_stopwords(x))\n",
    "    \n",
    "    return df"
   ]
  },
  {
   "cell_type": "code",
   "execution_count": 84,
   "metadata": {},
   "outputs": [],
   "source": [
    "df = text_preprocessing(df)"
   ]
  },
  {
   "cell_type": "code",
   "execution_count": 85,
   "metadata": {},
   "outputs": [
    {
     "data": {
      "text/html": [
       "<div>\n",
       "<style scoped>\n",
       "    .dataframe tbody tr th:only-of-type {\n",
       "        vertical-align: middle;\n",
       "    }\n",
       "\n",
       "    .dataframe tbody tr th {\n",
       "        vertical-align: top;\n",
       "    }\n",
       "\n",
       "    .dataframe thead th {\n",
       "        text-align: right;\n",
       "    }\n",
       "</style>\n",
       "<table border=\"1\" class=\"dataframe\">\n",
       "  <thead>\n",
       "    <tr style=\"text-align: right;\">\n",
       "      <th></th>\n",
       "      <th>Id</th>\n",
       "      <th>Score</th>\n",
       "      <th>Summary</th>\n",
       "      <th>Text</th>\n",
       "      <th>Sentiment</th>\n",
       "      <th>Clean_text</th>\n",
       "    </tr>\n",
       "  </thead>\n",
       "  <tbody>\n",
       "    <tr>\n",
       "      <th>0</th>\n",
       "      <td>1</td>\n",
       "      <td>5</td>\n",
       "      <td>Good Quality Dog Food</td>\n",
       "      <td>I have bought several of the Vitality canned d...</td>\n",
       "      <td>1</td>\n",
       "      <td>[I,  , h, a, v, e,  , b, o, u, g, h, t,  , s, ...</td>\n",
       "    </tr>\n",
       "    <tr>\n",
       "      <th>1</th>\n",
       "      <td>2</td>\n",
       "      <td>1</td>\n",
       "      <td>Not as Advertised</td>\n",
       "      <td>Product arrived labeled as Jumbo Salted Peanut...</td>\n",
       "      <td>-1</td>\n",
       "      <td>[P, r, o, d, u, c, t,  , a, r, r, i, v, e, d, ...</td>\n",
       "    </tr>\n",
       "    <tr>\n",
       "      <th>2</th>\n",
       "      <td>3</td>\n",
       "      <td>4</td>\n",
       "      <td>\"Delight\" says it all</td>\n",
       "      <td>This is a confection that has been around a fe...</td>\n",
       "      <td>0</td>\n",
       "      <td>[T, h, i, s,  , i, s,  , a,  , c, o, n, f, e, ...</td>\n",
       "    </tr>\n",
       "    <tr>\n",
       "      <th>3</th>\n",
       "      <td>4</td>\n",
       "      <td>2</td>\n",
       "      <td>Cough Medicine</td>\n",
       "      <td>If you are looking for the secret ingredient i...</td>\n",
       "      <td>-1</td>\n",
       "      <td>[I, f,  , y, o, u,  , a, r, e,  , l, o, o, k, ...</td>\n",
       "    </tr>\n",
       "    <tr>\n",
       "      <th>4</th>\n",
       "      <td>5</td>\n",
       "      <td>5</td>\n",
       "      <td>Great taffy</td>\n",
       "      <td>Great taffy at a great price.  There was a wid...</td>\n",
       "      <td>1</td>\n",
       "      <td>[G, r, e, a, t,  , t, a, f, f, y,  , a, t,  , ...</td>\n",
       "    </tr>\n",
       "    <tr>\n",
       "      <th>...</th>\n",
       "      <td>...</td>\n",
       "      <td>...</td>\n",
       "      <td>...</td>\n",
       "      <td>...</td>\n",
       "      <td>...</td>\n",
       "      <td>...</td>\n",
       "    </tr>\n",
       "    <tr>\n",
       "      <th>568449</th>\n",
       "      <td>568450</td>\n",
       "      <td>5</td>\n",
       "      <td>Will not do without</td>\n",
       "      <td>Great for sesame chicken..this is a good if no...</td>\n",
       "      <td>1</td>\n",
       "      <td>[G, r, e, a, t,  , f, o, r,  , s, e, s, a, m, ...</td>\n",
       "    </tr>\n",
       "    <tr>\n",
       "      <th>568450</th>\n",
       "      <td>568451</td>\n",
       "      <td>2</td>\n",
       "      <td>disappointed</td>\n",
       "      <td>I'm disappointed with the flavor. The chocolat...</td>\n",
       "      <td>-1</td>\n",
       "      <td>[I, m,  , d, i, s, a, p, p, o, i, n, t, e, d, ...</td>\n",
       "    </tr>\n",
       "    <tr>\n",
       "      <th>568451</th>\n",
       "      <td>568452</td>\n",
       "      <td>5</td>\n",
       "      <td>Perfect for our maltipoo</td>\n",
       "      <td>These stars are small, so you can give 10-15 o...</td>\n",
       "      <td>1</td>\n",
       "      <td>[T, h, e, s, e,  , s, t, a, r, s,  , a, r, e, ...</td>\n",
       "    </tr>\n",
       "    <tr>\n",
       "      <th>568452</th>\n",
       "      <td>568453</td>\n",
       "      <td>5</td>\n",
       "      <td>Favorite Training and reward treat</td>\n",
       "      <td>These are the BEST treats for training and rew...</td>\n",
       "      <td>1</td>\n",
       "      <td>[T, h, e, s, e,  , a, r, e,  , t, h, e,  , B, ...</td>\n",
       "    </tr>\n",
       "    <tr>\n",
       "      <th>568453</th>\n",
       "      <td>568454</td>\n",
       "      <td>5</td>\n",
       "      <td>Great Honey</td>\n",
       "      <td>I am very satisfied ,product is as advertised,...</td>\n",
       "      <td>1</td>\n",
       "      <td>[I,  , a, m,  , v, e, r, y,  , s, a, t, i, s, ...</td>\n",
       "    </tr>\n",
       "  </tbody>\n",
       "</table>\n",
       "<p>568427 rows × 6 columns</p>\n",
       "</div>"
      ],
      "text/plain": [
       "            Id  Score                             Summary  \\\n",
       "0            1      5               Good Quality Dog Food   \n",
       "1            2      1                   Not as Advertised   \n",
       "2            3      4               \"Delight\" says it all   \n",
       "3            4      2                      Cough Medicine   \n",
       "4            5      5                         Great taffy   \n",
       "...        ...    ...                                 ...   \n",
       "568449  568450      5                 Will not do without   \n",
       "568450  568451      2                        disappointed   \n",
       "568451  568452      5            Perfect for our maltipoo   \n",
       "568452  568453      5  Favorite Training and reward treat   \n",
       "568453  568454      5                         Great Honey   \n",
       "\n",
       "                                                     Text  Sentiment  \\\n",
       "0       I have bought several of the Vitality canned d...          1   \n",
       "1       Product arrived labeled as Jumbo Salted Peanut...         -1   \n",
       "2       This is a confection that has been around a fe...          0   \n",
       "3       If you are looking for the secret ingredient i...         -1   \n",
       "4       Great taffy at a great price.  There was a wid...          1   \n",
       "...                                                   ...        ...   \n",
       "568449  Great for sesame chicken..this is a good if no...          1   \n",
       "568450  I'm disappointed with the flavor. The chocolat...         -1   \n",
       "568451  These stars are small, so you can give 10-15 o...          1   \n",
       "568452  These are the BEST treats for training and rew...          1   \n",
       "568453  I am very satisfied ,product is as advertised,...          1   \n",
       "\n",
       "                                               Clean_text  \n",
       "0       [I,  , h, a, v, e,  , b, o, u, g, h, t,  , s, ...  \n",
       "1       [P, r, o, d, u, c, t,  , a, r, r, i, v, e, d, ...  \n",
       "2       [T, h, i, s,  , i, s,  , a,  , c, o, n, f, e, ...  \n",
       "3       [I, f,  , y, o, u,  , a, r, e,  , l, o, o, k, ...  \n",
       "4       [G, r, e, a, t,  , t, a, f, f, y,  , a, t,  , ...  \n",
       "...                                                   ...  \n",
       "568449  [G, r, e, a, t,  , f, o, r,  , s, e, s, a, m, ...  \n",
       "568450  [I, m,  , d, i, s, a, p, p, o, i, n, t, e, d, ...  \n",
       "568451  [T, h, e, s, e,  , s, t, a, r, s,  , a, r, e, ...  \n",
       "568452  [T, h, e, s, e,  , a, r, e,  , t, h, e,  , B, ...  \n",
       "568453  [I,  , a, m,  , v, e, r, y,  , s, a, t, i, s, ...  \n",
       "\n",
       "[568427 rows x 6 columns]"
      ]
     },
     "execution_count": 85,
     "metadata": {},
     "output_type": "execute_result"
    }
   ],
   "source": [
    "df"
   ]
  },
  {
   "cell_type": "code",
   "execution_count": 86,
   "metadata": {},
   "outputs": [
    {
     "data": {
      "text/plain": [
       "1         [P, r, o, d, u, c, t,  , a, r, r, i, v, e, d, ...\n",
       "3         [I, f,  , y, o, u,  , a, r, e,  , l, o, o, k, ...\n",
       "12        [M, y,  , c, a, t, s,  , h, a, v, e,  , b, e, ...\n",
       "16        [I,  , l, o, v, e,  , e, a, t, i, n, g,  , t, ...\n",
       "26        [T, h, e,  , c, a, n, d, y,  , i, s,  , j, u, ...\n",
       "                                ...                        \n",
       "568433    [I,  , j, u, s, t,  , b, o, u, g, h, t,  , t, ...\n",
       "568434    [T, h, i, s,  , s, o, u, p,  , i, s,  , m, o, ...\n",
       "568435    [I, t,  , i, s,  , m, o, s, t, l, y,  , b, r, ...\n",
       "568446    [I,  , h, a, d,  , o, r, d, e, r, e, d,  , s, ...\n",
       "568450    [I, m,  , d, i, s, a, p, p, o, i, n, t, e, d, ...\n",
       "Name: Clean_text, Length: 82012, dtype: object"
      ]
     },
     "execution_count": 86,
     "metadata": {},
     "output_type": "execute_result"
    }
   ],
   "source": [
    "df.loc[df['Sentiment'] == -1]['Clean_text']"
   ]
  },
  {
   "cell_type": "code",
   "execution_count": 87,
   "metadata": {},
   "outputs": [
    {
     "data": {
      "image/png": "[encoded data removed]",
      "text/plain": [
       "<Figure size 432x288 with 1 Axes>"
      ]
     },
     "metadata": {
      "needs_background": "light"
     },
     "output_type": "display_data"
    }
   ],
   "source": [
    "text = df.loc[df['Sentiment'] == 1]['Clean_text'].values \n",
    "\n",
    "wordcloud = WordCloud().generate(str(text))\n",
    "\n",
    "plt.imshow(wordcloud)\n",
    "plt.axis(\"off\")\n",
    "plt.show()"
   ]
  },
  {
   "cell_type": "markdown",
   "metadata": {},
   "source": [
    "model may associate neutral words with certain sentiment scores given distribution of product reviews\n",
    "review length in relation to sentiment/score\n",
    "plot porportions of reviews under diff scores -> least negative may affect true negatives of models\n",
    "average scores for products"
   ]
  },
  {
   "cell_type": "code",
   "execution_count": 88,
   "metadata": {},
   "outputs": [
    {
     "name": "stdout",
     "output_type": "stream",
     "text": [
      "Requirement already satisfied: wordcloud in c:\\users\\ddeha\\anaconda3\\lib\\site-packages (1.8.1)Note: you may need to restart the kernel to use updated packages.\n",
      "Requirement already satisfied: numpy>=1.6.1 in c:\\users\\ddeha\\anaconda3\\lib\\site-packages (from wordcloud) (1.19.4)\n",
      "Requirement already satisfied: pillow in c:\\users\\ddeha\\anaconda3\\lib\\site-packages (from wordcloud) (8.2.0)\n",
      "Requirement already satisfied: matplotlib in c:\\users\\ddeha\\anaconda3\\lib\\site-packages (from wordcloud) (3.3.4)\n",
      "Requirement already satisfied: pyparsing!=2.0.4,!=2.1.2,!=2.1.6,>=2.0.3 in c:\\users\\ddeha\\anaconda3\\lib\\site-packages (from matplotlib->wordcloud) (2.4.7)\n",
      "Requirement already satisfied: cycler>=0.10 in c:\\users\\ddeha\\anaconda3\\lib\\site-packages (from matplotlib->wordcloud) (0.10.0)\n",
      "Requirement already satisfied: kiwisolver>=1.0.1 in c:\\users\\ddeha\\anaconda3\\lib\\site-packages (from matplotlib->wordcloud) (1.3.1)\n",
      "Requirement already satisfied: python-dateutil>=2.1 in c:\\users\\ddeha\\anaconda3\\lib\\site-packages (from matplotlib->wordcloud) (2.8.1)\n",
      "Requirement already satisfied: six in c:\\users\\ddeha\\anaconda3\\lib\\site-packages (from cycler>=0.10->matplotlib->wordcloud) (1.15.0)\n",
      "\n"
     ]
    },
    {
     "name": "stderr",
     "output_type": "stream",
     "text": [
      "WARNING: You are using pip version 22.0.3; however, version 22.1 is available.\n",
      "You should consider upgrading via the 'c:\\Users\\ddeha\\anaconda3\\python.exe -m pip install --upgrade pip' command.\n"
     ]
    }
   ],
   "source": [
    "pip install wordcloud"
   ]
  }
 ],
 "metadata": {
  "interpreter": {
   "hash": "ccf4a7f5866892d9adb2921814fce30372ba9f7152d0e6674cf63c6853a7d4cc"
  },
  "kernelspec": {
   "display_name": "Python 3.8.10",
   "language": "python",
   "name": "python3"
  },
  "language_info": {
   "codemirror_mode": {
    "name": "ipython",
    "version": 3
   },
   "file_extension": ".py",
   "mimetype": "text/x-python",
   "name": "python",
   "nbconvert_exporter": "python",
   "pygments_lexer": "ipython3",
   "version": "3.8.10"
  },
  "orig_nbformat": 4
 },
 "nbformat": 4,
 "nbformat_minor": 2
}
