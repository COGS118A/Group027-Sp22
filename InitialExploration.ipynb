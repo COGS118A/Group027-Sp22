{
 "cells": [
  {
   "cell_type": "markdown",
   "metadata": {},
   "source": [
    "# Initial Exploration\n",
    "\n",
    "### Merge CSVs, Preprocessing, EDA"
   ]
  },
  {
   "cell_type": "code",
   "execution_count": 10,
   "metadata": {},
   "outputs": [],
   "source": [
    "import numpy as np\n",
    "import pandas as pd\n",
    "import glob\n",
    "import string\n",
    "import re\n",
    "import nltk\n",
    "\n",
    "from sklearn.feature_extraction.text import CountVectorizer \n",
    "\n",
    "# constants\n",
    "stopwords = nltk.corpus.stopwords.words('english')\n",
    "stopwords = stopwords[:10]"
   ]
  },
  {
   "cell_type": "code",
   "execution_count": 11,
   "metadata": {},
   "outputs": [],
   "source": [
    "'''\n",
    "Merge datasets in the data folder.\n",
    "Returns a dataframe of all the data.\n",
    "'''\n",
    "def retrieve_reviews_df():\n",
    "    all_files = glob.glob(\"./data/*.csv\")\n",
    "\n",
    "    df_list = []\n",
    "\n",
    "    for filename in all_files:\n",
    "        print(f\"Concatenating {filename}\")\n",
    "        df = pd.read_csv(filename, index_col=None, header=0)\n",
    "        df_list.append(df)\n",
    "    \n",
    "    return pd.concat(df_list, axis=0, ignore_index=True)"
   ]
  },
  {
   "cell_type": "code",
   "execution_count": 12,
   "metadata": {},
   "outputs": [
    {
     "name": "stdout",
     "output_type": "stream",
     "text": [
      "Concatenating ./data/Reviews-4.csv\n",
      "Concatenating ./data/Reviews-1.csv\n",
      "Concatenating ./data/Reviews-2.csv\n",
      "Concatenating ./data/Reviews-3.csv\n",
      "       Id   ProductId          UserId  \\\n",
      "0  566663  B000NV9VQU  A1SXMCMLHAVH0I   \n",
      "1  566664  B000NV9VQU  A2CHHNIA58EPIG   \n",
      "2  566665  B000NV9VQU  A1D0EJPEXE8ZOP   \n",
      "3  566666  B000NV9VQU  A2F2MZW8EOGH5J   \n",
      "4  566667  B000NV9VQU  A2DYW9Y2D8E43L   \n",
      "\n",
      "                                        ProfileName  HelpfulnessNumerator  \\\n",
      "0                                              Biba                     2   \n",
      "1                                            Tamara                     1   \n",
      "2                                         Don Rubin                     1   \n",
      "3  daemoncycler \"When you arrive at a fork in th...                     0   \n",
      "4                           Kris Cayocca \"Cayotejr\"                     1   \n",
      "\n",
      "   HelpfulnessDenominator  Score        Time  \\\n",
      "0                       2      5  1226880000   \n",
      "1                       1      5  1316908800   \n",
      "2                       1      4  1314835200   \n",
      "3                       0      5  1337817600   \n",
      "4                       3      3  1188086400   \n",
      "\n",
      "                                             Summary  \\\n",
      "0                 THE BEST TREAT YOU CAN BUY PERIOD!   \n",
      "1                                    Awesome treats!   \n",
      "2  My dog loves this, but beware there are differ...   \n",
      "3                                    Awesome treats!   \n",
      "4                                         Good stuff   \n",
      "\n",
      "                                                Text  \n",
      "0  There is NOTHING on the market like these trea...  \n",
      "1  My pup can't have anything with grains in it a...  \n",
      "2  My elderly dog who has pretty much given up on...  \n",
      "3  So glad we found Amazon. Used to travel to the...  \n",
      "4  Naturally, pooch scarfed this up.  What's not ...  \n"
     ]
    }
   ],
   "source": [
    "reviews_df = retrieve_reviews_df()\n",
    "print(reviews_df.head())"
   ]
  },
  {
   "cell_type": "code",
   "execution_count": 13,
   "metadata": {},
   "outputs": [
    {
     "data": {
      "text/plain": [
       "Id                         0\n",
       "ProductId                  0\n",
       "UserId                     0\n",
       "ProfileName               16\n",
       "HelpfulnessNumerator       0\n",
       "HelpfulnessDenominator     0\n",
       "Score                      0\n",
       "Time                       0\n",
       "Summary                   27\n",
       "Text                       0\n",
       "dtype: int64"
      ]
     },
     "execution_count": 13,
     "metadata": {},
     "output_type": "execute_result"
    }
   ],
   "source": [
    "# number of null values per column\n",
    "reviews_df.isnull().sum()"
   ]
  },
  {
   "cell_type": "code",
   "execution_count": 14,
   "metadata": {},
   "outputs": [],
   "source": [
    "# preprocessing for the dataframe \n",
    "def score(x):\n",
    "    if x<3:\n",
    "        return -1\n",
    "    elif x==3:\n",
    "        return 0\n",
    "    else:\n",
    "        return 1\n",
    "\n",
    "def preprocessing(df):\n",
    "    # drop columns\n",
    "    new_df = df.drop(columns = [\"ProductId\", \"UserId\", \"ProfileName\", \"HelpfulnessNumerator\", \"HelpfulnessDenominator\", \"Time\"])\n",
    "\n",
    "    # drop na values\n",
    "    new_df = new_df.dropna(axis=0)\n",
    "\n",
    "    # make a new column of sentiment: (-1/0/1) -- pos/neutral/neg -- 1,2/3/4,5\n",
    "    new_df['Sentiment'] = new_df.apply(lambda x: score(x['Score']), axis=1)\n",
    "\n",
    "\n",
    "    return new_df"
   ]
  },
  {
   "cell_type": "code",
   "execution_count": 15,
   "metadata": {},
   "outputs": [
    {
     "data": {
      "text/html": [
       "<div>\n",
       "<style scoped>\n",
       "    .dataframe tbody tr th:only-of-type {\n",
       "        vertical-align: middle;\n",
       "    }\n",
       "\n",
       "    .dataframe tbody tr th {\n",
       "        vertical-align: top;\n",
       "    }\n",
       "\n",
       "    .dataframe thead th {\n",
       "        text-align: right;\n",
       "    }\n",
       "</style>\n",
       "<table border=\"1\" class=\"dataframe\">\n",
       "  <thead>\n",
       "    <tr style=\"text-align: right;\">\n",
       "      <th></th>\n",
       "      <th>Id</th>\n",
       "      <th>Score</th>\n",
       "      <th>Summary</th>\n",
       "      <th>Text</th>\n",
       "      <th>Sentiment</th>\n",
       "    </tr>\n",
       "  </thead>\n",
       "  <tbody>\n",
       "    <tr>\n",
       "      <th>0</th>\n",
       "      <td>566663</td>\n",
       "      <td>5</td>\n",
       "      <td>THE BEST TREAT YOU CAN BUY PERIOD!</td>\n",
       "      <td>There is NOTHING on the market like these trea...</td>\n",
       "      <td>1</td>\n",
       "    </tr>\n",
       "    <tr>\n",
       "      <th>1</th>\n",
       "      <td>566664</td>\n",
       "      <td>5</td>\n",
       "      <td>Awesome treats!</td>\n",
       "      <td>My pup can't have anything with grains in it a...</td>\n",
       "      <td>1</td>\n",
       "    </tr>\n",
       "    <tr>\n",
       "      <th>2</th>\n",
       "      <td>566665</td>\n",
       "      <td>4</td>\n",
       "      <td>My dog loves this, but beware there are differ...</td>\n",
       "      <td>My elderly dog who has pretty much given up on...</td>\n",
       "      <td>1</td>\n",
       "    </tr>\n",
       "    <tr>\n",
       "      <th>3</th>\n",
       "      <td>566666</td>\n",
       "      <td>5</td>\n",
       "      <td>Awesome treats!</td>\n",
       "      <td>So glad we found Amazon. Used to travel to the...</td>\n",
       "      <td>1</td>\n",
       "    </tr>\n",
       "    <tr>\n",
       "      <th>4</th>\n",
       "      <td>566667</td>\n",
       "      <td>3</td>\n",
       "      <td>Good stuff</td>\n",
       "      <td>Naturally, pooch scarfed this up.  What's not ...</td>\n",
       "      <td>0</td>\n",
       "    </tr>\n",
       "  </tbody>\n",
       "</table>\n",
       "</div>"
      ],
      "text/plain": [
       "       Id  Score                                            Summary  \\\n",
       "0  566663      5                 THE BEST TREAT YOU CAN BUY PERIOD!   \n",
       "1  566664      5                                    Awesome treats!   \n",
       "2  566665      4  My dog loves this, but beware there are differ...   \n",
       "3  566666      5                                    Awesome treats!   \n",
       "4  566667      3                                         Good stuff   \n",
       "\n",
       "                                                Text  Sentiment  \n",
       "0  There is NOTHING on the market like these trea...          1  \n",
       "1  My pup can't have anything with grains in it a...          1  \n",
       "2  My elderly dog who has pretty much given up on...          1  \n",
       "3  So glad we found Amazon. Used to travel to the...          1  \n",
       "4  Naturally, pooch scarfed this up.  What's not ...          0  "
      ]
     },
     "execution_count": 15,
     "metadata": {},
     "output_type": "execute_result"
    }
   ],
   "source": [
    "df = preprocessing(reviews_df)\n",
    "df.head()"
   ]
  },
  {
   "cell_type": "code",
   "execution_count": null,
   "metadata": {},
   "outputs": [],
   "source": []
  },
  {
   "cell_type": "markdown",
   "metadata": {},
   "source": [
    "Text Preprocessing"
   ]
  },
  {
   "cell_type": "code",
   "execution_count": 16,
   "metadata": {},
   "outputs": [],
   "source": [
    "'''\n",
    "Removing punctuations like . , ! $( ) * % @\n",
    "Removing URLs\n",
    "Removing Stop words\n",
    "Lower casing\n",
    "Tokenization\n",
    "Stemming\n",
    "Lemmatization\n",
    "'''\n",
    "def remove_punctuation(text):\n",
    "    punctuation_free = \"\".join([i for i in text if i not in string.punctuation])\n",
    "    return punctuation_free\n",
    "\n",
    "def tokenization(text):\n",
    "    tokens = re.split('W+',text)\n",
    "    return tokens\n",
    "\n",
    "def remove_stopwords(text):\n",
    "    output= [i for i in text if i not in stopwords]\n",
    "    return output\n",
    "\n",
    "def text_preprocessing(df):\n",
    "    # remove punctuation\n",
    "    df[\"Clean_text\"] = df[\"Text\"].apply(lambda x: remove_punctuation(x))\n",
    "\n",
    "    # tokenization\n",
    "    # TODO: tokenization is a bit buggy rn, maybe don't use regular expressions\n",
    "    df[\"Clean_text\"] = df[\"Clean_text\"].apply(lambda x: tokenization(x))\n",
    "\n",
    "    # remove stopwords\n",
    "    df[\"Clean_text\"] = df[\"Clean_text\"].apply(lambda x: remove_stopwords(x))\n",
    "    \n",
    "    return df"
   ]
  },
  {
   "cell_type": "code",
   "execution_count": 17,
   "metadata": {},
   "outputs": [
    {
     "data": {
      "text/html": [
       "<div>\n",
       "<style scoped>\n",
       "    .dataframe tbody tr th:only-of-type {\n",
       "        vertical-align: middle;\n",
       "    }\n",
       "\n",
       "    .dataframe tbody tr th {\n",
       "        vertical-align: top;\n",
       "    }\n",
       "\n",
       "    .dataframe thead th {\n",
       "        text-align: right;\n",
       "    }\n",
       "</style>\n",
       "<table border=\"1\" class=\"dataframe\">\n",
       "  <thead>\n",
       "    <tr style=\"text-align: right;\">\n",
       "      <th></th>\n",
       "      <th>Id</th>\n",
       "      <th>Score</th>\n",
       "      <th>Summary</th>\n",
       "      <th>Text</th>\n",
       "      <th>Sentiment</th>\n",
       "      <th>Clean_text</th>\n",
       "    </tr>\n",
       "  </thead>\n",
       "  <tbody>\n",
       "    <tr>\n",
       "      <th>0</th>\n",
       "      <td>566663</td>\n",
       "      <td>5</td>\n",
       "      <td>THE BEST TREAT YOU CAN BUY PERIOD!</td>\n",
       "      <td>There is NOTHING on the market like these trea...</td>\n",
       "      <td>1</td>\n",
       "      <td>[There is NOTHING on the market like these tre...</td>\n",
       "    </tr>\n",
       "    <tr>\n",
       "      <th>1</th>\n",
       "      <td>566664</td>\n",
       "      <td>5</td>\n",
       "      <td>Awesome treats!</td>\n",
       "      <td>My pup can't have anything with grains in it a...</td>\n",
       "      <td>1</td>\n",
       "      <td>[My pup cant have anything with grains in it a...</td>\n",
       "    </tr>\n",
       "    <tr>\n",
       "      <th>2</th>\n",
       "      <td>566665</td>\n",
       "      <td>4</td>\n",
       "      <td>My dog loves this, but beware there are differ...</td>\n",
       "      <td>My elderly dog who has pretty much given up on...</td>\n",
       "      <td>1</td>\n",
       "      <td>[My elderly dog who has pretty much given up o...</td>\n",
       "    </tr>\n",
       "    <tr>\n",
       "      <th>3</th>\n",
       "      <td>566666</td>\n",
       "      <td>5</td>\n",
       "      <td>Awesome treats!</td>\n",
       "      <td>So glad we found Amazon. Used to travel to the...</td>\n",
       "      <td>1</td>\n",
       "      <td>[So glad we found Amazon Used to travel to the...</td>\n",
       "    </tr>\n",
       "    <tr>\n",
       "      <th>4</th>\n",
       "      <td>566667</td>\n",
       "      <td>3</td>\n",
       "      <td>Good stuff</td>\n",
       "      <td>Naturally, pooch scarfed this up.  What's not ...</td>\n",
       "      <td>0</td>\n",
       "      <td>[Naturally pooch scarfed this up  , hats not t...</td>\n",
       "    </tr>\n",
       "  </tbody>\n",
       "</table>\n",
       "</div>"
      ],
      "text/plain": [
       "       Id  Score                                            Summary  \\\n",
       "0  566663      5                 THE BEST TREAT YOU CAN BUY PERIOD!   \n",
       "1  566664      5                                    Awesome treats!   \n",
       "2  566665      4  My dog loves this, but beware there are differ...   \n",
       "3  566666      5                                    Awesome treats!   \n",
       "4  566667      3                                         Good stuff   \n",
       "\n",
       "                                                Text  Sentiment  \\\n",
       "0  There is NOTHING on the market like these trea...          1   \n",
       "1  My pup can't have anything with grains in it a...          1   \n",
       "2  My elderly dog who has pretty much given up on...          1   \n",
       "3  So glad we found Amazon. Used to travel to the...          1   \n",
       "4  Naturally, pooch scarfed this up.  What's not ...          0   \n",
       "\n",
       "                                          Clean_text  \n",
       "0  [There is NOTHING on the market like these tre...  \n",
       "1  [My pup cant have anything with grains in it a...  \n",
       "2  [My elderly dog who has pretty much given up o...  \n",
       "3  [So glad we found Amazon Used to travel to the...  \n",
       "4  [Naturally pooch scarfed this up  , hats not t...  "
      ]
     },
     "execution_count": 17,
     "metadata": {},
     "output_type": "execute_result"
    }
   ],
   "source": [
    "df = text_preprocessing(df)\n",
    "df.head()"
   ]
  },
  {
   "cell_type": "code",
   "execution_count": 18,
   "metadata": {},
   "outputs": [
    {
     "data": {
      "text/plain": [
       "['There is NOTHING on the market like these treats by Canz My dogs will do anything for them The price that Amazon charges is HALF of what I pay at my local pet store if I have to buy them there The ingredients are pure natural and healthy The jerky is not dried out and brittle it is moist and chewy No carbohydrates to make your pet gain weight either My cats even like these I break them into small pieces for them The beef ones almost smell like they have a little bacon in them but they dont My dogs come running the minute they hear the rustle of this bag when I pick it up I know many dog trainers that swear by these too These will get your dog to do ANYTHING I highly recommend these']"
      ]
     },
     "execution_count": 18,
     "metadata": {},
     "output_type": "execute_result"
    }
   ],
   "source": [
    "df['Clean_text'][0]"
   ]
  },
  {
   "cell_type": "code",
   "execution_count": null,
   "metadata": {},
   "outputs": [],
   "source": []
  }
 ],
 "metadata": {
  "interpreter": {
   "hash": "81794d4967e6c3204c66dcd87b604927b115b27c00565d3d43f05ba2f3a2cb0d"
  },
  "kernelspec": {
   "display_name": "Python 3.9.9 64-bit",
   "language": "python",
   "name": "python3"
  },
  "language_info": {
   "codemirror_mode": {
    "name": "ipython",
    "version": 3
   },
   "file_extension": ".py",
   "mimetype": "text/x-python",
   "name": "python",
   "nbconvert_exporter": "python",
   "pygments_lexer": "ipython3",
   "version": "3.7.3"
  },
  "orig_nbformat": 4
 },
 "nbformat": 4,
 "nbformat_minor": 2
}
